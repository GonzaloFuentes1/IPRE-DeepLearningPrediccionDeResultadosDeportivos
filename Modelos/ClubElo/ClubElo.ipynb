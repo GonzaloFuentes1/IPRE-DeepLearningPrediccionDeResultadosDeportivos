{
 "cells": [
  {
   "cell_type": "code",
   "execution_count": 1,
   "id": "771fb810",
   "metadata": {},
   "outputs": [
    {
     "data": {
      "text/html": [
       "<pre style=\"white-space:pre;overflow-x:auto;line-height:normal;font-family:Menlo,'DejaVu Sans Mono',consolas,'Courier New',monospace\"><span style=\"color: #7fbfbf; text-decoration-color: #7fbfbf\">[03/11/24 16:57:51] </span><span style=\"color: #000080; text-decoration-color: #000080\">INFO    </span> No custom team name replacements found. You can configure these in       <a href=\"file://c:\\Users\\gfuen\\AppData\\Local\\Programs\\Python\\Python310\\lib\\site-packages\\soccerdata\\_config.py\" target=\"_blank\"><span style=\"color: #7f7f7f; text-decoration-color: #7f7f7f\">_config.py</span></a><span style=\"color: #7f7f7f; text-decoration-color: #7f7f7f\">:</span><a href=\"file://c:\\Users\\gfuen\\AppData\\Local\\Programs\\Python\\Python310\\lib\\site-packages\\soccerdata\\_config.py#87\" target=\"_blank\"><span style=\"color: #7f7f7f; text-decoration-color: #7f7f7f\">87</span></a>\n",
       "<span style=\"color: #7fbfbf; text-decoration-color: #7fbfbf\">                    </span>         C:\\Users\\gfuen\\soccerdata\\config\\teamname_replacements.json.             <span style=\"color: #7f7f7f; text-decoration-color: #7f7f7f\">             </span>\n",
       "</pre>\n"
      ],
      "text/plain": [
       "\u001b[2;36m[03/11/24 16:57:51]\u001b[0m\u001b[2;36m \u001b[0m\u001b[34mINFO    \u001b[0m No custom team name replacements found. You can configure these in       \u001b]8;id=736342;file://c:\\Users\\gfuen\\AppData\\Local\\Programs\\Python\\Python310\\lib\\site-packages\\soccerdata\\_config.py\u001b\\\u001b[2m_config.py\u001b[0m\u001b]8;;\u001b\\\u001b[2m:\u001b[0m\u001b]8;id=486877;file://c:\\Users\\gfuen\\AppData\\Local\\Programs\\Python\\Python310\\lib\\site-packages\\soccerdata\\_config.py#87\u001b\\\u001b[2m87\u001b[0m\u001b]8;;\u001b\\\n",
       "\u001b[2;36m                    \u001b[0m         C:\\Users\\gfuen\\soccerdata\\config\\teamname_replacements.json.             \u001b[2m             \u001b[0m\n"
      ]
     },
     "metadata": {},
     "output_type": "display_data"
    },
    {
     "data": {
      "text/html": [
       "<pre style=\"white-space:pre;overflow-x:auto;line-height:normal;font-family:Menlo,'DejaVu Sans Mono',consolas,'Courier New',monospace\"><span style=\"color: #7fbfbf; text-decoration-color: #7fbfbf\">                    </span><span style=\"color: #000080; text-decoration-color: #000080\">INFO    </span> No custom league dict found. You can configure additional leagues in    <a href=\"file://c:\\Users\\gfuen\\AppData\\Local\\Programs\\Python\\Python310\\lib\\site-packages\\soccerdata\\_config.py\" target=\"_blank\"><span style=\"color: #7f7f7f; text-decoration-color: #7f7f7f\">_config.py</span></a><span style=\"color: #7f7f7f; text-decoration-color: #7f7f7f\">:</span><a href=\"file://c:\\Users\\gfuen\\AppData\\Local\\Programs\\Python\\Python310\\lib\\site-packages\\soccerdata\\_config.py#229\" target=\"_blank\"><span style=\"color: #7f7f7f; text-decoration-color: #7f7f7f\">229</span></a>\n",
       "<span style=\"color: #7fbfbf; text-decoration-color: #7fbfbf\">                    </span>         C:\\Users\\gfuen\\soccerdata\\config\\league_dict.json.                      <span style=\"color: #7f7f7f; text-decoration-color: #7f7f7f\">              </span>\n",
       "</pre>\n"
      ],
      "text/plain": [
       "\u001b[2;36m                   \u001b[0m\u001b[2;36m \u001b[0m\u001b[34mINFO    \u001b[0m No custom league dict found. You can configure additional leagues in    \u001b]8;id=787581;file://c:\\Users\\gfuen\\AppData\\Local\\Programs\\Python\\Python310\\lib\\site-packages\\soccerdata\\_config.py\u001b\\\u001b[2m_config.py\u001b[0m\u001b]8;;\u001b\\\u001b[2m:\u001b[0m\u001b]8;id=679934;file://c:\\Users\\gfuen\\AppData\\Local\\Programs\\Python\\Python310\\lib\\site-packages\\soccerdata\\_config.py#229\u001b\\\u001b[2m229\u001b[0m\u001b]8;;\u001b\\\n",
       "\u001b[2;36m                    \u001b[0m         C:\\Users\\gfuen\\soccerdata\\config\\league_dict.json.                      \u001b[2m              \u001b[0m\n"
      ]
     },
     "metadata": {},
     "output_type": "display_data"
    }
   ],
   "source": [
    "import soccerdata as sd\n",
    "from joblib import Parallel, delayed\n",
    "import pandas as pd\n",
    "from tqdm import tqdm"
   ]
  },
  {
   "cell_type": "code",
   "execution_count": 10,
   "id": "d35d5735",
   "metadata": {},
   "outputs": [],
   "source": [
    "df = pd.read_csv(\"ClubElo.csv\")"
   ]
  },
  {
   "cell_type": "code",
   "execution_count": 11,
   "id": "d8c5653e",
   "metadata": {},
   "outputs": [
    {
     "data": {
      "text/html": [
       "<div>\n",
       "<style scoped>\n",
       "    .dataframe tbody tr th:only-of-type {\n",
       "        vertical-align: middle;\n",
       "    }\n",
       "\n",
       "    .dataframe tbody tr th {\n",
       "        vertical-align: top;\n",
       "    }\n",
       "\n",
       "    .dataframe thead th {\n",
       "        text-align: right;\n",
       "    }\n",
       "</style>\n",
       "<table border=\"1\" class=\"dataframe\">\n",
       "  <thead>\n",
       "    <tr style=\"text-align: right;\">\n",
       "      <th></th>\n",
       "      <th>Unnamed: 0</th>\n",
       "      <th>from</th>\n",
       "      <th>rank</th>\n",
       "      <th>team</th>\n",
       "      <th>country</th>\n",
       "      <th>level</th>\n",
       "      <th>elo</th>\n",
       "      <th>to</th>\n",
       "    </tr>\n",
       "  </thead>\n",
       "  <tbody>\n",
       "    <tr>\n",
       "      <th>0</th>\n",
       "      <td>0</td>\n",
       "      <td>1946-07-07</td>\n",
       "      <td>NaN</td>\n",
       "      <td>Man City</td>\n",
       "      <td>ENG</td>\n",
       "      <td>2</td>\n",
       "      <td>1365.066040</td>\n",
       "      <td>1946-09-04</td>\n",
       "    </tr>\n",
       "    <tr>\n",
       "      <th>1</th>\n",
       "      <td>1</td>\n",
       "      <td>1946-09-05</td>\n",
       "      <td>NaN</td>\n",
       "      <td>Man City</td>\n",
       "      <td>ENG</td>\n",
       "      <td>2</td>\n",
       "      <td>1372.480469</td>\n",
       "      <td>1946-09-07</td>\n",
       "    </tr>\n",
       "    <tr>\n",
       "      <th>2</th>\n",
       "      <td>2</td>\n",
       "      <td>1946-09-08</td>\n",
       "      <td>NaN</td>\n",
       "      <td>Man City</td>\n",
       "      <td>ENG</td>\n",
       "      <td>2</td>\n",
       "      <td>1369.613770</td>\n",
       "      <td>1946-09-14</td>\n",
       "    </tr>\n",
       "    <tr>\n",
       "      <th>3</th>\n",
       "      <td>3</td>\n",
       "      <td>1946-09-15</td>\n",
       "      <td>NaN</td>\n",
       "      <td>Man City</td>\n",
       "      <td>ENG</td>\n",
       "      <td>2</td>\n",
       "      <td>1383.733887</td>\n",
       "      <td>1946-09-18</td>\n",
       "    </tr>\n",
       "    <tr>\n",
       "      <th>4</th>\n",
       "      <td>4</td>\n",
       "      <td>1946-09-19</td>\n",
       "      <td>NaN</td>\n",
       "      <td>Man City</td>\n",
       "      <td>ENG</td>\n",
       "      <td>2</td>\n",
       "      <td>1385.578369</td>\n",
       "      <td>1946-09-21</td>\n",
       "    </tr>\n",
       "    <tr>\n",
       "      <th>...</th>\n",
       "      <td>...</td>\n",
       "      <td>...</td>\n",
       "      <td>...</td>\n",
       "      <td>...</td>\n",
       "      <td>...</td>\n",
       "      <td>...</td>\n",
       "      <td>...</td>\n",
       "      <td>...</td>\n",
       "    </tr>\n",
       "    <tr>\n",
       "      <th>1382274</th>\n",
       "      <td>55</td>\n",
       "      <td>2023-07-21</td>\n",
       "      <td>NaN</td>\n",
       "      <td>La Fiorita</td>\n",
       "      <td>SMR</td>\n",
       "      <td>0</td>\n",
       "      <td>666.962708</td>\n",
       "      <td>2023-07-25</td>\n",
       "    </tr>\n",
       "    <tr>\n",
       "      <th>1382275</th>\n",
       "      <td>56</td>\n",
       "      <td>2023-07-26</td>\n",
       "      <td>NaN</td>\n",
       "      <td>La Fiorita</td>\n",
       "      <td>SMR</td>\n",
       "      <td>0</td>\n",
       "      <td>666.713440</td>\n",
       "      <td>2023-08-01</td>\n",
       "    </tr>\n",
       "    <tr>\n",
       "      <th>1382276</th>\n",
       "      <td>57</td>\n",
       "      <td>2023-08-02</td>\n",
       "      <td>NaN</td>\n",
       "      <td>La Fiorita</td>\n",
       "      <td>SMR</td>\n",
       "      <td>0</td>\n",
       "      <td>666.206604</td>\n",
       "      <td>2023-12-31</td>\n",
       "    </tr>\n",
       "    <tr>\n",
       "      <th>1382277</th>\n",
       "      <td>58</td>\n",
       "      <td>2024-01-01</td>\n",
       "      <td>NaN</td>\n",
       "      <td>La Fiorita</td>\n",
       "      <td>SMR</td>\n",
       "      <td>0</td>\n",
       "      <td>666.206604</td>\n",
       "      <td>2024-03-17</td>\n",
       "    </tr>\n",
       "    <tr>\n",
       "      <th>1382278</th>\n",
       "      <td>59</td>\n",
       "      <td>2024-03-18</td>\n",
       "      <td>NaN</td>\n",
       "      <td>La Fiorita</td>\n",
       "      <td>SMR</td>\n",
       "      <td>0</td>\n",
       "      <td>666.206604</td>\n",
       "      <td>2024-12-31</td>\n",
       "    </tr>\n",
       "  </tbody>\n",
       "</table>\n",
       "<p>1382279 rows × 8 columns</p>\n",
       "</div>"
      ],
      "text/plain": [
       "         Unnamed: 0        from  rank        team country  level          elo  \\\n",
       "0                 0  1946-07-07   NaN    Man City     ENG      2  1365.066040   \n",
       "1                 1  1946-09-05   NaN    Man City     ENG      2  1372.480469   \n",
       "2                 2  1946-09-08   NaN    Man City     ENG      2  1369.613770   \n",
       "3                 3  1946-09-15   NaN    Man City     ENG      2  1383.733887   \n",
       "4                 4  1946-09-19   NaN    Man City     ENG      2  1385.578369   \n",
       "...             ...         ...   ...         ...     ...    ...          ...   \n",
       "1382274          55  2023-07-21   NaN  La Fiorita     SMR      0   666.962708   \n",
       "1382275          56  2023-07-26   NaN  La Fiorita     SMR      0   666.713440   \n",
       "1382276          57  2023-08-02   NaN  La Fiorita     SMR      0   666.206604   \n",
       "1382277          58  2024-01-01   NaN  La Fiorita     SMR      0   666.206604   \n",
       "1382278          59  2024-03-18   NaN  La Fiorita     SMR      0   666.206604   \n",
       "\n",
       "                 to  \n",
       "0        1946-09-04  \n",
       "1        1946-09-07  \n",
       "2        1946-09-14  \n",
       "3        1946-09-18  \n",
       "4        1946-09-21  \n",
       "...             ...  \n",
       "1382274  2023-07-25  \n",
       "1382275  2023-08-01  \n",
       "1382276  2023-12-31  \n",
       "1382277  2024-03-17  \n",
       "1382278  2024-12-31  \n",
       "\n",
       "[1382279 rows x 8 columns]"
      ]
     },
     "execution_count": 11,
     "metadata": {},
     "output_type": "execute_result"
    }
   ],
   "source": [
    "df"
   ]
  },
  {
   "cell_type": "code",
   "execution_count": 7,
   "id": "31ab6935",
   "metadata": {},
   "outputs": [
    {
     "data": {
      "text/plain": [
       "630"
      ]
     },
     "execution_count": 7,
     "metadata": {},
     "output_type": "execute_result"
    }
   ],
   "source": [
    "len(df[\"team\"].unique())"
   ]
  }
 ],
 "metadata": {
  "kernelspec": {
   "display_name": "Python 3 (ipykernel)",
   "language": "python",
   "name": "python3"
  },
  "language_info": {
   "codemirror_mode": {
    "name": "ipython",
    "version": 3
   },
   "file_extension": ".py",
   "mimetype": "text/x-python",
   "name": "python",
   "nbconvert_exporter": "python",
   "pygments_lexer": "ipython3",
   "version": "3.10.9"
  }
 },
 "nbformat": 4,
 "nbformat_minor": 5
}
