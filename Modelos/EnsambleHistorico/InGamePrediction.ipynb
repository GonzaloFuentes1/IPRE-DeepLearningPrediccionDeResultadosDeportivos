{
 "cells": [
  {
   "cell_type": "code",
   "execution_count": 1,
   "id": "5de692a7",
   "metadata": {},
   "outputs": [],
   "source": [
    "from pytorch_tabnet.tab_model import TabNetClassifier\n",
    "from sklearn.preprocessing import MinMaxScaler, StandardScaler\n",
    "from copy import deepcopy\n",
    "from tqdm import tqdm\n",
    "from balu3.fs.sel    import sfs, clean\n",
    "from sklearn.linear_model import LogisticRegression\n",
    "from tensorflow.keras import layers\n",
    "from keras.callbacks import ReduceLROnPlateau\n",
    "from sklearn.metrics import classification_report, confusion_matrix\n",
    "from sklearn.model_selection import train_test_split\n",
    "from random import randint\n",
    "from tensorflow.keras.layers import Dropout\n",
    "from keras.utils import to_categorical\n",
    "from scipy.stats import binom, betabinom\n",
    "from tensorflow.keras.preprocessing.sequence import pad_sequences\n",
    "from joblib import Parallel, delayed\n",
    "from tensorflow.keras.layers import Masking, LSTM, Dense\n",
    "\n",
    "import matplotlib.pyplot as plt\n",
    "import tensorflow as tf\n",
    "import pandas as pd\n",
    "import numpy as np\n",
    "import torch\n",
    "import keras"
   ]
  },
  {
   "cell_type": "code",
   "execution_count": 2,
   "id": "210ca305",
   "metadata": {},
   "outputs": [],
   "source": [
    "#Para la LSTM\n",
    "from tensorflow.keras.models import Sequential\n",
    "from tensorflow.keras.layers import LSTM, Dense, Dropout, BatchNormalization\n",
    "from tensorflow.keras.optimizers import Adam\n",
    "from tensorflow.keras.regularizers import l2\n",
    "from tensorflow.keras.callbacks import EarlyStopping, ReduceLROnPlateau"
   ]
  },
  {
   "cell_type": "code",
   "execution_count": null,
   "id": "b934cb12",
   "metadata": {},
   "outputs": [],
   "source": [
    "# Data historica\n",
    "\n",
    "dfHistorico1 = pd.read_csv(\"dataHistórica/resultados_pasados_premier.csv\")\n",
    "dfHistorico1 = dfHistorico1.drop(\"Unnamed: 0\",axis = 1)\n",
    "dfHistorico1 = dfHistorico1.drop([\"Position_last_year_home\", \"Position_last_year_away\",\n",
    "                                  \"Points_last_year_home\", \"Points_last_year_away\"],axis = 1) # Para hacer el merge con el segundo.\n",
    "\n",
    "dfHistorico2 = pd.read_csv(\"dataHistórica/restoDeLigas.csv\")\n",
    "dfHistorico2 = dfHistorico2.drop(\"Unnamed: 0\",axis = 1)\n",
    "\n",
    "dfHistorico2['Date'] = pd.to_datetime(dfHistorico2['Date'], dayfirst=True, errors='coerce')\n",
    "dfHistorico2['Date'] = dfHistorico2['Date'].dt.strftime('%Y-%m-%d')\n",
    "dfHistorico2 = dfHistorico2[dfHistorico2[\"Date\"] >\"2010-01-01\"] # Seleccion solo de partidos de 2010 en adelante (porque el otro dataframe tiene info desde ahí)\n"
   ]
  },
  {
   "cell_type": "code",
   "execution_count": null,
   "id": "4c07e032",
   "metadata": {},
   "outputs": [],
   "source": [
    "dfHistorico = pd.concat([dfHistorico1, dfHistorico2], axis=0)\n",
    "dfHistorico = dfHistorico.reset_index(drop=True)"
   ]
  },
  {
   "cell_type": "code",
   "execution_count": null,
   "id": "1524e011",
   "metadata": {},
   "outputs": [],
   "source": [
    "# Data tipo evento\n",
    "\n",
    "dfEvent = pd.read_csv(\"dataWhoScored/WhoScoredTeamPerMatchSpatial4x3TimeDiv5.csv\")\n",
    "dfEvent = dfEvent.drop(\"Unnamed: 0\",axis = 1)"
   ]
  },
  {
   "cell_type": "code",
   "execution_count": null,
   "id": "4a459684",
   "metadata": {},
   "outputs": [],
   "source": [
    "# Ajuste manual de equipos:\n",
    "# Los que no tengan match son un string vacio.\n",
    "\n",
    "histToEventNameV1 = {\n",
    "   \"Arsenal\": \"Arsenal\", \"Aston Villa\": \"Aston Villa\", \"Barnsley\": \"\", \"Birmingham City\": \"Birmingham\", \"Blackburn\": \"Blackburn\",\"Blackpool\": \"Blackpool\",\n",
    "   \"Bolton\" : \"Bolton\", \"Bournemouth\": \"Bournemouth\", \"Bradford City\": \"\", \"Brentford\": \"Brentford\", \"Brighton\": \"Brighton\", \"Burnley\": \"Burnley\", \"Cardiff City\": \"Cardiff\",\n",
    "   \"Charlton Ath\": \"\", \"Chelsea\": \"Chelsea\", \"Coventry City\": \"\", \"Crystal Palace\": \"Crystal Palace\", \"Derby County\":\"\", \"Everton\": \"Everton\", \"Fulham\": \"Fulham\",\n",
    "   \"Huddersfield\": \"Huddersfield\", \"Hull City\": \"Hull\", \"Ipswich Town\": \"\", \"Leeds United\": \"Leeds\", \"Leicester City\": \"Leicester\", \"Liverpool\": \"Liverpool\",\n",
    "   \"Manchester City\": \"Man City\", \"Manchester Utd\": \"Man Utd\", \"Middlesbrough\": \"Middlesbrough\", \"Newcastle Utd\": \"Newcastle\", \"Norwich City\": \"Norwich\",\n",
    "   \"Nott'ham Forest\": \"Nottingham Forest\", \"Oldham Athletic\": \"\", \"Portsmouth\": \"\", \"QPR\": \"QPR\", \"Reading\": \"Reading\", \"Sheffield Utd\": \"Sheff Utd\", \"Sheffield Weds\": \"\",\n",
    "   \"Southampton\": \"Southampton\", \"Stoke City\": \"Stoke\", \"Sunderland\": \"Sunderland\", \"Swansea City\": \"Swansea\", \"Swindon Town\":  \"\", \"Tottenham\": \"Tottenham\", \"Watford\":\"Watford\",\n",
    "   \"West Brom\": \"WBA\", \"West Ham\": \"West Ham\", \"Wigan Athletic\": \"Wigan\", \"Wimbledon\": \"\", \"Wolves\": \"Wolves\"\n",
    "}\n",
    "len(histToEventNameV1)"
   ]
  },
  {
   "cell_type": "code",
   "execution_count": null,
   "id": "a16d91e1",
   "metadata": {},
   "outputs": [],
   "source": [
    "histToEventName = {\n",
    "   \"Arsenal\": \"Arsenal\", \"Aston Villa\": \"Aston Villa\", \"Barnsley\": \"\", \"Birmingham City\": \"Birmingham\", \"Blackburn\": \"Blackburn\",\"Blackpool\": \"Blackpool\",\n",
    "   \"Bolton\" : \"Bolton\", \"Bournemouth\": \"Bournemouth\", \"Bradford City\": \"\", \"Brentford\": \"Brentford\", \"Brighton\": \"Brighton\", \"Burnley\": \"Burnley\", \"Cardiff City\": \"Cardiff\",\n",
    "   \"Charlton Ath\": \"\", \"Chelsea\": \"Chelsea\", \"Coventry City\": \"\", \"Crystal Palace\": \"Crystal Palace\", \"Derby County\":\"\", \"Everton\": \"Everton\", \"Fulham\": \"Fulham\",\n",
    "   \"Huddersfield\": \"Huddersfield\", \"Hull City\": \"Hull\", \"Ipswich Town\": \"\", \"Leeds United\": \"Leeds\", \"Leicester City\": \"Leicester\", \"Liverpool\": \"Liverpool\",\n",
    "   \"Manchester City\": \"Man City\", \"Manchester Utd\": \"Man Utd\", \"Middlesbrough\": \"Middlesbrough\", \"Newcastle Utd\": \"Newcastle\", \"Norwich City\": \"Norwich\",\n",
    "   \"Nott'ham Forest\": \"Nottingham Forest\", \"Oldham Athletic\": \"\", \"Portsmouth\": \"\", \"QPR\": \"QPR\", \"Reading\": \"Reading\", \"Sheffield Utd\": \"Sheff Utd\", \"Sheffield Weds\": \"\",\n",
    "   \"Southampton\": \"Southampton\", \"Stoke City\": \"Stoke\", \"Sunderland\": \"Sunderland\", \"Swansea City\": \"Swansea\", \"Swindon Town\":  \"\", \"Tottenham\": \"Tottenham\", \"Watford\":\"Watford\",\n",
    "   \"West Brom\": \"WBA\", \"West Ham\": \"West Ham\", \"Wigan Athletic\": \"Wigan\", \"Wimbledon\": \"\", \"Wolves\": \"Wolves\", #V1\n",
    "   \"Aachen\":\"\",\"Ajaccio\":\"AC Ajaccio\", \"Alaves\":\"Deportivo Alaves\", \"Almeria\": \"Almeria\", \"Amiens\":\"Amiens\",\"Angers\":\"Angers\", \"Arles\":\"Arles-Avignon\", \"Ascoli\":\"\",\n",
    "   \"Atalanta\":\"Atalanta\", \"Ath Bilbao\":\"Athletic Club\", \"Ath Madrid\":\"Atletico\", \"Augsburg\":\"Augsburg\", \"Auxerre\":\"Auxerre\", \"Barcelona\":\"Barcelona\", \"Bari\":\"Bari\",\n",
    "   \"Bastia\":\"SC Bastia\", \"Bayern Munich\":\"Bayern\", \"Benevento\":\"Benevento\", \"Betis\":\"Real Betis\", \"Bielefeld\":\"Arminia Bielefeld\", \"Bochum\": \"Bochum\", \"Bologna\":\"Bologna\",\n",
    "   \"Bordeaux\":\"Bordeaux\", \"Boulogne\": \"\", \"Braunschweig\": \"Eintracht Braunschweig\", \"Brescia\":\"Brescia\", \"Brest\":\"Brest\", \"Cadiz\":\"Cadiz\", \"Caen\": \"Caen\", \"Cagliari\":\"Cagliari\",\n",
    "   \"Carpi\":\"AC Carpi\", \"Catania\":\"Catania\", \"Celta\":\"Celta Vigo\", \"Cesena\": \"Cesena\", \"Chievo\":\"Chievo\", \"Clermont\":\"Clermont Foot\", \"Cordoba\": \"Cordoba\", \"Cottbus\":\"\",\n",
    "   \"Cremonese\":\"Cremonese\", \"Crotone\":\"Crotone\", \"Darmstadt\":\"Darmstadt\", \"Dijon\": \"Dijon\", \"Dortmund\":\"Borussia Dortmund\", \"Duisburg\":\"\", \"Eibar\":\"Eibar\", \"Ein Frankfurt\":\"Eintracht Frankfurt\",\n",
    "   \"Elche\": \"Elche\", \"Empoli\": \"Empoli\", \"Espanol\": \"Espanyol\", \"Evian Thonon Gaillard\": \"Evian\", \"FC Koln\": \"FC Koln\", \"Fiorentina\": \"Fiorentina\", \"Fortuna Dusseldorf\": \"Fortuna Duesseldorf\",\n",
    "   \"Freiburg\":\"Freiburg\", \"Frosinone\": \"Frosinone\", \"Genoa\": \"Genoa\", \"Getafe\": \"Getafe\", \"Gimnastic\":\"\", \"Girona\": \"Girona\", \"Granada\": \"Granada\", \"Grenoble\":\"\",\n",
    "   \"Greuther Furth\": \"Greuther Fuerth\", \"Guingamp\": \"Guingamp\", \"Hamburg\":\"Hamburg\", \"Hannover\":\"Hannover\", \"Hansa Rostock\":\"\", \"Heidenheim\":\"FC Heidenheim\", \"Hercules\":\"Hercules\",\n",
    "   \"Hertha\":\"Hertha Berlin\", \"Hoffenheim\":\"Hoffenheim\", \"Huesca\": \"SD Huesca\", \"Ingolstadt\": \"Ingolstadt\", \"Inter\": \"Inter\", \"Juventus\":\"Juventus\", \"Kaiserslautern\":\"Kaiserslautern\",\n",
    "   \"Karlsruhe\":\"\", \"La Coruna\": \"Deportivo\", \"Las Palmas\": \"Las Palmas\", \"Lazio\": \"Lazio\", \"Le Havre\": \"Le Havre\", \"Le Mans\":\"\", \"Lecce\": \"Lecce\", \"Leganes\":\"Leganes\", \"Lens\": \"Lens\",\n",
    "   \"Levante\": \"Levante\", \"Leverkusen\": \"Leverkusen\", \"Lille\":\"Lille\", \"Livorno\": \"Livorno\", \"Lorient\":\"Lorient\", \"Lyon\": \"Lyon\", \"M'gladbach\": \"Borussia M.Gladbach\", \"Mainz\": \"Mainz\",\n",
    "   \"Malaga\":\"Malaga\", \"Mallorca\":\"Mallorca\", \"Messina\": \"\", \"Metz\": \"Metz\", \"Milan\": \"AC Milan\", \"Monaco\": \"Monaco\", \"Montpellier\": \"Montpellier\", \"Monza\": \"Monza\", \"Murcia\":\"\",\n",
    "   \"Nancy\":\"Nancy\", \"Nantes\":\"Nantes\", \"Napoli\":\"Napoli\", \"Nice\":\"Nice\", \"Nimes\":\"Nimes\", \"Novara\": \"Novara\", \"Numancia\":\"\", \"Nurnberg\":\"Nuernberg\", \"Osasuna\": \"Osasuna\",\n",
    "   \"Paderborn\": \"Paderborn\", \"Palermo\": \"Palermo\", \"Paris SG\": \"PSG\", \"Parma\": \"Parma Calcio 1913\", \"Pescara\":\"Pescara\", \"RB Leipzig\": \"RBL\",\"Real Madrid\":\"Real Madrid\", \n",
    "   \"Recreativo\":\"\", \"Reggina\":\"\", \"Reims\": \"Reims\", \"Rennes\":\"Rennes\", \"Roma\":\"Roma\", \"Salernitana\": \"Salernitana\", \"Sampdoria\":\"Sampdoria\", \"Santander\": \"Racing Santander\",\n",
    "   \"Sassuolo\":\"Sassuolo\", \"Schalke 04\": \"Schalke\", \"Sedan\":\"\", \"Sevilla\":\"Sevilla\", \"Siena\": \"Siena\", \"Sochaux\": \"Sochaux\", \"Sociedad\": \"Real Sociedad\", \"Sp Gijon\":\"Sporting Gijon\",\n",
    "   \"Spal\":\"SPAL 2013\", \"Spezia\": \"Spezia\", \"St Etienne\":\"Saint-Etienne\", \"St Pauli\":\"St. Pauli\", \"Strasbourg\":\"Strasbourg\", \"Stuttgart\": \"Stuttgart\", \"Tenerife\":\"\", \"Torino\":\"Torino\",\n",
    "   \"Toulouse\":\"Toulouse\", \"Treviso\":\"\", \"Troyes\":\"Troyes\", \"Udinese\": \"Udinese\", \"Union Berlin\":\"Union Berlin\", \"Valencia\": \"Valencia\", \"Valenciennes\": \"Valenciennes\", \"Valladolid\": \"Real Valladolid\",\n",
    "   \"Vallecano\": \"Rayo Vallecano\", \"Venezia\":\"Venezia\", \"Verona\":\"Verona\", \"Villarreal\": \"Villarreal\", \"Werder Bremen\": \"Werder Bremen\", \"Wolfsburg\": \"Wolfsburg\", \"Xerez\": \"\", \"Zaragoza\": \"Real Zaragoza\"\n",
    "}\n",
    "len(histToEventName)"
   ]
  },
  {
   "cell_type": "code",
   "execution_count": null,
   "id": "d34545e5",
   "metadata": {},
   "outputs": [],
   "source": [
    "# Para buscar nombres\n",
    "\n",
    "a = dfHistorico[\"Team_home\"].unique().tolist()\n",
    "a.sort()\n",
    "print(a)"
   ]
  },
  {
   "cell_type": "code",
   "execution_count": null,
   "id": "7402154c",
   "metadata": {},
   "outputs": [],
   "source": [
    "# Para buscar nombres\n",
    "\n",
    "a = dfEvent[\"Team\"].unique().tolist()\n",
    "a.sort()\n",
    "print(a)"
   ]
  },
  {
   "cell_type": "code",
   "execution_count": null,
   "id": "270a03bf",
   "metadata": {},
   "outputs": [],
   "source": [
    "# Nombres de data histórica a nombres de tipo evento.\n",
    "\n",
    "dfHistorico[\"Team_home\"] = dfHistorico[\"Team_home\"].map(histToEventName)\n",
    "dfHistorico[\"Team_away\"] = dfHistorico[\"Team_away\"].map(histToEventName)"
   ]
  },
  {
   "cell_type": "code",
   "execution_count": null,
   "id": "fee6ab73",
   "metadata": {},
   "outputs": [],
   "source": [
    "# Comprobamos que no esten datos vacios\n",
    "\n",
    "dfHistorico.isnull().sum() "
   ]
  },
  {
   "cell_type": "code",
   "execution_count": null,
   "id": "8cf3e487",
   "metadata": {},
   "outputs": [],
   "source": [
    "# Primero revisamos si estan todos los partidos compatibles, para que sea más robusta la solución\n",
    "\n",
    "indexHistorical = []\n",
    "for i in tqdm(range(len(dfHistorico))):\n",
    "    stringHome = dfHistorico.iloc[i].Team_home\n",
    "    stringAway = dfHistorico.iloc[i].Team_away\n",
    "    date = dfHistorico.iloc[i].Date\n",
    "\n",
    "    dfAux = dfEvent[dfEvent.Date == date]\n",
    "\n",
    "    dfHome = dfAux[dfAux.Team == stringHome].add_prefix(\"Home\")\n",
    "    dfAway = dfAux[dfAux.Team == stringAway].add_prefix(\"Away\")\n",
    "\n",
    "    # dfHome.reset_index(drop=True, inplace=True)\n",
    "    # dfAway.reset_index(drop=True, inplace=True)\n",
    "    if len(dfHome) + len(dfAway) == 2: \n",
    "        indexHistorical.append(i)\n",
    "    # concat = pd.concat([dfHome, dfAway], axis = 1)\n",
    "    # test.append(concat)\n",
    "    # Buscamos los partidos que tenemos información\n",
    "    "
   ]
  },
  {
   "cell_type": "code",
   "execution_count": null,
   "id": "8d7a0856",
   "metadata": {},
   "outputs": [],
   "source": [
    "# Creamos el dataframe de partidos a buscar\n",
    "\n",
    "dfHistoricoCompatible = dfHistorico.iloc[indexHistorical].reset_index(drop=True)\n",
    "dfHistoricoCompatible = dfHistoricoCompatible.dropna(axis=0)"
   ]
  },
  {
   "cell_type": "code",
   "execution_count": null,
   "id": "b92f213d",
   "metadata": {},
   "outputs": [],
   "source": [
    "dfHistoricoCompatible"
   ]
  },
  {
   "cell_type": "code",
   "execution_count": null,
   "id": "5d4867c1",
   "metadata": {},
   "outputs": [],
   "source": [
    "dfHistoricoCompatible.isnull().sum()"
   ]
  },
  {
   "cell_type": "code",
   "execution_count": null,
   "id": "d9b54072",
   "metadata": {},
   "outputs": [],
   "source": [
    "# goals_succ = dfEvent.filter(regex='Goal_Successful_bin').columns.tolist()\n",
    "# goals_unsucc = dfEvent.filter(regex='Goal_Unsuccessful_bin').columns.tolist()\n",
    "# goals_succ.extend(goals_unsucc)\n",
    "# goals = goals_succ\n",
    "\n",
    "# intervals = [\"0-45\",\"45-90\"]\n",
    "# intervals = [\"0-15\",\"15-30\",\"30-45\",\"45-60\",\"60-75\",\"75-90\"]\n",
    "intervals = [\"0-5\",\"5-10\",\"10-15\",\"15-20\",\"20-25\",\"25-30\", \"30-35\",\"35-40\",\"40-45\",\n",
    "             \"45-50\",\"50-55\",\"55-60\",\"60-65\",\"65-70\",\"70-75\", \"75-80\",\"80-85\",\"85-90\"]\n",
    "\n",
    "Xdata = []\n",
    "ydata = []\n",
    "for i in tqdm(range(len(dfHistoricoCompatible))):\n",
    "    stringHome = dfHistoricoCompatible.iloc[i].Team_home\n",
    "    stringAway = dfHistoricoCompatible.iloc[i].Team_away\n",
    "    date = dfHistoricoCompatible.iloc[i].Date\n",
    "\n",
    "    # dfAux = dfEvent[dfEvent.Date == date].drop(goals, axis=1) #Test sin los goles\n",
    "    dfAux = dfEvent[dfEvent.Date == date]\n",
    "\n",
    "    dfHome = dfAux[dfAux.Team == stringHome].add_prefix(\"Home\")\n",
    "    dfAway = dfAux[dfAux.Team == stringAway].add_prefix(\"Away\")\n",
    "\n",
    "    # Dropear valores redundantes\n",
    "    dfHome = dfHome.drop([\"HomeTeam\",\"HomeDate\",\"HomeGoals\",\"Homegame_id\"], axis = 1)\n",
    "    dfAway = dfAway.drop([\"AwayTeam\",\"AwayDate\",\"AwayGoals\",\"Awaygame_id\"], axis = 1)\n",
    "\n",
    "    dfHome.reset_index(drop=True, inplace=True)\n",
    "    dfAway.reset_index(drop=True, inplace=True)\n",
    "\n",
    "    concat = pd.concat([dfHome, dfAway], axis = 1).reset_index(drop=True)\n",
    "    x = []\n",
    "    if len(concat) == 0:\n",
    "        pass\n",
    "    else:\n",
    "        for inter in intervals:\n",
    "            intervals_columns = concat.filter(regex=f'{inter}$').columns.tolist()\n",
    "            hist = dfHistoricoCompatible.iloc[i:i+1].drop([\"Date\", \"Team_home\", \"Team_away\", \"result\", \"Goals_home\", \"Goals_away\", \"Wk\"], axis=1).values\n",
    "            x.append(np.append(concat[intervals_columns].values[0], hist))\n",
    "        ydata.append(dfHistoricoCompatible.iloc[i:i+1][\"result\"].values[0])\n",
    "        x = np.array(x)\n",
    "        Xdata.append(x)"
   ]
  },
  {
   "cell_type": "code",
   "execution_count": 3,
   "id": "d4357a19",
   "metadata": {},
   "outputs": [],
   "source": [
    "# Para guardar el dataset y no correrlo varias veces \n",
    "# np.save(\"Space4x3Time5.npy\", np.array(Xdata))\n",
    "# np.save(\"LabelsSpace4x3Time5.npy\", np.array(ydata))\n",
    "\n",
    "Xdata = np.load(\"InGameDataOrdenada\\Space4x3Time5.npy\")\n",
    "ydata = np.load(\"InGameDataOrdenada\\LabelsSpace4x3Time5.npy\")"
   ]
  },
  {
   "cell_type": "markdown",
   "id": "b1e74a68",
   "metadata": {},
   "source": [
    "# MLP solo datos históricos"
   ]
  },
  {
   "cell_type": "code",
   "execution_count": null,
   "id": "e09aaf8c",
   "metadata": {},
   "outputs": [],
   "source": [
    "X = dfHistoricoCompatible.drop([\"Date\", \"Team_home\", \"Team_away\", \"result\", \"Goals_home\", \"Goals_away\", \"Wk\"], axis=1).values\n",
    "y = dfHistoricoCompatible.result\n",
    "\n",
    "# y = to_categorical(y, num_classes=3)\n",
    "\n",
    "# Dividir los datos en conjuntos de entrenamiento y prueba\n",
    "split = int(0.8 * X.shape[0])\n",
    "X_train, X_test = X[:split], X[split:]\n",
    "y_train, y_test = y[:split], y[split:]\n",
    "\n",
    "scaler = MinMaxScaler()\n",
    "# scaler = StandardScaler()\n",
    "\n",
    "X_train_norm = scaler.fit_transform(X_train)\n",
    "X_test_norm = scaler.transform(X_test)"
   ]
  },
  {
   "cell_type": "code",
   "execution_count": null,
   "id": "b587bbc0",
   "metadata": {},
   "outputs": [],
   "source": [
    "model = tf.keras.Sequential([\n",
    "    layers.Dense(64, activation='relu', input_shape=(X_train_norm.shape[1],)),\n",
    "    layers.Dense(64, activation='relu'),\n",
    "    layers.Dense(64, activation='relu'),\n",
    "    layers.Dense(3, activation='softmax')\n",
    "])\n",
    "# Compilar el modelo\n",
    "with tf.device('GPU:0'): # Usar gpu\n",
    "    model.compile(optimizer=Adam(learning_rate=0.01), loss='sparse_categorical_crossentropy', metrics=['accuracy'])\n",
    "\n",
    "early_stopping = EarlyStopping(monitor='val_loss', patience=20, restore_best_weights=True)\n",
    "reduce_lr = ReduceLROnPlateau(monitor='val_loss', factor=0.5, patience=3, min_lr=10^(-6))\n",
    "\n",
    "history = model.fit(X_train_norm, y_train, verbose=1, epochs=100, batch_size=8,\n",
    "                    validation_data=(X_test_norm, y_test), callbacks=[early_stopping, reduce_lr])"
   ]
  },
  {
   "cell_type": "code",
   "execution_count": null,
   "id": "8f8f7314",
   "metadata": {},
   "outputs": [],
   "source": [
    "clf = TabNetClassifier(\n",
    "    optimizer_fn=torch.optim.Adam,\n",
    "    optimizer_params=dict(lr=1e-3),\n",
    "    scheduler_params={\"step_size\":50,\n",
    "                        \"gamma\":0.9},\n",
    "    scheduler_fn=torch.optim.lr_scheduler.StepLR,\n",
    "    mask_type='entmax', # \"sparsemax\" \"entmax\"\n",
    "    )\n",
    "    \n",
    "clf.fit(X_train, y_train,\n",
    "    eval_set=[(X_train, y_train), (X_test, y_test)], \n",
    "    eval_name=['train', 'valid'], \n",
    "    eval_metric=['accuracy'], \n",
    "    max_epochs=1000 , patience=30, \n",
    "    batch_size=28, drop_last=False)\n",
    "\n",
    "pred = clf.predict(X_test)"
   ]
  },
  {
   "cell_type": "markdown",
   "id": "aaed6b73",
   "metadata": {},
   "source": [
    "# LSTM"
   ]
  },
  {
   "cell_type": "code",
   "execution_count": 5,
   "id": "1e882018",
   "metadata": {},
   "outputs": [],
   "source": [
    "# Full data\n",
    "X = np.array(Xdata)\n",
    "y = np.array(ydata)\n",
    "y = to_categorical(y, num_classes=3)\n"
   ]
  },
  {
   "cell_type": "code",
   "execution_count": 5,
   "id": "b2e42354",
   "metadata": {},
   "outputs": [
    {
     "data": {
      "text/plain": [
       "(22209, 18, 1270)"
      ]
     },
     "execution_count": 5,
     "metadata": {},
     "output_type": "execute_result"
    }
   ],
   "source": [
    "X.shape"
   ]
  },
  {
   "cell_type": "code",
   "execution_count": 6,
   "id": "0f34e393",
   "metadata": {},
   "outputs": [
    {
     "data": {
      "text/plain": [
       "(22209, 3)"
      ]
     },
     "execution_count": 6,
     "metadata": {},
     "output_type": "execute_result"
    }
   ],
   "source": [
    "y.shape"
   ]
  },
  {
   "cell_type": "code",
   "execution_count": 10,
   "id": "a29de717",
   "metadata": {},
   "outputs": [],
   "source": [
    "n_samples, sequence_length, n_features = X.shape\n",
    "\n",
    "# División de los datos en 65% entrenamiento, 15% validación y 20% prueba\n",
    "train_size = int(0.65 * n_samples)\n",
    "val_size = int(0.15 * n_samples)\n",
    "test_size = n_samples - train_size - val_size\n",
    "\n",
    "X_train, y_train = X[:train_size], y[:train_size]\n",
    "X_val, y_val = X[train_size:train_size + val_size], y[train_size:train_size + val_size]\n",
    "X_test, y_test = X[train_size + val_size:], y[train_size + val_size:]"
   ]
  },
  {
   "cell_type": "code",
   "execution_count": 11,
   "id": "f83e49a4",
   "metadata": {},
   "outputs": [],
   "source": [
    "# Sin clean\n",
    "# scaler = MinMaxScaler()\n",
    "# X_train_reshaped = X_train.reshape(-1, X.shape[2])\n",
    "# X_train_normalized = scaler.fit_transform(X_train_reshaped)\n",
    "# X_train_normalized = X_train_normalized.reshape(X_train.shape[0], X_train.shape[1], X_train.shape[2])\n",
    "\n",
    "# X_test_reshaped = X_test.reshape(-1, X.shape[2])\n",
    "# X_test_normalized = scaler.transform(X_test_reshaped)\n",
    "# X_test_normalized = X_test_normalized.reshape(X_test.shape[0], X_test.shape[1], X_test.shape[2])\n",
    "\n",
    "\n",
    "# Con clean \n",
    "X_train_reshaped = X_train.reshape(-1, X.shape[2])\n",
    "X_test_reshaped = X_test.reshape(-1, X.shape[2])\n",
    "X_val_reshaped = X_val.reshape(-1, X.shape[2])\n",
    "\n",
    "sclean  = clean(X_train_reshaped)      # indices of selected features\n",
    "X_train_reshaped = deepcopy(X_train_reshaped[:,sclean])\n",
    "X_test_reshaped = deepcopy(X_test_reshaped[:,sclean])\n",
    "X_val_reshaped = deepcopy(X_val_reshaped[:,sclean])\n",
    "\n",
    "scaler = MinMaxScaler()\n",
    "X_train_normalized = scaler.fit_transform(X_train_reshaped)\n",
    "X_test_normalized = scaler.transform(X_test_reshaped)\n",
    "X_val_normalized = scaler.transform(X_val_reshaped)\n",
    "\n",
    "X_train_normalized = X_train_normalized.reshape(X_train.shape[0], X_train.shape[1], len(sclean))\n",
    "X_test_normalized = X_test_normalized.reshape(X_test.shape[0], X_test.shape[1], len(sclean))\n",
    "X_val_normalized = X_val_normalized.reshape(X_val.shape[0], X_val.shape[1], len(sclean))\n"
   ]
  },
  {
   "cell_type": "code",
   "execution_count": 9,
   "id": "2a287a9d",
   "metadata": {},
   "outputs": [
    {
     "data": {
      "text/plain": [
       "(14435, 18, 763)"
      ]
     },
     "execution_count": 9,
     "metadata": {},
     "output_type": "execute_result"
    }
   ],
   "source": [
    "X_train_normalized.shape"
   ]
  },
  {
   "cell_type": "code",
   "execution_count": 10,
   "id": "59fc8894",
   "metadata": {},
   "outputs": [
    {
     "name": "stdout",
     "output_type": "stream",
     "text": [
      "Num GPUs Available:  1\n"
     ]
    }
   ],
   "source": [
    "print(\"Num GPUs Available: \", len(tf.config.experimental.list_physical_devices('GPU')))\n",
    "physical_devices = tf.config.list_physical_devices('GPU')"
   ]
  },
  {
   "cell_type": "code",
   "execution_count": 11,
   "id": "24e295fb",
   "metadata": {},
   "outputs": [
    {
     "name": "stdout",
     "output_type": "stream",
     "text": [
      "Epoch 1/1000\n",
      "903/903 [==============================] - ETA: 0s - loss: 3.9265 - accuracy: 0.6292"
     ]
    },
    {
     "name": "stderr",
     "output_type": "stream",
     "text": [
      "WARNING:absl:Found untraced functions such as lstm_cell_layer_call_fn, lstm_cell_layer_call_and_return_conditional_losses, lstm_cell_1_layer_call_fn, lstm_cell_1_layer_call_and_return_conditional_losses, lstm_cell_2_layer_call_fn while saving (showing 5 of 8). These functions will not be directly callable after loading.\n"
     ]
    },
    {
     "name": "stdout",
     "output_type": "stream",
     "text": [
      "INFO:tensorflow:Assets written to: models\\InGame\\assets\n"
     ]
    },
    {
     "name": "stderr",
     "output_type": "stream",
     "text": [
      "INFO:tensorflow:Assets written to: models\\InGame\\assets\n"
     ]
    },
    {
     "name": "stdout",
     "output_type": "stream",
     "text": [
      "903/903 [==============================] - 33s 32ms/step - loss: 3.9265 - accuracy: 0.6292 - val_loss: 2.8755 - val_accuracy: 0.3428 - lr: 0.0010\n",
      "Epoch 2/1000\n",
      "903/903 [==============================] - ETA: 0s - loss: 1.1016 - accuracy: 0.7162"
     ]
    },
    {
     "name": "stderr",
     "output_type": "stream",
     "text": [
      "WARNING:absl:Found untraced functions such as lstm_cell_layer_call_fn, lstm_cell_layer_call_and_return_conditional_losses, lstm_cell_1_layer_call_fn, lstm_cell_1_layer_call_and_return_conditional_losses, lstm_cell_2_layer_call_fn while saving (showing 5 of 8). These functions will not be directly callable after loading.\n"
     ]
    },
    {
     "name": "stdout",
     "output_type": "stream",
     "text": [
      "INFO:tensorflow:Assets written to: models\\InGame\\assets\n"
     ]
    },
    {
     "name": "stderr",
     "output_type": "stream",
     "text": [
      "INFO:tensorflow:Assets written to: models\\InGame\\assets\n"
     ]
    },
    {
     "name": "stdout",
     "output_type": "stream",
     "text": [
      "903/903 [==============================] - 28s 31ms/step - loss: 1.1016 - accuracy: 0.7162 - val_loss: 1.0203 - val_accuracy: 0.6424 - lr: 0.0010\n",
      "Epoch 3/1000\n",
      "903/903 [==============================] - 15s 17ms/step - loss: 0.6371 - accuracy: 0.8210 - val_loss: 1.3464 - val_accuracy: 0.5458 - lr: 0.0010\n",
      "Epoch 4/1000\n",
      "900/903 [============================>.] - ETA: 0s - loss: 0.5123 - accuracy: 0.8648"
     ]
    },
    {
     "name": "stderr",
     "output_type": "stream",
     "text": [
      "WARNING:absl:Found untraced functions such as lstm_cell_layer_call_fn, lstm_cell_layer_call_and_return_conditional_losses, lstm_cell_1_layer_call_fn, lstm_cell_1_layer_call_and_return_conditional_losses, lstm_cell_2_layer_call_fn while saving (showing 5 of 8). These functions will not be directly callable after loading.\n"
     ]
    },
    {
     "name": "stdout",
     "output_type": "stream",
     "text": [
      "INFO:tensorflow:Assets written to: models\\InGame\\assets\n"
     ]
    },
    {
     "name": "stderr",
     "output_type": "stream",
     "text": [
      "INFO:tensorflow:Assets written to: models\\InGame\\assets\n"
     ]
    },
    {
     "name": "stdout",
     "output_type": "stream",
     "text": [
      "903/903 [==============================] - 25s 28ms/step - loss: 0.5118 - accuracy: 0.8651 - val_loss: 0.3805 - val_accuracy: 0.9240 - lr: 0.0010\n",
      "Epoch 5/1000\n",
      "903/903 [==============================] - 15s 16ms/step - loss: 0.4572 - accuracy: 0.8865 - val_loss: 0.8604 - val_accuracy: 0.7760 - lr: 0.0010\n",
      "Epoch 6/1000\n",
      "900/903 [============================>.] - ETA: 0s - loss: 0.4430 - accuracy: 0.8956"
     ]
    },
    {
     "name": "stderr",
     "output_type": "stream",
     "text": [
      "WARNING:absl:Found untraced functions such as lstm_cell_layer_call_fn, lstm_cell_layer_call_and_return_conditional_losses, lstm_cell_1_layer_call_fn, lstm_cell_1_layer_call_and_return_conditional_losses, lstm_cell_2_layer_call_fn while saving (showing 5 of 8). These functions will not be directly callable after loading.\n"
     ]
    },
    {
     "name": "stdout",
     "output_type": "stream",
     "text": [
      "INFO:tensorflow:Assets written to: models\\InGame\\assets\n"
     ]
    },
    {
     "name": "stderr",
     "output_type": "stream",
     "text": [
      "INFO:tensorflow:Assets written to: models\\InGame\\assets\n"
     ]
    },
    {
     "name": "stdout",
     "output_type": "stream",
     "text": [
      "903/903 [==============================] - 25s 28ms/step - loss: 0.4427 - accuracy: 0.8957 - val_loss: 0.3484 - val_accuracy: 0.9349 - lr: 0.0010\n",
      "Epoch 7/1000\n",
      "903/903 [==============================] - 15s 16ms/step - loss: 0.4883 - accuracy: 0.8971 - val_loss: 0.6701 - val_accuracy: 0.8112 - lr: 0.0010\n",
      "Epoch 8/1000\n",
      "903/903 [==============================] - ETA: 0s - loss: 0.4297 - accuracy: 0.9113"
     ]
    },
    {
     "name": "stderr",
     "output_type": "stream",
     "text": [
      "WARNING:absl:Found untraced functions such as lstm_cell_layer_call_fn, lstm_cell_layer_call_and_return_conditional_losses, lstm_cell_1_layer_call_fn, lstm_cell_1_layer_call_and_return_conditional_losses, lstm_cell_2_layer_call_fn while saving (showing 5 of 8). These functions will not be directly callable after loading.\n"
     ]
    },
    {
     "name": "stdout",
     "output_type": "stream",
     "text": [
      "INFO:tensorflow:Assets written to: models\\InGame\\assets\n"
     ]
    },
    {
     "name": "stderr",
     "output_type": "stream",
     "text": [
      "INFO:tensorflow:Assets written to: models\\InGame\\assets\n"
     ]
    },
    {
     "name": "stdout",
     "output_type": "stream",
     "text": [
      "903/903 [==============================] - 25s 28ms/step - loss: 0.4297 - accuracy: 0.9113 - val_loss: 0.2753 - val_accuracy: 0.9562 - lr: 0.0010\n",
      "Epoch 9/1000\n",
      "903/903 [==============================] - 15s 17ms/step - loss: 0.3447 - accuracy: 0.9277 - val_loss: 1.2394 - val_accuracy: 0.4977 - lr: 0.0010\n",
      "Epoch 10/1000\n",
      "901/903 [============================>.] - ETA: 0s - loss: 0.3212 - accuracy: 0.9391"
     ]
    },
    {
     "name": "stderr",
     "output_type": "stream",
     "text": [
      "WARNING:absl:Found untraced functions such as lstm_cell_layer_call_fn, lstm_cell_layer_call_and_return_conditional_losses, lstm_cell_1_layer_call_fn, lstm_cell_1_layer_call_and_return_conditional_losses, lstm_cell_2_layer_call_fn while saving (showing 5 of 8). These functions will not be directly callable after loading.\n"
     ]
    },
    {
     "name": "stdout",
     "output_type": "stream",
     "text": [
      "INFO:tensorflow:Assets written to: models\\InGame\\assets\n"
     ]
    },
    {
     "name": "stderr",
     "output_type": "stream",
     "text": [
      "INFO:tensorflow:Assets written to: models\\InGame\\assets\n"
     ]
    },
    {
     "name": "stdout",
     "output_type": "stream",
     "text": [
      "903/903 [==============================] - 25s 28ms/step - loss: 0.3215 - accuracy: 0.9391 - val_loss: 0.1905 - val_accuracy: 0.9898 - lr: 0.0010\n",
      "Epoch 11/1000\n",
      "903/903 [==============================] - 15s 16ms/step - loss: 0.2978 - accuracy: 0.9473 - val_loss: 0.2125 - val_accuracy: 0.9781 - lr: 0.0010\n",
      "Epoch 12/1000\n",
      "903/903 [==============================] - 15s 17ms/step - loss: 0.3127 - accuracy: 0.9437 - val_loss: 0.5740 - val_accuracy: 0.8580 - lr: 0.0010\n",
      "Epoch 13/1000\n",
      "903/903 [==============================] - 15s 17ms/step - loss: 0.2883 - accuracy: 0.9489 - val_loss: 1.1415 - val_accuracy: 0.4872 - lr: 0.0010\n",
      "Epoch 14/1000\n",
      "903/903 [==============================] - 15s 16ms/step - loss: 0.2693 - accuracy: 0.9527 - val_loss: 0.5108 - val_accuracy: 0.8466 - lr: 0.0010\n",
      "Epoch 15/1000\n",
      "903/903 [==============================] - 15s 16ms/step - loss: 0.2646 - accuracy: 0.9548 - val_loss: 0.2132 - val_accuracy: 0.9730 - lr: 0.0010\n",
      "Epoch 16/1000\n",
      "903/903 [==============================] - 15s 16ms/step - loss: 0.2674 - accuracy: 0.9546 - val_loss: 0.4570 - val_accuracy: 0.8772 - lr: 0.0010\n",
      "Epoch 17/1000\n",
      "903/903 [==============================] - 15s 17ms/step - loss: 0.2608 - accuracy: 0.9537 - val_loss: 1.3863 - val_accuracy: 0.6761 - lr: 0.0010\n",
      "Epoch 18/1000\n",
      "903/903 [==============================] - 15s 17ms/step - loss: 0.2655 - accuracy: 0.9543 - val_loss: 1.1992 - val_accuracy: 0.7472 - lr: 0.0010\n",
      "Epoch 19/1000\n",
      "903/903 [==============================] - 15s 16ms/step - loss: 0.2859 - accuracy: 0.9414 - val_loss: 0.9748 - val_accuracy: 0.5923 - lr: 0.0010\n",
      "Epoch 20/1000\n",
      "903/903 [==============================] - 15s 16ms/step - loss: 0.2708 - accuracy: 0.9489 - val_loss: 0.6450 - val_accuracy: 0.8154 - lr: 0.0010\n",
      "Epoch 21/1000\n",
      "900/903 [============================>.] - ETA: 0s - loss: 0.1756 - accuracy: 0.9803"
     ]
    },
    {
     "name": "stderr",
     "output_type": "stream",
     "text": [
      "WARNING:absl:Found untraced functions such as lstm_cell_layer_call_fn, lstm_cell_layer_call_and_return_conditional_losses, lstm_cell_1_layer_call_fn, lstm_cell_1_layer_call_and_return_conditional_losses, lstm_cell_2_layer_call_fn while saving (showing 5 of 8). These functions will not be directly callable after loading.\n"
     ]
    },
    {
     "name": "stdout",
     "output_type": "stream",
     "text": [
      "INFO:tensorflow:Assets written to: models\\InGame\\assets\n"
     ]
    },
    {
     "name": "stderr",
     "output_type": "stream",
     "text": [
      "INFO:tensorflow:Assets written to: models\\InGame\\assets\n"
     ]
    },
    {
     "name": "stdout",
     "output_type": "stream",
     "text": [
      "903/903 [==============================] - 26s 29ms/step - loss: 0.1755 - accuracy: 0.9804 - val_loss: 0.1773 - val_accuracy: 0.9820 - lr: 2.0000e-04\n",
      "Epoch 22/1000\n",
      "901/903 [============================>.] - ETA: 0s - loss: 0.1470 - accuracy: 0.9864"
     ]
    },
    {
     "name": "stderr",
     "output_type": "stream",
     "text": [
      "WARNING:absl:Found untraced functions such as lstm_cell_layer_call_fn, lstm_cell_layer_call_and_return_conditional_losses, lstm_cell_1_layer_call_fn, lstm_cell_1_layer_call_and_return_conditional_losses, lstm_cell_2_layer_call_fn while saving (showing 5 of 8). These functions will not be directly callable after loading.\n"
     ]
    },
    {
     "name": "stdout",
     "output_type": "stream",
     "text": [
      "INFO:tensorflow:Assets written to: models\\InGame\\assets\n"
     ]
    },
    {
     "name": "stderr",
     "output_type": "stream",
     "text": [
      "INFO:tensorflow:Assets written to: models\\InGame\\assets\n"
     ]
    },
    {
     "name": "stdout",
     "output_type": "stream",
     "text": [
      "903/903 [==============================] - 26s 29ms/step - loss: 0.1470 - accuracy: 0.9864 - val_loss: 0.1464 - val_accuracy: 0.9880 - lr: 2.0000e-04\n",
      "Epoch 23/1000\n",
      "901/903 [============================>.] - ETA: 0s - loss: 0.1458 - accuracy: 0.9842"
     ]
    },
    {
     "name": "stderr",
     "output_type": "stream",
     "text": [
      "WARNING:absl:Found untraced functions such as lstm_cell_layer_call_fn, lstm_cell_layer_call_and_return_conditional_losses, lstm_cell_1_layer_call_fn, lstm_cell_1_layer_call_and_return_conditional_losses, lstm_cell_2_layer_call_fn while saving (showing 5 of 8). These functions will not be directly callable after loading.\n"
     ]
    },
    {
     "name": "stdout",
     "output_type": "stream",
     "text": [
      "INFO:tensorflow:Assets written to: models\\InGame\\assets\n"
     ]
    },
    {
     "name": "stderr",
     "output_type": "stream",
     "text": [
      "INFO:tensorflow:Assets written to: models\\InGame\\assets\n"
     ]
    },
    {
     "name": "stdout",
     "output_type": "stream",
     "text": [
      "903/903 [==============================] - 26s 29ms/step - loss: 0.1457 - accuracy: 0.9842 - val_loss: 0.1346 - val_accuracy: 0.9928 - lr: 2.0000e-04\n",
      "Epoch 24/1000\n",
      "900/903 [============================>.] - ETA: 0s - loss: 0.1432 - accuracy: 0.9834"
     ]
    },
    {
     "name": "stderr",
     "output_type": "stream",
     "text": [
      "WARNING:absl:Found untraced functions such as lstm_cell_layer_call_fn, lstm_cell_layer_call_and_return_conditional_losses, lstm_cell_1_layer_call_fn, lstm_cell_1_layer_call_and_return_conditional_losses, lstm_cell_2_layer_call_fn while saving (showing 5 of 8). These functions will not be directly callable after loading.\n"
     ]
    },
    {
     "name": "stdout",
     "output_type": "stream",
     "text": [
      "INFO:tensorflow:Assets written to: models\\InGame\\assets\n"
     ]
    },
    {
     "name": "stderr",
     "output_type": "stream",
     "text": [
      "INFO:tensorflow:Assets written to: models\\InGame\\assets\n"
     ]
    },
    {
     "name": "stdout",
     "output_type": "stream",
     "text": [
      "903/903 [==============================] - 25s 28ms/step - loss: 0.1433 - accuracy: 0.9833 - val_loss: 0.1220 - val_accuracy: 0.9919 - lr: 2.0000e-04\n",
      "Epoch 25/1000\n",
      "900/903 [============================>.] - ETA: 0s - loss: 0.1350 - accuracy: 0.9858"
     ]
    },
    {
     "name": "stderr",
     "output_type": "stream",
     "text": [
      "WARNING:absl:Found untraced functions such as lstm_cell_layer_call_fn, lstm_cell_layer_call_and_return_conditional_losses, lstm_cell_1_layer_call_fn, lstm_cell_1_layer_call_and_return_conditional_losses, lstm_cell_2_layer_call_fn while saving (showing 5 of 8). These functions will not be directly callable after loading.\n"
     ]
    },
    {
     "name": "stdout",
     "output_type": "stream",
     "text": [
      "INFO:tensorflow:Assets written to: models\\InGame\\assets\n"
     ]
    },
    {
     "name": "stderr",
     "output_type": "stream",
     "text": [
      "INFO:tensorflow:Assets written to: models\\InGame\\assets\n"
     ]
    },
    {
     "name": "stdout",
     "output_type": "stream",
     "text": [
      "903/903 [==============================] - 26s 29ms/step - loss: 0.1354 - accuracy: 0.9857 - val_loss: 0.1146 - val_accuracy: 0.9922 - lr: 2.0000e-04\n",
      "Epoch 26/1000\n",
      "903/903 [==============================] - 15s 16ms/step - loss: 0.1314 - accuracy: 0.9857 - val_loss: 0.1540 - val_accuracy: 0.9808 - lr: 2.0000e-04\n",
      "Epoch 27/1000\n",
      "902/903 [============================>.] - ETA: 0s - loss: 0.1294 - accuracy: 0.9860"
     ]
    },
    {
     "name": "stderr",
     "output_type": "stream",
     "text": [
      "WARNING:absl:Found untraced functions such as lstm_cell_layer_call_fn, lstm_cell_layer_call_and_return_conditional_losses, lstm_cell_1_layer_call_fn, lstm_cell_1_layer_call_and_return_conditional_losses, lstm_cell_2_layer_call_fn while saving (showing 5 of 8). These functions will not be directly callable after loading.\n"
     ]
    },
    {
     "name": "stdout",
     "output_type": "stream",
     "text": [
      "INFO:tensorflow:Assets written to: models\\InGame\\assets\n"
     ]
    },
    {
     "name": "stderr",
     "output_type": "stream",
     "text": [
      "INFO:tensorflow:Assets written to: models\\InGame\\assets\n"
     ]
    },
    {
     "name": "stdout",
     "output_type": "stream",
     "text": [
      "903/903 [==============================] - 25s 28ms/step - loss: 0.1294 - accuracy: 0.9860 - val_loss: 0.1117 - val_accuracy: 0.9931 - lr: 2.0000e-04\n",
      "Epoch 28/1000\n",
      "903/903 [==============================] - 16s 17ms/step - loss: 0.1215 - accuracy: 0.9870 - val_loss: 0.1191 - val_accuracy: 0.9889 - lr: 2.0000e-04\n",
      "Epoch 29/1000\n",
      "903/903 [==============================] - ETA: 0s - loss: 0.1189 - accuracy: 0.9877"
     ]
    },
    {
     "name": "stderr",
     "output_type": "stream",
     "text": [
      "WARNING:absl:Found untraced functions such as lstm_cell_layer_call_fn, lstm_cell_layer_call_and_return_conditional_losses, lstm_cell_1_layer_call_fn, lstm_cell_1_layer_call_and_return_conditional_losses, lstm_cell_2_layer_call_fn while saving (showing 5 of 8). These functions will not be directly callable after loading.\n"
     ]
    },
    {
     "name": "stdout",
     "output_type": "stream",
     "text": [
      "INFO:tensorflow:Assets written to: models\\InGame\\assets\n"
     ]
    },
    {
     "name": "stderr",
     "output_type": "stream",
     "text": [
      "INFO:tensorflow:Assets written to: models\\InGame\\assets\n"
     ]
    },
    {
     "name": "stdout",
     "output_type": "stream",
     "text": [
      "903/903 [==============================] - 26s 29ms/step - loss: 0.1189 - accuracy: 0.9877 - val_loss: 0.1072 - val_accuracy: 0.9940 - lr: 2.0000e-04\n",
      "Epoch 30/1000\n",
      "903/903 [==============================] - 15s 17ms/step - loss: 0.1170 - accuracy: 0.9870 - val_loss: 0.1077 - val_accuracy: 0.9919 - lr: 2.0000e-04\n",
      "Epoch 31/1000\n",
      "903/903 [==============================] - 16s 18ms/step - loss: 0.1166 - accuracy: 0.9877 - val_loss: 0.1154 - val_accuracy: 0.9898 - lr: 2.0000e-04\n",
      "Epoch 32/1000\n",
      "901/903 [============================>.] - ETA: 0s - loss: 0.1122 - accuracy: 0.9879"
     ]
    },
    {
     "name": "stderr",
     "output_type": "stream",
     "text": [
      "WARNING:absl:Found untraced functions such as lstm_cell_layer_call_fn, lstm_cell_layer_call_and_return_conditional_losses, lstm_cell_1_layer_call_fn, lstm_cell_1_layer_call_and_return_conditional_losses, lstm_cell_2_layer_call_fn while saving (showing 5 of 8). These functions will not be directly callable after loading.\n"
     ]
    },
    {
     "name": "stdout",
     "output_type": "stream",
     "text": [
      "INFO:tensorflow:Assets written to: models\\InGame\\assets\n"
     ]
    },
    {
     "name": "stderr",
     "output_type": "stream",
     "text": [
      "INFO:tensorflow:Assets written to: models\\InGame\\assets\n"
     ]
    },
    {
     "name": "stdout",
     "output_type": "stream",
     "text": [
      "903/903 [==============================] - 26s 29ms/step - loss: 0.1122 - accuracy: 0.9879 - val_loss: 0.1051 - val_accuracy: 0.9928 - lr: 2.0000e-04\n",
      "Epoch 33/1000\n",
      "903/903 [==============================] - 16s 18ms/step - loss: 0.1148 - accuracy: 0.9868 - val_loss: 0.1163 - val_accuracy: 0.9865 - lr: 2.0000e-04\n",
      "Epoch 34/1000\n",
      "901/903 [============================>.] - ETA: 0s - loss: 0.1105 - accuracy: 0.9875"
     ]
    },
    {
     "name": "stderr",
     "output_type": "stream",
     "text": [
      "WARNING:absl:Found untraced functions such as lstm_cell_layer_call_fn, lstm_cell_layer_call_and_return_conditional_losses, lstm_cell_1_layer_call_fn, lstm_cell_1_layer_call_and_return_conditional_losses, lstm_cell_2_layer_call_fn while saving (showing 5 of 8). These functions will not be directly callable after loading.\n"
     ]
    },
    {
     "name": "stdout",
     "output_type": "stream",
     "text": [
      "INFO:tensorflow:Assets written to: models\\InGame\\assets\n"
     ]
    },
    {
     "name": "stderr",
     "output_type": "stream",
     "text": [
      "INFO:tensorflow:Assets written to: models\\InGame\\assets\n"
     ]
    },
    {
     "name": "stdout",
     "output_type": "stream",
     "text": [
      "903/903 [==============================] - 27s 30ms/step - loss: 0.1113 - accuracy: 0.9874 - val_loss: 0.0956 - val_accuracy: 0.9943 - lr: 2.0000e-04\n",
      "Epoch 35/1000\n",
      "903/903 [==============================] - 19s 21ms/step - loss: 0.1040 - accuracy: 0.9897 - val_loss: 0.0965 - val_accuracy: 0.9937 - lr: 2.0000e-04\n",
      "Epoch 36/1000\n",
      "903/903 [==============================] - 15s 17ms/step - loss: 0.1094 - accuracy: 0.9865 - val_loss: 0.1166 - val_accuracy: 0.9874 - lr: 2.0000e-04\n",
      "Epoch 37/1000\n",
      "903/903 [==============================] - 15s 17ms/step - loss: 0.1006 - accuracy: 0.9886 - val_loss: 0.1741 - val_accuracy: 0.9700 - lr: 2.0000e-04\n",
      "Epoch 38/1000\n",
      "903/903 [==============================] - 17s 18ms/step - loss: 0.1038 - accuracy: 0.9890 - val_loss: 0.0966 - val_accuracy: 0.9934 - lr: 2.0000e-04\n",
      "Epoch 39/1000\n",
      "903/903 [==============================] - 18s 20ms/step - loss: 0.0985 - accuracy: 0.9892 - val_loss: 0.1709 - val_accuracy: 0.9643 - lr: 2.0000e-04\n",
      "Epoch 40/1000\n",
      "902/903 [============================>.] - ETA: 0s - loss: 0.1012 - accuracy: 0.9882"
     ]
    },
    {
     "name": "stderr",
     "output_type": "stream",
     "text": [
      "WARNING:absl:Found untraced functions such as lstm_cell_layer_call_fn, lstm_cell_layer_call_and_return_conditional_losses, lstm_cell_1_layer_call_fn, lstm_cell_1_layer_call_and_return_conditional_losses, lstm_cell_2_layer_call_fn while saving (showing 5 of 8). These functions will not be directly callable after loading.\n"
     ]
    },
    {
     "name": "stdout",
     "output_type": "stream",
     "text": [
      "INFO:tensorflow:Assets written to: models\\InGame\\assets\n"
     ]
    },
    {
     "name": "stderr",
     "output_type": "stream",
     "text": [
      "INFO:tensorflow:Assets written to: models\\InGame\\assets\n"
     ]
    },
    {
     "name": "stdout",
     "output_type": "stream",
     "text": [
      "903/903 [==============================] - 27s 29ms/step - loss: 0.1013 - accuracy: 0.9882 - val_loss: 0.0931 - val_accuracy: 0.9940 - lr: 2.0000e-04\n",
      "Epoch 41/1000\n",
      "903/903 [==============================] - 15s 17ms/step - loss: 0.0993 - accuracy: 0.9877 - val_loss: 0.1413 - val_accuracy: 0.9763 - lr: 2.0000e-04\n",
      "Epoch 42/1000\n",
      "903/903 [==============================] - 15s 17ms/step - loss: 0.0969 - accuracy: 0.9893 - val_loss: 0.1084 - val_accuracy: 0.9922 - lr: 2.0000e-04\n",
      "Epoch 43/1000\n",
      "903/903 [==============================] - 15s 17ms/step - loss: 0.1008 - accuracy: 0.9879 - val_loss: 0.0959 - val_accuracy: 0.9913 - lr: 2.0000e-04\n",
      "Epoch 44/1000\n",
      "903/903 [==============================] - 15s 17ms/step - loss: 0.1008 - accuracy: 0.9870 - val_loss: 0.0948 - val_accuracy: 0.9946 - lr: 2.0000e-04\n",
      "Epoch 45/1000\n",
      "903/903 [==============================] - 17s 19ms/step - loss: 0.0932 - accuracy: 0.9888 - val_loss: 0.0958 - val_accuracy: 0.9928 - lr: 2.0000e-04\n",
      "Epoch 46/1000\n",
      "903/903 [==============================] - 17s 18ms/step - loss: 0.0979 - accuracy: 0.9873 - val_loss: 0.0971 - val_accuracy: 0.9916 - lr: 2.0000e-04\n",
      "Epoch 47/1000\n",
      "903/903 [==============================] - 16s 17ms/step - loss: 0.0914 - accuracy: 0.9897 - val_loss: 0.1894 - val_accuracy: 0.9499 - lr: 2.0000e-04\n",
      "Epoch 48/1000\n",
      "903/903 [==============================] - 15s 17ms/step - loss: 0.0951 - accuracy: 0.9882 - val_loss: 0.1019 - val_accuracy: 0.9919 - lr: 2.0000e-04\n",
      "Epoch 49/1000\n",
      "903/903 [==============================] - 15s 17ms/step - loss: 0.0949 - accuracy: 0.9881 - val_loss: 0.1429 - val_accuracy: 0.9709 - lr: 2.0000e-04\n",
      "Epoch 50/1000\n",
      "903/903 [==============================] - 15s 17ms/step - loss: 0.0963 - accuracy: 0.9870 - val_loss: 0.1052 - val_accuracy: 0.9877 - lr: 2.0000e-04\n",
      "Epoch 51/1000\n",
      "900/903 [============================>.] - ETA: 0s - loss: 0.0749 - accuracy: 0.9938"
     ]
    },
    {
     "name": "stderr",
     "output_type": "stream",
     "text": [
      "WARNING:absl:Found untraced functions such as lstm_cell_layer_call_fn, lstm_cell_layer_call_and_return_conditional_losses, lstm_cell_1_layer_call_fn, lstm_cell_1_layer_call_and_return_conditional_losses, lstm_cell_2_layer_call_fn while saving (showing 5 of 8). These functions will not be directly callable after loading.\n"
     ]
    },
    {
     "name": "stdout",
     "output_type": "stream",
     "text": [
      "INFO:tensorflow:Assets written to: models\\InGame\\assets\n"
     ]
    },
    {
     "name": "stderr",
     "output_type": "stream",
     "text": [
      "INFO:tensorflow:Assets written to: models\\InGame\\assets\n"
     ]
    },
    {
     "name": "stdout",
     "output_type": "stream",
     "text": [
      "903/903 [==============================] - 26s 29ms/step - loss: 0.0758 - accuracy: 0.9937 - val_loss: 0.0881 - val_accuracy: 0.9934 - lr: 4.0000e-05\n",
      "Epoch 52/1000\n",
      "902/903 [============================>.] - ETA: 0s - loss: 0.0722 - accuracy: 0.9941"
     ]
    },
    {
     "name": "stderr",
     "output_type": "stream",
     "text": [
      "WARNING:absl:Found untraced functions such as lstm_cell_layer_call_fn, lstm_cell_layer_call_and_return_conditional_losses, lstm_cell_1_layer_call_fn, lstm_cell_1_layer_call_and_return_conditional_losses, lstm_cell_2_layer_call_fn while saving (showing 5 of 8). These functions will not be directly callable after loading.\n"
     ]
    },
    {
     "name": "stdout",
     "output_type": "stream",
     "text": [
      "INFO:tensorflow:Assets written to: models\\InGame\\assets\n"
     ]
    },
    {
     "name": "stderr",
     "output_type": "stream",
     "text": [
      "INFO:tensorflow:Assets written to: models\\InGame\\assets\n"
     ]
    },
    {
     "name": "stdout",
     "output_type": "stream",
     "text": [
      "903/903 [==============================] - 26s 29ms/step - loss: 0.0722 - accuracy: 0.9941 - val_loss: 0.0860 - val_accuracy: 0.9937 - lr: 4.0000e-05\n",
      "Epoch 53/1000\n",
      "903/903 [==============================] - 15s 17ms/step - loss: 0.0723 - accuracy: 0.9930 - val_loss: 0.0882 - val_accuracy: 0.9931 - lr: 4.0000e-05\n",
      "Epoch 54/1000\n",
      "900/903 [============================>.] - ETA: 0s - loss: 0.0739 - accuracy: 0.9926"
     ]
    },
    {
     "name": "stderr",
     "output_type": "stream",
     "text": [
      "WARNING:absl:Found untraced functions such as lstm_cell_layer_call_fn, lstm_cell_layer_call_and_return_conditional_losses, lstm_cell_1_layer_call_fn, lstm_cell_1_layer_call_and_return_conditional_losses, lstm_cell_2_layer_call_fn while saving (showing 5 of 8). These functions will not be directly callable after loading.\n"
     ]
    },
    {
     "name": "stdout",
     "output_type": "stream",
     "text": [
      "INFO:tensorflow:Assets written to: models\\InGame\\assets\n"
     ]
    },
    {
     "name": "stderr",
     "output_type": "stream",
     "text": [
      "INFO:tensorflow:Assets written to: models\\InGame\\assets\n"
     ]
    },
    {
     "name": "stdout",
     "output_type": "stream",
     "text": [
      "903/903 [==============================] - 25s 28ms/step - loss: 0.0750 - accuracy: 0.9924 - val_loss: 0.0843 - val_accuracy: 0.9937 - lr: 4.0000e-05\n",
      "Epoch 55/1000\n",
      "903/903 [==============================] - 15s 17ms/step - loss: 0.0691 - accuracy: 0.9936 - val_loss: 0.0867 - val_accuracy: 0.9934 - lr: 4.0000e-05\n",
      "Epoch 56/1000\n",
      "901/903 [============================>.] - ETA: 0s - loss: 0.0703 - accuracy: 0.9938"
     ]
    },
    {
     "name": "stderr",
     "output_type": "stream",
     "text": [
      "WARNING:absl:Found untraced functions such as lstm_cell_layer_call_fn, lstm_cell_layer_call_and_return_conditional_losses, lstm_cell_1_layer_call_fn, lstm_cell_1_layer_call_and_return_conditional_losses, lstm_cell_2_layer_call_fn while saving (showing 5 of 8). These functions will not be directly callable after loading.\n"
     ]
    },
    {
     "name": "stdout",
     "output_type": "stream",
     "text": [
      "INFO:tensorflow:Assets written to: models\\InGame\\assets\n"
     ]
    },
    {
     "name": "stderr",
     "output_type": "stream",
     "text": [
      "INFO:tensorflow:Assets written to: models\\InGame\\assets\n"
     ]
    },
    {
     "name": "stdout",
     "output_type": "stream",
     "text": [
      "903/903 [==============================] - 26s 29ms/step - loss: 0.0703 - accuracy: 0.9937 - val_loss: 0.0828 - val_accuracy: 0.9940 - lr: 4.0000e-05\n",
      "Epoch 57/1000\n",
      "903/903 [==============================] - 16s 17ms/step - loss: 0.0694 - accuracy: 0.9944 - val_loss: 0.0936 - val_accuracy: 0.9904 - lr: 4.0000e-05\n",
      "Epoch 58/1000\n",
      "903/903 [==============================] - 16s 17ms/step - loss: 0.0663 - accuracy: 0.9944 - val_loss: 0.0841 - val_accuracy: 0.9940 - lr: 4.0000e-05\n",
      "Epoch 59/1000\n",
      "903/903 [==============================] - 15s 17ms/step - loss: 0.0667 - accuracy: 0.9940 - val_loss: 0.0846 - val_accuracy: 0.9940 - lr: 4.0000e-05\n",
      "Epoch 60/1000\n",
      "903/903 [==============================] - 16s 18ms/step - loss: 0.0640 - accuracy: 0.9945 - val_loss: 0.0875 - val_accuracy: 0.9931 - lr: 4.0000e-05\n",
      "Epoch 61/1000\n",
      "903/903 [==============================] - 16s 17ms/step - loss: 0.0660 - accuracy: 0.9938 - val_loss: 0.0871 - val_accuracy: 0.9931 - lr: 4.0000e-05\n",
      "Epoch 62/1000\n",
      "903/903 [==============================] - 16s 17ms/step - loss: 0.0673 - accuracy: 0.9931 - val_loss: 0.0845 - val_accuracy: 0.9934 - lr: 4.0000e-05\n",
      "Epoch 63/1000\n",
      "902/903 [============================>.] - ETA: 0s - loss: 0.0686 - accuracy: 0.9930"
     ]
    },
    {
     "name": "stderr",
     "output_type": "stream",
     "text": [
      "WARNING:absl:Found untraced functions such as lstm_cell_layer_call_fn, lstm_cell_layer_call_and_return_conditional_losses, lstm_cell_1_layer_call_fn, lstm_cell_1_layer_call_and_return_conditional_losses, lstm_cell_2_layer_call_fn while saving (showing 5 of 8). These functions will not be directly callable after loading.\n"
     ]
    },
    {
     "name": "stdout",
     "output_type": "stream",
     "text": [
      "INFO:tensorflow:Assets written to: models\\InGame\\assets\n"
     ]
    },
    {
     "name": "stderr",
     "output_type": "stream",
     "text": [
      "INFO:tensorflow:Assets written to: models\\InGame\\assets\n"
     ]
    },
    {
     "name": "stdout",
     "output_type": "stream",
     "text": [
      "903/903 [==============================] - 25s 28ms/step - loss: 0.0686 - accuracy: 0.9930 - val_loss: 0.0805 - val_accuracy: 0.9940 - lr: 4.0000e-05\n",
      "Epoch 64/1000\n",
      "903/903 [==============================] - 15s 17ms/step - loss: 0.0637 - accuracy: 0.9943 - val_loss: 0.0833 - val_accuracy: 0.9937 - lr: 4.0000e-05\n",
      "Epoch 65/1000\n",
      "903/903 [==============================] - 15s 17ms/step - loss: 0.0628 - accuracy: 0.9943 - val_loss: 0.0874 - val_accuracy: 0.9928 - lr: 4.0000e-05\n",
      "Epoch 66/1000\n",
      "903/903 [==============================] - 16s 17ms/step - loss: 0.0603 - accuracy: 0.9957 - val_loss: 0.0845 - val_accuracy: 0.9934 - lr: 4.0000e-05\n",
      "Epoch 67/1000\n",
      "903/903 [==============================] - 15s 17ms/step - loss: 0.0633 - accuracy: 0.9948 - val_loss: 0.0820 - val_accuracy: 0.9934 - lr: 4.0000e-05\n",
      "Epoch 68/1000\n",
      "903/903 [==============================] - 15s 17ms/step - loss: 0.0611 - accuracy: 0.9951 - val_loss: 0.0823 - val_accuracy: 0.9943 - lr: 4.0000e-05\n",
      "Epoch 69/1000\n",
      "903/903 [==============================] - 15s 17ms/step - loss: 0.0624 - accuracy: 0.9949 - val_loss: 0.0819 - val_accuracy: 0.9937 - lr: 4.0000e-05\n",
      "Epoch 70/1000\n",
      "903/903 [==============================] - 16s 17ms/step - loss: 0.0586 - accuracy: 0.9950 - val_loss: 0.0816 - val_accuracy: 0.9940 - lr: 4.0000e-05\n",
      "Epoch 71/1000\n",
      "900/903 [============================>.] - ETA: 0s - loss: 0.0603 - accuracy: 0.9947"
     ]
    },
    {
     "name": "stderr",
     "output_type": "stream",
     "text": [
      "WARNING:absl:Found untraced functions such as lstm_cell_layer_call_fn, lstm_cell_layer_call_and_return_conditional_losses, lstm_cell_1_layer_call_fn, lstm_cell_1_layer_call_and_return_conditional_losses, lstm_cell_2_layer_call_fn while saving (showing 5 of 8). These functions will not be directly callable after loading.\n"
     ]
    },
    {
     "name": "stdout",
     "output_type": "stream",
     "text": [
      "INFO:tensorflow:Assets written to: models\\InGame\\assets\n"
     ]
    },
    {
     "name": "stderr",
     "output_type": "stream",
     "text": [
      "INFO:tensorflow:Assets written to: models\\InGame\\assets\n"
     ]
    },
    {
     "name": "stdout",
     "output_type": "stream",
     "text": [
      "903/903 [==============================] - 26s 29ms/step - loss: 0.0603 - accuracy: 0.9947 - val_loss: 0.0802 - val_accuracy: 0.9943 - lr: 4.0000e-05\n",
      "Epoch 72/1000\n",
      "903/903 [==============================] - 15s 17ms/step - loss: 0.0578 - accuracy: 0.9956 - val_loss: 0.0808 - val_accuracy: 0.9943 - lr: 4.0000e-05\n",
      "Epoch 73/1000\n",
      "903/903 [==============================] - 15s 17ms/step - loss: 0.0591 - accuracy: 0.9957 - val_loss: 0.0806 - val_accuracy: 0.9937 - lr: 4.0000e-05\n",
      "Epoch 74/1000\n",
      "903/903 [==============================] - ETA: 0s - loss: 0.0594 - accuracy: 0.9952"
     ]
    },
    {
     "name": "stderr",
     "output_type": "stream",
     "text": [
      "WARNING:absl:Found untraced functions such as lstm_cell_layer_call_fn, lstm_cell_layer_call_and_return_conditional_losses, lstm_cell_1_layer_call_fn, lstm_cell_1_layer_call_and_return_conditional_losses, lstm_cell_2_layer_call_fn while saving (showing 5 of 8). These functions will not be directly callable after loading.\n"
     ]
    },
    {
     "name": "stdout",
     "output_type": "stream",
     "text": [
      "INFO:tensorflow:Assets written to: models\\InGame\\assets\n"
     ]
    },
    {
     "name": "stderr",
     "output_type": "stream",
     "text": [
      "INFO:tensorflow:Assets written to: models\\InGame\\assets\n"
     ]
    },
    {
     "name": "stdout",
     "output_type": "stream",
     "text": [
      "903/903 [==============================] - 26s 28ms/step - loss: 0.0594 - accuracy: 0.9952 - val_loss: 0.0796 - val_accuracy: 0.9940 - lr: 4.0000e-05\n",
      "Epoch 75/1000\n",
      "901/903 [============================>.] - ETA: 0s - loss: 0.0622 - accuracy: 0.9942"
     ]
    },
    {
     "name": "stderr",
     "output_type": "stream",
     "text": [
      "WARNING:absl:Found untraced functions such as lstm_cell_layer_call_fn, lstm_cell_layer_call_and_return_conditional_losses, lstm_cell_1_layer_call_fn, lstm_cell_1_layer_call_and_return_conditional_losses, lstm_cell_2_layer_call_fn while saving (showing 5 of 8). These functions will not be directly callable after loading.\n"
     ]
    },
    {
     "name": "stdout",
     "output_type": "stream",
     "text": [
      "INFO:tensorflow:Assets written to: models\\InGame\\assets\n"
     ]
    },
    {
     "name": "stderr",
     "output_type": "stream",
     "text": [
      "INFO:tensorflow:Assets written to: models\\InGame\\assets\n"
     ]
    },
    {
     "name": "stdout",
     "output_type": "stream",
     "text": [
      "903/903 [==============================] - 27s 30ms/step - loss: 0.0621 - accuracy: 0.9943 - val_loss: 0.0794 - val_accuracy: 0.9940 - lr: 4.0000e-05\n",
      "Epoch 76/1000\n",
      "903/903 [==============================] - 16s 17ms/step - loss: 0.0567 - accuracy: 0.9950 - val_loss: 0.0868 - val_accuracy: 0.9925 - lr: 4.0000e-05\n",
      "Epoch 77/1000\n",
      "903/903 [==============================] - 18s 19ms/step - loss: 0.0633 - accuracy: 0.9946 - val_loss: 0.0822 - val_accuracy: 0.9934 - lr: 4.0000e-05\n",
      "Epoch 78/1000\n",
      "903/903 [==============================] - 16s 17ms/step - loss: 0.0583 - accuracy: 0.9954 - val_loss: 0.0837 - val_accuracy: 0.9940 - lr: 4.0000e-05\n",
      "Epoch 79/1000\n",
      "903/903 [==============================] - 15s 17ms/step - loss: 0.0605 - accuracy: 0.9940 - val_loss: 0.0917 - val_accuracy: 0.9895 - lr: 4.0000e-05\n",
      "Epoch 80/1000\n",
      "903/903 [==============================] - 15s 17ms/step - loss: 0.0580 - accuracy: 0.9955 - val_loss: 0.0807 - val_accuracy: 0.9931 - lr: 4.0000e-05\n",
      "Epoch 81/1000\n",
      "903/903 [==============================] - 15s 17ms/step - loss: 0.0598 - accuracy: 0.9943 - val_loss: 0.0963 - val_accuracy: 0.9862 - lr: 4.0000e-05\n",
      "Epoch 82/1000\n",
      "903/903 [==============================] - 15s 17ms/step - loss: 0.0553 - accuracy: 0.9955 - val_loss: 0.0873 - val_accuracy: 0.9910 - lr: 4.0000e-05\n",
      "Epoch 83/1000\n",
      "903/903 [==============================] - 16s 17ms/step - loss: 0.0572 - accuracy: 0.9950 - val_loss: 0.0856 - val_accuracy: 0.9928 - lr: 4.0000e-05\n",
      "Epoch 84/1000\n",
      "903/903 [==============================] - 16s 17ms/step - loss: 0.0568 - accuracy: 0.9953 - val_loss: 0.0884 - val_accuracy: 0.9931 - lr: 4.0000e-05\n",
      "Epoch 85/1000\n",
      "903/903 [==============================] - 16s 17ms/step - loss: 0.0562 - accuracy: 0.9957 - val_loss: 0.0903 - val_accuracy: 0.9916 - lr: 4.0000e-05\n",
      "Epoch 86/1000\n",
      "903/903 [==============================] - 16s 17ms/step - loss: 0.0548 - accuracy: 0.9956 - val_loss: 0.0841 - val_accuracy: 0.9931 - lr: 8.0000e-06\n",
      "Epoch 87/1000\n",
      "903/903 [==============================] - 16s 18ms/step - loss: 0.0528 - accuracy: 0.9965 - val_loss: 0.0846 - val_accuracy: 0.9928 - lr: 8.0000e-06\n",
      "Epoch 88/1000\n",
      "903/903 [==============================] - 18s 20ms/step - loss: 0.0561 - accuracy: 0.9957 - val_loss: 0.0848 - val_accuracy: 0.9931 - lr: 8.0000e-06\n",
      "Epoch 89/1000\n",
      "903/903 [==============================] - 18s 20ms/step - loss: 0.0549 - accuracy: 0.9955 - val_loss: 0.0826 - val_accuracy: 0.9931 - lr: 8.0000e-06\n",
      "Epoch 90/1000\n",
      "903/903 [==============================] - 16s 18ms/step - loss: 0.0509 - accuracy: 0.9968 - val_loss: 0.0832 - val_accuracy: 0.9931 - lr: 8.0000e-06\n",
      "Epoch 91/1000\n",
      "903/903 [==============================] - 16s 18ms/step - loss: 0.0526 - accuracy: 0.9963 - val_loss: 0.0838 - val_accuracy: 0.9925 - lr: 8.0000e-06\n",
      "Epoch 92/1000\n",
      "903/903 [==============================] - 16s 17ms/step - loss: 0.0525 - accuracy: 0.9961 - val_loss: 0.0848 - val_accuracy: 0.9928 - lr: 8.0000e-06\n",
      "Epoch 93/1000\n",
      "903/903 [==============================] - 16s 18ms/step - loss: 0.0493 - accuracy: 0.9970 - val_loss: 0.0841 - val_accuracy: 0.9934 - lr: 8.0000e-06\n",
      "Epoch 94/1000\n",
      "903/903 [==============================] - 16s 18ms/step - loss: 0.0561 - accuracy: 0.9955 - val_loss: 0.0831 - val_accuracy: 0.9916 - lr: 8.0000e-06\n",
      "Epoch 95/1000\n",
      "903/903 [==============================] - 16s 17ms/step - loss: 0.0520 - accuracy: 0.9963 - val_loss: 0.0826 - val_accuracy: 0.9925 - lr: 8.0000e-06\n",
      "Epoch 96/1000\n",
      "903/903 [==============================] - 16s 18ms/step - loss: 0.0505 - accuracy: 0.9965 - val_loss: 0.0833 - val_accuracy: 0.9931 - lr: 1.6000e-06\n",
      "Epoch 97/1000\n",
      "903/903 [==============================] - 16s 18ms/step - loss: 0.0519 - accuracy: 0.9969 - val_loss: 0.0832 - val_accuracy: 0.9931 - lr: 1.6000e-06\n",
      "Epoch 98/1000\n",
      "903/903 [==============================] - 15s 17ms/step - loss: 0.0491 - accuracy: 0.9967 - val_loss: 0.0840 - val_accuracy: 0.9931 - lr: 1.6000e-06\n",
      "Epoch 99/1000\n",
      "903/903 [==============================] - 16s 17ms/step - loss: 0.0505 - accuracy: 0.9965 - val_loss: 0.0832 - val_accuracy: 0.9931 - lr: 1.6000e-06\n",
      "Epoch 100/1000\n",
      "903/903 [==============================] - 16s 17ms/step - loss: 0.0513 - accuracy: 0.9963 - val_loss: 0.0837 - val_accuracy: 0.9931 - lr: 1.6000e-06\n",
      "Epoch 101/1000\n",
      "903/903 [==============================] - 17s 19ms/step - loss: 0.0498 - accuracy: 0.9964 - val_loss: 0.0830 - val_accuracy: 0.9931 - lr: 1.6000e-06\n",
      "Epoch 102/1000\n",
      "903/903 [==============================] - 17s 19ms/step - loss: 0.0497 - accuracy: 0.9970 - val_loss: 0.0837 - val_accuracy: 0.9931 - lr: 1.6000e-06\n",
      "Epoch 103/1000\n",
      "903/903 [==============================] - 16s 18ms/step - loss: 0.0517 - accuracy: 0.9966 - val_loss: 0.0838 - val_accuracy: 0.9931 - lr: 1.6000e-06\n",
      "Epoch 104/1000\n",
      "903/903 [==============================] - 17s 19ms/step - loss: 0.0524 - accuracy: 0.9959 - val_loss: 0.0834 - val_accuracy: 0.9931 - lr: 1.6000e-06\n",
      "Epoch 105/1000\n",
      "903/903 [==============================] - 16s 17ms/step - loss: 0.0507 - accuracy: 0.9972 - val_loss: 0.0835 - val_accuracy: 0.9931 - lr: 1.6000e-06\n",
      "Epoch 106/1000\n",
      "903/903 [==============================] - 15s 17ms/step - loss: 0.0501 - accuracy: 0.9967 - val_loss: 0.0841 - val_accuracy: 0.9931 - lr: 3.2000e-07\n",
      "Epoch 107/1000\n",
      "903/903 [==============================] - 16s 18ms/step - loss: 0.0499 - accuracy: 0.9973 - val_loss: 0.0846 - val_accuracy: 0.9931 - lr: 3.2000e-07\n",
      "Epoch 108/1000\n",
      "903/903 [==============================] - 16s 18ms/step - loss: 0.0494 - accuracy: 0.9966 - val_loss: 0.0840 - val_accuracy: 0.9931 - lr: 3.2000e-07\n",
      "Epoch 109/1000\n",
      "903/903 [==============================] - 17s 18ms/step - loss: 0.0484 - accuracy: 0.9974 - val_loss: 0.0842 - val_accuracy: 0.9931 - lr: 3.2000e-07\n",
      "Epoch 110/1000\n",
      "903/903 [==============================] - 17s 19ms/step - loss: 0.0498 - accuracy: 0.9973 - val_loss: 0.0840 - val_accuracy: 0.9931 - lr: 3.2000e-07\n"
     ]
    }
   ],
   "source": [
    "# Definir el modelo LSTM\n",
    "model = Sequential()\n",
    "l2_recurrent_parameter = 0.01\n",
    "l_2_kernel_regularizer= 0.01\n",
    "# Primera capa LSTM con Dropout y regularización L2\n",
    "model.add(LSTM(256, return_sequences=True, input_shape=(X_train_normalized.shape[1], X_train_normalized.shape[2]),\n",
    "               kernel_regularizer=l2(l_2_kernel_regularizer), recurrent_regularizer=l2(l2_recurrent_parameter)))\n",
    "model.add(BatchNormalization())\n",
    "model.add(Dense(128,activation=\"relu\"))\n",
    "model.add(LSTM(256, return_sequences=True,\n",
    "               kernel_regularizer=l2(l_2_kernel_regularizer), recurrent_regularizer=l2(l2_recurrent_parameter)))\n",
    "model.add(BatchNormalization())\n",
    "model.add(Dense(128,activation=\"relu\"))\n",
    "model.add(LSTM(256, return_sequences=True,\n",
    "               kernel_regularizer=l2(l_2_kernel_regularizer), recurrent_regularizer=l2(l2_recurrent_parameter)))\n",
    "model.add(BatchNormalization())\n",
    "model.add(Dense(128,activation=\"relu\"))\n",
    "model.add(LSTM(256, return_sequences=False,\n",
    "               kernel_regularizer=l2(l_2_kernel_regularizer), recurrent_regularizer=l2(l2_recurrent_parameter)))\n",
    "model.add(BatchNormalization())\n",
    "model.add(Dense(3, activation='softmax'))\n",
    "# Compilación del modelo\n",
    "with tf.device('GPU:0'): # Usar gpu\n",
    "    model.compile(optimizer=Adam(learning_rate=0.001), loss='categorical_crossentropy', metrics=['accuracy'])\n",
    "\n",
    "model_checkpoint_callback = keras.callbacks.ModelCheckpoint(\n",
    "    filepath=\"models\\InGame\",\n",
    "    monitor='val_loss',\n",
    "    mode='min',\n",
    "    save_best_only=True)\n",
    "# Callbacks\n",
    "early_stopping = EarlyStopping(monitor='val_loss', patience=35, restore_best_weights=True)\n",
    "reduce_lr = ReduceLROnPlateau(monitor='val_loss', factor=0.2, patience=10, min_lr=0.0000000001)\n",
    "\n",
    "history = model.fit(X_train_normalized, y_train, verbose=1, epochs=1000, batch_size=16,\n",
    "                    validation_data=(X_val_normalized, y_val), callbacks=[early_stopping, reduce_lr, model_checkpoint_callback])"
   ]
  },
  {
   "cell_type": "code",
   "execution_count": 12,
   "id": "60231ccc",
   "metadata": {},
   "outputs": [
    {
     "name": "stdout",
     "output_type": "stream",
     "text": [
      "0-5\n",
      "139/139 [==============================] - 2s 6ms/step - loss: 5.0673 - accuracy: 0.2471\n",
      "5-10\n",
      "139/139 [==============================] - 1s 6ms/step - loss: 5.3470 - accuracy: 0.3417\n",
      "10-15\n",
      "139/139 [==============================] - 1s 6ms/step - loss: 5.4999 - accuracy: 0.3840\n",
      "15-20\n",
      "139/139 [==============================] - 1s 6ms/step - loss: 5.2533 - accuracy: 0.4324\n",
      "20-25\n",
      "139/139 [==============================] - 1s 7ms/step - loss: 4.9379 - accuracy: 0.4695\n",
      "25-30\n",
      "139/139 [==============================] - 1s 7ms/step - loss: 4.6551 - accuracy: 0.5006\n",
      "30-35\n",
      "139/139 [==============================] - 1s 7ms/step - loss: 4.3604 - accuracy: 0.5330\n",
      "35-40\n",
      "139/139 [==============================] - 1s 6ms/step - loss: 4.0508 - accuracy: 0.5625\n",
      "40-45\n",
      "139/139 [==============================] - 1s 7ms/step - loss: 3.7480 - accuracy: 0.5951\n",
      "45-50\n",
      "139/139 [==============================] - 1s 7ms/step - loss: 3.4064 - accuracy: 0.6298\n",
      "50-55\n",
      "139/139 [==============================] - 1s 7ms/step - loss: 3.0810 - accuracy: 0.6644\n",
      "55-60\n",
      "139/139 [==============================] - 1s 6ms/step - loss: 2.7898 - accuracy: 0.6953\n",
      "60-65\n",
      "139/139 [==============================] - 1s 7ms/step - loss: 2.5038 - accuracy: 0.7229\n",
      "65-70\n",
      "139/139 [==============================] - 1s 7ms/step - loss: 2.1487 - accuracy: 0.7603\n",
      "70-75\n",
      "139/139 [==============================] - 1s 7ms/step - loss: 1.7591 - accuracy: 0.8006\n",
      "75-80\n",
      "139/139 [==============================] - 1s 7ms/step - loss: 1.4258 - accuracy: 0.8388\n",
      "80-85\n",
      "139/139 [==============================] - 1s 7ms/step - loss: 0.9414 - accuracy: 0.8933\n",
      "85-90\n",
      "139/139 [==============================] - 1s 7ms/step - loss: 0.0844 - accuracy: 0.9926\n"
     ]
    }
   ],
   "source": [
    "intervals = [\"0-5\",\"5-10\",\"10-15\",\"15-20\",\"20-25\",\"25-30\", \"30-35\",\"35-40\",\"40-45\",\n",
    "             \"45-50\",\"50-55\",\"55-60\",\"60-65\",\"65-70\",\"70-75\", \"75-80\",\"80-85\",\"85-90\"]\n",
    "loss, acc = [], []\n",
    "for i in range(1, X_test_normalized.shape[1]+1):\n",
    "    print(intervals[i-1])\n",
    "    aux = model.evaluate(X_test_normalized[:, :i, :], y_test)\n",
    "    loss.append(aux[0])\n",
    "    acc.append(aux[1])"
   ]
  },
  {
   "cell_type": "markdown",
   "id": "15c07d61",
   "metadata": {},
   "source": [
    "## Pruebas con padding"
   ]
  },
  {
   "cell_type": "code",
   "execution_count": 6,
   "id": "26312ad1",
   "metadata": {},
   "outputs": [
    {
     "name": "stdout",
     "output_type": "stream",
     "text": [
      "Media de las muestras: 12.574857039938763\n"
     ]
    },
    {
     "data": {
      "image/png": "[encoded data removed]",
      "text/plain": [
       "<Figure size 640x480 with 1 Axes>"
      ]
     },
     "metadata": {},
     "output_type": "display_data"
    }
   ],
   "source": [
    "import numpy as np\n",
    "from scipy.stats import betabinom\n",
    "\n",
    "# Parámetros de la distribución beta-binomial\n",
    "n = X.shape[1]   # Número de ensayos\n",
    "a = 0.70*4  # Parámetro alpha de la distribución beta\n",
    "b = 0.30*4   # Parámetro beta de la distribución beta\n",
    "\n",
    "# Número de muestras aleatorias que deseas generar\n",
    "num_samples = X.shape[0]\n",
    "\n",
    "# Generar números aleatorios de una distribución beta-binomial\n",
    "samples = betabinom.rvs(n, a, b, size=num_samples)\n",
    "\n",
    "# Calcular y mostrar la media de las muestras generadas\n",
    "mean_samples = np.mean(samples)\n",
    "print(f\"Media de las muestras: {mean_samples}\")\n",
    "\n",
    "values, counts = np.unique(samples, return_counts=True)\n",
    "\n",
    "# Graficar un barplot de las muestras generadas\n",
    "plt.bar(values, counts / num_samples, color='b', edgecolor='black', alpha=0.7)\n",
    "\n",
    "# Títulos y etiquetas\n",
    "plt.title('Histograma de la distribución Beta-Binomial')\n",
    "plt.xlabel('Valores')\n",
    "plt.ylabel('Frecuencia')\n",
    "\n",
    "# Mostrar la gráfica\n",
    "plt.show()"
   ]
  },
  {
   "cell_type": "code",
   "execution_count": 12,
   "id": "e028c8f5",
   "metadata": {},
   "outputs": [],
   "source": [
    "# Full data\n",
    "XFullpad = np.array(Xdata)\n",
    "y = np.array(ydata)\n",
    "y = to_categorical(y, num_classes=3)\n"
   ]
  },
  {
   "cell_type": "code",
   "execution_count": 13,
   "id": "97429197",
   "metadata": {},
   "outputs": [],
   "source": [
    "# Con clean \n",
    "X_train_reshaped = X_train.reshape(-1, X.shape[2])\n",
    "X_test_reshaped = X_test.reshape(-1, X.shape[2])\n",
    "X_val_reshaped = X_val.reshape(-1, X.shape[2])\n",
    "\n",
    "sclean  = clean(X_train_reshaped)      # indices of selected features\n",
    "X_train_reshaped = deepcopy(X_train_reshaped[:,sclean])\n",
    "X_test_reshaped = deepcopy(X_test_reshaped[:,sclean])\n",
    "X_val_reshaped = deepcopy(X_val_reshaped[:,sclean])\n",
    "\n",
    "scaler = MinMaxScaler()\n",
    "X_train_normalized = scaler.fit_transform(X_train_reshaped)\n",
    "X_test_normalized = scaler.transform(X_test_reshaped)\n",
    "X_val_normalized = scaler.transform(X_val_reshaped)\n",
    "\n",
    "X_train_normalized = X_train_normalized.reshape(X_train.shape[0], X_train.shape[1], len(sclean))\n",
    "X_test_normalized = X_test_normalized.reshape(X_test.shape[0], X_test.shape[1], len(sclean))\n",
    "X_val_normalized = X_val_normalized.reshape(X_val.shape[0], X_val.shape[1], len(sclean))\n"
   ]
  },
  {
   "cell_type": "code",
   "execution_count": 14,
   "id": "e0ab2690",
   "metadata": {},
   "outputs": [],
   "source": [
    "# Parámetros de la distribución binomial \n",
    "# n = X.shape[1]\n",
    "# p = 0.9\n",
    "# size = X.shape[0]\n",
    "# random_values = binom.rvs(n, p, size=size)\n",
    "\n",
    "# Parámetros de la distribución beta-binomial\n",
    "n = XFullpad.shape[1]   # Número de ensayos\n",
    "size = XFullpad.shape[0]\n",
    "a = 0.70*4  # Parámetro alpha de la distribución beta\n",
    "b = 0.30*4   # Parámetro beta de la distribución beta\n",
    "\n",
    "random_values = betabinom.rvs(n, a, b, size=size)\n",
    "\n",
    "# random_values = np.random.randint(1, n+1, size)"
   ]
  },
  {
   "cell_type": "code",
   "execution_count": 15,
   "id": "6bbedd61",
   "metadata": {},
   "outputs": [],
   "source": [
    "# Binom  and uniform\n",
    "Xpad_train = []\n",
    "ypad_train = []\n",
    "for i in range(train_size):\n",
    "    Xpad_train.append(X_train_normalized[i][:random_values[i]+1])\n",
    "    ypad_train.append(y[i])\n",
    "\n",
    "Xpad_val = []\n",
    "ypad_val = []\n",
    "for i in range(val_size):\n",
    "    Xpad_val.append(X_val_normalized[i][:random_values[i+train_size]+1])\n",
    "    ypad_val.append(y[i+train_size])\n",
    "\n",
    "# Full\n",
    "# Xpad_train = []\n",
    "# ypad_train = []\n",
    "# for i in range(split):\n",
    "#     for j in range(n):\n",
    "#         Xpad_train.append(X_train_normalized[i][:j+1])\n",
    "#         ypad_train.append(y[i])\n",
    "\n",
    "# Xpad_val = []\n",
    "# ypad_val = []\n",
    "# for i in range(len(XFullpad)-train_size):\n",
    "#     for j in range(n):\n",
    "#         Xpad_val.append(X_val_normalized[i][:j+1])\n",
    "#         ypad_val.append(y[i+train_size])"
   ]
  },
  {
   "cell_type": "code",
   "execution_count": 16,
   "id": "843a0de5",
   "metadata": {},
   "outputs": [],
   "source": [
    "Xpad_train = pad_sequences(Xpad_train, padding='post', dtype='float64')\n",
    "Xpad_val = pad_sequences(Xpad_val, padding='post', dtype='float64')\n",
    "ypad_train = np.array(ypad_train)\n",
    "ypad_val = np.array(ypad_val)"
   ]
  },
  {
   "cell_type": "code",
   "execution_count": 17,
   "id": "bcf7cb75",
   "metadata": {},
   "outputs": [
    {
     "name": "stdout",
     "output_type": "stream",
     "text": [
      "Epoch 1/1000\n",
      "902/903 [============================>.] - ETA: 0s - loss: 3.9618 - accuracy: 0.5184"
     ]
    },
    {
     "name": "stderr",
     "output_type": "stream",
     "text": [
      "WARNING:absl:Found untraced functions such as lstm_cell_layer_call_fn, lstm_cell_layer_call_and_return_conditional_losses, lstm_cell_1_layer_call_fn, lstm_cell_1_layer_call_and_return_conditional_losses, lstm_cell_2_layer_call_fn while saving (showing 5 of 8). These functions will not be directly callable after loading.\n"
     ]
    },
    {
     "name": "stdout",
     "output_type": "stream",
     "text": [
      "INFO:tensorflow:Assets written to: models\\InGamePadd\\assets\n"
     ]
    },
    {
     "name": "stderr",
     "output_type": "stream",
     "text": [
      "INFO:tensorflow:Assets written to: models\\InGamePadd\\assets\n"
     ]
    },
    {
     "name": "stdout",
     "output_type": "stream",
     "text": [
      "903/903 [==============================] - 51s 45ms/step - loss: 3.9612 - accuracy: 0.5185 - val_loss: 1.8184 - val_accuracy: 0.4398 - lr: 0.0010\n",
      "Epoch 2/1000\n",
      "903/903 [==============================] - 21s 23ms/step - loss: 1.2277 - accuracy: 0.5735 - val_loss: 2.0390 - val_accuracy: 0.5005 - lr: 0.0010\n",
      "Epoch 3/1000\n",
      "903/903 [==============================] - ETA: 0s - loss: 1.0908 - accuracy: 0.6025"
     ]
    },
    {
     "name": "stderr",
     "output_type": "stream",
     "text": [
      "WARNING:absl:Found untraced functions such as lstm_cell_layer_call_fn, lstm_cell_layer_call_and_return_conditional_losses, lstm_cell_1_layer_call_fn, lstm_cell_1_layer_call_and_return_conditional_losses, lstm_cell_2_layer_call_fn while saving (showing 5 of 8). These functions will not be directly callable after loading.\n"
     ]
    },
    {
     "name": "stdout",
     "output_type": "stream",
     "text": [
      "INFO:tensorflow:Assets written to: models\\InGamePadd\\assets\n"
     ]
    },
    {
     "name": "stderr",
     "output_type": "stream",
     "text": [
      "INFO:tensorflow:Assets written to: models\\InGamePadd\\assets\n"
     ]
    },
    {
     "name": "stdout",
     "output_type": "stream",
     "text": [
      "903/903 [==============================] - 37s 41ms/step - loss: 1.0908 - accuracy: 0.6025 - val_loss: 1.1322 - val_accuracy: 0.6223 - lr: 0.0010\n",
      "Epoch 4/1000\n",
      "901/903 [============================>.] - ETA: 0s - loss: 0.8820 - accuracy: 0.6573"
     ]
    },
    {
     "name": "stderr",
     "output_type": "stream",
     "text": [
      "WARNING:absl:Found untraced functions such as lstm_cell_layer_call_fn, lstm_cell_layer_call_and_return_conditional_losses, lstm_cell_1_layer_call_fn, lstm_cell_1_layer_call_and_return_conditional_losses, lstm_cell_2_layer_call_fn while saving (showing 5 of 8). These functions will not be directly callable after loading.\n"
     ]
    },
    {
     "name": "stdout",
     "output_type": "stream",
     "text": [
      "INFO:tensorflow:Assets written to: models\\InGamePadd\\assets\n"
     ]
    },
    {
     "name": "stderr",
     "output_type": "stream",
     "text": [
      "INFO:tensorflow:Assets written to: models\\InGamePadd\\assets\n"
     ]
    },
    {
     "name": "stdout",
     "output_type": "stream",
     "text": [
      "903/903 [==============================] - 38s 42ms/step - loss: 0.8823 - accuracy: 0.6572 - val_loss: 0.8770 - val_accuracy: 0.6815 - lr: 0.0010\n",
      "Epoch 5/1000\n",
      "903/903 [==============================] - 21s 23ms/step - loss: 0.8210 - accuracy: 0.6772 - val_loss: 0.9021 - val_accuracy: 0.6277 - lr: 0.0010\n",
      "Epoch 6/1000\n",
      "903/903 [==============================] - 20s 22ms/step - loss: 0.8085 - accuracy: 0.6865 - val_loss: 1.1219 - val_accuracy: 0.6482 - lr: 0.0010\n",
      "Epoch 7/1000\n",
      "903/903 [==============================] - ETA: 0s - loss: 0.7799 - accuracy: 0.7015"
     ]
    },
    {
     "name": "stderr",
     "output_type": "stream",
     "text": [
      "WARNING:absl:Found untraced functions such as lstm_cell_layer_call_fn, lstm_cell_layer_call_and_return_conditional_losses, lstm_cell_1_layer_call_fn, lstm_cell_1_layer_call_and_return_conditional_losses, lstm_cell_2_layer_call_fn while saving (showing 5 of 8). These functions will not be directly callable after loading.\n"
     ]
    },
    {
     "name": "stdout",
     "output_type": "stream",
     "text": [
      "INFO:tensorflow:Assets written to: models\\InGamePadd\\assets\n"
     ]
    },
    {
     "name": "stderr",
     "output_type": "stream",
     "text": [
      "INFO:tensorflow:Assets written to: models\\InGamePadd\\assets\n"
     ]
    },
    {
     "name": "stdout",
     "output_type": "stream",
     "text": [
      "903/903 [==============================] - 36s 40ms/step - loss: 0.7799 - accuracy: 0.7015 - val_loss: 0.7650 - val_accuracy: 0.7172 - lr: 0.0010\n",
      "Epoch 8/1000\n",
      "903/903 [==============================] - 23s 26ms/step - loss: 0.7583 - accuracy: 0.7104 - val_loss: 0.7778 - val_accuracy: 0.7196 - lr: 0.0010\n",
      "Epoch 9/1000\n",
      "903/903 [==============================] - 21s 24ms/step - loss: 0.7409 - accuracy: 0.7104 - val_loss: 0.9081 - val_accuracy: 0.6467 - lr: 0.0010\n",
      "Epoch 10/1000\n",
      "903/903 [==============================] - 21s 23ms/step - loss: 0.7444 - accuracy: 0.7092 - val_loss: 1.2244 - val_accuracy: 0.5611 - lr: 0.0010\n",
      "Epoch 11/1000\n",
      "903/903 [==============================] - 21s 23ms/step - loss: 0.7372 - accuracy: 0.7112 - val_loss: 1.0224 - val_accuracy: 0.4869 - lr: 0.0010\n",
      "Epoch 12/1000\n",
      "902/903 [============================>.] - ETA: 0s - loss: 0.7313 - accuracy: 0.7177"
     ]
    },
    {
     "name": "stderr",
     "output_type": "stream",
     "text": [
      "WARNING:absl:Found untraced functions such as lstm_cell_layer_call_fn, lstm_cell_layer_call_and_return_conditional_losses, lstm_cell_1_layer_call_fn, lstm_cell_1_layer_call_and_return_conditional_losses, lstm_cell_2_layer_call_fn while saving (showing 5 of 8). These functions will not be directly callable after loading.\n"
     ]
    },
    {
     "name": "stdout",
     "output_type": "stream",
     "text": [
      "INFO:tensorflow:Assets written to: models\\InGamePadd\\assets\n"
     ]
    },
    {
     "name": "stderr",
     "output_type": "stream",
     "text": [
      "INFO:tensorflow:Assets written to: models\\InGamePadd\\assets\n"
     ]
    },
    {
     "name": "stdout",
     "output_type": "stream",
     "text": [
      "903/903 [==============================] - 36s 40ms/step - loss: 0.7315 - accuracy: 0.7176 - val_loss: 0.7533 - val_accuracy: 0.6683 - lr: 0.0010\n",
      "Epoch 13/1000\n",
      "903/903 [==============================] - ETA: 0s - loss: 0.7230 - accuracy: 0.7172"
     ]
    },
    {
     "name": "stderr",
     "output_type": "stream",
     "text": [
      "WARNING:absl:Found untraced functions such as lstm_cell_layer_call_fn, lstm_cell_layer_call_and_return_conditional_losses, lstm_cell_1_layer_call_fn, lstm_cell_1_layer_call_and_return_conditional_losses, lstm_cell_2_layer_call_fn while saving (showing 5 of 8). These functions will not be directly callable after loading.\n"
     ]
    },
    {
     "name": "stdout",
     "output_type": "stream",
     "text": [
      "INFO:tensorflow:Assets written to: models\\InGamePadd\\assets\n"
     ]
    },
    {
     "name": "stderr",
     "output_type": "stream",
     "text": [
      "INFO:tensorflow:Assets written to: models\\InGamePadd\\assets\n"
     ]
    },
    {
     "name": "stdout",
     "output_type": "stream",
     "text": [
      "903/903 [==============================] - 38s 42ms/step - loss: 0.7230 - accuracy: 0.7172 - val_loss: 0.7348 - val_accuracy: 0.6992 - lr: 0.0010\n",
      "Epoch 14/1000\n",
      "903/903 [==============================] - 22s 24ms/step - loss: 0.7206 - accuracy: 0.7118 - val_loss: 0.8433 - val_accuracy: 0.6190 - lr: 0.0010\n",
      "Epoch 15/1000\n",
      "903/903 [==============================] - 21s 23ms/step - loss: 0.7135 - accuracy: 0.7153 - val_loss: 0.8886 - val_accuracy: 0.5860 - lr: 0.0010\n",
      "Epoch 16/1000\n",
      "903/903 [==============================] - 22s 25ms/step - loss: 0.7183 - accuracy: 0.7171 - val_loss: 0.7717 - val_accuracy: 0.6608 - lr: 0.0010\n",
      "Epoch 17/1000\n",
      "903/903 [==============================] - 22s 24ms/step - loss: 0.7055 - accuracy: 0.7185 - val_loss: 0.7356 - val_accuracy: 0.7157 - lr: 0.0010\n",
      "Epoch 18/1000\n",
      "901/903 [============================>.] - ETA: 0s - loss: 0.7089 - accuracy: 0.7188"
     ]
    },
    {
     "name": "stderr",
     "output_type": "stream",
     "text": [
      "WARNING:absl:Found untraced functions such as lstm_cell_layer_call_fn, lstm_cell_layer_call_and_return_conditional_losses, lstm_cell_1_layer_call_fn, lstm_cell_1_layer_call_and_return_conditional_losses, lstm_cell_2_layer_call_fn while saving (showing 5 of 8). These functions will not be directly callable after loading.\n"
     ]
    },
    {
     "name": "stdout",
     "output_type": "stream",
     "text": [
      "INFO:tensorflow:Assets written to: models\\InGamePadd\\assets\n"
     ]
    },
    {
     "name": "stderr",
     "output_type": "stream",
     "text": [
      "INFO:tensorflow:Assets written to: models\\InGamePadd\\assets\n"
     ]
    },
    {
     "name": "stdout",
     "output_type": "stream",
     "text": [
      "903/903 [==============================] - 38s 42ms/step - loss: 0.7093 - accuracy: 0.7187 - val_loss: 0.6855 - val_accuracy: 0.7289 - lr: 0.0010\n",
      "Epoch 19/1000\n",
      "903/903 [==============================] - 21s 24ms/step - loss: 0.7104 - accuracy: 0.7195 - val_loss: 0.7905 - val_accuracy: 0.6491 - lr: 0.0010\n",
      "Epoch 20/1000\n",
      "903/903 [==============================] - 21s 24ms/step - loss: 0.7039 - accuracy: 0.7197 - val_loss: 0.8933 - val_accuracy: 0.5623 - lr: 0.0010\n",
      "Epoch 21/1000\n",
      "903/903 [==============================] - 24s 26ms/step - loss: 0.7055 - accuracy: 0.7182 - val_loss: 0.7649 - val_accuracy: 0.6722 - lr: 0.0010\n",
      "Epoch 22/1000\n",
      "903/903 [==============================] - 25s 27ms/step - loss: 0.7053 - accuracy: 0.7193 - val_loss: 0.7406 - val_accuracy: 0.7196 - lr: 0.0010\n",
      "Epoch 23/1000\n",
      "903/903 [==============================] - ETA: 0s - loss: 0.6953 - accuracy: 0.7201"
     ]
    },
    {
     "name": "stderr",
     "output_type": "stream",
     "text": [
      "WARNING:absl:Found untraced functions such as lstm_cell_layer_call_fn, lstm_cell_layer_call_and_return_conditional_losses, lstm_cell_1_layer_call_fn, lstm_cell_1_layer_call_and_return_conditional_losses, lstm_cell_2_layer_call_fn while saving (showing 5 of 8). These functions will not be directly callable after loading.\n"
     ]
    },
    {
     "name": "stdout",
     "output_type": "stream",
     "text": [
      "INFO:tensorflow:Assets written to: models\\InGamePadd\\assets\n"
     ]
    },
    {
     "name": "stderr",
     "output_type": "stream",
     "text": [
      "INFO:tensorflow:Assets written to: models\\InGamePadd\\assets\n"
     ]
    },
    {
     "name": "stdout",
     "output_type": "stream",
     "text": [
      "903/903 [==============================] - 42s 47ms/step - loss: 0.6953 - accuracy: 0.7201 - val_loss: 0.6815 - val_accuracy: 0.7376 - lr: 0.0010\n",
      "Epoch 24/1000\n",
      "903/903 [==============================] - 25s 28ms/step - loss: 0.7007 - accuracy: 0.7210 - val_loss: 0.7877 - val_accuracy: 0.6860 - lr: 0.0010\n",
      "Epoch 25/1000\n",
      "903/903 [==============================] - 24s 27ms/step - loss: 0.6991 - accuracy: 0.7223 - val_loss: 0.7718 - val_accuracy: 0.6626 - lr: 0.0010\n",
      "Epoch 26/1000\n",
      "903/903 [==============================] - 24s 26ms/step - loss: 0.6952 - accuracy: 0.7204 - val_loss: 0.8871 - val_accuracy: 0.6058 - lr: 0.0010\n",
      "Epoch 27/1000\n",
      "903/903 [==============================] - 25s 28ms/step - loss: 0.7002 - accuracy: 0.7216 - val_loss: 1.2511 - val_accuracy: 0.4299 - lr: 0.0010\n",
      "Epoch 28/1000\n",
      "903/903 [==============================] - 24s 26ms/step - loss: 0.6875 - accuracy: 0.7289 - val_loss: 0.7536 - val_accuracy: 0.6902 - lr: 0.0010\n",
      "Epoch 29/1000\n",
      "903/903 [==============================] - 26s 29ms/step - loss: 0.6935 - accuracy: 0.7221 - val_loss: 0.8278 - val_accuracy: 0.6599 - lr: 0.0010\n",
      "Epoch 30/1000\n",
      "903/903 [==============================] - 28s 31ms/step - loss: 0.6976 - accuracy: 0.7200 - val_loss: 0.7389 - val_accuracy: 0.6944 - lr: 0.0010\n",
      "Epoch 31/1000\n",
      "903/903 [==============================] - 30s 34ms/step - loss: 0.6991 - accuracy: 0.7159 - val_loss: 0.9819 - val_accuracy: 0.5581 - lr: 0.0010\n",
      "Epoch 32/1000\n",
      "903/903 [==============================] - 30s 34ms/step - loss: 0.6946 - accuracy: 0.7218 - val_loss: 0.7374 - val_accuracy: 0.7262 - lr: 0.0010\n",
      "Epoch 33/1000\n",
      "903/903 [==============================] - 27s 30ms/step - loss: 0.6946 - accuracy: 0.7187 - val_loss: 0.7989 - val_accuracy: 0.6917 - lr: 0.0010\n",
      "Epoch 34/1000\n",
      "903/903 [==============================] - 27s 30ms/step - loss: 0.6639 - accuracy: 0.7382 - val_loss: 0.6899 - val_accuracy: 0.7448 - lr: 5.0000e-04\n",
      "Epoch 35/1000\n",
      "903/903 [==============================] - 26s 29ms/step - loss: 0.6574 - accuracy: 0.7401 - val_loss: 0.8767 - val_accuracy: 0.6464 - lr: 5.0000e-04\n",
      "Epoch 36/1000\n",
      "903/903 [==============================] - 26s 29ms/step - loss: 0.6505 - accuracy: 0.7421 - val_loss: 0.7201 - val_accuracy: 0.7097 - lr: 5.0000e-04\n",
      "Epoch 37/1000\n",
      "903/903 [==============================] - 26s 29ms/step - loss: 0.6471 - accuracy: 0.7443 - val_loss: 0.7876 - val_accuracy: 0.6340 - lr: 5.0000e-04\n",
      "Epoch 38/1000\n",
      "903/903 [==============================] - 26s 29ms/step - loss: 0.6455 - accuracy: 0.7434 - val_loss: 0.7808 - val_accuracy: 0.6488 - lr: 5.0000e-04\n",
      "Epoch 39/1000\n",
      "903/903 [==============================] - 28s 31ms/step - loss: 0.6466 - accuracy: 0.7424 - val_loss: 1.1391 - val_accuracy: 0.5305 - lr: 5.0000e-04\n",
      "Epoch 40/1000\n",
      "903/903 [==============================] - 28s 31ms/step - loss: 0.6453 - accuracy: 0.7437 - val_loss: 0.7880 - val_accuracy: 0.6638 - lr: 5.0000e-04\n",
      "Epoch 41/1000\n",
      "903/903 [==============================] - ETA: 0s - loss: 0.6441 - accuracy: 0.7453"
     ]
    },
    {
     "name": "stderr",
     "output_type": "stream",
     "text": [
      "WARNING:absl:Found untraced functions such as lstm_cell_layer_call_fn, lstm_cell_layer_call_and_return_conditional_losses, lstm_cell_1_layer_call_fn, lstm_cell_1_layer_call_and_return_conditional_losses, lstm_cell_2_layer_call_fn while saving (showing 5 of 8). These functions will not be directly callable after loading.\n"
     ]
    },
    {
     "name": "stdout",
     "output_type": "stream",
     "text": [
      "INFO:tensorflow:Assets written to: models\\InGamePadd\\assets\n"
     ]
    },
    {
     "name": "stderr",
     "output_type": "stream",
     "text": [
      "INFO:tensorflow:Assets written to: models\\InGamePadd\\assets\n"
     ]
    },
    {
     "name": "stdout",
     "output_type": "stream",
     "text": [
      "903/903 [==============================] - 45s 50ms/step - loss: 0.6441 - accuracy: 0.7453 - val_loss: 0.6769 - val_accuracy: 0.7382 - lr: 5.0000e-04\n",
      "Epoch 42/1000\n",
      "903/903 [==============================] - 28s 31ms/step - loss: 0.6512 - accuracy: 0.7444 - val_loss: 1.1113 - val_accuracy: 0.5551 - lr: 5.0000e-04\n",
      "Epoch 43/1000\n",
      "903/903 [==============================] - 27s 30ms/step - loss: 0.6516 - accuracy: 0.7406 - val_loss: 0.6807 - val_accuracy: 0.7097 - lr: 5.0000e-04\n",
      "Epoch 44/1000\n",
      "903/903 [==============================] - 26s 29ms/step - loss: 0.6463 - accuracy: 0.7428 - val_loss: 0.7558 - val_accuracy: 0.7019 - lr: 5.0000e-04\n",
      "Epoch 45/1000\n",
      "903/903 [==============================] - 26s 29ms/step - loss: 0.6435 - accuracy: 0.7485 - val_loss: 0.9569 - val_accuracy: 0.6238 - lr: 5.0000e-04\n",
      "Epoch 46/1000\n",
      "902/903 [============================>.] - ETA: 0s - loss: 0.6416 - accuracy: 0.7427"
     ]
    },
    {
     "name": "stderr",
     "output_type": "stream",
     "text": [
      "WARNING:absl:Found untraced functions such as lstm_cell_layer_call_fn, lstm_cell_layer_call_and_return_conditional_losses, lstm_cell_1_layer_call_fn, lstm_cell_1_layer_call_and_return_conditional_losses, lstm_cell_2_layer_call_fn while saving (showing 5 of 8). These functions will not be directly callable after loading.\n"
     ]
    },
    {
     "name": "stdout",
     "output_type": "stream",
     "text": [
      "INFO:tensorflow:Assets written to: models\\InGamePadd\\assets\n"
     ]
    },
    {
     "name": "stderr",
     "output_type": "stream",
     "text": [
      "INFO:tensorflow:Assets written to: models\\InGamePadd\\assets\n"
     ]
    },
    {
     "name": "stdout",
     "output_type": "stream",
     "text": [
      "903/903 [==============================] - 43s 48ms/step - loss: 0.6416 - accuracy: 0.7428 - val_loss: 0.6720 - val_accuracy: 0.7349 - lr: 5.0000e-04\n",
      "Epoch 47/1000\n",
      "903/903 [==============================] - 27s 30ms/step - loss: 0.6522 - accuracy: 0.7380 - val_loss: 1.1539 - val_accuracy: 0.3846 - lr: 5.0000e-04\n",
      "Epoch 48/1000\n",
      "903/903 [==============================] - 27s 30ms/step - loss: 0.6394 - accuracy: 0.7486 - val_loss: 0.6745 - val_accuracy: 0.7343 - lr: 5.0000e-04\n",
      "Epoch 49/1000\n",
      "902/903 [============================>.] - ETA: 0s - loss: 0.6362 - accuracy: 0.7459"
     ]
    },
    {
     "name": "stderr",
     "output_type": "stream",
     "text": [
      "WARNING:absl:Found untraced functions such as lstm_cell_layer_call_fn, lstm_cell_layer_call_and_return_conditional_losses, lstm_cell_1_layer_call_fn, lstm_cell_1_layer_call_and_return_conditional_losses, lstm_cell_2_layer_call_fn while saving (showing 5 of 8). These functions will not be directly callable after loading.\n"
     ]
    },
    {
     "name": "stdout",
     "output_type": "stream",
     "text": [
      "INFO:tensorflow:Assets written to: models\\InGamePadd\\assets\n"
     ]
    },
    {
     "name": "stderr",
     "output_type": "stream",
     "text": [
      "INFO:tensorflow:Assets written to: models\\InGamePadd\\assets\n"
     ]
    },
    {
     "name": "stdout",
     "output_type": "stream",
     "text": [
      "903/903 [==============================] - 44s 49ms/step - loss: 0.6361 - accuracy: 0.7460 - val_loss: 0.6474 - val_accuracy: 0.7469 - lr: 5.0000e-04\n",
      "Epoch 50/1000\n",
      "903/903 [==============================] - 28s 31ms/step - loss: 0.6387 - accuracy: 0.7460 - val_loss: 1.0018 - val_accuracy: 0.5617 - lr: 5.0000e-04\n",
      "Epoch 51/1000\n",
      "903/903 [==============================] - 27s 30ms/step - loss: 0.6427 - accuracy: 0.7413 - val_loss: 0.6591 - val_accuracy: 0.7274 - lr: 5.0000e-04\n",
      "Epoch 52/1000\n",
      "902/903 [============================>.] - ETA: 0s - loss: 0.6468 - accuracy: 0.7417"
     ]
    },
    {
     "name": "stderr",
     "output_type": "stream",
     "text": [
      "WARNING:absl:Found untraced functions such as lstm_cell_layer_call_fn, lstm_cell_layer_call_and_return_conditional_losses, lstm_cell_1_layer_call_fn, lstm_cell_1_layer_call_and_return_conditional_losses, lstm_cell_2_layer_call_fn while saving (showing 5 of 8). These functions will not be directly callable after loading.\n"
     ]
    },
    {
     "name": "stdout",
     "output_type": "stream",
     "text": [
      "INFO:tensorflow:Assets written to: models\\InGamePadd\\assets\n"
     ]
    },
    {
     "name": "stderr",
     "output_type": "stream",
     "text": [
      "INFO:tensorflow:Assets written to: models\\InGamePadd\\assets\n"
     ]
    },
    {
     "name": "stdout",
     "output_type": "stream",
     "text": [
      "903/903 [==============================] - 44s 48ms/step - loss: 0.6471 - accuracy: 0.7415 - val_loss: 0.6377 - val_accuracy: 0.7436 - lr: 5.0000e-04\n",
      "Epoch 53/1000\n",
      "903/903 [==============================] - 27s 30ms/step - loss: 0.6406 - accuracy: 0.7467 - val_loss: 0.6536 - val_accuracy: 0.7433 - lr: 5.0000e-04\n",
      "Epoch 54/1000\n",
      "903/903 [==============================] - 28s 31ms/step - loss: 0.6377 - accuracy: 0.7458 - val_loss: 0.7117 - val_accuracy: 0.7202 - lr: 5.0000e-04\n",
      "Epoch 55/1000\n",
      "903/903 [==============================] - 27s 30ms/step - loss: 0.6413 - accuracy: 0.7468 - val_loss: 0.8763 - val_accuracy: 0.6169 - lr: 5.0000e-04\n",
      "Epoch 56/1000\n",
      "903/903 [==============================] - 27s 30ms/step - loss: 0.6304 - accuracy: 0.7492 - val_loss: 0.6487 - val_accuracy: 0.7370 - lr: 5.0000e-04\n",
      "Epoch 57/1000\n",
      "903/903 [==============================] - 27s 30ms/step - loss: 0.6386 - accuracy: 0.7483 - val_loss: 0.7128 - val_accuracy: 0.7184 - lr: 5.0000e-04\n",
      "Epoch 58/1000\n",
      "903/903 [==============================] - 27s 30ms/step - loss: 0.6288 - accuracy: 0.7522 - val_loss: 0.6933 - val_accuracy: 0.7229 - lr: 5.0000e-04\n",
      "Epoch 59/1000\n",
      "903/903 [==============================] - 27s 30ms/step - loss: 0.6337 - accuracy: 0.7520 - val_loss: 0.6934 - val_accuracy: 0.7337 - lr: 5.0000e-04\n",
      "Epoch 60/1000\n",
      "903/903 [==============================] - 28s 31ms/step - loss: 0.6296 - accuracy: 0.7505 - val_loss: 0.6407 - val_accuracy: 0.7472 - lr: 5.0000e-04\n",
      "Epoch 61/1000\n",
      "903/903 [==============================] - 28s 31ms/step - loss: 0.6323 - accuracy: 0.7465 - val_loss: 0.8250 - val_accuracy: 0.6797 - lr: 5.0000e-04\n",
      "Epoch 62/1000\n",
      "903/903 [==============================] - 27s 30ms/step - loss: 0.6368 - accuracy: 0.7489 - val_loss: 0.7229 - val_accuracy: 0.7091 - lr: 5.0000e-04\n",
      "Epoch 63/1000\n",
      "902/903 [============================>.] - ETA: 0s - loss: 0.6124 - accuracy: 0.7587"
     ]
    },
    {
     "name": "stderr",
     "output_type": "stream",
     "text": [
      "WARNING:absl:Found untraced functions such as lstm_cell_layer_call_fn, lstm_cell_layer_call_and_return_conditional_losses, lstm_cell_1_layer_call_fn, lstm_cell_1_layer_call_and_return_conditional_losses, lstm_cell_2_layer_call_fn while saving (showing 5 of 8). These functions will not be directly callable after loading.\n"
     ]
    },
    {
     "name": "stdout",
     "output_type": "stream",
     "text": [
      "INFO:tensorflow:Assets written to: models\\InGamePadd\\assets\n"
     ]
    },
    {
     "name": "stderr",
     "output_type": "stream",
     "text": [
      "INFO:tensorflow:Assets written to: models\\InGamePadd\\assets\n"
     ]
    },
    {
     "name": "stdout",
     "output_type": "stream",
     "text": [
      "903/903 [==============================] - 44s 49ms/step - loss: 0.6124 - accuracy: 0.7587 - val_loss: 0.6344 - val_accuracy: 0.7430 - lr: 2.5000e-04\n",
      "Epoch 64/1000\n",
      "903/903 [==============================] - ETA: 0s - loss: 0.6047 - accuracy: 0.7634"
     ]
    },
    {
     "name": "stderr",
     "output_type": "stream",
     "text": [
      "WARNING:absl:Found untraced functions such as lstm_cell_layer_call_fn, lstm_cell_layer_call_and_return_conditional_losses, lstm_cell_1_layer_call_fn, lstm_cell_1_layer_call_and_return_conditional_losses, lstm_cell_2_layer_call_fn while saving (showing 5 of 8). These functions will not be directly callable after loading.\n"
     ]
    },
    {
     "name": "stdout",
     "output_type": "stream",
     "text": [
      "INFO:tensorflow:Assets written to: models\\InGamePadd\\assets\n"
     ]
    },
    {
     "name": "stderr",
     "output_type": "stream",
     "text": [
      "INFO:tensorflow:Assets written to: models\\InGamePadd\\assets\n"
     ]
    },
    {
     "name": "stdout",
     "output_type": "stream",
     "text": [
      "903/903 [==============================] - 45s 50ms/step - loss: 0.6047 - accuracy: 0.7634 - val_loss: 0.6315 - val_accuracy: 0.7505 - lr: 2.5000e-04\n",
      "Epoch 65/1000\n",
      "902/903 [============================>.] - ETA: 0s - loss: 0.6061 - accuracy: 0.7621"
     ]
    },
    {
     "name": "stderr",
     "output_type": "stream",
     "text": [
      "WARNING:absl:Found untraced functions such as lstm_cell_layer_call_fn, lstm_cell_layer_call_and_return_conditional_losses, lstm_cell_1_layer_call_fn, lstm_cell_1_layer_call_and_return_conditional_losses, lstm_cell_2_layer_call_fn while saving (showing 5 of 8). These functions will not be directly callable after loading.\n"
     ]
    },
    {
     "name": "stdout",
     "output_type": "stream",
     "text": [
      "INFO:tensorflow:Assets written to: models\\InGamePadd\\assets\n"
     ]
    },
    {
     "name": "stderr",
     "output_type": "stream",
     "text": [
      "INFO:tensorflow:Assets written to: models\\InGamePadd\\assets\n"
     ]
    },
    {
     "name": "stdout",
     "output_type": "stream",
     "text": [
      "903/903 [==============================] - 44s 49ms/step - loss: 0.6060 - accuracy: 0.7622 - val_loss: 0.6208 - val_accuracy: 0.7487 - lr: 2.5000e-04\n",
      "Epoch 66/1000\n",
      "903/903 [==============================] - 27s 30ms/step - loss: 0.5996 - accuracy: 0.7685 - val_loss: 0.6574 - val_accuracy: 0.7490 - lr: 2.5000e-04\n",
      "Epoch 67/1000\n",
      "903/903 [==============================] - 27s 30ms/step - loss: 0.6076 - accuracy: 0.7624 - val_loss: 0.6534 - val_accuracy: 0.7355 - lr: 2.5000e-04\n",
      "Epoch 68/1000\n",
      "903/903 [==============================] - 27s 30ms/step - loss: 0.6024 - accuracy: 0.7635 - val_loss: 0.6221 - val_accuracy: 0.7526 - lr: 2.5000e-04\n",
      "Epoch 69/1000\n",
      "903/903 [==============================] - 27s 30ms/step - loss: 0.6067 - accuracy: 0.7616 - val_loss: 0.6277 - val_accuracy: 0.7457 - lr: 2.5000e-04\n",
      "Epoch 70/1000\n",
      "903/903 [==============================] - 27s 30ms/step - loss: 0.6036 - accuracy: 0.7656 - val_loss: 0.6476 - val_accuracy: 0.7376 - lr: 2.5000e-04\n",
      "Epoch 71/1000\n",
      "903/903 [==============================] - 27s 30ms/step - loss: 0.6034 - accuracy: 0.7612 - val_loss: 0.6824 - val_accuracy: 0.6956 - lr: 2.5000e-04\n",
      "Epoch 72/1000\n",
      "903/903 [==============================] - 27s 30ms/step - loss: 0.5996 - accuracy: 0.7618 - val_loss: 0.6414 - val_accuracy: 0.7463 - lr: 2.5000e-04\n",
      "Epoch 73/1000\n",
      "903/903 [==============================] - 28s 31ms/step - loss: 0.6033 - accuracy: 0.7619 - val_loss: 0.6734 - val_accuracy: 0.7277 - lr: 2.5000e-04\n",
      "Epoch 74/1000\n",
      "903/903 [==============================] - 28s 31ms/step - loss: 0.5971 - accuracy: 0.7643 - val_loss: 0.6562 - val_accuracy: 0.7346 - lr: 2.5000e-04\n",
      "Epoch 75/1000\n",
      "903/903 [==============================] - 28s 31ms/step - loss: 0.5992 - accuracy: 0.7656 - val_loss: 0.6378 - val_accuracy: 0.7424 - lr: 2.5000e-04\n",
      "Epoch 76/1000\n",
      "903/903 [==============================] - 27s 30ms/step - loss: 0.5883 - accuracy: 0.7717 - val_loss: 0.6360 - val_accuracy: 0.7496 - lr: 1.2500e-04\n",
      "Epoch 77/1000\n",
      "902/903 [============================>.] - ETA: 0s - loss: 0.5899 - accuracy: 0.7702"
     ]
    },
    {
     "name": "stderr",
     "output_type": "stream",
     "text": [
      "WARNING:absl:Found untraced functions such as lstm_cell_layer_call_fn, lstm_cell_layer_call_and_return_conditional_losses, lstm_cell_1_layer_call_fn, lstm_cell_1_layer_call_and_return_conditional_losses, lstm_cell_2_layer_call_fn while saving (showing 5 of 8). These functions will not be directly callable after loading.\n"
     ]
    },
    {
     "name": "stdout",
     "output_type": "stream",
     "text": [
      "INFO:tensorflow:Assets written to: models\\InGamePadd\\assets\n"
     ]
    },
    {
     "name": "stderr",
     "output_type": "stream",
     "text": [
      "INFO:tensorflow:Assets written to: models\\InGamePadd\\assets\n"
     ]
    },
    {
     "name": "stdout",
     "output_type": "stream",
     "text": [
      "903/903 [==============================] - 44s 49ms/step - loss: 0.5902 - accuracy: 0.7701 - val_loss: 0.6144 - val_accuracy: 0.7496 - lr: 1.2500e-04\n",
      "Epoch 78/1000\n",
      "903/903 [==============================] - 27s 30ms/step - loss: 0.5849 - accuracy: 0.7706 - val_loss: 0.6292 - val_accuracy: 0.7526 - lr: 1.2500e-04\n",
      "Epoch 79/1000\n",
      "902/903 [============================>.] - ETA: 0s - loss: 0.5840 - accuracy: 0.7704"
     ]
    },
    {
     "name": "stderr",
     "output_type": "stream",
     "text": [
      "WARNING:absl:Found untraced functions such as lstm_cell_layer_call_fn, lstm_cell_layer_call_and_return_conditional_losses, lstm_cell_1_layer_call_fn, lstm_cell_1_layer_call_and_return_conditional_losses, lstm_cell_2_layer_call_fn while saving (showing 5 of 8). These functions will not be directly callable after loading.\n"
     ]
    },
    {
     "name": "stdout",
     "output_type": "stream",
     "text": [
      "INFO:tensorflow:Assets written to: models\\InGamePadd\\assets\n"
     ]
    },
    {
     "name": "stderr",
     "output_type": "stream",
     "text": [
      "INFO:tensorflow:Assets written to: models\\InGamePadd\\assets\n"
     ]
    },
    {
     "name": "stdout",
     "output_type": "stream",
     "text": [
      "903/903 [==============================] - 44s 48ms/step - loss: 0.5844 - accuracy: 0.7703 - val_loss: 0.6118 - val_accuracy: 0.7484 - lr: 1.2500e-04\n",
      "Epoch 80/1000\n",
      "903/903 [==============================] - 28s 30ms/step - loss: 0.5804 - accuracy: 0.7731 - val_loss: 0.6164 - val_accuracy: 0.7511 - lr: 1.2500e-04\n",
      "Epoch 81/1000\n",
      "903/903 [==============================] - 27s 30ms/step - loss: 0.5821 - accuracy: 0.7710 - val_loss: 0.6223 - val_accuracy: 0.7469 - lr: 1.2500e-04\n",
      "Epoch 82/1000\n",
      "903/903 [==============================] - 28s 31ms/step - loss: 0.5758 - accuracy: 0.7749 - val_loss: 0.6208 - val_accuracy: 0.7472 - lr: 1.2500e-04\n",
      "Epoch 83/1000\n",
      "903/903 [==============================] - 28s 31ms/step - loss: 0.5814 - accuracy: 0.7713 - val_loss: 0.6335 - val_accuracy: 0.7478 - lr: 1.2500e-04\n",
      "Epoch 84/1000\n",
      "903/903 [==============================] - 27s 30ms/step - loss: 0.5849 - accuracy: 0.7686 - val_loss: 0.6158 - val_accuracy: 0.7508 - lr: 1.2500e-04\n",
      "Epoch 85/1000\n",
      "903/903 [==============================] - 28s 31ms/step - loss: 0.5809 - accuracy: 0.7731 - val_loss: 0.6267 - val_accuracy: 0.7472 - lr: 1.2500e-04\n",
      "Epoch 86/1000\n",
      "903/903 [==============================] - 28s 31ms/step - loss: 0.5807 - accuracy: 0.7729 - val_loss: 0.6300 - val_accuracy: 0.7493 - lr: 1.2500e-04\n",
      "Epoch 87/1000\n",
      "903/903 [==============================] - 28s 31ms/step - loss: 0.5797 - accuracy: 0.7705 - val_loss: 0.6202 - val_accuracy: 0.7406 - lr: 1.2500e-04\n",
      "Epoch 88/1000\n",
      "903/903 [==============================] - 28s 31ms/step - loss: 0.5830 - accuracy: 0.7685 - val_loss: 0.6318 - val_accuracy: 0.7373 - lr: 1.2500e-04\n",
      "Epoch 89/1000\n",
      "903/903 [==============================] - 28s 31ms/step - loss: 0.5749 - accuracy: 0.7749 - val_loss: 0.6131 - val_accuracy: 0.7526 - lr: 1.2500e-04\n",
      "Epoch 90/1000\n",
      "902/903 [============================>.] - ETA: 0s - loss: 0.5682 - accuracy: 0.7763"
     ]
    },
    {
     "name": "stderr",
     "output_type": "stream",
     "text": [
      "WARNING:absl:Found untraced functions such as lstm_cell_layer_call_fn, lstm_cell_layer_call_and_return_conditional_losses, lstm_cell_1_layer_call_fn, lstm_cell_1_layer_call_and_return_conditional_losses, lstm_cell_2_layer_call_fn while saving (showing 5 of 8). These functions will not be directly callable after loading.\n"
     ]
    },
    {
     "name": "stdout",
     "output_type": "stream",
     "text": [
      "INFO:tensorflow:Assets written to: models\\InGamePadd\\assets\n"
     ]
    },
    {
     "name": "stderr",
     "output_type": "stream",
     "text": [
      "INFO:tensorflow:Assets written to: models\\InGamePadd\\assets\n"
     ]
    },
    {
     "name": "stdout",
     "output_type": "stream",
     "text": [
      "903/903 [==============================] - 46s 51ms/step - loss: 0.5682 - accuracy: 0.7763 - val_loss: 0.6073 - val_accuracy: 0.7505 - lr: 6.2500e-05\n",
      "Epoch 91/1000\n",
      "903/903 [==============================] - 28s 31ms/step - loss: 0.5678 - accuracy: 0.7809 - val_loss: 0.6194 - val_accuracy: 0.7475 - lr: 6.2500e-05\n",
      "Epoch 92/1000\n",
      "903/903 [==============================] - 28s 31ms/step - loss: 0.5720 - accuracy: 0.7769 - val_loss: 0.6118 - val_accuracy: 0.7481 - lr: 6.2500e-05\n",
      "Epoch 93/1000\n",
      "903/903 [==============================] - 28s 31ms/step - loss: 0.5689 - accuracy: 0.7784 - val_loss: 0.6113 - val_accuracy: 0.7475 - lr: 6.2500e-05\n",
      "Epoch 94/1000\n",
      "903/903 [==============================] - 28s 31ms/step - loss: 0.5701 - accuracy: 0.7735 - val_loss: 0.6095 - val_accuracy: 0.7472 - lr: 6.2500e-05\n",
      "Epoch 95/1000\n",
      "903/903 [==============================] - 28s 31ms/step - loss: 0.5695 - accuracy: 0.7764 - val_loss: 0.6089 - val_accuracy: 0.7493 - lr: 6.2500e-05\n",
      "Epoch 96/1000\n",
      "903/903 [==============================] - 28s 31ms/step - loss: 0.5693 - accuracy: 0.7747 - val_loss: 0.6219 - val_accuracy: 0.7388 - lr: 6.2500e-05\n",
      "Epoch 97/1000\n",
      "903/903 [==============================] - 28s 31ms/step - loss: 0.5683 - accuracy: 0.7758 - val_loss: 0.6076 - val_accuracy: 0.7487 - lr: 6.2500e-05\n",
      "Epoch 98/1000\n",
      "903/903 [==============================] - 28s 31ms/step - loss: 0.5684 - accuracy: 0.7740 - val_loss: 0.6108 - val_accuracy: 0.7496 - lr: 6.2500e-05\n",
      "Epoch 99/1000\n",
      "903/903 [==============================] - 28s 31ms/step - loss: 0.5639 - accuracy: 0.7767 - val_loss: 0.6093 - val_accuracy: 0.7460 - lr: 6.2500e-05\n",
      "Epoch 100/1000\n",
      "903/903 [==============================] - 29s 32ms/step - loss: 0.5679 - accuracy: 0.7764 - val_loss: 0.6147 - val_accuracy: 0.7487 - lr: 6.2500e-05\n",
      "Epoch 101/1000\n",
      "903/903 [==============================] - 28s 30ms/step - loss: 0.5644 - accuracy: 0.7800 - val_loss: 0.6082 - val_accuracy: 0.7478 - lr: 3.1250e-05\n",
      "Epoch 102/1000\n",
      "903/903 [==============================] - 28s 31ms/step - loss: 0.5632 - accuracy: 0.7776 - val_loss: 0.6097 - val_accuracy: 0.7505 - lr: 3.1250e-05\n",
      "Epoch 103/1000\n",
      "903/903 [==============================] - 28s 31ms/step - loss: 0.5634 - accuracy: 0.7770 - val_loss: 0.6132 - val_accuracy: 0.7439 - lr: 3.1250e-05\n",
      "Epoch 104/1000\n",
      "903/903 [==============================] - 28s 31ms/step - loss: 0.5622 - accuracy: 0.7787 - val_loss: 0.6157 - val_accuracy: 0.7505 - lr: 3.1250e-05\n",
      "Epoch 105/1000\n",
      "903/903 [==============================] - 28s 31ms/step - loss: 0.5602 - accuracy: 0.7786 - val_loss: 0.6096 - val_accuracy: 0.7514 - lr: 3.1250e-05\n",
      "Epoch 106/1000\n",
      "903/903 [==============================] - 28s 31ms/step - loss: 0.5646 - accuracy: 0.7773 - val_loss: 0.6083 - val_accuracy: 0.7484 - lr: 3.1250e-05\n",
      "Epoch 107/1000\n",
      "903/903 [==============================] - 28s 31ms/step - loss: 0.5622 - accuracy: 0.7800 - val_loss: 0.6143 - val_accuracy: 0.7478 - lr: 3.1250e-05\n",
      "Epoch 108/1000\n",
      "903/903 [==============================] - 28s 31ms/step - loss: 0.5628 - accuracy: 0.7792 - val_loss: 0.6129 - val_accuracy: 0.7448 - lr: 3.1250e-05\n",
      "Epoch 109/1000\n",
      "903/903 [==============================] - 28s 31ms/step - loss: 0.5610 - accuracy: 0.7807 - val_loss: 0.6082 - val_accuracy: 0.7475 - lr: 3.1250e-05\n",
      "Epoch 110/1000\n",
      "903/903 [==============================] - ETA: 0s - loss: 0.5633 - accuracy: 0.7799"
     ]
    },
    {
     "name": "stderr",
     "output_type": "stream",
     "text": [
      "WARNING:absl:Found untraced functions such as lstm_cell_layer_call_fn, lstm_cell_layer_call_and_return_conditional_losses, lstm_cell_1_layer_call_fn, lstm_cell_1_layer_call_and_return_conditional_losses, lstm_cell_2_layer_call_fn while saving (showing 5 of 8). These functions will not be directly callable after loading.\n"
     ]
    },
    {
     "name": "stdout",
     "output_type": "stream",
     "text": [
      "INFO:tensorflow:Assets written to: models\\InGamePadd\\assets\n"
     ]
    },
    {
     "name": "stderr",
     "output_type": "stream",
     "text": [
      "INFO:tensorflow:Assets written to: models\\InGamePadd\\assets\n"
     ]
    },
    {
     "name": "stdout",
     "output_type": "stream",
     "text": [
      "903/903 [==============================] - 45s 50ms/step - loss: 0.5633 - accuracy: 0.7799 - val_loss: 0.6067 - val_accuracy: 0.7520 - lr: 3.1250e-05\n",
      "Epoch 111/1000\n",
      "903/903 [==============================] - 28s 31ms/step - loss: 0.5637 - accuracy: 0.7789 - val_loss: 0.6111 - val_accuracy: 0.7511 - lr: 3.1250e-05\n",
      "Epoch 112/1000\n",
      "903/903 [==============================] - 28s 31ms/step - loss: 0.5645 - accuracy: 0.7805 - val_loss: 0.6086 - val_accuracy: 0.7499 - lr: 3.1250e-05\n",
      "Epoch 113/1000\n",
      "903/903 [==============================] - 28s 31ms/step - loss: 0.5639 - accuracy: 0.7778 - val_loss: 0.6084 - val_accuracy: 0.7496 - lr: 3.1250e-05\n",
      "Epoch 114/1000\n",
      "903/903 [==============================] - 28s 31ms/step - loss: 0.5590 - accuracy: 0.7807 - val_loss: 0.6084 - val_accuracy: 0.7478 - lr: 3.1250e-05\n",
      "Epoch 115/1000\n",
      "903/903 [==============================] - 28s 31ms/step - loss: 0.5588 - accuracy: 0.7809 - val_loss: 0.6091 - val_accuracy: 0.7502 - lr: 3.1250e-05\n",
      "Epoch 116/1000\n",
      "903/903 [==============================] - 28s 31ms/step - loss: 0.5598 - accuracy: 0.7824 - val_loss: 0.6100 - val_accuracy: 0.7502 - lr: 3.1250e-05\n",
      "Epoch 117/1000\n",
      "903/903 [==============================] - 27s 30ms/step - loss: 0.5595 - accuracy: 0.7796 - val_loss: 0.6080 - val_accuracy: 0.7481 - lr: 3.1250e-05\n",
      "Epoch 118/1000\n",
      "903/903 [==============================] - 28s 31ms/step - loss: 0.5595 - accuracy: 0.7791 - val_loss: 0.6151 - val_accuracy: 0.7433 - lr: 3.1250e-05\n",
      "Epoch 119/1000\n",
      "903/903 [==============================] - 26s 29ms/step - loss: 0.5613 - accuracy: 0.7794 - val_loss: 0.6082 - val_accuracy: 0.7517 - lr: 3.1250e-05\n",
      "Epoch 120/1000\n",
      "903/903 [==============================] - 27s 30ms/step - loss: 0.5581 - accuracy: 0.7789 - val_loss: 0.6083 - val_accuracy: 0.7508 - lr: 3.1250e-05\n",
      "Epoch 121/1000\n",
      "903/903 [==============================] - 25s 28ms/step - loss: 0.5526 - accuracy: 0.7849 - val_loss: 0.6073 - val_accuracy: 0.7496 - lr: 1.5625e-05\n",
      "Epoch 122/1000\n",
      "903/903 [==============================] - 26s 29ms/step - loss: 0.5548 - accuracy: 0.7816 - val_loss: 0.6079 - val_accuracy: 0.7508 - lr: 1.5625e-05\n",
      "Epoch 123/1000\n",
      "903/903 [==============================] - 27s 30ms/step - loss: 0.5564 - accuracy: 0.7803 - val_loss: 0.6094 - val_accuracy: 0.7508 - lr: 1.5625e-05\n",
      "Epoch 124/1000\n",
      "903/903 [==============================] - 26s 29ms/step - loss: 0.5584 - accuracy: 0.7792 - val_loss: 0.6111 - val_accuracy: 0.7502 - lr: 1.5625e-05\n",
      "Epoch 125/1000\n",
      "903/903 [==============================] - 35s 39ms/step - loss: 0.5527 - accuracy: 0.7816 - val_loss: 0.6083 - val_accuracy: 0.7499 - lr: 1.5625e-05\n",
      "Epoch 126/1000\n",
      "903/903 [==============================] - 28s 31ms/step - loss: 0.5552 - accuracy: 0.7825 - val_loss: 0.6102 - val_accuracy: 0.7508 - lr: 1.5625e-05\n",
      "Epoch 127/1000\n",
      "903/903 [==============================] - 25s 28ms/step - loss: 0.5532 - accuracy: 0.7830 - val_loss: 0.6073 - val_accuracy: 0.7499 - lr: 1.5625e-05\n",
      "Epoch 128/1000\n",
      "903/903 [==============================] - 26s 29ms/step - loss: 0.5526 - accuracy: 0.7832 - val_loss: 0.6099 - val_accuracy: 0.7478 - lr: 1.5625e-05\n",
      "Epoch 129/1000\n",
      "903/903 [==============================] - 27s 30ms/step - loss: 0.5553 - accuracy: 0.7780 - val_loss: 0.6092 - val_accuracy: 0.7526 - lr: 1.5625e-05\n",
      "Epoch 130/1000\n",
      "903/903 [==============================] - 26s 28ms/step - loss: 0.5599 - accuracy: 0.7805 - val_loss: 0.6092 - val_accuracy: 0.7502 - lr: 1.5625e-05\n",
      "Epoch 131/1000\n",
      "903/903 [==============================] - 28s 31ms/step - loss: 0.5517 - accuracy: 0.7841 - val_loss: 0.6070 - val_accuracy: 0.7487 - lr: 7.8125e-06\n",
      "Epoch 132/1000\n",
      "903/903 [==============================] - 28s 31ms/step - loss: 0.5536 - accuracy: 0.7825 - val_loss: 0.6090 - val_accuracy: 0.7514 - lr: 7.8125e-06\n",
      "Epoch 133/1000\n",
      "903/903 [==============================] - 25s 28ms/step - loss: 0.5593 - accuracy: 0.7824 - val_loss: 0.6078 - val_accuracy: 0.7502 - lr: 7.8125e-06\n",
      "Epoch 134/1000\n",
      "903/903 [==============================] - 26s 29ms/step - loss: 0.5515 - accuracy: 0.7822 - val_loss: 0.6070 - val_accuracy: 0.7514 - lr: 7.8125e-06\n",
      "Epoch 135/1000\n",
      "903/903 [==============================] - 25s 28ms/step - loss: 0.5558 - accuracy: 0.7820 - val_loss: 0.6076 - val_accuracy: 0.7493 - lr: 7.8125e-06\n",
      "Epoch 136/1000\n",
      "903/903 [==============================] - 25s 28ms/step - loss: 0.5553 - accuracy: 0.7821 - val_loss: 0.6079 - val_accuracy: 0.7517 - lr: 7.8125e-06\n",
      "Epoch 137/1000\n",
      "903/903 [==============================] - 25s 28ms/step - loss: 0.5574 - accuracy: 0.7844 - val_loss: 0.6112 - val_accuracy: 0.7520 - lr: 7.8125e-06\n",
      "Epoch 138/1000\n",
      "903/903 [==============================] - 26s 29ms/step - loss: 0.5506 - accuracy: 0.7861 - val_loss: 0.6081 - val_accuracy: 0.7508 - lr: 7.8125e-06\n",
      "Epoch 139/1000\n",
      "903/903 [==============================] - 26s 29ms/step - loss: 0.5497 - accuracy: 0.7833 - val_loss: 0.6079 - val_accuracy: 0.7511 - lr: 7.8125e-06\n",
      "Epoch 140/1000\n",
      "903/903 [==============================] - 26s 28ms/step - loss: 0.5523 - accuracy: 0.7810 - val_loss: 0.6084 - val_accuracy: 0.7505 - lr: 7.8125e-06\n",
      "Epoch 141/1000\n",
      "903/903 [==============================] - 27s 30ms/step - loss: 0.5569 - accuracy: 0.7787 - val_loss: 0.6075 - val_accuracy: 0.7505 - lr: 3.9063e-06\n",
      "Epoch 142/1000\n",
      "903/903 [==============================] - 25s 28ms/step - loss: 0.5539 - accuracy: 0.7838 - val_loss: 0.6076 - val_accuracy: 0.7508 - lr: 3.9063e-06\n",
      "Epoch 143/1000\n",
      "903/903 [==============================] - 25s 28ms/step - loss: 0.5518 - accuracy: 0.7828 - val_loss: 0.6080 - val_accuracy: 0.7508 - lr: 3.9063e-06\n",
      "Epoch 144/1000\n",
      "903/903 [==============================] - 25s 28ms/step - loss: 0.5526 - accuracy: 0.7807 - val_loss: 0.6076 - val_accuracy: 0.7511 - lr: 3.9063e-06\n",
      "Epoch 145/1000\n",
      "903/903 [==============================] - 25s 28ms/step - loss: 0.5583 - accuracy: 0.7791 - val_loss: 0.6074 - val_accuracy: 0.7523 - lr: 3.9063e-06\n",
      "Epoch 146/1000\n",
      "903/903 [==============================] - 26s 28ms/step - loss: 0.5536 - accuracy: 0.7825 - val_loss: 0.6077 - val_accuracy: 0.7487 - lr: 3.9063e-06\n",
      "Epoch 147/1000\n",
      "903/903 [==============================] - 28s 31ms/step - loss: 0.5546 - accuracy: 0.7830 - val_loss: 0.6084 - val_accuracy: 0.7499 - lr: 3.9063e-06\n",
      "Epoch 148/1000\n",
      "903/903 [==============================] - 28s 31ms/step - loss: 0.5541 - accuracy: 0.7843 - val_loss: 0.6080 - val_accuracy: 0.7508 - lr: 3.9063e-06\n",
      "Epoch 149/1000\n",
      "903/903 [==============================] - 29s 32ms/step - loss: 0.5580 - accuracy: 0.7807 - val_loss: 0.6076 - val_accuracy: 0.7505 - lr: 3.9063e-06\n",
      "Epoch 150/1000\n",
      "903/903 [==============================] - 30s 33ms/step - loss: 0.5495 - accuracy: 0.7837 - val_loss: 0.6080 - val_accuracy: 0.7520 - lr: 3.9063e-06\n",
      "Epoch 151/1000\n",
      "903/903 [==============================] - 28s 31ms/step - loss: 0.5516 - accuracy: 0.7825 - val_loss: 0.6077 - val_accuracy: 0.7502 - lr: 1.9531e-06\n",
      "Epoch 152/1000\n",
      "903/903 [==============================] - 27s 30ms/step - loss: 0.5473 - accuracy: 0.7862 - val_loss: 0.6074 - val_accuracy: 0.7514 - lr: 1.9531e-06\n",
      "Epoch 153/1000\n",
      "903/903 [==============================] - 26s 29ms/step - loss: 0.5478 - accuracy: 0.7841 - val_loss: 0.6078 - val_accuracy: 0.7505 - lr: 1.9531e-06\n",
      "Epoch 154/1000\n",
      "903/903 [==============================] - 25s 28ms/step - loss: 0.5528 - accuracy: 0.7826 - val_loss: 0.6070 - val_accuracy: 0.7514 - lr: 1.9531e-06\n",
      "Epoch 155/1000\n",
      "903/903 [==============================] - 26s 29ms/step - loss: 0.5492 - accuracy: 0.7846 - val_loss: 0.6068 - val_accuracy: 0.7505 - lr: 1.9531e-06\n",
      "Epoch 156/1000\n",
      "903/903 [==============================] - 26s 29ms/step - loss: 0.5498 - accuracy: 0.7823 - val_loss: 0.6076 - val_accuracy: 0.7496 - lr: 1.9531e-06\n",
      "Epoch 157/1000\n",
      "903/903 [==============================] - 29s 32ms/step - loss: 0.5546 - accuracy: 0.7823 - val_loss: 0.6072 - val_accuracy: 0.7511 - lr: 1.9531e-06\n",
      "Epoch 158/1000\n",
      "903/903 [==============================] - 30s 33ms/step - loss: 0.5526 - accuracy: 0.7817 - val_loss: 0.6080 - val_accuracy: 0.7511 - lr: 1.9531e-06\n",
      "Epoch 159/1000\n",
      "903/903 [==============================] - 30s 34ms/step - loss: 0.5541 - accuracy: 0.7815 - val_loss: 0.6070 - val_accuracy: 0.7496 - lr: 1.9531e-06\n",
      "Epoch 160/1000\n",
      "903/903 [==============================] - 30s 33ms/step - loss: 0.5548 - accuracy: 0.7835 - val_loss: 0.6079 - val_accuracy: 0.7508 - lr: 1.9531e-06\n"
     ]
    }
   ],
   "source": [
    "from tensorflow.keras.layers import LSTM, Dense, Embedding\n",
    "\n",
    "\n",
    "l2_recurrent_parameter = 0.01\n",
    "l_2_kernel_regularizer= 0.01\n",
    "\n",
    "model = Sequential()\n",
    "model.add(Masking(mask_value=0., input_shape=(Xpad_train.shape[1], Xpad_train.shape[2])))\n",
    "model.add(LSTM(256, return_sequences=True,\n",
    "               kernel_regularizer=l2(l_2_kernel_regularizer), recurrent_regularizer=l2(l2_recurrent_parameter)))\n",
    "model.add(BatchNormalization())\n",
    "model.add(Dense(128,activation=\"relu\"))\n",
    "model.add(LSTM(256, return_sequences=True,\n",
    "               kernel_regularizer=l2(l_2_kernel_regularizer), recurrent_regularizer=l2(l2_recurrent_parameter)))\n",
    "model.add(BatchNormalization())\n",
    "model.add(Dense(128,activation=\"relu\"))\n",
    "model.add(LSTM(256, return_sequences=True,\n",
    "               kernel_regularizer=l2(l_2_kernel_regularizer), recurrent_regularizer=l2(l2_recurrent_parameter)))\n",
    "model.add(BatchNormalization())\n",
    "model.add(Dense(128,activation=\"relu\"))\n",
    "model.add(LSTM(256, return_sequences=False,\n",
    "               kernel_regularizer=l2(l_2_kernel_regularizer), recurrent_regularizer=l2(l2_recurrent_parameter)))\n",
    "model.add(BatchNormalization())\n",
    "model.add(Dense(3, activation='softmax'))\n",
    "# Compilación del modelo\n",
    "with tf.device('GPU:0'): # Usar gpu\n",
    "    model.compile(optimizer=Adam(learning_rate=0.001), loss='categorical_crossentropy', metrics=['accuracy'])\n",
    "\n",
    "model_checkpoint_callback = keras.callbacks.ModelCheckpoint(\n",
    "    filepath=\"models\\InGamePadd\",\n",
    "    monitor='val_loss',\n",
    "    mode= \"min\",\n",
    "    save_best_only=True)\n",
    "# Callbacks\n",
    "early_stopping = EarlyStopping(monitor='val_loss', patience=50, restore_best_weights=True)\n",
    "reduce_lr = ReduceLROnPlateau(monitor='val_loss', factor=0.5, patience=10, min_lr=10^(-9))\n",
    "\n",
    "history = model.fit(Xpad_train, ypad_train, verbose=1, epochs=1000, batch_size=16,\n",
    "                    validation_data=(Xpad_val, ypad_val), callbacks=[early_stopping, reduce_lr, model_checkpoint_callback])"
   ]
  },
  {
   "cell_type": "code",
   "execution_count": 18,
   "id": "beee1850",
   "metadata": {},
   "outputs": [
    {
     "ename": "NameError",
     "evalue": "name 'intervals' is not defined",
     "output_type": "error",
     "traceback": [
      "\u001b[1;31m---------------------------------------------------------------------------\u001b[0m",
      "\u001b[1;31mNameError\u001b[0m                                 Traceback (most recent call last)",
      "Cell \u001b[1;32mIn[18], line 3\u001b[0m\n\u001b[0;32m      1\u001b[0m loss, acc \u001b[38;5;241m=\u001b[39m [], []\n\u001b[0;32m      2\u001b[0m \u001b[38;5;28;01mfor\u001b[39;00m i \u001b[38;5;129;01min\u001b[39;00m \u001b[38;5;28mrange\u001b[39m(\u001b[38;5;241m1\u001b[39m, X_test_normalized\u001b[38;5;241m.\u001b[39mshape[\u001b[38;5;241m1\u001b[39m]\u001b[38;5;241m+\u001b[39m\u001b[38;5;241m1\u001b[39m):\n\u001b[1;32m----> 3\u001b[0m     \u001b[38;5;28mprint\u001b[39m(\u001b[43mintervals\u001b[49m[i\u001b[38;5;241m-\u001b[39m\u001b[38;5;241m1\u001b[39m])\n\u001b[0;32m      4\u001b[0m     aux \u001b[38;5;241m=\u001b[39m model\u001b[38;5;241m.\u001b[39mevaluate(X_test_normalized[:, :i, :], y_test)\n\u001b[0;32m      5\u001b[0m     loss\u001b[38;5;241m.\u001b[39mappend(aux[\u001b[38;5;241m0\u001b[39m])\n",
      "\u001b[1;31mNameError\u001b[0m: name 'intervals' is not defined"
     ]
    }
   ],
   "source": [
    "loss, acc = [], []\n",
    "for i in range(1, X_test_normalized.shape[1]+1):\n",
    "    print(intervals[i-1])\n",
    "    aux = model.evaluate(X_test_normalized[:, :i, :], y_test)\n",
    "    loss.append(aux[0])\n",
    "    acc.append(aux[1])\n",
    "print(np.mean(acc))"
   ]
  },
  {
   "cell_type": "code",
   "execution_count": null,
   "id": "521a2c74",
   "metadata": {},
   "outputs": [],
   "source": []
  }
 ],
 "metadata": {
  "kernelspec": {
   "display_name": "Python 3 (ipykernel)",
   "language": "python",
   "name": "python3"
  },
  "language_info": {
   "codemirror_mode": {
    "name": "ipython",
    "version": 3
   },
   "file_extension": ".py",
   "mimetype": "text/x-python",
   "name": "python",
   "nbconvert_exporter": "python",
   "pygments_lexer": "ipython3",
   "version": "3.10.9"
  }
 },
 "nbformat": 4,
 "nbformat_minor": 5
}
