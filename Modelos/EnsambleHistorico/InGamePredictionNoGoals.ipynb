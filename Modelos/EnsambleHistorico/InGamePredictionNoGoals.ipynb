{
 "cells": [
  {
   "cell_type": "code",
   "execution_count": 6,
   "id": "5de692a7",
   "metadata": {},
   "outputs": [],
   "source": [
    "from pytorch_tabnet.tab_model import TabNetClassifier\n",
    "from sklearn.preprocessing import MinMaxScaler, StandardScaler\n",
    "from copy import deepcopy\n",
    "from tqdm import tqdm\n",
    "from balu3.fs.sel    import sfs, clean\n",
    "from sklearn.linear_model import LogisticRegression\n",
    "from tensorflow.keras import layers\n",
    "from keras.callbacks import ReduceLROnPlateau\n",
    "from sklearn.metrics import classification_report, confusion_matrix\n",
    "from sklearn.model_selection import train_test_split\n",
    "from random import randint\n",
    "from tensorflow.keras.layers import Dropout\n",
    "from keras.utils import to_categorical\n",
    "from scipy.stats import binom, betabinom\n",
    "from tensorflow.keras.preprocessing.sequence import pad_sequences\n",
    "from joblib import Parallel, delayed\n",
    "\n",
    "import matplotlib.pyplot as plt\n",
    "import tensorflow as tf\n",
    "import pandas as pd\n",
    "import numpy as np\n",
    "import torch\n",
    "import keras"
   ]
  },
  {
   "cell_type": "code",
   "execution_count": 7,
   "id": "210ca305",
   "metadata": {},
   "outputs": [],
   "source": [
    "#Para la LSTM\n",
    "from tensorflow.keras.models import Sequential\n",
    "from tensorflow.keras.layers import LSTM, Dense, Dropout, BatchNormalization\n",
    "from tensorflow.keras.optimizers import Adam\n",
    "from tensorflow.keras.regularizers import l2\n",
    "from tensorflow.keras.callbacks import EarlyStopping, ReduceLROnPlateau"
   ]
  },
  {
   "cell_type": "code",
   "execution_count": 8,
   "id": "b934cb12",
   "metadata": {},
   "outputs": [
    {
     "name": "stderr",
     "output_type": "stream",
     "text": [
      "C:\\Users\\gfuen\\AppData\\Local\\Temp\\ipykernel_11892\\788853108.py:11: UserWarning: Could not infer format, so each element will be parsed individually, falling back to `dateutil`. To ensure parsing is consistent and as-expected, please specify a format.\n",
      "  dfHistorico2['Date'] = pd.to_datetime(dfHistorico2['Date'], dayfirst=True, errors='coerce')\n"
     ]
    }
   ],
   "source": [
    "# Data historica\n",
    "\n",
    "dfHistorico1 = pd.read_csv(\"dataHistórica/resultados_pasados_premier.csv\")\n",
    "dfHistorico1 = dfHistorico1.drop(\"Unnamed: 0\",axis = 1)\n",
    "dfHistorico1 = dfHistorico1.drop([\"Position_last_year_home\", \"Position_last_year_away\",\n",
    "                                  \"Points_last_year_home\", \"Points_last_year_away\"],axis = 1) # Para hacer el merge con el segundo.\n",
    "\n",
    "dfHistorico2 = pd.read_csv(\"dataHistórica/restoDeLigas.csv\")\n",
    "dfHistorico2 = dfHistorico2.drop(\"Unnamed: 0\",axis = 1)\n",
    "\n",
    "dfHistorico2['Date'] = pd.to_datetime(dfHistorico2['Date'], dayfirst=True, errors='coerce')\n",
    "dfHistorico2['Date'] = dfHistorico2['Date'].dt.strftime('%Y-%m-%d')\n",
    "dfHistorico2 = dfHistorico2[dfHistorico2[\"Date\"] >\"2010-01-01\"] # Seleccion solo de partidos de 2010 en adelante (porque el otro dataframe tiene info desde ahí)\n"
   ]
  },
  {
   "cell_type": "code",
   "execution_count": 9,
   "id": "4c07e032",
   "metadata": {},
   "outputs": [],
   "source": [
    "dfHistorico = pd.concat([dfHistorico1, dfHistorico2], axis=0)\n",
    "dfHistorico = dfHistorico.reset_index(drop=True)"
   ]
  },
  {
   "cell_type": "code",
   "execution_count": 10,
   "id": "1524e011",
   "metadata": {},
   "outputs": [],
   "source": [
    "# Data tipo evento\n",
    "\n",
    "dfEvent = pd.read_csv(\"dataWhoScored/WhoScoredTeamPerMatchSpatial4x3TimeDiv5.csv\")\n",
    "dfEvent = dfEvent.drop(\"Unnamed: 0\",axis = 1)"
   ]
  },
  {
   "cell_type": "code",
   "execution_count": 11,
   "id": "4a459684",
   "metadata": {},
   "outputs": [
    {
     "data": {
      "text/plain": [
       "50"
      ]
     },
     "execution_count": 11,
     "metadata": {},
     "output_type": "execute_result"
    }
   ],
   "source": [
    "# Ajuste manual de equipos:\n",
    "# Los que no tengan match son un string vacio.\n",
    "\n",
    "histToEventNameV1 = {\n",
    "   \"Arsenal\": \"Arsenal\", \"Aston Villa\": \"Aston Villa\", \"Barnsley\": \"\", \"Birmingham City\": \"Birmingham\", \"Blackburn\": \"Blackburn\",\"Blackpool\": \"Blackpool\",\n",
    "   \"Bolton\" : \"Bolton\", \"Bournemouth\": \"Bournemouth\", \"Bradford City\": \"\", \"Brentford\": \"Brentford\", \"Brighton\": \"Brighton\", \"Burnley\": \"Burnley\", \"Cardiff City\": \"Cardiff\",\n",
    "   \"Charlton Ath\": \"\", \"Chelsea\": \"Chelsea\", \"Coventry City\": \"\", \"Crystal Palace\": \"Crystal Palace\", \"Derby County\":\"\", \"Everton\": \"Everton\", \"Fulham\": \"Fulham\",\n",
    "   \"Huddersfield\": \"Huddersfield\", \"Hull City\": \"Hull\", \"Ipswich Town\": \"\", \"Leeds United\": \"Leeds\", \"Leicester City\": \"Leicester\", \"Liverpool\": \"Liverpool\",\n",
    "   \"Manchester City\": \"Man City\", \"Manchester Utd\": \"Man Utd\", \"Middlesbrough\": \"Middlesbrough\", \"Newcastle Utd\": \"Newcastle\", \"Norwich City\": \"Norwich\",\n",
    "   \"Nott'ham Forest\": \"Nottingham Forest\", \"Oldham Athletic\": \"\", \"Portsmouth\": \"\", \"QPR\": \"QPR\", \"Reading\": \"Reading\", \"Sheffield Utd\": \"Sheff Utd\", \"Sheffield Weds\": \"\",\n",
    "   \"Southampton\": \"Southampton\", \"Stoke City\": \"Stoke\", \"Sunderland\": \"Sunderland\", \"Swansea City\": \"Swansea\", \"Swindon Town\":  \"\", \"Tottenham\": \"Tottenham\", \"Watford\":\"Watford\",\n",
    "   \"West Brom\": \"WBA\", \"West Ham\": \"West Ham\", \"Wigan Athletic\": \"Wigan\", \"Wimbledon\": \"\", \"Wolves\": \"Wolves\"\n",
    "}\n",
    "len(histToEventNameV1)"
   ]
  },
  {
   "cell_type": "code",
   "execution_count": 12,
   "id": "a16d91e1",
   "metadata": {},
   "outputs": [
    {
     "data": {
      "text/plain": [
       "207"
      ]
     },
     "execution_count": 12,
     "metadata": {},
     "output_type": "execute_result"
    }
   ],
   "source": [
    "histToEventName = {\n",
    "   \"Arsenal\": \"Arsenal\", \"Aston Villa\": \"Aston Villa\", \"Barnsley\": \"\", \"Birmingham City\": \"Birmingham\", \"Blackburn\": \"Blackburn\",\"Blackpool\": \"Blackpool\",\n",
    "   \"Bolton\" : \"Bolton\", \"Bournemouth\": \"Bournemouth\", \"Bradford City\": \"\", \"Brentford\": \"Brentford\", \"Brighton\": \"Brighton\", \"Burnley\": \"Burnley\", \"Cardiff City\": \"Cardiff\",\n",
    "   \"Charlton Ath\": \"\", \"Chelsea\": \"Chelsea\", \"Coventry City\": \"\", \"Crystal Palace\": \"Crystal Palace\", \"Derby County\":\"\", \"Everton\": \"Everton\", \"Fulham\": \"Fulham\",\n",
    "   \"Huddersfield\": \"Huddersfield\", \"Hull City\": \"Hull\", \"Ipswich Town\": \"\", \"Leeds United\": \"Leeds\", \"Leicester City\": \"Leicester\", \"Liverpool\": \"Liverpool\",\n",
    "   \"Manchester City\": \"Man City\", \"Manchester Utd\": \"Man Utd\", \"Middlesbrough\": \"Middlesbrough\", \"Newcastle Utd\": \"Newcastle\", \"Norwich City\": \"Norwich\",\n",
    "   \"Nott'ham Forest\": \"Nottingham Forest\", \"Oldham Athletic\": \"\", \"Portsmouth\": \"\", \"QPR\": \"QPR\", \"Reading\": \"Reading\", \"Sheffield Utd\": \"Sheff Utd\", \"Sheffield Weds\": \"\",\n",
    "   \"Southampton\": \"Southampton\", \"Stoke City\": \"Stoke\", \"Sunderland\": \"Sunderland\", \"Swansea City\": \"Swansea\", \"Swindon Town\":  \"\", \"Tottenham\": \"Tottenham\", \"Watford\":\"Watford\",\n",
    "   \"West Brom\": \"WBA\", \"West Ham\": \"West Ham\", \"Wigan Athletic\": \"Wigan\", \"Wimbledon\": \"\", \"Wolves\": \"Wolves\", #V1\n",
    "   \"Aachen\":\"\",\"Ajaccio\":\"AC Ajaccio\", \"Alaves\":\"Deportivo Alaves\", \"Almeria\": \"Almeria\", \"Amiens\":\"Amiens\",\"Angers\":\"Angers\", \"Arles\":\"Arles-Avignon\", \"Ascoli\":\"\",\n",
    "   \"Atalanta\":\"Atalanta\", \"Ath Bilbao\":\"Athletic Club\", \"Ath Madrid\":\"Atletico\", \"Augsburg\":\"Augsburg\", \"Auxerre\":\"Auxerre\", \"Barcelona\":\"Barcelona\", \"Bari\":\"Bari\",\n",
    "   \"Bastia\":\"SC Bastia\", \"Bayern Munich\":\"Bayern\", \"Benevento\":\"Benevento\", \"Betis\":\"Real Betis\", \"Bielefeld\":\"Arminia Bielefeld\", \"Bochum\": \"Bochum\", \"Bologna\":\"Bologna\",\n",
    "   \"Bordeaux\":\"Bordeaux\", \"Boulogne\": \"\", \"Braunschweig\": \"Eintracht Braunschweig\", \"Brescia\":\"Brescia\", \"Brest\":\"Brest\", \"Cadiz\":\"Cadiz\", \"Caen\": \"Caen\", \"Cagliari\":\"Cagliari\",\n",
    "   \"Carpi\":\"AC Carpi\", \"Catania\":\"Catania\", \"Celta\":\"Celta Vigo\", \"Cesena\": \"Cesena\", \"Chievo\":\"Chievo\", \"Clermont\":\"Clermont Foot\", \"Cordoba\": \"Cordoba\", \"Cottbus\":\"\",\n",
    "   \"Cremonese\":\"Cremonese\", \"Crotone\":\"Crotone\", \"Darmstadt\":\"Darmstadt\", \"Dijon\": \"Dijon\", \"Dortmund\":\"Borussia Dortmund\", \"Duisburg\":\"\", \"Eibar\":\"Eibar\", \"Ein Frankfurt\":\"Eintracht Frankfurt\",\n",
    "   \"Elche\": \"Elche\", \"Empoli\": \"Empoli\", \"Espanol\": \"Espanyol\", \"Evian Thonon Gaillard\": \"Evian\", \"FC Koln\": \"FC Koln\", \"Fiorentina\": \"Fiorentina\", \"Fortuna Dusseldorf\": \"Fortuna Duesseldorf\",\n",
    "   \"Freiburg\":\"Freiburg\", \"Frosinone\": \"Frosinone\", \"Genoa\": \"Genoa\", \"Getafe\": \"Getafe\", \"Gimnastic\":\"\", \"Girona\": \"Girona\", \"Granada\": \"Granada\", \"Grenoble\":\"\",\n",
    "   \"Greuther Furth\": \"Greuther Fuerth\", \"Guingamp\": \"Guingamp\", \"Hamburg\":\"Hamburg\", \"Hannover\":\"Hannover\", \"Hansa Rostock\":\"\", \"Heidenheim\":\"FC Heidenheim\", \"Hercules\":\"Hercules\",\n",
    "   \"Hertha\":\"Hertha Berlin\", \"Hoffenheim\":\"Hoffenheim\", \"Huesca\": \"SD Huesca\", \"Ingolstadt\": \"Ingolstadt\", \"Inter\": \"Inter\", \"Juventus\":\"Juventus\", \"Kaiserslautern\":\"Kaiserslautern\",\n",
    "   \"Karlsruhe\":\"\", \"La Coruna\": \"Deportivo\", \"Las Palmas\": \"Las Palmas\", \"Lazio\": \"Lazio\", \"Le Havre\": \"Le Havre\", \"Le Mans\":\"\", \"Lecce\": \"Lecce\", \"Leganes\":\"Leganes\", \"Lens\": \"Lens\",\n",
    "   \"Levante\": \"Levante\", \"Leverkusen\": \"Leverkusen\", \"Lille\":\"Lille\", \"Livorno\": \"Livorno\", \"Lorient\":\"Lorient\", \"Lyon\": \"Lyon\", \"M'gladbach\": \"Borussia M.Gladbach\", \"Mainz\": \"Mainz\",\n",
    "   \"Malaga\":\"Malaga\", \"Mallorca\":\"Mallorca\", \"Messina\": \"\", \"Metz\": \"Metz\", \"Milan\": \"AC Milan\", \"Monaco\": \"Monaco\", \"Montpellier\": \"Montpellier\", \"Monza\": \"Monza\", \"Murcia\":\"\",\n",
    "   \"Nancy\":\"Nancy\", \"Nantes\":\"Nantes\", \"Napoli\":\"Napoli\", \"Nice\":\"Nice\", \"Nimes\":\"Nimes\", \"Novara\": \"Novara\", \"Numancia\":\"\", \"Nurnberg\":\"Nuernberg\", \"Osasuna\": \"Osasuna\",\n",
    "   \"Paderborn\": \"Paderborn\", \"Palermo\": \"Palermo\", \"Paris SG\": \"PSG\", \"Parma\": \"Parma Calcio 1913\", \"Pescara\":\"Pescara\", \"RB Leipzig\": \"RBL\",\"Real Madrid\":\"Real Madrid\", \n",
    "   \"Recreativo\":\"\", \"Reggina\":\"\", \"Reims\": \"Reims\", \"Rennes\":\"Rennes\", \"Roma\":\"Roma\", \"Salernitana\": \"Salernitana\", \"Sampdoria\":\"Sampdoria\", \"Santander\": \"Racing Santander\",\n",
    "   \"Sassuolo\":\"Sassuolo\", \"Schalke 04\": \"Schalke\", \"Sedan\":\"\", \"Sevilla\":\"Sevilla\", \"Siena\": \"Siena\", \"Sochaux\": \"Sochaux\", \"Sociedad\": \"Real Sociedad\", \"Sp Gijon\":\"Sporting Gijon\",\n",
    "   \"Spal\":\"SPAL 2013\", \"Spezia\": \"Spezia\", \"St Etienne\":\"Saint-Etienne\", \"St Pauli\":\"St. Pauli\", \"Strasbourg\":\"Strasbourg\", \"Stuttgart\": \"Stuttgart\", \"Tenerife\":\"\", \"Torino\":\"Torino\",\n",
    "   \"Toulouse\":\"Toulouse\", \"Treviso\":\"\", \"Troyes\":\"Troyes\", \"Udinese\": \"Udinese\", \"Union Berlin\":\"Union Berlin\", \"Valencia\": \"Valencia\", \"Valenciennes\": \"Valenciennes\", \"Valladolid\": \"Real Valladolid\",\n",
    "   \"Vallecano\": \"Rayo Vallecano\", \"Venezia\":\"Venezia\", \"Verona\":\"Verona\", \"Villarreal\": \"Villarreal\", \"Werder Bremen\": \"Werder Bremen\", \"Wolfsburg\": \"Wolfsburg\", \"Xerez\": \"\", \"Zaragoza\": \"Real Zaragoza\"\n",
    "}\n",
    "len(histToEventName)"
   ]
  },
  {
   "cell_type": "code",
   "execution_count": 13,
   "id": "d34545e5",
   "metadata": {},
   "outputs": [
    {
     "name": "stdout",
     "output_type": "stream",
     "text": [
      "['Ajaccio', 'Ajaccio GFCO', 'Alaves', 'Almeria', 'Amiens', 'Angers', 'Arles', 'Arsenal', 'Aston Villa', 'Atalanta', 'Ath Bilbao', 'Ath Madrid', 'Augsburg', 'Auxerre', 'Barcelona', 'Bari', 'Barnsley', 'Bastia', 'Bayern Munich', 'Benevento', 'Betis', 'Bielefeld', 'Birmingham City', 'Blackburn', 'Blackpool', 'Bochum', 'Bologna', 'Bolton', 'Bordeaux', 'Boulogne', 'Bournemouth', 'Bradford City', 'Braunschweig', 'Brentford', 'Brescia', 'Brest', 'Brighton', 'Burnley', 'Cadiz', 'Caen', 'Cagliari', 'Cardiff City', 'Carpi', 'Catania', 'Celta', 'Cesena', 'Charlton Ath', 'Chelsea', 'Chievo', 'Clermont', 'Cordoba', 'Coventry City', 'Cremonese', 'Crotone', 'Crystal Palace', 'Darmstadt', 'Derby County', 'Dijon', 'Dortmund', 'Eibar', 'Ein Frankfurt', 'Elche', 'Empoli', 'Espanol', 'Everton', 'Evian Thonon Gaillard', 'FC Koln', 'Fiorentina', 'Fortuna Dusseldorf', 'Freiburg', 'Frosinone', 'Fulham', 'Genoa', 'Getafe', 'Girona', 'Granada', 'Grenoble', 'Greuther Furth', 'Guingamp', 'Hamburg', 'Hannover', 'Heidenheim', 'Hercules', 'Hertha', 'Hoffenheim', 'Huddersfield', 'Huesca', 'Hull City', 'Ingolstadt', 'Inter', 'Ipswich Town', 'Juventus', 'Kaiserslautern', 'La Coruna', 'Las Palmas', 'Lazio', 'Le Havre', 'Le Mans', 'Lecce', 'Leeds United', 'Leganes', 'Leicester City', 'Lens', 'Levante', 'Leverkusen', 'Lille', 'Liverpool', 'Livorno', 'Lorient', 'Lyon', \"M'gladbach\", 'Mainz', 'Malaga', 'Mallorca', 'Manchester City', 'Manchester Utd', 'Marseille', 'Metz', 'Middlesbrough', 'Milan', 'Monaco', 'Montpellier', 'Monza', 'Nancy', 'Nantes', 'Napoli', 'Newcastle Utd', 'Nice', 'Nimes', 'Norwich City', \"Nott'ham Forest\", 'Novara', 'Nurnberg', 'Oldham Athletic', 'Osasuna', 'Paderborn', 'Palermo', 'Paris SG', 'Parma', 'Pescara', 'Portsmouth', 'QPR', 'RB Leipzig', 'Reading', 'Real Madrid', 'Reims', 'Rennes', 'Roma', 'Salernitana', 'Sampdoria', 'Santander', 'Sassuolo', 'Schalke 04', 'Sevilla', 'Sheffield Utd', 'Sheffield Weds', 'Siena', 'Sochaux', 'Sociedad', 'Southampton', 'Sp Gijon', 'Spal', 'Spezia', 'St Etienne', 'St Pauli', 'Stoke City', 'Strasbourg', 'Stuttgart', 'Sunderland', 'Swansea City', 'Swindon Town', 'Tenerife', 'Torino', 'Tottenham', 'Toulouse', 'Troyes', 'Udinese', 'Union Berlin', 'Valencia', 'Valenciennes', 'Valladolid', 'Vallecano', 'Venezia', 'Verona', 'Villarreal', 'Watford', 'Werder Bremen', 'West Brom', 'West Ham', 'Wigan Athletic', 'Wimbledon', 'Wolfsburg', 'Wolves', 'Xerez', 'Zaragoza']\n"
     ]
    }
   ],
   "source": [
    "# Para buscar nombres\n",
    "\n",
    "a = dfHistorico[\"Team_home\"].unique().tolist()\n",
    "a.sort()\n",
    "print(a)"
   ]
  },
  {
   "cell_type": "code",
   "execution_count": 14,
   "id": "7402154c",
   "metadata": {},
   "outputs": [
    {
     "name": "stdout",
     "output_type": "stream",
     "text": [
      "['AC Ajaccio', 'AC Carpi', 'AC Milan', 'Almeria', 'Amiens', 'Angers', 'Arles-Avignon', 'Arminia Bielefeld', 'Arsenal', 'Aston Villa', 'Atalanta', 'Athletic Club', 'Atletico', 'Augsburg', 'Auxerre', 'Barcelona', 'Bari', 'Bayern', 'Benevento', 'Birmingham', 'Blackburn', 'Blackpool', 'Bochum', 'Bologna', 'Bolton', 'Bordeaux', 'Borussia Dortmund', 'Borussia M.Gladbach', 'Bournemouth', 'Brentford', 'Brescia', 'Brest', 'Brighton', 'Burnley', 'Cadiz', 'Caen', 'Cagliari', 'Cardiff', 'Catania', 'Celta Vigo', 'Cesena', 'Chelsea', 'Chievo', 'Clermont Foot', 'Cordoba', 'Cremonese', 'Crotone', 'Crystal Palace', 'Darmstadt', 'Deportivo', 'Deportivo Alaves', 'Dijon', 'Eibar', 'Eintracht Braunschweig', 'Eintracht Frankfurt', 'Elche', 'Empoli', 'Espanyol', 'Everton', 'Evian', 'FC Heidenheim', 'FC Koln', 'Fiorentina', 'Fortuna Duesseldorf', 'Freiburg', 'Frosinone', 'Fulham', 'GFC Ajaccio', 'Genoa', 'Getafe', 'Girona', 'Granada', 'Greuther Fuerth', 'Guingamp', 'Hamburg', 'Hannover', 'Hercules', 'Hertha Berlin', 'Hoffenheim', 'Huddersfield', 'Hull', 'Ingolstadt', 'Inter', 'Juventus', 'Kaiserslautern', 'Las Palmas', 'Lazio', 'Le Havre', 'Lecce', 'Leeds', 'Leganes', 'Leicester', 'Lens', 'Levante', 'Leverkusen', 'Lille', 'Liverpool', 'Livorno', 'Lorient', 'Luton', 'Lyon', 'Mainz', 'Malaga', 'Mallorca', 'Man City', 'Man Utd', 'Marseille', 'Metz', 'Middlesbrough', 'Monaco', 'Montpellier', 'Monza', 'Nancy', 'Nantes', 'Napoli', 'Newcastle', 'Nice', 'Nimes', 'Norwich', 'Nottingham Forest', 'Novara', 'Nuernberg', 'Osasuna', 'PSG', 'Paderborn', 'Palermo', 'Parma Calcio 1913', 'Pescara', 'QPR', 'RBL', 'Racing Santander', 'Rayo Vallecano', 'Reading', 'Real Betis', 'Real Madrid', 'Real Sociedad', 'Real Valladolid', 'Real Zaragoza', 'Reims', 'Rennes', 'Roma', 'SC Bastia', 'SD Huesca', 'SPAL 2013', 'Saint-Etienne', 'Salernitana', 'Sampdoria', 'Sassuolo', 'Schalke', 'Sevilla', 'Sheff Utd', 'Siena', 'Sochaux', 'Southampton', 'Spezia', 'Sporting Gijon', 'St. Pauli', 'Stoke', 'Strasbourg', 'Stuttgart', 'Sunderland', 'Swansea', 'Torino', 'Tottenham', 'Toulouse', 'Troyes', 'Udinese', 'Union Berlin', 'Valencia', 'Valenciennes', 'Verona', 'Villarreal', 'WBA', 'Watford', 'Werder Bremen', 'West Ham', 'Wigan', 'Wolfsburg', 'Wolves']\n"
     ]
    }
   ],
   "source": [
    "# Para buscar nombres\n",
    "\n",
    "a = dfEvent[\"Team\"].unique().tolist()\n",
    "a.sort()\n",
    "print(a)"
   ]
  },
  {
   "cell_type": "code",
   "execution_count": 15,
   "id": "270a03bf",
   "metadata": {},
   "outputs": [],
   "source": [
    "# Nombres de data histórica a nombres de tipo evento.\n",
    "\n",
    "dfHistorico[\"Team_home\"] = dfHistorico[\"Team_home\"].map(histToEventName)\n",
    "dfHistorico[\"Team_away\"] = dfHistorico[\"Team_away\"].map(histToEventName)"
   ]
  },
  {
   "cell_type": "code",
   "execution_count": 16,
   "id": "fee6ab73",
   "metadata": {},
   "outputs": [
    {
     "data": {
      "text/plain": [
       "Wk                                 0\n",
       "Date                               0\n",
       "Team_home                        284\n",
       "Team_away                        281\n",
       "Goals_home                         0\n",
       "Goals_away                         0\n",
       "score_prom_home                    0\n",
       "score_prom_away                    0\n",
       "wins_home                          0\n",
       "wins_away                          0\n",
       "ties_home                          0\n",
       "ties_away                          0\n",
       "losses_home                        0\n",
       "losses_away                        0\n",
       "total_goals_home                   0\n",
       "total_goals_away                   0\n",
       "total_goals_conceded_home          0\n",
       "total_goals_conceded_away          0\n",
       "points_home                        0\n",
       "points_away                        0\n",
       "streak_home                        0\n",
       "streak_away                        0\n",
       "wins_in_last_5_matches_home        0\n",
       "wins_in_last_5_matches_away        0\n",
       "ties_in_last_5_matches_home        0\n",
       "ties_in_last_5_matches_away        0\n",
       "losses_in_last_5_matches_home      0\n",
       "losses_in_last_5_matches_away      0\n",
       "result                             0\n",
       "dtype: int64"
      ]
     },
     "execution_count": 16,
     "metadata": {},
     "output_type": "execute_result"
    }
   ],
   "source": [
    "# Comprobamos que no esten datos vacios\n",
    "\n",
    "dfHistorico.isnull().sum() "
   ]
  },
  {
   "cell_type": "code",
   "execution_count": 17,
   "id": "8cf3e487",
   "metadata": {},
   "outputs": [
    {
     "name": "stderr",
     "output_type": "stream",
     "text": [
      "100%|██████████| 31979/31979 [05:15<00:00, 101.22it/s]\n"
     ]
    }
   ],
   "source": [
    "# Primero revisamos si estan todos los partidos compatibles, para que sea más robusta la solución\n",
    "\n",
    "indexHistorical = []\n",
    "for i in tqdm(range(len(dfHistorico))):\n",
    "    stringHome = dfHistorico.iloc[i].Team_home\n",
    "    stringAway = dfHistorico.iloc[i].Team_away\n",
    "    date = dfHistorico.iloc[i].Date\n",
    "\n",
    "    dfAux = dfEvent[dfEvent.Date == date]\n",
    "\n",
    "    dfHome = dfAux[dfAux.Team == stringHome].add_prefix(\"Home\")\n",
    "    dfAway = dfAux[dfAux.Team == stringAway].add_prefix(\"Away\")\n",
    "\n",
    "    # dfHome.reset_index(drop=True, inplace=True)\n",
    "    # dfAway.reset_index(drop=True, inplace=True)\n",
    "    if len(dfHome) + len(dfAway) == 2: \n",
    "        indexHistorical.append(i)\n",
    "    # concat = pd.concat([dfHome, dfAway], axis = 1)\n",
    "    # test.append(concat)\n",
    "    # Buscamos los partidos que tenemos información\n",
    "    "
   ]
  },
  {
   "cell_type": "code",
   "execution_count": 18,
   "id": "8d7a0856",
   "metadata": {},
   "outputs": [],
   "source": [
    "# Creamos el dataframe de partidos a buscar\n",
    "\n",
    "dfHistoricoCompatible = dfHistorico.iloc[indexHistorical].reset_index(drop=True)\n",
    "dfHistoricoCompatible = dfHistoricoCompatible.dropna(axis=0)"
   ]
  },
  {
   "cell_type": "code",
   "execution_count": 19,
   "id": "b92f213d",
   "metadata": {},
   "outputs": [
    {
     "data": {
      "text/html": [
       "<div>\n",
       "<style scoped>\n",
       "    .dataframe tbody tr th:only-of-type {\n",
       "        vertical-align: middle;\n",
       "    }\n",
       "\n",
       "    .dataframe tbody tr th {\n",
       "        vertical-align: top;\n",
       "    }\n",
       "\n",
       "    .dataframe thead th {\n",
       "        text-align: right;\n",
       "    }\n",
       "</style>\n",
       "<table border=\"1\" class=\"dataframe\">\n",
       "  <thead>\n",
       "    <tr style=\"text-align: right;\">\n",
       "      <th></th>\n",
       "      <th>Wk</th>\n",
       "      <th>Date</th>\n",
       "      <th>Team_home</th>\n",
       "      <th>Team_away</th>\n",
       "      <th>Goals_home</th>\n",
       "      <th>Goals_away</th>\n",
       "      <th>score_prom_home</th>\n",
       "      <th>score_prom_away</th>\n",
       "      <th>wins_home</th>\n",
       "      <th>wins_away</th>\n",
       "      <th>...</th>\n",
       "      <th>points_away</th>\n",
       "      <th>streak_home</th>\n",
       "      <th>streak_away</th>\n",
       "      <th>wins_in_last_5_matches_home</th>\n",
       "      <th>wins_in_last_5_matches_away</th>\n",
       "      <th>ties_in_last_5_matches_home</th>\n",
       "      <th>ties_in_last_5_matches_away</th>\n",
       "      <th>losses_in_last_5_matches_home</th>\n",
       "      <th>losses_in_last_5_matches_away</th>\n",
       "      <th>result</th>\n",
       "    </tr>\n",
       "  </thead>\n",
       "  <tbody>\n",
       "    <tr>\n",
       "      <th>0</th>\n",
       "      <td>1.0</td>\n",
       "      <td>2010-08-14</td>\n",
       "      <td>Bolton</td>\n",
       "      <td>Fulham</td>\n",
       "      <td>0.0</td>\n",
       "      <td>0.0</td>\n",
       "      <td>0.000000</td>\n",
       "      <td>0.000000</td>\n",
       "      <td>0.0</td>\n",
       "      <td>0.0</td>\n",
       "      <td>...</td>\n",
       "      <td>0.0</td>\n",
       "      <td>0.0</td>\n",
       "      <td>0.0</td>\n",
       "      <td>0.0</td>\n",
       "      <td>0.0</td>\n",
       "      <td>0.0</td>\n",
       "      <td>0.0</td>\n",
       "      <td>0.0</td>\n",
       "      <td>0.0</td>\n",
       "      <td>0</td>\n",
       "    </tr>\n",
       "    <tr>\n",
       "      <th>1</th>\n",
       "      <td>1.0</td>\n",
       "      <td>2010-08-14</td>\n",
       "      <td>Wigan</td>\n",
       "      <td>Blackpool</td>\n",
       "      <td>0.0</td>\n",
       "      <td>4.0</td>\n",
       "      <td>0.000000</td>\n",
       "      <td>0.000000</td>\n",
       "      <td>0.0</td>\n",
       "      <td>0.0</td>\n",
       "      <td>...</td>\n",
       "      <td>0.0</td>\n",
       "      <td>0.0</td>\n",
       "      <td>0.0</td>\n",
       "      <td>0.0</td>\n",
       "      <td>0.0</td>\n",
       "      <td>0.0</td>\n",
       "      <td>0.0</td>\n",
       "      <td>0.0</td>\n",
       "      <td>0.0</td>\n",
       "      <td>2</td>\n",
       "    </tr>\n",
       "    <tr>\n",
       "      <th>2</th>\n",
       "      <td>1.0</td>\n",
       "      <td>2010-08-14</td>\n",
       "      <td>Tottenham</td>\n",
       "      <td>Man City</td>\n",
       "      <td>0.0</td>\n",
       "      <td>0.0</td>\n",
       "      <td>0.000000</td>\n",
       "      <td>0.000000</td>\n",
       "      <td>0.0</td>\n",
       "      <td>0.0</td>\n",
       "      <td>...</td>\n",
       "      <td>0.0</td>\n",
       "      <td>0.0</td>\n",
       "      <td>0.0</td>\n",
       "      <td>0.0</td>\n",
       "      <td>0.0</td>\n",
       "      <td>0.0</td>\n",
       "      <td>0.0</td>\n",
       "      <td>0.0</td>\n",
       "      <td>0.0</td>\n",
       "      <td>0</td>\n",
       "    </tr>\n",
       "    <tr>\n",
       "      <th>3</th>\n",
       "      <td>1.0</td>\n",
       "      <td>2010-08-14</td>\n",
       "      <td>Aston Villa</td>\n",
       "      <td>West Ham</td>\n",
       "      <td>3.0</td>\n",
       "      <td>0.0</td>\n",
       "      <td>0.000000</td>\n",
       "      <td>0.000000</td>\n",
       "      <td>0.0</td>\n",
       "      <td>0.0</td>\n",
       "      <td>...</td>\n",
       "      <td>0.0</td>\n",
       "      <td>0.0</td>\n",
       "      <td>0.0</td>\n",
       "      <td>0.0</td>\n",
       "      <td>0.0</td>\n",
       "      <td>0.0</td>\n",
       "      <td>0.0</td>\n",
       "      <td>0.0</td>\n",
       "      <td>0.0</td>\n",
       "      <td>1</td>\n",
       "    </tr>\n",
       "    <tr>\n",
       "      <th>4</th>\n",
       "      <td>1.0</td>\n",
       "      <td>2010-08-14</td>\n",
       "      <td>Chelsea</td>\n",
       "      <td>WBA</td>\n",
       "      <td>6.0</td>\n",
       "      <td>0.0</td>\n",
       "      <td>0.000000</td>\n",
       "      <td>0.000000</td>\n",
       "      <td>0.0</td>\n",
       "      <td>0.0</td>\n",
       "      <td>...</td>\n",
       "      <td>0.0</td>\n",
       "      <td>0.0</td>\n",
       "      <td>0.0</td>\n",
       "      <td>0.0</td>\n",
       "      <td>0.0</td>\n",
       "      <td>0.0</td>\n",
       "      <td>0.0</td>\n",
       "      <td>0.0</td>\n",
       "      <td>0.0</td>\n",
       "      <td>1</td>\n",
       "    </tr>\n",
       "    <tr>\n",
       "      <th>...</th>\n",
       "      <td>...</td>\n",
       "      <td>...</td>\n",
       "      <td>...</td>\n",
       "      <td>...</td>\n",
       "      <td>...</td>\n",
       "      <td>...</td>\n",
       "      <td>...</td>\n",
       "      <td>...</td>\n",
       "      <td>...</td>\n",
       "      <td>...</td>\n",
       "      <td>...</td>\n",
       "      <td>...</td>\n",
       "      <td>...</td>\n",
       "      <td>...</td>\n",
       "      <td>...</td>\n",
       "      <td>...</td>\n",
       "      <td>...</td>\n",
       "      <td>...</td>\n",
       "      <td>...</td>\n",
       "      <td>...</td>\n",
       "      <td>...</td>\n",
       "    </tr>\n",
       "    <tr>\n",
       "      <th>22204</th>\n",
       "      <td>23.0</td>\n",
       "      <td>2024-02-23</td>\n",
       "      <td>Leverkusen</td>\n",
       "      <td>Mainz</td>\n",
       "      <td>2.0</td>\n",
       "      <td>1.0</td>\n",
       "      <td>2.590909</td>\n",
       "      <td>0.772727</td>\n",
       "      <td>18.0</td>\n",
       "      <td>2.0</td>\n",
       "      <td>...</td>\n",
       "      <td>15.0</td>\n",
       "      <td>22.0</td>\n",
       "      <td>1.0</td>\n",
       "      <td>4.0</td>\n",
       "      <td>1.0</td>\n",
       "      <td>1.0</td>\n",
       "      <td>1.0</td>\n",
       "      <td>0.0</td>\n",
       "      <td>3.0</td>\n",
       "      <td>1</td>\n",
       "    </tr>\n",
       "    <tr>\n",
       "      <th>22205</th>\n",
       "      <td>23.0</td>\n",
       "      <td>2024-02-24</td>\n",
       "      <td>Borussia M.Gladbach</td>\n",
       "      <td>Bochum</td>\n",
       "      <td>5.0</td>\n",
       "      <td>2.0</td>\n",
       "      <td>1.636364</td>\n",
       "      <td>1.181818</td>\n",
       "      <td>5.0</td>\n",
       "      <td>5.0</td>\n",
       "      <td>...</td>\n",
       "      <td>25.0</td>\n",
       "      <td>0.0</td>\n",
       "      <td>3.0</td>\n",
       "      <td>0.0</td>\n",
       "      <td>1.0</td>\n",
       "      <td>2.0</td>\n",
       "      <td>3.0</td>\n",
       "      <td>3.0</td>\n",
       "      <td>1.0</td>\n",
       "      <td>1</td>\n",
       "    </tr>\n",
       "    <tr>\n",
       "      <th>22206</th>\n",
       "      <td>23.0</td>\n",
       "      <td>2024-02-24</td>\n",
       "      <td>Stuttgart</td>\n",
       "      <td>FC Koln</td>\n",
       "      <td>1.0</td>\n",
       "      <td>1.0</td>\n",
       "      <td>2.318182</td>\n",
       "      <td>0.681818</td>\n",
       "      <td>15.0</td>\n",
       "      <td>3.0</td>\n",
       "      <td>...</td>\n",
       "      <td>16.0</td>\n",
       "      <td>4.0</td>\n",
       "      <td>0.0</td>\n",
       "      <td>4.0</td>\n",
       "      <td>1.0</td>\n",
       "      <td>0.0</td>\n",
       "      <td>2.0</td>\n",
       "      <td>1.0</td>\n",
       "      <td>2.0</td>\n",
       "      <td>0</td>\n",
       "    </tr>\n",
       "    <tr>\n",
       "      <th>22207</th>\n",
       "      <td>23.0</td>\n",
       "      <td>2024-02-24</td>\n",
       "      <td>Union Berlin</td>\n",
       "      <td>FC Heidenheim</td>\n",
       "      <td>2.0</td>\n",
       "      <td>2.0</td>\n",
       "      <td>0.954545</td>\n",
       "      <td>1.409091</td>\n",
       "      <td>7.0</td>\n",
       "      <td>7.0</td>\n",
       "      <td>...</td>\n",
       "      <td>27.0</td>\n",
       "      <td>2.0</td>\n",
       "      <td>0.0</td>\n",
       "      <td>3.0</td>\n",
       "      <td>1.0</td>\n",
       "      <td>1.0</td>\n",
       "      <td>3.0</td>\n",
       "      <td>1.0</td>\n",
       "      <td>1.0</td>\n",
       "      <td>0</td>\n",
       "    </tr>\n",
       "    <tr>\n",
       "      <th>22208</th>\n",
       "      <td>23.0</td>\n",
       "      <td>2024-02-24</td>\n",
       "      <td>Werder Bremen</td>\n",
       "      <td>Darmstadt</td>\n",
       "      <td>1.0</td>\n",
       "      <td>1.0</td>\n",
       "      <td>1.409091</td>\n",
       "      <td>1.045455</td>\n",
       "      <td>8.0</td>\n",
       "      <td>2.0</td>\n",
       "      <td>...</td>\n",
       "      <td>12.0</td>\n",
       "      <td>1.0</td>\n",
       "      <td>0.0</td>\n",
       "      <td>4.0</td>\n",
       "      <td>0.0</td>\n",
       "      <td>0.0</td>\n",
       "      <td>2.0</td>\n",
       "      <td>1.0</td>\n",
       "      <td>3.0</td>\n",
       "      <td>0</td>\n",
       "    </tr>\n",
       "  </tbody>\n",
       "</table>\n",
       "<p>22209 rows × 29 columns</p>\n",
       "</div>"
      ],
      "text/plain": [
       "         Wk        Date            Team_home      Team_away  Goals_home  \\\n",
       "0       1.0  2010-08-14               Bolton         Fulham         0.0   \n",
       "1       1.0  2010-08-14                Wigan      Blackpool         0.0   \n",
       "2       1.0  2010-08-14            Tottenham       Man City         0.0   \n",
       "3       1.0  2010-08-14          Aston Villa       West Ham         3.0   \n",
       "4       1.0  2010-08-14              Chelsea            WBA         6.0   \n",
       "...     ...         ...                  ...            ...         ...   \n",
       "22204  23.0  2024-02-23           Leverkusen          Mainz         2.0   \n",
       "22205  23.0  2024-02-24  Borussia M.Gladbach         Bochum         5.0   \n",
       "22206  23.0  2024-02-24            Stuttgart        FC Koln         1.0   \n",
       "22207  23.0  2024-02-24         Union Berlin  FC Heidenheim         2.0   \n",
       "22208  23.0  2024-02-24        Werder Bremen      Darmstadt         1.0   \n",
       "\n",
       "       Goals_away  score_prom_home  score_prom_away  wins_home  wins_away  \\\n",
       "0             0.0         0.000000         0.000000        0.0        0.0   \n",
       "1             4.0         0.000000         0.000000        0.0        0.0   \n",
       "2             0.0         0.000000         0.000000        0.0        0.0   \n",
       "3             0.0         0.000000         0.000000        0.0        0.0   \n",
       "4             0.0         0.000000         0.000000        0.0        0.0   \n",
       "...           ...              ...              ...        ...        ...   \n",
       "22204         1.0         2.590909         0.772727       18.0        2.0   \n",
       "22205         2.0         1.636364         1.181818        5.0        5.0   \n",
       "22206         1.0         2.318182         0.681818       15.0        3.0   \n",
       "22207         2.0         0.954545         1.409091        7.0        7.0   \n",
       "22208         1.0         1.409091         1.045455        8.0        2.0   \n",
       "\n",
       "       ...  points_away  streak_home  streak_away  \\\n",
       "0      ...          0.0          0.0          0.0   \n",
       "1      ...          0.0          0.0          0.0   \n",
       "2      ...          0.0          0.0          0.0   \n",
       "3      ...          0.0          0.0          0.0   \n",
       "4      ...          0.0          0.0          0.0   \n",
       "...    ...          ...          ...          ...   \n",
       "22204  ...         15.0         22.0          1.0   \n",
       "22205  ...         25.0          0.0          3.0   \n",
       "22206  ...         16.0          4.0          0.0   \n",
       "22207  ...         27.0          2.0          0.0   \n",
       "22208  ...         12.0          1.0          0.0   \n",
       "\n",
       "       wins_in_last_5_matches_home  wins_in_last_5_matches_away  \\\n",
       "0                              0.0                          0.0   \n",
       "1                              0.0                          0.0   \n",
       "2                              0.0                          0.0   \n",
       "3                              0.0                          0.0   \n",
       "4                              0.0                          0.0   \n",
       "...                            ...                          ...   \n",
       "22204                          4.0                          1.0   \n",
       "22205                          0.0                          1.0   \n",
       "22206                          4.0                          1.0   \n",
       "22207                          3.0                          1.0   \n",
       "22208                          4.0                          0.0   \n",
       "\n",
       "       ties_in_last_5_matches_home  ties_in_last_5_matches_away  \\\n",
       "0                              0.0                          0.0   \n",
       "1                              0.0                          0.0   \n",
       "2                              0.0                          0.0   \n",
       "3                              0.0                          0.0   \n",
       "4                              0.0                          0.0   \n",
       "...                            ...                          ...   \n",
       "22204                          1.0                          1.0   \n",
       "22205                          2.0                          3.0   \n",
       "22206                          0.0                          2.0   \n",
       "22207                          1.0                          3.0   \n",
       "22208                          0.0                          2.0   \n",
       "\n",
       "       losses_in_last_5_matches_home  losses_in_last_5_matches_away  result  \n",
       "0                                0.0                            0.0       0  \n",
       "1                                0.0                            0.0       2  \n",
       "2                                0.0                            0.0       0  \n",
       "3                                0.0                            0.0       1  \n",
       "4                                0.0                            0.0       1  \n",
       "...                              ...                            ...     ...  \n",
       "22204                            0.0                            3.0       1  \n",
       "22205                            3.0                            1.0       1  \n",
       "22206                            1.0                            2.0       0  \n",
       "22207                            1.0                            1.0       0  \n",
       "22208                            1.0                            3.0       0  \n",
       "\n",
       "[22209 rows x 29 columns]"
      ]
     },
     "execution_count": 19,
     "metadata": {},
     "output_type": "execute_result"
    }
   ],
   "source": [
    "dfHistoricoCompatible"
   ]
  },
  {
   "cell_type": "code",
   "execution_count": 20,
   "id": "5d4867c1",
   "metadata": {},
   "outputs": [
    {
     "data": {
      "text/plain": [
       "Wk                               0\n",
       "Date                             0\n",
       "Team_home                        0\n",
       "Team_away                        0\n",
       "Goals_home                       0\n",
       "Goals_away                       0\n",
       "score_prom_home                  0\n",
       "score_prom_away                  0\n",
       "wins_home                        0\n",
       "wins_away                        0\n",
       "ties_home                        0\n",
       "ties_away                        0\n",
       "losses_home                      0\n",
       "losses_away                      0\n",
       "total_goals_home                 0\n",
       "total_goals_away                 0\n",
       "total_goals_conceded_home        0\n",
       "total_goals_conceded_away        0\n",
       "points_home                      0\n",
       "points_away                      0\n",
       "streak_home                      0\n",
       "streak_away                      0\n",
       "wins_in_last_5_matches_home      0\n",
       "wins_in_last_5_matches_away      0\n",
       "ties_in_last_5_matches_home      0\n",
       "ties_in_last_5_matches_away      0\n",
       "losses_in_last_5_matches_home    0\n",
       "losses_in_last_5_matches_away    0\n",
       "result                           0\n",
       "dtype: int64"
      ]
     },
     "execution_count": 20,
     "metadata": {},
     "output_type": "execute_result"
    }
   ],
   "source": [
    "dfHistoricoCompatible.isnull().sum()"
   ]
  },
  {
   "cell_type": "code",
   "execution_count": 21,
   "id": "d9b54072",
   "metadata": {},
   "outputs": [
    {
     "name": "stderr",
     "output_type": "stream",
     "text": [
      "100%|██████████| 22209/22209 [1:08:09<00:00,  5.43it/s]\n"
     ]
    }
   ],
   "source": [
    "goals_succ = dfEvent.filter(regex='Goal_Successful_bin').columns.tolist()\n",
    "goals_unsucc = dfEvent.filter(regex='Goal_Unsuccessful_bin').columns.tolist()\n",
    "goals_succ.extend(goals_unsucc)\n",
    "goals = goals_succ\n",
    "\n",
    "# intervals = [\"0-45\",\"45-90\"]\n",
    "# intervals = [\"0-15\",\"15-30\",\"30-45\",\"45-60\",\"60-75\",\"75-90\"]\n",
    "intervals = [\"0-5\",\"5-10\",\"10-15\",\"15-20\",\"20-25\",\"25-30\", \"30-35\",\"35-40\",\"40-45\",\n",
    "             \"45-50\",\"50-55\",\"55-60\",\"60-65\",\"65-70\",\"70-75\", \"75-80\",\"80-85\",\"85-90\"]\n",
    "\n",
    "Xdata = []\n",
    "ydata = []\n",
    "for i in tqdm(range(len(dfHistoricoCompatible))):\n",
    "    stringHome = dfHistoricoCompatible.iloc[i].Team_home\n",
    "    stringAway = dfHistoricoCompatible.iloc[i].Team_away\n",
    "    date = dfHistoricoCompatible.iloc[i].Date\n",
    "\n",
    "    dfAux = dfEvent[dfEvent.Date == date].drop(goals, axis=1) #Test sin los goles\n",
    "\n",
    "    dfHome = dfAux[dfAux.Team == stringHome].add_prefix(\"Home\")\n",
    "    dfAway = dfAux[dfAux.Team == stringAway].add_prefix(\"Away\")\n",
    "\n",
    "    # Dropear valores redundantes\n",
    "    dfHome = dfHome.drop([\"HomeTeam\",\"HomeDate\",\"HomeGoals\",\"Homegame_id\"], axis = 1)\n",
    "    dfAway = dfAway.drop([\"AwayTeam\",\"AwayDate\",\"AwayGoals\",\"Awaygame_id\"], axis = 1)\n",
    "\n",
    "    dfHome.reset_index(drop=True, inplace=True)\n",
    "    dfAway.reset_index(drop=True, inplace=True)\n",
    "\n",
    "    concat = pd.concat([dfHome, dfAway], axis = 1).reset_index(drop=True)\n",
    "    x = []\n",
    "    if len(concat) == 0:\n",
    "        pass\n",
    "    else:\n",
    "        for inter in intervals:\n",
    "            intervals_columns = concat.filter(regex=f'{inter}$').columns.tolist()\n",
    "            hist = dfHistoricoCompatible.iloc[i:i+1].drop([\"Date\", \"Team_home\", \"Team_away\", \"result\", \"Goals_home\", \"Goals_away\", \"Wk\"], axis=1).values\n",
    "            x.append(np.append(concat[intervals_columns].values[0], hist))\n",
    "        ydata.append(dfHistoricoCompatible.iloc[i:i+1][\"result\"].values[0])\n",
    "        x = np.array(x)\n",
    "        Xdata.append(x)"
   ]
  },
  {
   "cell_type": "code",
   "execution_count": 22,
   "id": "d4357a19",
   "metadata": {},
   "outputs": [],
   "source": [
    "# Para guardar el dataset y no correrlo varias veces \n",
    "np.save(\"Space4x3Time5NOGOALS.npy\", np.array(Xdata))\n",
    "np.save(\"LabelsSpace4x3Time5.npy\", np.array(ydata))\n",
    "\n",
    "Xdata = np.load(\"Space4x3Time5NOGOALS.npy\")\n",
    "ydata = np.load(\"LabelsSpace4x3Time5.npy\")"
   ]
  },
  {
   "cell_type": "code",
   "execution_count": 23,
   "id": "1e882018",
   "metadata": {},
   "outputs": [],
   "source": [
    "# Full data\n",
    "X = np.array(Xdata)\n",
    "y = np.array(ydata)\n",
    "y = to_categorical(y, num_classes=3)\n",
    "\n",
    "# Mitad de los datos\n",
    "# X = np.array(Xdata)[:, :10, :]\n"
   ]
  },
  {
   "cell_type": "code",
   "execution_count": 24,
   "id": "b2e42354",
   "metadata": {},
   "outputs": [
    {
     "data": {
      "text/plain": [
       "(22209, 18, 1222)"
      ]
     },
     "execution_count": 24,
     "metadata": {},
     "output_type": "execute_result"
    }
   ],
   "source": [
    "X.shape"
   ]
  },
  {
   "cell_type": "code",
   "execution_count": 25,
   "id": "0f34e393",
   "metadata": {},
   "outputs": [
    {
     "data": {
      "text/plain": [
       "(22209, 3)"
      ]
     },
     "execution_count": 25,
     "metadata": {},
     "output_type": "execute_result"
    }
   ],
   "source": [
    "y.shape"
   ]
  },
  {
   "cell_type": "code",
   "execution_count": 26,
   "id": "a29de717",
   "metadata": {},
   "outputs": [],
   "source": [
    "# Dividir los datos en conjuntos de entrenamiento y prueba\n",
    "split = int(0.8 * X.shape[0])\n",
    "X_train, X_test = X[:split], X[split:]\n",
    "y_train, y_test = y[:split], y[split:]"
   ]
  },
  {
   "cell_type": "code",
   "execution_count": 27,
   "id": "f83e49a4",
   "metadata": {},
   "outputs": [],
   "source": [
    "# Sin clean\n",
    "# scaler = MinMaxScaler()\n",
    "# X_train_reshaped = X_train.reshape(-1, X.shape[2])\n",
    "# X_train_normalized = scaler.fit_transform(X_train_reshaped)\n",
    "# X_train_normalized = X_train_normalized.reshape(X_train.shape[0], X_train.shape[1], X_train.shape[2])\n",
    "\n",
    "# X_test_reshaped = X_test.reshape(-1, X.shape[2])\n",
    "# X_test_normalized = scaler.transform(X_test_reshaped)\n",
    "# X_test_normalized = X_test_normalized.reshape(X_test.shape[0], X_test.shape[1], X_test.shape[2])\n",
    "\n",
    "\n",
    "# Con clean \n",
    "X_train_reshaped = X_train.reshape(-1, X.shape[2])\n",
    "X_test_reshaped = X_test.reshape(-1, X.shape[2])\n",
    "\n",
    "sclean  = clean(X_train_reshaped)      # indices of selected features\n",
    "X_train_reshaped = deepcopy(X_train_reshaped[:,sclean])\n",
    "X_test_reshaped = deepcopy(X_test_reshaped[:,sclean])\n",
    "\n",
    "scaler = MinMaxScaler()\n",
    "X_train_normalized = scaler.fit_transform(X_train_reshaped)\n",
    "X_test_normalized = scaler.transform(X_test_reshaped)\n",
    "\n",
    "X_train_normalized = X_train_normalized.reshape(X_train.shape[0], X_train.shape[1], len(sclean))\n",
    "X_test_normalized = X_test_normalized.reshape(X_test.shape[0], X_test.shape[1], len(sclean))\n"
   ]
  },
  {
   "cell_type": "code",
   "execution_count": 28,
   "id": "2a287a9d",
   "metadata": {},
   "outputs": [
    {
     "data": {
      "text/plain": [
       "(17767, 18, 742)"
      ]
     },
     "execution_count": 28,
     "metadata": {},
     "output_type": "execute_result"
    }
   ],
   "source": [
    "X_train_normalized.shape"
   ]
  },
  {
   "cell_type": "code",
   "execution_count": 29,
   "id": "59fc8894",
   "metadata": {},
   "outputs": [
    {
     "name": "stdout",
     "output_type": "stream",
     "text": [
      "Num GPUs Available:  1\n"
     ]
    }
   ],
   "source": [
    "print(\"Num GPUs Available: \", len(tf.config.experimental.list_physical_devices('GPU')))\n",
    "physical_devices = tf.config.list_physical_devices('GPU')"
   ]
  },
  {
   "cell_type": "code",
   "execution_count": 30,
   "id": "9a4e48ee",
   "metadata": {},
   "outputs": [],
   "source": [
    "from tensorflow.keras.layers import Masking, LSTM, Dense"
   ]
  },
  {
   "cell_type": "code",
   "execution_count": 33,
   "id": "24e295fb",
   "metadata": {},
   "outputs": [
    {
     "name": "stdout",
     "output_type": "stream",
     "text": [
      "Epoch 1/1000\n",
      "1109/1111 [============================>.] - ETA: 0s - loss: 44.9383 - accuracy: 0.4212"
     ]
    },
    {
     "name": "stderr",
     "output_type": "stream",
     "text": [
      "WARNING:absl:Found untraced functions such as lstm_cell_4_layer_call_fn, lstm_cell_4_layer_call_and_return_conditional_losses, lstm_cell_5_layer_call_fn, lstm_cell_5_layer_call_and_return_conditional_losses, lstm_cell_6_layer_call_fn while saving (showing 5 of 8). These functions will not be directly callable after loading.\n"
     ]
    },
    {
     "name": "stdout",
     "output_type": "stream",
     "text": [
      "INFO:tensorflow:Assets written to: models\\InGameNoGoals\\assets\n"
     ]
    },
    {
     "name": "stderr",
     "output_type": "stream",
     "text": [
      "INFO:tensorflow:Assets written to: models\\InGameNoGoals\\assets\n"
     ]
    },
    {
     "name": "stdout",
     "output_type": "stream",
     "text": [
      "1111/1111 [==============================] - 37s 29ms/step - loss: 44.8817 - accuracy: 0.4214 - val_loss: 3.1642 - val_accuracy: 0.4928 - lr: 0.0010\n",
      "Epoch 2/1000\n",
      "1108/1111 [============================>.] - ETA: 0s - loss: 1.4212 - accuracy: 0.4404"
     ]
    },
    {
     "name": "stderr",
     "output_type": "stream",
     "text": [
      "WARNING:absl:Found untraced functions such as lstm_cell_4_layer_call_fn, lstm_cell_4_layer_call_and_return_conditional_losses, lstm_cell_5_layer_call_fn, lstm_cell_5_layer_call_and_return_conditional_losses, lstm_cell_6_layer_call_fn while saving (showing 5 of 8). These functions will not be directly callable after loading.\n"
     ]
    },
    {
     "name": "stdout",
     "output_type": "stream",
     "text": [
      "INFO:tensorflow:Assets written to: models\\InGameNoGoals\\assets\n"
     ]
    },
    {
     "name": "stderr",
     "output_type": "stream",
     "text": [
      "INFO:tensorflow:Assets written to: models\\InGameNoGoals\\assets\n"
     ]
    },
    {
     "name": "stdout",
     "output_type": "stream",
     "text": [
      "1111/1111 [==============================] - 29s 26ms/step - loss: 1.4209 - accuracy: 0.4403 - val_loss: 1.8838 - val_accuracy: 0.3041 - lr: 0.0010\n",
      "Epoch 3/1000\n",
      "1111/1111 [==============================] - 18s 16ms/step - loss: 1.2010 - accuracy: 0.4650 - val_loss: 2.5643 - val_accuracy: 0.2458 - lr: 0.0010\n",
      "Epoch 4/1000\n",
      "1110/1111 [============================>.] - ETA: 0s - loss: 1.1612 - accuracy: 0.5630"
     ]
    },
    {
     "name": "stderr",
     "output_type": "stream",
     "text": [
      "WARNING:absl:Found untraced functions such as lstm_cell_4_layer_call_fn, lstm_cell_4_layer_call_and_return_conditional_losses, lstm_cell_5_layer_call_fn, lstm_cell_5_layer_call_and_return_conditional_losses, lstm_cell_6_layer_call_fn while saving (showing 5 of 8). These functions will not be directly callable after loading.\n"
     ]
    },
    {
     "name": "stdout",
     "output_type": "stream",
     "text": [
      "INFO:tensorflow:Assets written to: models\\InGameNoGoals\\assets\n"
     ]
    },
    {
     "name": "stderr",
     "output_type": "stream",
     "text": [
      "INFO:tensorflow:Assets written to: models\\InGameNoGoals\\assets\n"
     ]
    },
    {
     "name": "stdout",
     "output_type": "stream",
     "text": [
      "1111/1111 [==============================] - 29s 26ms/step - loss: 1.1611 - accuracy: 0.5630 - val_loss: 1.5707 - val_accuracy: 0.5525 - lr: 0.0010\n",
      "Epoch 5/1000\n",
      "1111/1111 [==============================] - 20s 17ms/step - loss: 0.9462 - accuracy: 0.6511 - val_loss: 1.8432 - val_accuracy: 0.4698 - lr: 0.0010\n",
      "Epoch 6/1000\n",
      "1109/1111 [============================>.] - ETA: 0s - loss: 0.8928 - accuracy: 0.6564"
     ]
    },
    {
     "name": "stderr",
     "output_type": "stream",
     "text": [
      "WARNING:absl:Found untraced functions such as lstm_cell_4_layer_call_fn, lstm_cell_4_layer_call_and_return_conditional_losses, lstm_cell_5_layer_call_fn, lstm_cell_5_layer_call_and_return_conditional_losses, lstm_cell_6_layer_call_fn while saving (showing 5 of 8). These functions will not be directly callable after loading.\n"
     ]
    },
    {
     "name": "stdout",
     "output_type": "stream",
     "text": [
      "INFO:tensorflow:Assets written to: models\\InGameNoGoals\\assets\n"
     ]
    },
    {
     "name": "stderr",
     "output_type": "stream",
     "text": [
      "INFO:tensorflow:Assets written to: models\\InGameNoGoals\\assets\n"
     ]
    },
    {
     "name": "stdout",
     "output_type": "stream",
     "text": [
      "1111/1111 [==============================] - 29s 26ms/step - loss: 0.8926 - accuracy: 0.6566 - val_loss: 0.9271 - val_accuracy: 0.6697 - lr: 0.0010\n",
      "Epoch 7/1000\n",
      "1111/1111 [==============================] - 19s 17ms/step - loss: 0.8667 - accuracy: 0.6591 - val_loss: 1.2441 - val_accuracy: 0.5371 - lr: 0.0010\n",
      "Epoch 8/1000\n",
      "1111/1111 [==============================] - 19s 17ms/step - loss: 0.8512 - accuracy: 0.6633 - val_loss: 0.9531 - val_accuracy: 0.5955 - lr: 0.0010\n",
      "Epoch 9/1000\n",
      "1111/1111 [==============================] - 19s 17ms/step - loss: 0.8509 - accuracy: 0.6624 - val_loss: 1.8598 - val_accuracy: 0.4644 - lr: 0.0010\n",
      "Epoch 10/1000\n",
      "1111/1111 [==============================] - 19s 17ms/step - loss: 0.8471 - accuracy: 0.6680 - val_loss: 3.1941 - val_accuracy: 0.3041 - lr: 0.0010\n",
      "Epoch 11/1000\n",
      "1111/1111 [==============================] - 19s 17ms/step - loss: 0.8435 - accuracy: 0.6671 - val_loss: 2.6278 - val_accuracy: 0.3192 - lr: 0.0010\n",
      "Epoch 12/1000\n",
      "1111/1111 [==============================] - 19s 17ms/step - loss: 0.8354 - accuracy: 0.6683 - val_loss: 1.1146 - val_accuracy: 0.5810 - lr: 0.0010\n",
      "Epoch 13/1000\n",
      "1111/1111 [==============================] - 18s 17ms/step - loss: 0.8323 - accuracy: 0.6694 - val_loss: 1.2130 - val_accuracy: 0.5588 - lr: 0.0010\n",
      "Epoch 14/1000\n",
      "1111/1111 [==============================] - 20s 18ms/step - loss: 0.8256 - accuracy: 0.6678 - val_loss: 2.0264 - val_accuracy: 0.3609 - lr: 0.0010\n",
      "Epoch 15/1000\n",
      "1111/1111 [==============================] - 19s 17ms/step - loss: 0.8281 - accuracy: 0.6679 - val_loss: 1.1112 - val_accuracy: 0.5594 - lr: 0.0010\n",
      "Epoch 16/1000\n",
      "1111/1111 [==============================] - ETA: 0s - loss: 0.8325 - accuracy: 0.6723"
     ]
    },
    {
     "name": "stderr",
     "output_type": "stream",
     "text": [
      "WARNING:absl:Found untraced functions such as lstm_cell_4_layer_call_fn, lstm_cell_4_layer_call_and_return_conditional_losses, lstm_cell_5_layer_call_fn, lstm_cell_5_layer_call_and_return_conditional_losses, lstm_cell_6_layer_call_fn while saving (showing 5 of 8). These functions will not be directly callable after loading.\n"
     ]
    },
    {
     "name": "stdout",
     "output_type": "stream",
     "text": [
      "INFO:tensorflow:Assets written to: models\\InGameNoGoals\\assets\n"
     ]
    },
    {
     "name": "stderr",
     "output_type": "stream",
     "text": [
      "INFO:tensorflow:Assets written to: models\\InGameNoGoals\\assets\n"
     ]
    },
    {
     "name": "stdout",
     "output_type": "stream",
     "text": [
      "1111/1111 [==============================] - 29s 26ms/step - loss: 0.8325 - accuracy: 0.6723 - val_loss: 0.8931 - val_accuracy: 0.6567 - lr: 0.0010\n",
      "Epoch 17/1000\n",
      "1111/1111 [==============================] - 19s 17ms/step - loss: 0.8339 - accuracy: 0.6698 - val_loss: 0.9360 - val_accuracy: 0.6328 - lr: 0.0010\n",
      "Epoch 18/1000\n",
      "1111/1111 [==============================] - ETA: 0s - loss: 0.8277 - accuracy: 0.6666"
     ]
    },
    {
     "name": "stderr",
     "output_type": "stream",
     "text": [
      "WARNING:absl:Found untraced functions such as lstm_cell_4_layer_call_fn, lstm_cell_4_layer_call_and_return_conditional_losses, lstm_cell_5_layer_call_fn, lstm_cell_5_layer_call_and_return_conditional_losses, lstm_cell_6_layer_call_fn while saving (showing 5 of 8). These functions will not be directly callable after loading.\n"
     ]
    },
    {
     "name": "stdout",
     "output_type": "stream",
     "text": [
      "INFO:tensorflow:Assets written to: models\\InGameNoGoals\\assets\n"
     ]
    },
    {
     "name": "stderr",
     "output_type": "stream",
     "text": [
      "INFO:tensorflow:Assets written to: models\\InGameNoGoals\\assets\n"
     ]
    },
    {
     "name": "stdout",
     "output_type": "stream",
     "text": [
      "1111/1111 [==============================] - 29s 26ms/step - loss: 0.8277 - accuracy: 0.6666 - val_loss: 0.8550 - val_accuracy: 0.6531 - lr: 0.0010\n",
      "Epoch 19/1000\n",
      "1111/1111 [==============================] - 18s 16ms/step - loss: 0.8283 - accuracy: 0.6666 - val_loss: 1.1160 - val_accuracy: 0.5200 - lr: 0.0010\n",
      "Epoch 20/1000\n",
      "1111/1111 [==============================] - 18s 16ms/step - loss: 0.8239 - accuracy: 0.6681 - val_loss: 2.5432 - val_accuracy: 0.3217 - lr: 0.0010\n",
      "Epoch 21/1000\n",
      "1111/1111 [==============================] - 19s 17ms/step - loss: 0.8256 - accuracy: 0.6656 - val_loss: 2.3293 - val_accuracy: 0.3789 - lr: 0.0010\n",
      "Epoch 22/1000\n",
      "1111/1111 [==============================] - 20s 18ms/step - loss: 0.8253 - accuracy: 0.6687 - val_loss: 1.7245 - val_accuracy: 0.4460 - lr: 0.0010\n",
      "Epoch 23/1000\n",
      "1111/1111 [==============================] - 18s 16ms/step - loss: 0.8206 - accuracy: 0.6647 - val_loss: 0.8783 - val_accuracy: 0.6677 - lr: 0.0010\n",
      "Epoch 24/1000\n",
      "1111/1111 [==============================] - 18s 16ms/step - loss: 0.8187 - accuracy: 0.6662 - val_loss: 2.1935 - val_accuracy: 0.4554 - lr: 0.0010\n",
      "Epoch 25/1000\n",
      "1111/1111 [==============================] - 18s 17ms/step - loss: 0.8156 - accuracy: 0.6691 - val_loss: 1.3838 - val_accuracy: 0.5191 - lr: 0.0010\n",
      "Epoch 26/1000\n",
      "1111/1111 [==============================] - 18s 16ms/step - loss: 0.8214 - accuracy: 0.6689 - val_loss: 0.9705 - val_accuracy: 0.5948 - lr: 0.0010\n",
      "Epoch 27/1000\n",
      "1111/1111 [==============================] - 18s 17ms/step - loss: 0.8264 - accuracy: 0.6685 - val_loss: 0.9230 - val_accuracy: 0.6202 - lr: 0.0010\n",
      "Epoch 28/1000\n",
      "1111/1111 [==============================] - 18s 17ms/step - loss: 0.8202 - accuracy: 0.6700 - val_loss: 0.8907 - val_accuracy: 0.6101 - lr: 0.0010\n",
      "Epoch 29/1000\n",
      "1110/1111 [============================>.] - ETA: 0s - loss: 0.7465 - accuracy: 0.6872"
     ]
    },
    {
     "name": "stderr",
     "output_type": "stream",
     "text": [
      "WARNING:absl:Found untraced functions such as lstm_cell_4_layer_call_fn, lstm_cell_4_layer_call_and_return_conditional_losses, lstm_cell_5_layer_call_fn, lstm_cell_5_layer_call_and_return_conditional_losses, lstm_cell_6_layer_call_fn while saving (showing 5 of 8). These functions will not be directly callable after loading.\n"
     ]
    },
    {
     "name": "stdout",
     "output_type": "stream",
     "text": [
      "INFO:tensorflow:Assets written to: models\\InGameNoGoals\\assets\n"
     ]
    },
    {
     "name": "stderr",
     "output_type": "stream",
     "text": [
      "INFO:tensorflow:Assets written to: models\\InGameNoGoals\\assets\n"
     ]
    },
    {
     "name": "stdout",
     "output_type": "stream",
     "text": [
      "1111/1111 [==============================] - 30s 27ms/step - loss: 0.7465 - accuracy: 0.6872 - val_loss: 0.8274 - val_accuracy: 0.6497 - lr: 2.0000e-04\n",
      "Epoch 30/1000\n",
      "1111/1111 [==============================] - 19s 17ms/step - loss: 0.7256 - accuracy: 0.6898 - val_loss: 1.4000 - val_accuracy: 0.4966 - lr: 2.0000e-04\n",
      "Epoch 31/1000\n",
      "1110/1111 [============================>.] - ETA: 0s - loss: 0.7291 - accuracy: 0.6903"
     ]
    },
    {
     "name": "stderr",
     "output_type": "stream",
     "text": [
      "WARNING:absl:Found untraced functions such as lstm_cell_4_layer_call_fn, lstm_cell_4_layer_call_and_return_conditional_losses, lstm_cell_5_layer_call_fn, lstm_cell_5_layer_call_and_return_conditional_losses, lstm_cell_6_layer_call_fn while saving (showing 5 of 8). These functions will not be directly callable after loading.\n"
     ]
    },
    {
     "name": "stdout",
     "output_type": "stream",
     "text": [
      "INFO:tensorflow:Assets written to: models\\InGameNoGoals\\assets\n"
     ]
    },
    {
     "name": "stderr",
     "output_type": "stream",
     "text": [
      "INFO:tensorflow:Assets written to: models\\InGameNoGoals\\assets\n"
     ]
    },
    {
     "name": "stdout",
     "output_type": "stream",
     "text": [
      "1111/1111 [==============================] - 28s 25ms/step - loss: 0.7292 - accuracy: 0.6902 - val_loss: 0.7170 - val_accuracy: 0.6972 - lr: 2.0000e-04\n",
      "Epoch 32/1000\n",
      "1111/1111 [==============================] - 19s 17ms/step - loss: 0.7276 - accuracy: 0.6870 - val_loss: 1.1150 - val_accuracy: 0.5759 - lr: 2.0000e-04\n",
      "Epoch 33/1000\n",
      "1111/1111 [==============================] - 19s 17ms/step - loss: 0.7244 - accuracy: 0.6894 - val_loss: 0.9023 - val_accuracy: 0.5934 - lr: 2.0000e-04\n",
      "Epoch 34/1000\n",
      "1111/1111 [==============================] - 19s 17ms/step - loss: 0.7253 - accuracy: 0.6893 - val_loss: 0.7884 - val_accuracy: 0.6499 - lr: 2.0000e-04\n",
      "Epoch 35/1000\n",
      "1111/1111 [==============================] - 20s 18ms/step - loss: 0.7244 - accuracy: 0.6918 - val_loss: 0.7937 - val_accuracy: 0.6731 - lr: 2.0000e-04\n",
      "Epoch 36/1000\n",
      "1111/1111 [==============================] - 20s 18ms/step - loss: 0.7232 - accuracy: 0.6939 - val_loss: 0.9730 - val_accuracy: 0.5642 - lr: 2.0000e-04\n",
      "Epoch 37/1000\n",
      "1110/1111 [============================>.] - ETA: 0s - loss: 0.7246 - accuracy: 0.6889"
     ]
    },
    {
     "name": "stderr",
     "output_type": "stream",
     "text": [
      "WARNING:absl:Found untraced functions such as lstm_cell_4_layer_call_fn, lstm_cell_4_layer_call_and_return_conditional_losses, lstm_cell_5_layer_call_fn, lstm_cell_5_layer_call_and_return_conditional_losses, lstm_cell_6_layer_call_fn while saving (showing 5 of 8). These functions will not be directly callable after loading.\n"
     ]
    },
    {
     "name": "stdout",
     "output_type": "stream",
     "text": [
      "INFO:tensorflow:Assets written to: models\\InGameNoGoals\\assets\n"
     ]
    },
    {
     "name": "stderr",
     "output_type": "stream",
     "text": [
      "INFO:tensorflow:Assets written to: models\\InGameNoGoals\\assets\n"
     ]
    },
    {
     "name": "stdout",
     "output_type": "stream",
     "text": [
      "1111/1111 [==============================] - 30s 27ms/step - loss: 0.7247 - accuracy: 0.6888 - val_loss: 0.7163 - val_accuracy: 0.6893 - lr: 2.0000e-04\n",
      "Epoch 38/1000\n",
      "1111/1111 [==============================] - 20s 18ms/step - loss: 0.7204 - accuracy: 0.6916 - val_loss: 1.4056 - val_accuracy: 0.5304 - lr: 2.0000e-04\n",
      "Epoch 39/1000\n",
      "1111/1111 [==============================] - 19s 17ms/step - loss: 0.7263 - accuracy: 0.6882 - val_loss: 0.7185 - val_accuracy: 0.6929 - lr: 2.0000e-04\n",
      "Epoch 40/1000\n",
      "1111/1111 [==============================] - 19s 17ms/step - loss: 0.7198 - accuracy: 0.6930 - val_loss: 0.9128 - val_accuracy: 0.5808 - lr: 2.0000e-04\n",
      "Epoch 41/1000\n",
      "1111/1111 [==============================] - 19s 17ms/step - loss: 0.7246 - accuracy: 0.6922 - val_loss: 0.9743 - val_accuracy: 0.6263 - lr: 2.0000e-04\n",
      "Epoch 42/1000\n",
      "1111/1111 [==============================] - 19s 17ms/step - loss: 0.7212 - accuracy: 0.6914 - val_loss: 0.7214 - val_accuracy: 0.6914 - lr: 2.0000e-04\n",
      "Epoch 43/1000\n",
      "1108/1111 [============================>.] - ETA: 0s - loss: 0.7221 - accuracy: 0.6874"
     ]
    },
    {
     "name": "stderr",
     "output_type": "stream",
     "text": [
      "WARNING:absl:Found untraced functions such as lstm_cell_4_layer_call_fn, lstm_cell_4_layer_call_and_return_conditional_losses, lstm_cell_5_layer_call_fn, lstm_cell_5_layer_call_and_return_conditional_losses, lstm_cell_6_layer_call_fn while saving (showing 5 of 8). These functions will not be directly callable after loading.\n"
     ]
    },
    {
     "name": "stdout",
     "output_type": "stream",
     "text": [
      "INFO:tensorflow:Assets written to: models\\InGameNoGoals\\assets\n"
     ]
    },
    {
     "name": "stderr",
     "output_type": "stream",
     "text": [
      "INFO:tensorflow:Assets written to: models\\InGameNoGoals\\assets\n"
     ]
    },
    {
     "name": "stdout",
     "output_type": "stream",
     "text": [
      "1111/1111 [==============================] - 29s 26ms/step - loss: 0.7221 - accuracy: 0.6875 - val_loss: 0.7146 - val_accuracy: 0.6954 - lr: 2.0000e-04\n",
      "Epoch 44/1000\n",
      "1111/1111 [==============================] - 20s 18ms/step - loss: 0.7233 - accuracy: 0.6899 - val_loss: 1.0447 - val_accuracy: 0.5185 - lr: 2.0000e-04\n",
      "Epoch 45/1000\n",
      "1111/1111 [==============================] - 19s 17ms/step - loss: 0.7189 - accuracy: 0.6913 - val_loss: 0.7684 - val_accuracy: 0.6900 - lr: 2.0000e-04\n",
      "Epoch 46/1000\n",
      "1111/1111 [==============================] - 19s 17ms/step - loss: 0.7201 - accuracy: 0.6886 - val_loss: 0.7392 - val_accuracy: 0.6776 - lr: 2.0000e-04\n",
      "Epoch 47/1000\n",
      "1111/1111 [==============================] - 19s 17ms/step - loss: 0.7204 - accuracy: 0.6902 - val_loss: 0.7457 - val_accuracy: 0.6817 - lr: 2.0000e-04\n",
      "Epoch 48/1000\n",
      "1111/1111 [==============================] - 19s 17ms/step - loss: 0.7216 - accuracy: 0.6920 - val_loss: 0.7392 - val_accuracy: 0.6819 - lr: 2.0000e-04\n",
      "Epoch 49/1000\n",
      "1108/1111 [============================>.] - ETA: 0s - loss: 0.7203 - accuracy: 0.6881"
     ]
    },
    {
     "name": "stderr",
     "output_type": "stream",
     "text": [
      "WARNING:absl:Found untraced functions such as lstm_cell_4_layer_call_fn, lstm_cell_4_layer_call_and_return_conditional_losses, lstm_cell_5_layer_call_fn, lstm_cell_5_layer_call_and_return_conditional_losses, lstm_cell_6_layer_call_fn while saving (showing 5 of 8). These functions will not be directly callable after loading.\n"
     ]
    },
    {
     "name": "stdout",
     "output_type": "stream",
     "text": [
      "INFO:tensorflow:Assets written to: models\\InGameNoGoals\\assets\n"
     ]
    },
    {
     "name": "stderr",
     "output_type": "stream",
     "text": [
      "INFO:tensorflow:Assets written to: models\\InGameNoGoals\\assets\n"
     ]
    },
    {
     "name": "stdout",
     "output_type": "stream",
     "text": [
      "1111/1111 [==============================] - 30s 27ms/step - loss: 0.7205 - accuracy: 0.6881 - val_loss: 0.6921 - val_accuracy: 0.7064 - lr: 2.0000e-04\n",
      "Epoch 50/1000\n",
      "1111/1111 [==============================] - 20s 18ms/step - loss: 0.7218 - accuracy: 0.6896 - val_loss: 0.7741 - val_accuracy: 0.6533 - lr: 2.0000e-04\n",
      "Epoch 51/1000\n",
      "1111/1111 [==============================] - 19s 17ms/step - loss: 0.7226 - accuracy: 0.6869 - val_loss: 0.7114 - val_accuracy: 0.6988 - lr: 2.0000e-04\n",
      "Epoch 52/1000\n",
      "1111/1111 [==============================] - 20s 18ms/step - loss: 0.7228 - accuracy: 0.6880 - val_loss: 0.9640 - val_accuracy: 0.6040 - lr: 2.0000e-04\n",
      "Epoch 53/1000\n",
      "1111/1111 [==============================] - 20s 18ms/step - loss: 0.7245 - accuracy: 0.6891 - val_loss: 1.0170 - val_accuracy: 0.6148 - lr: 2.0000e-04\n",
      "Epoch 54/1000\n",
      "1111/1111 [==============================] - 21s 19ms/step - loss: 0.7262 - accuracy: 0.6924 - val_loss: 0.7664 - val_accuracy: 0.6787 - lr: 2.0000e-04\n",
      "Epoch 55/1000\n",
      "1111/1111 [==============================] - 20s 18ms/step - loss: 0.7212 - accuracy: 0.6904 - val_loss: 0.8282 - val_accuracy: 0.6294 - lr: 2.0000e-04\n",
      "Epoch 56/1000\n",
      "1111/1111 [==============================] - 20s 18ms/step - loss: 0.7211 - accuracy: 0.6935 - val_loss: 0.8474 - val_accuracy: 0.5855 - lr: 2.0000e-04\n",
      "Epoch 57/1000\n",
      "1111/1111 [==============================] - 21s 19ms/step - loss: 0.7201 - accuracy: 0.6900 - val_loss: 0.8510 - val_accuracy: 0.6488 - lr: 2.0000e-04\n",
      "Epoch 58/1000\n",
      "1111/1111 [==============================] - 22s 20ms/step - loss: 0.7214 - accuracy: 0.6917 - val_loss: 0.7505 - val_accuracy: 0.6875 - lr: 2.0000e-04\n",
      "Epoch 59/1000\n",
      "1111/1111 [==============================] - 22s 20ms/step - loss: 0.7179 - accuracy: 0.6909 - val_loss: 0.7268 - val_accuracy: 0.6961 - lr: 2.0000e-04\n",
      "Epoch 60/1000\n",
      "1111/1111 [==============================] - 23s 21ms/step - loss: 0.6990 - accuracy: 0.7020 - val_loss: 0.7367 - val_accuracy: 0.6842 - lr: 4.0000e-05\n",
      "Epoch 61/1000\n",
      "1110/1111 [============================>.] - ETA: 0s - loss: 0.6898 - accuracy: 0.7043"
     ]
    },
    {
     "name": "stderr",
     "output_type": "stream",
     "text": [
      "WARNING:absl:Found untraced functions such as lstm_cell_4_layer_call_fn, lstm_cell_4_layer_call_and_return_conditional_losses, lstm_cell_5_layer_call_fn, lstm_cell_5_layer_call_and_return_conditional_losses, lstm_cell_6_layer_call_fn while saving (showing 5 of 8). These functions will not be directly callable after loading.\n"
     ]
    },
    {
     "name": "stdout",
     "output_type": "stream",
     "text": [
      "INFO:tensorflow:Assets written to: models\\InGameNoGoals\\assets\n"
     ]
    },
    {
     "name": "stderr",
     "output_type": "stream",
     "text": [
      "INFO:tensorflow:Assets written to: models\\InGameNoGoals\\assets\n"
     ]
    },
    {
     "name": "stdout",
     "output_type": "stream",
     "text": [
      "1111/1111 [==============================] - 33s 29ms/step - loss: 0.6898 - accuracy: 0.7043 - val_loss: 0.6863 - val_accuracy: 0.7098 - lr: 4.0000e-05\n",
      "Epoch 62/1000\n",
      "1111/1111 [==============================] - 22s 19ms/step - loss: 0.6863 - accuracy: 0.7041 - val_loss: 0.7151 - val_accuracy: 0.6911 - lr: 4.0000e-05\n",
      "Epoch 63/1000\n",
      "1111/1111 [==============================] - ETA: 0s - loss: 0.6886 - accuracy: 0.6996"
     ]
    },
    {
     "name": "stderr",
     "output_type": "stream",
     "text": [
      "WARNING:absl:Found untraced functions such as lstm_cell_4_layer_call_fn, lstm_cell_4_layer_call_and_return_conditional_losses, lstm_cell_5_layer_call_fn, lstm_cell_5_layer_call_and_return_conditional_losses, lstm_cell_6_layer_call_fn while saving (showing 5 of 8). These functions will not be directly callable after loading.\n"
     ]
    },
    {
     "name": "stdout",
     "output_type": "stream",
     "text": [
      "INFO:tensorflow:Assets written to: models\\InGameNoGoals\\assets\n"
     ]
    },
    {
     "name": "stderr",
     "output_type": "stream",
     "text": [
      "INFO:tensorflow:Assets written to: models\\InGameNoGoals\\assets\n"
     ]
    },
    {
     "name": "stdout",
     "output_type": "stream",
     "text": [
      "1111/1111 [==============================] - 34s 31ms/step - loss: 0.6886 - accuracy: 0.6996 - val_loss: 0.6763 - val_accuracy: 0.7053 - lr: 4.0000e-05\n",
      "Epoch 64/1000\n",
      "1111/1111 [==============================] - 23s 20ms/step - loss: 0.6866 - accuracy: 0.7037 - val_loss: 0.7086 - val_accuracy: 0.6936 - lr: 4.0000e-05\n",
      "Epoch 65/1000\n",
      "1111/1111 [==============================] - 20s 18ms/step - loss: 0.6877 - accuracy: 0.7019 - val_loss: 0.6905 - val_accuracy: 0.7042 - lr: 4.0000e-05\n",
      "Epoch 66/1000\n",
      "1111/1111 [==============================] - ETA: 0s - loss: 0.6804 - accuracy: 0.7059"
     ]
    },
    {
     "name": "stderr",
     "output_type": "stream",
     "text": [
      "WARNING:absl:Found untraced functions such as lstm_cell_4_layer_call_fn, lstm_cell_4_layer_call_and_return_conditional_losses, lstm_cell_5_layer_call_fn, lstm_cell_5_layer_call_and_return_conditional_losses, lstm_cell_6_layer_call_fn while saving (showing 5 of 8). These functions will not be directly callable after loading.\n"
     ]
    },
    {
     "name": "stdout",
     "output_type": "stream",
     "text": [
      "INFO:tensorflow:Assets written to: models\\InGameNoGoals\\assets\n"
     ]
    },
    {
     "name": "stderr",
     "output_type": "stream",
     "text": [
      "INFO:tensorflow:Assets written to: models\\InGameNoGoals\\assets\n"
     ]
    },
    {
     "name": "stdout",
     "output_type": "stream",
     "text": [
      "1111/1111 [==============================] - 32s 29ms/step - loss: 0.6804 - accuracy: 0.7059 - val_loss: 0.6694 - val_accuracy: 0.7134 - lr: 4.0000e-05\n",
      "Epoch 67/1000\n",
      "1111/1111 [==============================] - 21s 19ms/step - loss: 0.6853 - accuracy: 0.6971 - val_loss: 0.7067 - val_accuracy: 0.6938 - lr: 4.0000e-05\n",
      "Epoch 68/1000\n",
      "1111/1111 [==============================] - 21s 19ms/step - loss: 0.6878 - accuracy: 0.7056 - val_loss: 0.7035 - val_accuracy: 0.6875 - lr: 4.0000e-05\n",
      "Epoch 69/1000\n",
      "1111/1111 [==============================] - 21s 19ms/step - loss: 0.6779 - accuracy: 0.7051 - val_loss: 0.7022 - val_accuracy: 0.6932 - lr: 4.0000e-05\n",
      "Epoch 70/1000\n",
      "1111/1111 [==============================] - 21s 19ms/step - loss: 0.6811 - accuracy: 0.7025 - val_loss: 0.6701 - val_accuracy: 0.7098 - lr: 4.0000e-05\n",
      "Epoch 71/1000\n",
      "1111/1111 [==============================] - 21s 19ms/step - loss: 0.6845 - accuracy: 0.7021 - val_loss: 0.6710 - val_accuracy: 0.7094 - lr: 4.0000e-05\n",
      "Epoch 72/1000\n",
      "1111/1111 [==============================] - 20s 18ms/step - loss: 0.6860 - accuracy: 0.6995 - val_loss: 0.8291 - val_accuracy: 0.6409 - lr: 4.0000e-05\n",
      "Epoch 73/1000\n",
      "1111/1111 [==============================] - 21s 19ms/step - loss: 0.6847 - accuracy: 0.7009 - val_loss: 0.7195 - val_accuracy: 0.6864 - lr: 4.0000e-05\n",
      "Epoch 74/1000\n",
      "1111/1111 [==============================] - 21s 19ms/step - loss: 0.6837 - accuracy: 0.7005 - val_loss: 0.7018 - val_accuracy: 0.6974 - lr: 4.0000e-05\n",
      "Epoch 75/1000\n",
      "1111/1111 [==============================] - 20s 18ms/step - loss: 0.6826 - accuracy: 0.7027 - val_loss: 0.6875 - val_accuracy: 0.6977 - lr: 4.0000e-05\n",
      "Epoch 76/1000\n",
      "1111/1111 [==============================] - 21s 19ms/step - loss: 0.6843 - accuracy: 0.6988 - val_loss: 0.7438 - val_accuracy: 0.6709 - lr: 4.0000e-05\n",
      "Epoch 77/1000\n",
      "1108/1111 [============================>.] - ETA: 0s - loss: 0.6723 - accuracy: 0.7073"
     ]
    },
    {
     "name": "stderr",
     "output_type": "stream",
     "text": [
      "WARNING:absl:Found untraced functions such as lstm_cell_4_layer_call_fn, lstm_cell_4_layer_call_and_return_conditional_losses, lstm_cell_5_layer_call_fn, lstm_cell_5_layer_call_and_return_conditional_losses, lstm_cell_6_layer_call_fn while saving (showing 5 of 8). These functions will not be directly callable after loading.\n"
     ]
    },
    {
     "name": "stdout",
     "output_type": "stream",
     "text": [
      "INFO:tensorflow:Assets written to: models\\InGameNoGoals\\assets\n"
     ]
    },
    {
     "name": "stderr",
     "output_type": "stream",
     "text": [
      "INFO:tensorflow:Assets written to: models\\InGameNoGoals\\assets\n"
     ]
    },
    {
     "name": "stdout",
     "output_type": "stream",
     "text": [
      "1111/1111 [==============================] - 30s 27ms/step - loss: 0.6722 - accuracy: 0.7074 - val_loss: 0.6630 - val_accuracy: 0.7073 - lr: 8.0000e-06\n",
      "Epoch 78/1000\n",
      "1111/1111 [==============================] - 21s 19ms/step - loss: 0.6697 - accuracy: 0.7079 - val_loss: 0.6879 - val_accuracy: 0.6983 - lr: 8.0000e-06\n",
      "Epoch 79/1000\n",
      "1111/1111 [==============================] - 22s 19ms/step - loss: 0.6723 - accuracy: 0.7068 - val_loss: 0.6631 - val_accuracy: 0.7130 - lr: 8.0000e-06\n",
      "Epoch 80/1000\n",
      "1111/1111 [==============================] - 22s 19ms/step - loss: 0.6771 - accuracy: 0.7060 - val_loss: 0.6865 - val_accuracy: 0.7042 - lr: 8.0000e-06\n",
      "Epoch 81/1000\n",
      "1110/1111 [============================>.] - ETA: 0s - loss: 0.6741 - accuracy: 0.7057"
     ]
    },
    {
     "name": "stderr",
     "output_type": "stream",
     "text": [
      "WARNING:absl:Found untraced functions such as lstm_cell_4_layer_call_fn, lstm_cell_4_layer_call_and_return_conditional_losses, lstm_cell_5_layer_call_fn, lstm_cell_5_layer_call_and_return_conditional_losses, lstm_cell_6_layer_call_fn while saving (showing 5 of 8). These functions will not be directly callable after loading.\n"
     ]
    },
    {
     "name": "stdout",
     "output_type": "stream",
     "text": [
      "INFO:tensorflow:Assets written to: models\\InGameNoGoals\\assets\n"
     ]
    },
    {
     "name": "stderr",
     "output_type": "stream",
     "text": [
      "INFO:tensorflow:Assets written to: models\\InGameNoGoals\\assets\n"
     ]
    },
    {
     "name": "stdout",
     "output_type": "stream",
     "text": [
      "1111/1111 [==============================] - 33s 29ms/step - loss: 0.6741 - accuracy: 0.7057 - val_loss: 0.6612 - val_accuracy: 0.7107 - lr: 8.0000e-06\n",
      "Epoch 82/1000\n",
      "1110/1111 [============================>.] - ETA: 0s - loss: 0.6710 - accuracy: 0.7077"
     ]
    },
    {
     "name": "stderr",
     "output_type": "stream",
     "text": [
      "WARNING:absl:Found untraced functions such as lstm_cell_4_layer_call_fn, lstm_cell_4_layer_call_and_return_conditional_losses, lstm_cell_5_layer_call_fn, lstm_cell_5_layer_call_and_return_conditional_losses, lstm_cell_6_layer_call_fn while saving (showing 5 of 8). These functions will not be directly callable after loading.\n"
     ]
    },
    {
     "name": "stdout",
     "output_type": "stream",
     "text": [
      "INFO:tensorflow:Assets written to: models\\InGameNoGoals\\assets\n"
     ]
    },
    {
     "name": "stderr",
     "output_type": "stream",
     "text": [
      "INFO:tensorflow:Assets written to: models\\InGameNoGoals\\assets\n"
     ]
    },
    {
     "name": "stdout",
     "output_type": "stream",
     "text": [
      "1111/1111 [==============================] - 34s 31ms/step - loss: 0.6708 - accuracy: 0.7078 - val_loss: 0.6610 - val_accuracy: 0.7118 - lr: 8.0000e-06\n",
      "Epoch 83/1000\n",
      "1111/1111 [==============================] - 24s 21ms/step - loss: 0.6694 - accuracy: 0.7096 - val_loss: 0.6715 - val_accuracy: 0.7121 - lr: 8.0000e-06\n",
      "Epoch 84/1000\n",
      "1111/1111 [==============================] - 24s 22ms/step - loss: 0.6690 - accuracy: 0.7055 - val_loss: 0.6779 - val_accuracy: 0.6977 - lr: 8.0000e-06\n",
      "Epoch 85/1000\n",
      "1111/1111 [==============================] - 21s 19ms/step - loss: 0.6712 - accuracy: 0.7087 - val_loss: 0.6633 - val_accuracy: 0.7071 - lr: 8.0000e-06\n",
      "Epoch 86/1000\n",
      "1111/1111 [==============================] - 22s 20ms/step - loss: 0.6688 - accuracy: 0.7066 - val_loss: 0.6725 - val_accuracy: 0.7085 - lr: 8.0000e-06\n",
      "Epoch 87/1000\n",
      "1111/1111 [==============================] - 21s 19ms/step - loss: 0.6704 - accuracy: 0.7070 - val_loss: 0.6772 - val_accuracy: 0.7073 - lr: 8.0000e-06\n",
      "Epoch 88/1000\n",
      "1111/1111 [==============================] - 21s 19ms/step - loss: 0.6726 - accuracy: 0.7081 - val_loss: 0.6761 - val_accuracy: 0.7076 - lr: 8.0000e-06\n",
      "Epoch 89/1000\n",
      "1111/1111 [==============================] - 21s 19ms/step - loss: 0.6652 - accuracy: 0.7090 - val_loss: 0.6698 - val_accuracy: 0.7069 - lr: 8.0000e-06\n",
      "Epoch 90/1000\n",
      "1111/1111 [==============================] - 22s 20ms/step - loss: 0.6704 - accuracy: 0.7060 - val_loss: 0.6620 - val_accuracy: 0.7152 - lr: 8.0000e-06\n",
      "Epoch 91/1000\n",
      "1111/1111 [==============================] - 23s 21ms/step - loss: 0.6717 - accuracy: 0.7088 - val_loss: 0.6795 - val_accuracy: 0.7071 - lr: 8.0000e-06\n",
      "Epoch 92/1000\n",
      "1111/1111 [==============================] - 22s 20ms/step - loss: 0.6714 - accuracy: 0.7067 - val_loss: 0.6725 - val_accuracy: 0.6963 - lr: 8.0000e-06\n",
      "Epoch 93/1000\n",
      "1109/1111 [============================>.] - ETA: 0s - loss: 0.6673 - accuracy: 0.7075"
     ]
    },
    {
     "name": "stderr",
     "output_type": "stream",
     "text": [
      "WARNING:absl:Found untraced functions such as lstm_cell_4_layer_call_fn, lstm_cell_4_layer_call_and_return_conditional_losses, lstm_cell_5_layer_call_fn, lstm_cell_5_layer_call_and_return_conditional_losses, lstm_cell_6_layer_call_fn while saving (showing 5 of 8). These functions will not be directly callable after loading.\n"
     ]
    },
    {
     "name": "stdout",
     "output_type": "stream",
     "text": [
      "INFO:tensorflow:Assets written to: models\\InGameNoGoals\\assets\n"
     ]
    },
    {
     "name": "stderr",
     "output_type": "stream",
     "text": [
      "INFO:tensorflow:Assets written to: models\\InGameNoGoals\\assets\n"
     ]
    },
    {
     "name": "stdout",
     "output_type": "stream",
     "text": [
      "1111/1111 [==============================] - 32s 29ms/step - loss: 0.6672 - accuracy: 0.7075 - val_loss: 0.6609 - val_accuracy: 0.7132 - lr: 1.6000e-06\n",
      "Epoch 94/1000\n",
      "1111/1111 [==============================] - ETA: 0s - loss: 0.6654 - accuracy: 0.7088"
     ]
    },
    {
     "name": "stderr",
     "output_type": "stream",
     "text": [
      "WARNING:absl:Found untraced functions such as lstm_cell_4_layer_call_fn, lstm_cell_4_layer_call_and_return_conditional_losses, lstm_cell_5_layer_call_fn, lstm_cell_5_layer_call_and_return_conditional_losses, lstm_cell_6_layer_call_fn while saving (showing 5 of 8). These functions will not be directly callable after loading.\n"
     ]
    },
    {
     "name": "stdout",
     "output_type": "stream",
     "text": [
      "INFO:tensorflow:Assets written to: models\\InGameNoGoals\\assets\n"
     ]
    },
    {
     "name": "stderr",
     "output_type": "stream",
     "text": [
      "INFO:tensorflow:Assets written to: models\\InGameNoGoals\\assets\n"
     ]
    },
    {
     "name": "stdout",
     "output_type": "stream",
     "text": [
      "1111/1111 [==============================] - 33s 30ms/step - loss: 0.6654 - accuracy: 0.7088 - val_loss: 0.6608 - val_accuracy: 0.7123 - lr: 1.6000e-06\n",
      "Epoch 95/1000\n",
      "1111/1111 [==============================] - 23s 21ms/step - loss: 0.6661 - accuracy: 0.7095 - val_loss: 0.6622 - val_accuracy: 0.7130 - lr: 1.6000e-06\n",
      "Epoch 96/1000\n",
      "1111/1111 [==============================] - ETA: 0s - loss: 0.6653 - accuracy: 0.7106"
     ]
    },
    {
     "name": "stderr",
     "output_type": "stream",
     "text": [
      "WARNING:absl:Found untraced functions such as lstm_cell_4_layer_call_fn, lstm_cell_4_layer_call_and_return_conditional_losses, lstm_cell_5_layer_call_fn, lstm_cell_5_layer_call_and_return_conditional_losses, lstm_cell_6_layer_call_fn while saving (showing 5 of 8). These functions will not be directly callable after loading.\n"
     ]
    },
    {
     "name": "stdout",
     "output_type": "stream",
     "text": [
      "INFO:tensorflow:Assets written to: models\\InGameNoGoals\\assets\n"
     ]
    },
    {
     "name": "stderr",
     "output_type": "stream",
     "text": [
      "INFO:tensorflow:Assets written to: models\\InGameNoGoals\\assets\n"
     ]
    },
    {
     "name": "stdout",
     "output_type": "stream",
     "text": [
      "1111/1111 [==============================] - 35s 32ms/step - loss: 0.6653 - accuracy: 0.7106 - val_loss: 0.6593 - val_accuracy: 0.7103 - lr: 1.6000e-06\n",
      "Epoch 97/1000\n",
      "1111/1111 [==============================] - 24s 22ms/step - loss: 0.6628 - accuracy: 0.7063 - val_loss: 0.6608 - val_accuracy: 0.7116 - lr: 1.6000e-06\n",
      "Epoch 98/1000\n",
      "1111/1111 [==============================] - 24s 22ms/step - loss: 0.6662 - accuracy: 0.7096 - val_loss: 0.6597 - val_accuracy: 0.7116 - lr: 1.6000e-06\n",
      "Epoch 99/1000\n",
      "1111/1111 [==============================] - 24s 22ms/step - loss: 0.6647 - accuracy: 0.7096 - val_loss: 0.6619 - val_accuracy: 0.7118 - lr: 1.6000e-06\n",
      "Epoch 100/1000\n",
      "1111/1111 [==============================] - 24s 22ms/step - loss: 0.6692 - accuracy: 0.7052 - val_loss: 0.6595 - val_accuracy: 0.7107 - lr: 1.6000e-06\n",
      "Epoch 101/1000\n",
      "1111/1111 [==============================] - 24s 22ms/step - loss: 0.6625 - accuracy: 0.7100 - val_loss: 0.6634 - val_accuracy: 0.7125 - lr: 1.6000e-06\n",
      "Epoch 102/1000\n",
      "1111/1111 [==============================] - 22s 20ms/step - loss: 0.6672 - accuracy: 0.7141 - val_loss: 0.6595 - val_accuracy: 0.7103 - lr: 1.6000e-06\n",
      "Epoch 103/1000\n",
      "1111/1111 [==============================] - 23s 21ms/step - loss: 0.6639 - accuracy: 0.7078 - val_loss: 0.6593 - val_accuracy: 0.7105 - lr: 1.6000e-06\n",
      "Epoch 104/1000\n",
      "1111/1111 [==============================] - 23s 21ms/step - loss: 0.6662 - accuracy: 0.7091 - val_loss: 0.6602 - val_accuracy: 0.7121 - lr: 1.6000e-06\n",
      "Epoch 105/1000\n",
      "1111/1111 [==============================] - 17s 16ms/step - loss: 0.6677 - accuracy: 0.7097 - val_loss: 0.6600 - val_accuracy: 0.7125 - lr: 1.6000e-06\n",
      "Epoch 106/1000\n",
      "1111/1111 [==============================] - 22s 20ms/step - loss: 0.6645 - accuracy: 0.7111 - val_loss: 0.6608 - val_accuracy: 0.7125 - lr: 1.6000e-06\n",
      "Epoch 107/1000\n",
      "1111/1111 [==============================] - 20s 18ms/step - loss: 0.6660 - accuracy: 0.7089 - val_loss: 0.6653 - val_accuracy: 0.7116 - lr: 3.2000e-07\n",
      "Epoch 108/1000\n",
      "1111/1111 [==============================] - 18s 16ms/step - loss: 0.6586 - accuracy: 0.7118 - val_loss: 0.6611 - val_accuracy: 0.7130 - lr: 3.2000e-07\n",
      "Epoch 109/1000\n",
      "1111/1111 [==============================] - 20s 18ms/step - loss: 0.6647 - accuracy: 0.7116 - val_loss: 0.6607 - val_accuracy: 0.7132 - lr: 3.2000e-07\n",
      "Epoch 110/1000\n",
      "1111/1111 [==============================] - 19s 17ms/step - loss: 0.6644 - accuracy: 0.7101 - val_loss: 0.6635 - val_accuracy: 0.7132 - lr: 3.2000e-07\n",
      "Epoch 111/1000\n",
      "1111/1111 [==============================] - 18s 17ms/step - loss: 0.6643 - accuracy: 0.7113 - val_loss: 0.6665 - val_accuracy: 0.7114 - lr: 3.2000e-07\n",
      "Epoch 112/1000\n",
      "1111/1111 [==============================] - 19s 17ms/step - loss: 0.6665 - accuracy: 0.7072 - val_loss: 0.6627 - val_accuracy: 0.7125 - lr: 3.2000e-07\n",
      "Epoch 113/1000\n",
      "1110/1111 [============================>.] - ETA: 0s - loss: 0.6642 - accuracy: 0.7082"
     ]
    },
    {
     "name": "stderr",
     "output_type": "stream",
     "text": [
      "WARNING:absl:Found untraced functions such as lstm_cell_4_layer_call_fn, lstm_cell_4_layer_call_and_return_conditional_losses, lstm_cell_5_layer_call_fn, lstm_cell_5_layer_call_and_return_conditional_losses, lstm_cell_6_layer_call_fn while saving (showing 5 of 8). These functions will not be directly callable after loading.\n"
     ]
    },
    {
     "name": "stdout",
     "output_type": "stream",
     "text": [
      "INFO:tensorflow:Assets written to: models\\InGameNoGoals\\assets\n"
     ]
    },
    {
     "name": "stderr",
     "output_type": "stream",
     "text": [
      "INFO:tensorflow:Assets written to: models\\InGameNoGoals\\assets\n"
     ]
    },
    {
     "name": "stdout",
     "output_type": "stream",
     "text": [
      "1111/1111 [==============================] - 29s 26ms/step - loss: 0.6644 - accuracy: 0.7082 - val_loss: 0.6593 - val_accuracy: 0.7105 - lr: 3.2000e-07\n",
      "Epoch 114/1000\n",
      "1111/1111 [==============================] - 18s 16ms/step - loss: 0.6667 - accuracy: 0.7065 - val_loss: 0.6608 - val_accuracy: 0.7127 - lr: 3.2000e-07\n",
      "Epoch 115/1000\n",
      "1111/1111 [==============================] - 18s 16ms/step - loss: 0.6695 - accuracy: 0.7063 - val_loss: 0.6610 - val_accuracy: 0.7125 - lr: 3.2000e-07\n",
      "Epoch 116/1000\n",
      "1111/1111 [==============================] - 18s 16ms/step - loss: 0.6612 - accuracy: 0.7130 - val_loss: 0.6608 - val_accuracy: 0.7132 - lr: 3.2000e-07\n",
      "Epoch 117/1000\n",
      "1111/1111 [==============================] - 18s 16ms/step - loss: 0.6685 - accuracy: 0.7070 - val_loss: 0.6629 - val_accuracy: 0.7130 - lr: 6.4000e-08\n",
      "Epoch 118/1000\n",
      "1111/1111 [==============================] - 18s 16ms/step - loss: 0.6624 - accuracy: 0.7108 - val_loss: 0.6610 - val_accuracy: 0.7121 - lr: 6.4000e-08\n",
      "Epoch 119/1000\n",
      "1111/1111 [==============================] - 18s 16ms/step - loss: 0.6642 - accuracy: 0.7093 - val_loss: 0.6597 - val_accuracy: 0.7103 - lr: 6.4000e-08\n",
      "Epoch 120/1000\n",
      "1111/1111 [==============================] - 20s 18ms/step - loss: 0.6630 - accuracy: 0.7099 - val_loss: 0.6601 - val_accuracy: 0.7121 - lr: 6.4000e-08\n",
      "Epoch 121/1000\n",
      "1111/1111 [==============================] - 18s 16ms/step - loss: 0.6643 - accuracy: 0.7111 - val_loss: 0.6595 - val_accuracy: 0.7096 - lr: 6.4000e-08\n",
      "Epoch 122/1000\n",
      "1111/1111 [==============================] - 20s 18ms/step - loss: 0.6668 - accuracy: 0.7078 - val_loss: 0.6606 - val_accuracy: 0.7132 - lr: 6.4000e-08\n",
      "Epoch 123/1000\n",
      "1111/1111 [==============================] - 19s 17ms/step - loss: 0.6711 - accuracy: 0.7069 - val_loss: 0.6604 - val_accuracy: 0.7132 - lr: 6.4000e-08\n",
      "Epoch 124/1000\n",
      "1111/1111 [==============================] - 20s 18ms/step - loss: 0.6641 - accuracy: 0.7071 - val_loss: 0.6606 - val_accuracy: 0.7134 - lr: 6.4000e-08\n",
      "Epoch 125/1000\n",
      "1111/1111 [==============================] - 19s 17ms/step - loss: 0.6665 - accuracy: 0.7084 - val_loss: 0.6605 - val_accuracy: 0.7127 - lr: 6.4000e-08\n",
      "Epoch 126/1000\n",
      "1111/1111 [==============================] - 19s 17ms/step - loss: 0.6623 - accuracy: 0.7122 - val_loss: 0.6601 - val_accuracy: 0.7118 - lr: 6.4000e-08\n",
      "Epoch 127/1000\n",
      "1111/1111 [==============================] - 19s 18ms/step - loss: 0.6673 - accuracy: 0.7087 - val_loss: 0.6619 - val_accuracy: 0.7125 - lr: 1.2800e-08\n",
      "Epoch 128/1000\n",
      "1111/1111 [==============================] - 19s 17ms/step - loss: 0.6647 - accuracy: 0.7096 - val_loss: 0.6598 - val_accuracy: 0.7116 - lr: 1.2800e-08\n",
      "Epoch 129/1000\n",
      "1111/1111 [==============================] - 19s 17ms/step - loss: 0.6665 - accuracy: 0.7076 - val_loss: 0.6611 - val_accuracy: 0.7125 - lr: 1.2800e-08\n",
      "Epoch 130/1000\n",
      "1111/1111 [==============================] - 18s 16ms/step - loss: 0.6657 - accuracy: 0.7081 - val_loss: 0.6638 - val_accuracy: 0.7125 - lr: 1.2800e-08\n",
      "Epoch 131/1000\n",
      "1111/1111 [==============================] - 18s 16ms/step - loss: 0.6638 - accuracy: 0.7090 - val_loss: 0.6613 - val_accuracy: 0.7118 - lr: 1.2800e-08\n",
      "Epoch 132/1000\n",
      "1111/1111 [==============================] - 17s 16ms/step - loss: 0.6662 - accuracy: 0.7083 - val_loss: 0.6609 - val_accuracy: 0.7125 - lr: 1.2800e-08\n",
      "Epoch 133/1000\n",
      "1111/1111 [==============================] - 19s 17ms/step - loss: 0.6666 - accuracy: 0.7048 - val_loss: 0.6618 - val_accuracy: 0.7121 - lr: 1.2800e-08\n",
      "Epoch 134/1000\n",
      "1111/1111 [==============================] - 20s 18ms/step - loss: 0.6659 - accuracy: 0.7077 - val_loss: 0.6606 - val_accuracy: 0.7134 - lr: 1.2800e-08\n",
      "Epoch 135/1000\n",
      "1111/1111 [==============================] - 20s 18ms/step - loss: 0.6624 - accuracy: 0.7135 - val_loss: 0.6616 - val_accuracy: 0.7116 - lr: 1.2800e-08\n",
      "Epoch 136/1000\n",
      "1111/1111 [==============================] - 20s 18ms/step - loss: 0.6668 - accuracy: 0.7063 - val_loss: 0.6617 - val_accuracy: 0.7130 - lr: 1.2800e-08\n",
      "Epoch 137/1000\n",
      "1111/1111 [==============================] - 20s 18ms/step - loss: 0.6634 - accuracy: 0.7122 - val_loss: 0.6595 - val_accuracy: 0.7096 - lr: 2.5600e-09\n",
      "Epoch 138/1000\n",
      "1111/1111 [==============================] - 18s 16ms/step - loss: 0.6662 - accuracy: 0.7101 - val_loss: 0.6632 - val_accuracy: 0.7127 - lr: 2.5600e-09\n"
     ]
    }
   ],
   "source": [
    "# Definir el modelo LSTM\n",
    "model = Sequential()\n",
    "l2_recurrent_parameter = 1\n",
    "l_2_kernel_regularizer= 1\n",
    "# Primera capa LSTM con Dropout y regularización L2\n",
    "model.add(LSTM(256, return_sequences=True, input_shape=(X_train_normalized.shape[1], X_train_normalized.shape[2]),\n",
    "               kernel_regularizer=l2(l_2_kernel_regularizer), recurrent_regularizer=l2(l2_recurrent_parameter)))\n",
    "model.add(BatchNormalization())\n",
    "model.add(Dense(128,activation=\"relu\"))\n",
    "model.add(LSTM(256, return_sequences=True,\n",
    "               kernel_regularizer=l2(l_2_kernel_regularizer), recurrent_regularizer=l2(l2_recurrent_parameter)))\n",
    "model.add(BatchNormalization())\n",
    "model.add(Dense(128,activation=\"relu\"))\n",
    "model.add(LSTM(256, return_sequences=True,\n",
    "               kernel_regularizer=l2(l_2_kernel_regularizer), recurrent_regularizer=l2(l2_recurrent_parameter)))\n",
    "model.add(BatchNormalization())\n",
    "model.add(Dense(128,activation=\"relu\"))\n",
    "model.add(LSTM(256, return_sequences=False,\n",
    "               kernel_regularizer=l2(l_2_kernel_regularizer), recurrent_regularizer=l2(l2_recurrent_parameter)))\n",
    "model.add(BatchNormalization())\n",
    "model.add(Dense(3, activation='softmax'))\n",
    "# Compilación del modelo\n",
    "with tf.device('GPU:0'): # Usar gpu\n",
    "    model.compile(optimizer=Adam(learning_rate=0.001), loss='categorical_crossentropy', metrics=['accuracy'])\n",
    "\n",
    "model_checkpoint_callback = keras.callbacks.ModelCheckpoint(\n",
    "    filepath=\"models\\InGameNoGoals\",\n",
    "    monitor='val_loss',\n",
    "    mode='min',\n",
    "    save_best_only=True)\n",
    "# Callbacks\n",
    "early_stopping = EarlyStopping(monitor='val_loss', patience=25, restore_best_weights=True)\n",
    "reduce_lr = ReduceLROnPlateau(monitor='val_loss', factor=0.2, patience=10, min_lr=0.0000000001)\n",
    "\n",
    "history = model.fit(X_train_normalized, y_train, verbose=1, epochs=1000, batch_size=16,\n",
    "                    validation_data=(X_test_normalized, y_test), callbacks=[early_stopping, reduce_lr, model_checkpoint_callback])"
   ]
  },
  {
   "cell_type": "code",
   "execution_count": 34,
   "id": "60231ccc",
   "metadata": {},
   "outputs": [
    {
     "name": "stdout",
     "output_type": "stream",
     "text": [
      "0-5\n",
      "139/139 [==============================] - 2s 6ms/step - loss: 11.1830 - accuracy: 0.3041\n",
      "5-10\n",
      "139/139 [==============================] - 1s 6ms/step - loss: 7.7745 - accuracy: 0.3041\n",
      "10-15\n",
      "139/139 [==============================] - 1s 6ms/step - loss: 5.5180 - accuracy: 0.3041\n",
      "15-20\n",
      "139/139 [==============================] - 1s 6ms/step - loss: 4.2157 - accuracy: 0.3041\n",
      "20-25\n",
      "139/139 [==============================] - 1s 6ms/step - loss: 3.1386 - accuracy: 0.3041\n",
      "25-30\n",
      "139/139 [==============================] - 1s 6ms/step - loss: 2.3361 - accuracy: 0.3055\n",
      "30-35\n",
      "139/139 [==============================] - 1s 6ms/step - loss: 1.8080 - accuracy: 0.3255\n",
      "35-40\n",
      "139/139 [==============================] - 1s 7ms/step - loss: 1.4599 - accuracy: 0.3915\n",
      "40-45\n",
      "139/139 [==============================] - 1s 7ms/step - loss: 1.3237 - accuracy: 0.4374\n",
      "45-50\n",
      "139/139 [==============================] - 1s 7ms/step - loss: 1.2281 - accuracy: 0.4752\n",
      "50-55\n",
      "139/139 [==============================] - 1s 7ms/step - loss: 1.1323 - accuracy: 0.4977\n",
      "55-60\n",
      "139/139 [==============================] - 1s 6ms/step - loss: 1.0736 - accuracy: 0.5230\n",
      "60-65\n",
      "139/139 [==============================] - 1s 6ms/step - loss: 1.0396 - accuracy: 0.5261\n",
      "65-70\n",
      "139/139 [==============================] - 1s 7ms/step - loss: 1.0088 - accuracy: 0.5466\n",
      "70-75\n",
      "139/139 [==============================] - 1s 7ms/step - loss: 0.9592 - accuracy: 0.5576\n",
      "75-80\n",
      "139/139 [==============================] - 1s 7ms/step - loss: 0.9223 - accuracy: 0.5759\n",
      "80-85\n",
      "139/139 [==============================] - 1s 7ms/step - loss: 0.8642 - accuracy: 0.6148\n",
      "85-90\n",
      "139/139 [==============================] - 1s 8ms/step - loss: 0.6593 - accuracy: 0.7100\n"
     ]
    }
   ],
   "source": [
    "loss, acc = [], []\n",
    "for i in range(1, X_test_normalized.shape[1]+1):\n",
    "    print(intervals[i-1])\n",
    "    aux = model.evaluate(X_test_normalized[:, :i, :], y_test)\n",
    "    loss.append(aux[0])\n",
    "    acc.append(aux[1])"
   ]
  },
  {
   "cell_type": "markdown",
   "id": "15c07d61",
   "metadata": {},
   "source": [
    "## Pruebas con padding"
   ]
  },
  {
   "cell_type": "code",
   "execution_count": null,
   "id": "26312ad1",
   "metadata": {},
   "outputs": [],
   "source": [
    "import numpy as np\n",
    "from scipy.stats import betabinom\n",
    "\n",
    "# Parámetros de la distribución beta-binomial\n",
    "n = X.shape[1]   # Número de ensayos\n",
    "a = 0.70*4  # Parámetro alpha de la distribución beta\n",
    "b = 0.30*4   # Parámetro beta de la distribución beta\n",
    "\n",
    "# Número de muestras aleatorias que deseas generar\n",
    "num_samples = X.shape[0]\n",
    "\n",
    "# Generar números aleatorios de una distribución beta-binomial\n",
    "samples = betabinom.rvs(n, a, b, size=num_samples)\n",
    "\n",
    "# Calcular y mostrar la media de las muestras generadas\n",
    "mean_samples = np.mean(samples)\n",
    "print(f\"Media de las muestras: {mean_samples}\")\n",
    "\n",
    "values, counts = np.unique(samples, return_counts=True)\n",
    "\n",
    "# Graficar un barplot de las muestras generadas\n",
    "plt.bar(values, counts / num_samples, color='b', edgecolor='black', alpha=0.7)\n",
    "\n",
    "# Títulos y etiquetas\n",
    "plt.title('Histograma de la distribución Beta-Binomial')\n",
    "plt.xlabel('Valores')\n",
    "plt.ylabel('Frecuencia')\n",
    "\n",
    "# Mostrar la gráfica\n",
    "plt.show()"
   ]
  },
  {
   "cell_type": "code",
   "execution_count": null,
   "id": "e028c8f5",
   "metadata": {},
   "outputs": [],
   "source": [
    "# Full data\n",
    "XFullpad = np.array(Xdata)\n",
    "y = np.array(ydata)\n",
    "y = to_categorical(y, num_classes=3)\n"
   ]
  },
  {
   "cell_type": "code",
   "execution_count": null,
   "id": "97429197",
   "metadata": {},
   "outputs": [],
   "source": [
    "# Dividir los datos en conjuntos de entrenamiento y prueba\n",
    "\n",
    "split = int(0.8 * XFullpad.shape[0])\n",
    "XFullpad_train, XFullpad_test = XFullpad[:split], XFullpad[split:]\n",
    "\n",
    "# # Sin clean\n",
    "# scaler = MinMaxScaler()\n",
    "# XFullpad_train_reshaped = XFullpad_train.reshape(-1, X.shape[2])\n",
    "# XFullpad_train_normalized = scaler.fit_transform(XFullpad_train_reshaped)\n",
    "# XFullpad_train_normalized = XFullpad_train_normalized.reshape(XFullpad_train.shape[0], XFullpad_train.shape[1], XFullpad_train.shape[2])\n",
    "\n",
    "# XFullpad_test_reshaped = XFullpad_test.reshape(-1, X.shape[2])\n",
    "# XFullpad_test_normalized = scaler.transform(XFullpad_test_reshaped)\n",
    "# XFullpad_test_normalized = XFullpad_test_normalized.reshape(XFullpad_test.shape[0], XFullpad_test.shape[1], XFullpad_test.shape[2])\n",
    "\n",
    "# Con clean \n",
    "XFullpad_train_reshaped = XFullpad_train.reshape(-1, X.shape[2])\n",
    "XFullpad_test_reshaped = XFullpad_test.reshape(-1, X.shape[2])\n",
    "\n",
    "sclean  = clean(XFullpad_train_reshaped)      # indices of selected features\n",
    "XFullpad_train_reshaped = deepcopy(XFullpad_train_reshaped[:,sclean])\n",
    "XFullpad_test_reshaped = deepcopy(XFullpad_test_reshaped[:,sclean])\n",
    "\n",
    "scaler = MinMaxScaler()\n",
    "XFullpad_train_normalized = scaler.fit_transform(XFullpad_train_reshaped)\n",
    "XFullpad_test_normalized = scaler.transform(XFullpad_test_reshaped)\n",
    "\n",
    "XFullpad_train_normalized = XFullpad_train_normalized.reshape(XFullpad_train.shape[0], XFullpad_train.shape[1], len(sclean))\n",
    "XFullpad_test_normalized = XFullpad_test_normalized.reshape(XFullpad_test.shape[0], XFullpad_test.shape[1], len(sclean))\n",
    "\n"
   ]
  },
  {
   "cell_type": "code",
   "execution_count": null,
   "id": "fbfd5eda",
   "metadata": {},
   "outputs": [],
   "source": [
    "XFullpad_train_normalized.shape"
   ]
  },
  {
   "cell_type": "code",
   "execution_count": null,
   "id": "e0ab2690",
   "metadata": {},
   "outputs": [],
   "source": [
    "# Parámetros de la distribución binomial \n",
    "# n = X.shape[1]\n",
    "# p = 0.9\n",
    "# size = X.shape[0]\n",
    "# random_values = binom.rvs(n, p, size=size)\n",
    "\n",
    "# Parámetros de la distribución beta-binomial\n",
    "n = XFullpad.shape[1]   # Número de ensayos\n",
    "size = XFullpad.shape[0]\n",
    "a = 0.70*4  # Parámetro alpha de la distribución beta\n",
    "b = 0.30*4   # Parámetro beta de la distribución beta\n",
    "\n",
    "random_values = betabinom.rvs(n, a, b, size=size)\n",
    "\n",
    "# random_values = np.random.randint(1, n+1, size)"
   ]
  },
  {
   "cell_type": "code",
   "execution_count": null,
   "id": "6bbedd61",
   "metadata": {},
   "outputs": [],
   "source": [
    "#Binom  and uniform\n",
    "Xpad_train = []\n",
    "ypad_train = []\n",
    "for i in range(split):\n",
    "    Xpad_train.append(XFullpad_train_normalized[i][:random_values[i]+1])\n",
    "    ypad_train.append(y[i])\n",
    "\n",
    "Xpad_test = []\n",
    "ypad_test = []\n",
    "for i in range(len(XFullpad)-split):\n",
    "    Xpad_test.append(XFullpad_test_normalized[i][:random_values[i+split]+1])\n",
    "    ypad_test.append(y[i+split])\n",
    "\n",
    "# Full\n",
    "# Xpad = []\n",
    "# ypad = []\n",
    "# for i in range(size):\n",
    "#     for j in range(n):\n",
    "#         Xpad.append(X[i][:j+1])\n",
    "#         ypad.append(y[i])"
   ]
  },
  {
   "cell_type": "code",
   "execution_count": null,
   "id": "843a0de5",
   "metadata": {},
   "outputs": [],
   "source": [
    "Xpad_train = pad_sequences(Xpad_train, padding='post', dtype='float64')\n",
    "Xpad_test = pad_sequences(Xpad_test, padding='post', dtype='float64')\n",
    "ypad_train = np.array(ypad_train)\n",
    "ypad_test = np.array(ypad_test)"
   ]
  },
  {
   "cell_type": "code",
   "execution_count": null,
   "id": "31e6f703",
   "metadata": {},
   "outputs": [],
   "source": [
    "ypad_train.shape"
   ]
  },
  {
   "cell_type": "code",
   "execution_count": null,
   "id": "262cd47f",
   "metadata": {},
   "outputs": [],
   "source": [
    "Xpad_train.shape"
   ]
  },
  {
   "cell_type": "code",
   "execution_count": null,
   "id": "bcf7cb75",
   "metadata": {},
   "outputs": [],
   "source": [
    "from tensorflow.keras.layers import LSTM, Dense, Embedding\n",
    "\n",
    "\n",
    "l2_recurrent_parameter = 0.01\n",
    "l_2_kernel_regularizer= 0.01\n",
    "\n",
    "model = Sequential()\n",
    "model.add(Masking(mask_value=0., input_shape=(Xpad_train.shape[1], Xpad_train.shape[2])))\n",
    "model.add(LSTM(256, return_sequences=True,\n",
    "               kernel_regularizer=l2(l_2_kernel_regularizer), recurrent_regularizer=l2(l2_recurrent_parameter)))\n",
    "model.add(BatchNormalization())\n",
    "model.add(Dense(128,activation=\"relu\"))\n",
    "model.add(LSTM(256, return_sequences=True,\n",
    "               kernel_regularizer=l2(l_2_kernel_regularizer), recurrent_regularizer=l2(l2_recurrent_parameter)))\n",
    "model.add(BatchNormalization())\n",
    "model.add(Dense(128,activation=\"relu\"))\n",
    "model.add(LSTM(256, return_sequences=True,\n",
    "               kernel_regularizer=l2(l_2_kernel_regularizer), recurrent_regularizer=l2(l2_recurrent_parameter)))\n",
    "model.add(BatchNormalization())\n",
    "model.add(Dense(128,activation=\"relu\"))\n",
    "model.add(LSTM(256, return_sequences=False,\n",
    "               kernel_regularizer=l2(l_2_kernel_regularizer), recurrent_regularizer=l2(l2_recurrent_parameter)))\n",
    "model.add(BatchNormalization())\n",
    "model.add(Dense(3, activation='softmax'))\n",
    "# Compilación del modelo\n",
    "with tf.device('GPU:0'): # Usar gpu\n",
    "    model.compile(optimizer=Adam(learning_rate=0.001), loss='categorical_crossentropy', metrics=['accuracy'])\n",
    "\n",
    "# model_checkpoint_callback = keras.callbacks.ModelCheckpoint(\n",
    "#     filepath=\"models\\Full\",\n",
    "#     monitor='val_accuracy',\n",
    "#     mode='max',\n",
    "#     save_best_only=True)\n",
    "# Callbacks\n",
    "early_stopping = EarlyStopping(monitor='val_loss', patience=50, restore_best_weights=True)\n",
    "reduce_lr = ReduceLROnPlateau(monitor='val_loss', factor=0.5, patience=5, min_lr=10^(-9))\n",
    "\n",
    "history = model.fit(Xpad_train, ypad_train, verbose=1, epochs=1000, batch_size=16,\n",
    "                    validation_data=(Xpad_test, ypad_test), callbacks=[early_stopping, reduce_lr])"
   ]
  },
  {
   "cell_type": "code",
   "execution_count": null,
   "id": "beee1850",
   "metadata": {},
   "outputs": [],
   "source": [
    "loss, acc = [], []\n",
    "for i in range(1, XFullpad_test_normalized.shape[1]+1):\n",
    "    print(intervals[i])\n",
    "    aux = model.evaluate(XFullpad_test_normalized[:, :i, :], ypad_test)\n",
    "    loss.append(aux[0])\n",
    "    acc.append(aux[1])\n",
    "print(np.mean(acc))"
   ]
  }
 ],
 "metadata": {
  "kernelspec": {
   "display_name": "Python 3 (ipykernel)",
   "language": "python",
   "name": "python3"
  },
  "language_info": {
   "codemirror_mode": {
    "name": "ipython",
    "version": 3
   },
   "file_extension": ".py",
   "mimetype": "text/x-python",
   "name": "python",
   "nbconvert_exporter": "python",
   "pygments_lexer": "ipython3",
   "version": "3.10.9"
  }
 },
 "nbformat": 4,
 "nbformat_minor": 5
}
