{
 "cells": [
  {
   "cell_type": "code",
   "execution_count": 2,
   "id": "771fb810",
   "metadata": {},
   "outputs": [
    {
     "data": {
      "text/html": [
       "<pre style=\"white-space:pre;overflow-x:auto;line-height:normal;font-family:Menlo,'DejaVu Sans Mono',consolas,'Courier New',monospace\"><span style=\"color: #7fbfbf; text-decoration-color: #7fbfbf\">[03/18/24 17:53:47] </span><span style=\"color: #000080; text-decoration-color: #000080\">INFO    </span> No custom team name replacements found. You can configure these in       <a href=\"file://c:\\Users\\gfuen\\AppData\\Local\\Programs\\Python\\Python310\\lib\\site-packages\\soccerdata\\_config.py\" target=\"_blank\"><span style=\"color: #7f7f7f; text-decoration-color: #7f7f7f\">_config.py</span></a><span style=\"color: #7f7f7f; text-decoration-color: #7f7f7f\">:</span><a href=\"file://c:\\Users\\gfuen\\AppData\\Local\\Programs\\Python\\Python310\\lib\\site-packages\\soccerdata\\_config.py#87\" target=\"_blank\"><span style=\"color: #7f7f7f; text-decoration-color: #7f7f7f\">87</span></a>\n",
       "<span style=\"color: #7fbfbf; text-decoration-color: #7fbfbf\">                    </span>         C:\\Users\\gfuen\\soccerdata\\config\\teamname_replacements.json.             <span style=\"color: #7f7f7f; text-decoration-color: #7f7f7f\">             </span>\n",
       "</pre>\n"
      ],
      "text/plain": [
       "\u001b[2;36m[03/18/24 17:53:47]\u001b[0m\u001b[2;36m \u001b[0m\u001b[34mINFO    \u001b[0m No custom team name replacements found. You can configure these in       \u001b]8;id=179095;file://c:\\Users\\gfuen\\AppData\\Local\\Programs\\Python\\Python310\\lib\\site-packages\\soccerdata\\_config.py\u001b\\\u001b[2m_config.py\u001b[0m\u001b]8;;\u001b\\\u001b[2m:\u001b[0m\u001b]8;id=373907;file://c:\\Users\\gfuen\\AppData\\Local\\Programs\\Python\\Python310\\lib\\site-packages\\soccerdata\\_config.py#87\u001b\\\u001b[2m87\u001b[0m\u001b]8;;\u001b\\\n",
       "\u001b[2;36m                    \u001b[0m         C:\\Users\\gfuen\\soccerdata\\config\\teamname_replacements.json.             \u001b[2m             \u001b[0m\n"
      ]
     },
     "metadata": {},
     "output_type": "display_data"
    },
    {
     "data": {
      "text/html": [
       "<pre style=\"white-space:pre;overflow-x:auto;line-height:normal;font-family:Menlo,'DejaVu Sans Mono',consolas,'Courier New',monospace\"><span style=\"color: #7fbfbf; text-decoration-color: #7fbfbf\">                    </span><span style=\"color: #000080; text-decoration-color: #000080\">INFO    </span> No custom league dict found. You can configure additional leagues in    <a href=\"file://c:\\Users\\gfuen\\AppData\\Local\\Programs\\Python\\Python310\\lib\\site-packages\\soccerdata\\_config.py\" target=\"_blank\"><span style=\"color: #7f7f7f; text-decoration-color: #7f7f7f\">_config.py</span></a><span style=\"color: #7f7f7f; text-decoration-color: #7f7f7f\">:</span><a href=\"file://c:\\Users\\gfuen\\AppData\\Local\\Programs\\Python\\Python310\\lib\\site-packages\\soccerdata\\_config.py#283\" target=\"_blank\"><span style=\"color: #7f7f7f; text-decoration-color: #7f7f7f\">283</span></a>\n",
       "<span style=\"color: #7fbfbf; text-decoration-color: #7fbfbf\">                    </span>         C:\\Users\\gfuen\\soccerdata\\config\\league_dict.json.                      <span style=\"color: #7f7f7f; text-decoration-color: #7f7f7f\">              </span>\n",
       "</pre>\n"
      ],
      "text/plain": [
       "\u001b[2;36m                   \u001b[0m\u001b[2;36m \u001b[0m\u001b[34mINFO    \u001b[0m No custom league dict found. You can configure additional leagues in    \u001b]8;id=507059;file://c:\\Users\\gfuen\\AppData\\Local\\Programs\\Python\\Python310\\lib\\site-packages\\soccerdata\\_config.py\u001b\\\u001b[2m_config.py\u001b[0m\u001b]8;;\u001b\\\u001b[2m:\u001b[0m\u001b]8;id=710767;file://c:\\Users\\gfuen\\AppData\\Local\\Programs\\Python\\Python310\\lib\\site-packages\\soccerdata\\_config.py#283\u001b\\\u001b[2m283\u001b[0m\u001b]8;;\u001b\\\n",
       "\u001b[2;36m                    \u001b[0m         C:\\Users\\gfuen\\soccerdata\\config\\league_dict.json.                      \u001b[2m              \u001b[0m\n"
      ]
     },
     "metadata": {},
     "output_type": "display_data"
    }
   ],
   "source": [
    "import soccerdata as sd\n",
    "from joblib import Parallel, delayed\n",
    "import pandas as pd\n",
    "from tqdm import tqdm"
   ]
  },
  {
   "cell_type": "code",
   "execution_count": 3,
   "id": "8b588c16",
   "metadata": {},
   "outputs": [],
   "source": [
    "df = pd.read_csv(\"datos_fotmob_completo.csv\")"
   ]
  },
  {
   "cell_type": "code",
   "execution_count": 5,
   "id": "48eb4c9a",
   "metadata": {},
   "outputs": [
    {
     "data": {
      "text/plain": [
       "Index(['id', 'date', 'leagueName', 'homeTeam', 'awayTeam', 'homeTeam_score',\n",
       "       'awayTeam_score', 'homeIdTeam', 'awayIdTeam', 'parentLeagueId',\n",
       "       'leagueId', 'BallPossesion_home', 'BallPossesion_away',\n",
       "       'ShotsOnTarget_home', 'ShotsOnTarget_away', 'ShotsOffTarget_home',\n",
       "       'ShotsOffTarget_away', 'fouls_home', 'fouls_away', 'Offsides_home',\n",
       "       'Offsides_away', 'corners_home', 'corners_away', 'total_shots_home',\n",
       "       'total_shots_away', 'big_chance_home', 'big_chance_away',\n",
       "       'big_chance_missed_title_home', 'big_chance_missed_title_away',\n",
       "       'accurate_passes_home', 'accurate_passes_away', 'shots_home',\n",
       "       'shots_away', 'blocked_shots_home', 'blocked_shots_away',\n",
       "       'shots_woodwork_home', 'shots_woodwork_away', 'shots_inside_box_home',\n",
       "       'shots_inside_box_away', 'shots_outside_box_home',\n",
       "       'shots_outside_box_away', 'passes_home', 'passes_away',\n",
       "       'own_half_passes_home', 'own_half_passes_away',\n",
       "       'opposition_half_passes_home', 'opposition_half_passes_away',\n",
       "       'long_balls_accurate_home', 'long_balls_accurate_away',\n",
       "       'accurate_crosses_home', 'accurate_crosses_away', 'player_throws_home',\n",
       "       'player_throws_away', 'defense_home', 'defense_away',\n",
       "       'tackles_succeeded_home', 'tackles_succeeded_away',\n",
       "       'interceptions_home', 'interceptions_away', 'shot_blocks_home',\n",
       "       'shot_blocks_away', 'clearances_home', 'clearances_away',\n",
       "       'keeper_saves_home', 'keeper_saves_away', 'duels_home', 'duels_away',\n",
       "       'duel_won_home', 'duel_won_away', 'ground_duels_won_home',\n",
       "       'ground_duels_won_away', 'aerials_won_home', 'aerials_won_away',\n",
       "       'dribbles_succeeded_home', 'dribbles_succeeded_away', 'discipline_home',\n",
       "       'discipline_away', 'yellow_cards_home', 'yellow_cards_away',\n",
       "       'red_cards_home', 'red_cards_away', 'touches_opp_box_home',\n",
       "       'touches_opp_box_away', 'expected_goals_home', 'expected_goals_away',\n",
       "       'expected_goals_open_play_home', 'expected_goals_open_play_away',\n",
       "       'expected_goals_set_play_home', 'expected_goals_set_play_away',\n",
       "       'expected_goals_non_penalty_home', 'expected_goals_non_penalty_away',\n",
       "       'expected_goals_on_target_home', 'expected_goals_on_target_away'],\n",
       "      dtype='object')"
      ]
     },
     "execution_count": 5,
     "metadata": {},
     "output_type": "execute_result"
    }
   ],
   "source": [
    "df.columns"
   ]
  }
 ],
 "metadata": {
  "kernelspec": {
   "display_name": "Python 3 (ipykernel)",
   "language": "python",
   "name": "python3"
  },
  "language_info": {
   "codemirror_mode": {
    "name": "ipython",
    "version": 3
   },
   "file_extension": ".py",
   "mimetype": "text/x-python",
   "name": "python",
   "nbconvert_exporter": "python",
   "pygments_lexer": "ipython3",
   "version": "3.10.9"
  }
 },
 "nbformat": 4,
 "nbformat_minor": 5
}
