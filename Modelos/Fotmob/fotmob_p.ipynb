{
 "cells": [
  {
   "cell_type": "code",
   "execution_count": 1,
   "metadata": {},
   "outputs": [],
   "source": [
    "import pandas as pd\n",
    "import numpy as np\n",
    "import matplotlib.pyplot as plt\n",
    "from tqdm import tqdm\n",
    "from joblib import Parallel, delayed\n",
    "import json\n",
    "import os\n",
    "import sys\n",
    "from sklearn.metrics import classification_report, confusion_matrix, accuracy_score\n",
    "from random import choice\n",
    "from time import time\n",
    "import tensorflow as tf\n",
    "from sklearn.model_selection import train_test_split\n",
    "from sklearn.preprocessing import StandardScaler, OneHotEncoder"
   ]
  },
  {
   "cell_type": "code",
   "execution_count": null,
   "id": "9da86ed7",
   "metadata": {},
   "outputs": [],
   "source": [
    "df = pd.read_csv(\"datos_fotmob_completo.csv\")\n",
    "# Cambiamos los nombres de algunas variables, dropeamos los valores vacios y ordenamos por fecha\n",
    "# La fecha va de la más antigua a la más nueva\n",
    "df.rename(columns={'homeTeam_score': 'score_home',\n",
    "          \"awayTeam_score\": \"score_away\"}, inplace=True)\n",
    "df.rename(columns={'homeTeam': 'team_home',\n",
    "          \"awayTeam\": \"team_away\"}, inplace=True)\n",
    "df = df.sort_values(by=\"date\", ignore_index=True)\n",
    "df = df.drop([\"discipline_away\", \"discipline_home\", \"duels_home\", \"duels_away\",\n",
    "             \"defense_home\", \"defense_away\", \"shots_home\", \"shots_away\"], axis=1)\n",
    "# Este dropeo es por mientras\n",
    "df = df.drop([\"accurate_passes_home\", \"accurate_passes_away\", \"long_balls_accurate_home\", \"long_balls_accurate_away\", \"accurate_crosses_home\", \"accurate_crosses_away\",\n",
    "              \"tackles_succeeded_home\", \"tackles_succeeded_away\", \"ground_duels_won_home\", \"ground_duels_won_away\", \"aerials_won_home\", \"aerials_won_away\",\n",
    "              \"dribbles_succeeded_home\", \"dribbles_succeeded_away\"], axis=1)\n",
    "# Filtros de liga y equipo\n",
    "df = df.drop([\"leagueId\", \"parentLeagueId\", \"leagueName\",\n",
    "             \"homeIdTeam\", \"awayIdTeam\"], axis=1)\n",
    "# Este dropeo hay que conversarlo\n",
    "df.head()"
   ]
  },
  {
   "cell_type": "code",
   "execution_count": null,
   "id": "524c8cd4",
   "metadata": {},
   "outputs": [],
   "source": [
    "df.info()"
   ]
  },
  {
   "cell_type": "code",
   "execution_count": null,
   "id": "5fef9bfd",
   "metadata": {},
   "outputs": [],
   "source": [
    "# Estadisticas simples, ver si jugar en casa afecta\n",
    "home_win = 0\n",
    "away_win = 0\n",
    "draw = 0\n",
    "\n",
    "total = len(df)\n",
    "home_win_percentage = sum(df[\"score_home\"] > df[\"score_away\"])/total\n",
    "away_win_percentage = sum(df[\"score_home\"] < df[\"score_away\"])/total\n",
    "draw_perentage = sum(df[\"score_home\"] == df[\"score_away\"])/total"
   ]
  },
  {
   "cell_type": "code",
   "execution_count": null,
   "id": "095c4c4f",
   "metadata": {},
   "outputs": [],
   "source": [
    "print(home_win_percentage)\n",
    "print(away_win_percentage)\n",
    "print(draw_perentage)"
   ]
  },
  {
   "cell_type": "code",
   "execution_count": null,
   "id": "9ec91dff",
   "metadata": {},
   "outputs": [],
   "source": [
    "def get_features(data):\n",
    "    return pd.DataFrame(data[4:54]).T\n",
    "\n",
    "\n",
    "def search_features(i, df, last_games):\n",
    "    team_home = df.iloc[i][\"team_home\"]\n",
    "    team_away = df.iloc[i][\"team_away\"]\n",
    "    # Para hacer la busqueda más eficiente, solo buscamos en los partidos que estos equipos juegan\n",
    "    df_match_home1 = df[df[\"team_home\"] == team_home]\n",
    "    df_match_home2 = df[df[\"team_away\"] == team_home]\n",
    "    df_match_away1 = df[df[\"team_home\"] == team_away]\n",
    "    df_match_away2 = df[df[\"team_away\"] == team_away]\n",
    "\n",
    "    merged_df_home = pd.concat([df_match_home1, df_match_home2])\n",
    "    merged_df_home.drop_duplicates(inplace=True)\n",
    "    merged_df_home = merged_df_home.sort_values(by=\"date\", ascending=False)\n",
    "\n",
    "    merged_df_away = pd.concat([df_match_away1, df_match_away2])\n",
    "    merged_df_away.drop_duplicates(inplace=True)\n",
    "    merged_df_away = merged_df_away.sort_values(by=\"date\", ascending=False)\n",
    "\n",
    "    # El index 0 es el partido, por lo que iteramos desde el 1\n",
    "    data_home = pd.DataFrame()\n",
    "    data_away = pd.DataFrame()\n",
    "    try:\n",
    "        for j in range(1, last_games+1):\n",
    "            if team_home == merged_df_home.iloc[j][\"team_home\"]:\n",
    "                d = get_features(merged_df_home.iloc[j])\n",
    "                d[\"played_home\"] = 1\n",
    "                d[\"played_away\"] = 0\n",
    "                data_home = pd.concat([data_home, d])\n",
    "            elif team_home == merged_df_home.iloc[j][\"team_away\"]:\n",
    "                d = get_features(merged_df_home.iloc[j])\n",
    "                d[\"played_home\"] = 0\n",
    "                d[\"played_away\"] = 1\n",
    "                data_home = pd.concat([data_home, d])\n",
    "\n",
    "        for j in range(1, last_games+1):\n",
    "            if team_away == merged_df_away.iloc[j][\"team_home\"]:\n",
    "                d = get_features(merged_df_away.iloc[j])\n",
    "                d[\"played_home\"] = 1\n",
    "                d[\"played_away\"] = 0\n",
    "\n",
    "                data_away = pd.concat([data_away, d])\n",
    "            elif team_away == merged_df_away .iloc[j][\"team_away\"]:\n",
    "                d = get_features(merged_df_away.iloc[j])\n",
    "                d[\"played_home\"] = 0\n",
    "                d[\"played_away\"] = 1\n",
    "                data_away = pd.concat([data_away, d])\n",
    "\n",
    "        data = pd.concat([data_home, data_away])\n",
    "\n",
    "        data = data.reset_index(drop=True)\n",
    "\n",
    "        data = data.stack().to_frame().T\n",
    "\n",
    "        #### Hiperparametro de max score\n",
    "        maxs = 4\n",
    "        # Resultado:\n",
    "        # W = home_win, D = draw, L = home_lose\n",
    "        if df.iloc[i][\"score_home\"] > df.iloc[i][\"score_away\"]:\n",
    "            data[\"Resultado\"] = \"W\"\n",
    "        elif df.iloc[i][\"score_home\"] == df.iloc[i][\"score_away\"]:\n",
    "            data[\"Resultado\"] = \"D\"\n",
    "        elif df.iloc[i][\"score_home\"] < df.iloc[i][\"score_away\"]:\n",
    "            data[\"Resultado\"] = \"L\"\n",
    "\n",
    "        # Resultado númerico:\n",
    "        home_score = df.iloc[i][\"score_home\"]\n",
    "        away_score = df.iloc[i][\"score_away\"]\n",
    "        # Buscar a cual le queda\n",
    "        if home_score >= maxs and away_score < maxs:\n",
    "            data[\"Resultado_Numerico\"] = f\"{maxs}>-{away_score}\"\n",
    "        elif home_score < maxs and away_score >= maxs:\n",
    "            data[\"Resultado_Numerico\"] = f\"{home_score}-{maxs}>\"\n",
    "        elif home_score >= maxs and away_score >= maxs:\n",
    "            data[\"Resultado_Numerico\"] = f\"{maxs}>-{maxs}>\"\n",
    "        else:\n",
    "            data[\"Resultado_Numerico\"] = f\"{home_score}-{away_score}\"\n",
    "        return data\n",
    "    except:\n",
    "        return pd.DataFrame()\n",
    "\n"
   ]
  },
  {
   "cell_type": "code",
   "execution_count": null,
   "id": "e1bf1726",
   "metadata": {},
   "outputs": [],
   "source": [
    "# Pruebas de dataframe\n",
    "df_test = df[df[\"red_cards_away\"].notnull()].reset_index(drop=True)\n",
    "lista_de_testeo= list(df_test.index)\n",
    "df_test.info()"
   ]
  },
  {
   "cell_type": "code",
   "execution_count": null,
   "id": "fdcf2ce5",
   "metadata": {},
   "outputs": [],
   "source": [
    "# Programa lineal\n",
    "last_games = 15\n",
    "resultados = []\n",
    "df_nn = pd.DataFrame()\n",
    "for i in tqdm(lista_de_testeo):\n",
    "    info = search_features(i,df_test.head(i+1),last_games)\n",
    "    resultados.append(info)\n",
    "df_nn = pd.concat(resultados)"
   ]
  },
  {
   "cell_type": "code",
   "execution_count": null,
   "id": "60a01f41",
   "metadata": {},
   "outputs": [],
   "source": [
    "# Programa paralelo (Cuidado que a veces las particiones se quedan sin memoria, error de pickle)\n",
    "\n",
    "# Last games = Juegos pasados a tener en cuenta\n",
    "# Num_trabajadores = Trabajadores en paralelo (usar -1 para todos los posibles)\n",
    "# Se demora un par de minutos\n",
    "last_games = 15\n",
    "num_trabajadores = -1\n",
    "resultados = Parallel(n_jobs=num_trabajadores,verbose=10)(\n",
    "    delayed(search_features)(i,df_test.head(i+1), last_games) for i in lista_de_testeo)"
   ]
  },
  {
   "cell_type": "code",
   "execution_count": null,
   "id": "e82dbfbd",
   "metadata": {},
   "outputs": [],
   "source": [
    "df_nn.to_csv(\"Dataframe_Auxiliar.csv\")"
   ]
  },
  {
   "cell_type": "code",
   "execution_count": null,
   "id": "2ec460ce",
   "metadata": {},
   "outputs": [],
   "source": [
    "df_nn = pd.read_csv(\"Dataframe_Auxiliar.csv\")"
   ]
  },
  {
   "cell_type": "code",
   "execution_count": null,
   "id": "0731fb3d",
   "metadata": {},
   "outputs": [],
   "source": [
    "df_f = pd.DataFrame()\n",
    "for i in range(2*last_games):\n",
    "    parte = df_nn[i].add_suffix(f\"_{i}\",axis=1)\n",
    "    df_f = pd.concat([df_f,parte],axis=1)\n",
    "df_f[\"Resultado\"] = df_nn[\"Resultado\"]\n",
    "df_f[\"Resultado_Numerico\"] = df_nn[\"Resultado_Numerico\"]\n",
    "df_f.to_csv(\"Dataframe_Auxiliar.csv\")\n"
   ]
  }
 ],
 "metadata": {
  "kernelspec": {
   "display_name": "Python 3 (ipykernel)",
   "language": "python",
   "name": "python3"
  },
  "language_info": {
   "codemirror_mode": {
    "name": "ipython",
    "version": 3
   },
   "file_extension": ".py",
   "mimetype": "text/x-python",
   "name": "python",
   "nbconvert_exporter": "python",
   "pygments_lexer": "ipython3",
   "version": "3.10.9"
  }
 },
 "nbformat": 4,
 "nbformat_minor": 5
}
