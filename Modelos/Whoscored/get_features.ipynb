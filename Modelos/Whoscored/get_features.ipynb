{
 "cells": [
  {
   "cell_type": "code",
   "execution_count": 2,
   "id": "19ff69d5",
   "metadata": {},
   "outputs": [],
   "source": [
    "import pandas as pd\n",
    "from matplotlib.colors import LinearSegmentedColormap\n",
    "from mplsoccer import VerticalPitch, Pitch\n",
    "from highlight_text import ax_text, fig_text\n",
    "import matplotlib.pyplot as plt\n",
    "\n",
    "from joblib import Parallel, delayed\n",
    "from tqdm import tqdm"
   ]
  },
  {
   "cell_type": "code",
   "execution_count": 3,
   "id": "dbc00eeb",
   "metadata": {},
   "outputs": [],
   "source": [
    "matches = pd.read_csv(\"WhoScored_ENG-Premier League.csv\")"
   ]
  },
  {
   "cell_type": "code",
   "execution_count": 13,
   "id": "9b775e1b",
   "metadata": {},
   "outputs": [],
   "source": [
    "example_match = matches[matches[\"game_id\"] == 410988] # 1729340  1729483 615168"
   ]
  },
  {
   "cell_type": "code",
   "execution_count": 5,
   "id": "b5f791b2",
   "metadata": {},
   "outputs": [
    {
     "name": "stdout",
     "output_type": "stream",
     "text": [
      "['End' 'FormationSet' 'Start' 'Pass' 'Interception' 'Aerial' 'Clearance'\n",
      " 'BallRecovery' 'Challenge' 'TakeOn' 'Foul' 'MissedShots' 'BallTouch'\n",
      " 'Dispossessed' 'Tackle' 'CornerAwarded' 'GoodSkill' 'SavedShot' 'Save'\n",
      " 'KeeperPickup' 'OffsideProvoked' 'OffsidePass' 'OffsideGiven' 'Claim'\n",
      " 'ShieldBallOpp' 'SubstitutionOn' 'SubstitutionOff' 'Card' 'Goal'\n",
      " 'FormationChange']\n",
      "['Successful' 'Unsuccessful']\n"
     ]
    }
   ],
   "source": [
    "print(example_match[\"type\"].unique())\n",
    "print(example_match[\"outcome_type\"].unique())"
   ]
  },
  {
   "cell_type": "code",
   "execution_count": 29,
   "id": "951c54ff",
   "metadata": {},
   "outputs": [],
   "source": [
    "def get_features_individuales(df_matches, match, bins_x, bins_y):\n",
    "    \n",
    "    ## Features elegidos\n",
    "    features = ['Pass', 'TakeOn', 'Tackle', 'BallRecovery'\n",
    "                'Interception', 'BlockedPass', 'Clearance', 'CornerAwarded', 'Aerial', 'Foul',\n",
    "                'Dispossessed', 'BallTouch', 'ShieldBallOpp', 'Challenge', 'MissedShots',\n",
    "                'SavedShot', 'Save', 'KeeperPickup', 'Goal', 'KeeperSweeper', 'Card', 'Smother',\n",
    "                'OffsideProvoked', 'OffsidePass', 'OffsideGiven', 'Punch', 'Error']\n",
    "    ##\n",
    "    date = match[\"fecha\"].unique()[0]\n",
    "\n",
    "    df_matches_limited = df_matches[df_matches[\"fecha\"] < date]\n",
    "    str_team1 = \" \".join(match[\"game\"].iloc[0].split(\" \")[1:]).split(\"-\")[0]\n",
    "    str_team2 = \" \".join(match[\"game\"].iloc[0].split(\" \")[1:]).split(\"-\")[1]\n",
    "    team1 = match[match[\"team\"] == str_team1][\"player\"].dropna().unique()\n",
    "    team2 = match[match[\"team\"] == str_team2][\"player\"].dropna().unique()\n",
    "\n",
    "    # Features team1\n",
    "    all_players = []\n",
    "    for player in team1:\n",
    "        dict_player = {\"Player\": player}\n",
    "        player_events = df_matches_limited[df_matches_limited[\"player\"] == player]\n",
    "\n",
    "        pitch = Pitch(pitch_type='opta', pitch_color='white',\n",
    "                      line_color='black', line_zorder=2)\n",
    "\n",
    "        for fea in features:\n",
    "            event_succesful = player_events[(player_events[\"type\"] == fea) & (\n",
    "                player_events[\"outcome_type\"] == 'Successful')]\n",
    "            event_unsuccessful = player_events[(player_events[\"type\"] == fea) & (\n",
    "                player_events[\"outcome_type\"] == 'Unsuccessful')]\n",
    "\n",
    "            bin_statistic_succesful = pitch.bin_statistic(\n",
    "                event_succesful.x, event_succesful.y, statistic=\"count\", bins=(bins_x, bins_y), normalize=False)\n",
    "\n",
    "            bin_statistic_unsuccesful = pitch.bin_statistic(\n",
    "                event_unsuccessful.x, event_unsuccessful.y, statistic=\"count\", bins=(bins_x, bins_y), normalize=False)\n",
    "\n",
    "            bins_successful = bin_statistic_succesful[\"statistic\"].flatten()\n",
    "            bins_unsuccessful = bin_statistic_unsuccesful[\"statistic\"].flatten(\n",
    "            )\n",
    "\n",
    "            for i in range(len(bins_successful)):\n",
    "                dict_player[f\"{fea}_Successful_bin_{i}\"] = bins_successful[i]\n",
    "                dict_player[f\"{fea}_Unsuccessful_bin_{i}\"] = bins_unsuccessful[i]\n",
    "\n",
    "        all_players.append(dict_player)\n",
    "\n",
    "    df_all_players_team1 = pd.DataFrame(all_players)\n",
    "\n",
    "    # Features team2\n",
    "    all_players = []\n",
    "    for player in team2:\n",
    "        dict_player = {\"Player\": player}\n",
    "        player_events = df_matches_limited[df_matches_limited[\"player\"] == player]\n",
    "\n",
    "        pitch = Pitch(pitch_type='opta', pitch_color='white',\n",
    "                      line_color='black', line_zorder=2)\n",
    "\n",
    "        for fea in features:\n",
    "            event_succesful = player_events[(player_events[\"type\"] == fea) & (\n",
    "                player_events[\"outcome_type\"] == 'Successful')]\n",
    "            event_unsuccessful = player_events[(player_events[\"type\"] == fea) & (\n",
    "                player_events[\"outcome_type\"] == 'Unsuccessful')]\n",
    "\n",
    "            bin_statistic_succesful = pitch.bin_statistic(\n",
    "                event_succesful.x, event_succesful.y, statistic=\"count\", bins=(bins_x, bins_y), normalize=False)\n",
    "\n",
    "            bin_statistic_unsuccesful = pitch.bin_statistic(\n",
    "                event_unsuccessful.x, event_unsuccessful.y, statistic=\"count\", bins=(bins_x, bins_y), normalize=False)\n",
    "\n",
    "            bins_successful = bin_statistic_succesful[\"statistic\"].flatten()\n",
    "            bins_unsuccessful = bin_statistic_unsuccesful[\"statistic\"].flatten(\n",
    "            )\n",
    "\n",
    "            for i in range(len(bins_successful)):\n",
    "                dict_player[f\"{fea}_Successful_bin_{i}\"] = bins_successful[i]\n",
    "                dict_player[f\"{fea}_Unsuccessful_bin_{i}\"] = bins_successful[i]\n",
    "\n",
    "        all_players.append(dict_player)\n",
    "\n",
    "    df_all_players_team2 = pd.DataFrame(all_players)\n",
    "\n",
    "    # Agrgar el nombre del equipo\n",
    "    df_all_players_team1[\"Team\"] = str_team1 \n",
    "    df_all_players_team2[\"Team\"] = str_team2\n",
    "\n",
    "    # Agregar fecha\n",
    "    df_all_players_team1[\"Date\"] = date\n",
    "    df_all_players_team2[\"Date\"] = date\n",
    "\n",
    "    # Agregar resultado goles del equipo final\n",
    "    df_all_players_team1[\"Goals\"] = len(match[(match[\"type\"] == \"Goal\") & (match[\"team\"] == str_team1)])\n",
    "    df_all_players_team2[\"Goals\"] = len(match[(match[\"type\"] == \"Goal\") & (match[\"team\"] == str_team2)])\n",
    "    \n",
    "\n",
    "\n",
    "    return df_all_players_team1, df_all_players_team2\n",
    "\n",
    "df_all_players_team1, df_all_players_team2 = get_features_individuales(matches, example_match, bins_x = 6, bins_y=6)"
   ]
  },
  {
   "cell_type": "code",
   "execution_count": 32,
   "id": "127c9dfe",
   "metadata": {},
   "outputs": [
    {
     "name": "stderr",
     "output_type": "stream",
     "text": [
      "  4%|▍         | 191/4810 [01:08<26:53,  2.86it/s]  "
     ]
    },
    {
     "ename": "KeyboardInterrupt",
     "evalue": "",
     "output_type": "error",
     "traceback": [
      "\u001b[1;31m---------------------------------------------------------------------------\u001b[0m",
      "\u001b[1;31mKeyboardInterrupt\u001b[0m                         Traceback (most recent call last)",
      "Cell \u001b[1;32mIn[32], line 10\u001b[0m\n\u001b[0;32m      5\u001b[0m resultado \u001b[38;5;241m=\u001b[39m []\n\u001b[0;32m      6\u001b[0m \u001b[38;5;66;03m# for id in tqdm(matches_id):\u001b[39;00m\n\u001b[0;32m      7\u001b[0m \u001b[38;5;66;03m#     data = get_features_individuales(matches, matches[matches[\"game_id\"] == id], bins_x,bins_y)\u001b[39;00m\n\u001b[0;32m      8\u001b[0m \u001b[38;5;66;03m#     resultado.append(data)\u001b[39;00m\n\u001b[1;32m---> 10\u001b[0m resultado \u001b[38;5;241m=\u001b[39m \u001b[43mParallel\u001b[49m\u001b[43m(\u001b[49m\u001b[43mn_jobs\u001b[49m\u001b[38;5;241;43m=\u001b[39;49m\u001b[43mn_workers\u001b[49m\u001b[43m,\u001b[49m\u001b[43m \u001b[49m\u001b[43mverbose\u001b[49m\u001b[38;5;241;43m=\u001b[39;49m\u001b[38;5;241;43m0\u001b[39;49m\u001b[43m)\u001b[49m\u001b[43m(\u001b[49m\n\u001b[0;32m     11\u001b[0m \u001b[43m    \u001b[49m\u001b[43mdelayed\u001b[49m\u001b[43m(\u001b[49m\u001b[43mget_features_individuales\u001b[49m\u001b[43m)\u001b[49m\u001b[43m(\u001b[49m\u001b[43mmatches\u001b[49m\u001b[43m[\u001b[49m\u001b[43mmatches\u001b[49m\u001b[43m[\u001b[49m\u001b[38;5;124;43m\"\u001b[39;49m\u001b[38;5;124;43mfecha\u001b[39;49m\u001b[38;5;124;43m\"\u001b[39;49m\u001b[43m]\u001b[49m\u001b[43m \u001b[49m\u001b[38;5;241;43m<\u001b[39;49m\u001b[38;5;241;43m=\u001b[39;49m\u001b[43m \u001b[49m\u001b[43mmatches\u001b[49m\u001b[43m[\u001b[49m\u001b[43mmatches\u001b[49m\u001b[43m[\u001b[49m\u001b[38;5;124;43m\"\u001b[39;49m\u001b[38;5;124;43mgame_id\u001b[39;49m\u001b[38;5;124;43m\"\u001b[39;49m\u001b[43m]\u001b[49m\u001b[43m \u001b[49m\u001b[38;5;241;43m==\u001b[39;49m\u001b[43m \u001b[49m\u001b[38;5;28;43mid\u001b[39;49m\u001b[43m]\u001b[49m\u001b[43m[\u001b[49m\u001b[38;5;124;43m\"\u001b[39;49m\u001b[38;5;124;43mfecha\u001b[39;49m\u001b[38;5;124;43m\"\u001b[39;49m\u001b[43m]\u001b[49m\u001b[38;5;241;43m.\u001b[39;49m\u001b[43munique\u001b[49m\u001b[43m(\u001b[49m\u001b[43m)\u001b[49m\u001b[43m[\u001b[49m\u001b[38;5;241;43m0\u001b[39;49m\u001b[43m]\u001b[49m\u001b[43m]\u001b[49m\u001b[43m,\u001b[49m\u001b[43m \u001b[49m\u001b[43mmatches\u001b[49m\u001b[43m[\u001b[49m\u001b[43mmatches\u001b[49m\u001b[43m[\u001b[49m\u001b[38;5;124;43m\"\u001b[39;49m\u001b[38;5;124;43mgame_id\u001b[39;49m\u001b[38;5;124;43m\"\u001b[39;49m\u001b[43m]\u001b[49m\u001b[43m \u001b[49m\u001b[38;5;241;43m==\u001b[39;49m\u001b[43m \u001b[49m\u001b[38;5;28;43mid\u001b[39;49m\u001b[43m]\u001b[49m\u001b[43m,\u001b[49m\u001b[43m \u001b[49m\u001b[43mbins_x\u001b[49m\u001b[43m,\u001b[49m\u001b[43mbins_y\u001b[49m\u001b[43m)\u001b[49m\u001b[43m \u001b[49m\u001b[38;5;28;43;01mfor\u001b[39;49;00m\u001b[43m \u001b[49m\u001b[38;5;28;43mid\u001b[39;49m\u001b[43m \u001b[49m\u001b[38;5;129;43;01min\u001b[39;49;00m\u001b[43m \u001b[49m\u001b[43mtqdm\u001b[49m\u001b[43m(\u001b[49m\u001b[43mmatches_id\u001b[49m\u001b[43m)\u001b[49m\u001b[43m)\u001b[49m\n",
      "File \u001b[1;32mc:\\Users\\gfuen\\AppData\\Local\\Programs\\Python\\Python310\\lib\\site-packages\\joblib\\parallel.py:1952\u001b[0m, in \u001b[0;36mParallel.__call__\u001b[1;34m(self, iterable)\u001b[0m\n\u001b[0;32m   1946\u001b[0m \u001b[38;5;66;03m# The first item from the output is blank, but it makes the interpreter\u001b[39;00m\n\u001b[0;32m   1947\u001b[0m \u001b[38;5;66;03m# progress until it enters the Try/Except block of the generator and\u001b[39;00m\n\u001b[0;32m   1948\u001b[0m \u001b[38;5;66;03m# reach the first `yield` statement. This starts the aynchronous\u001b[39;00m\n\u001b[0;32m   1949\u001b[0m \u001b[38;5;66;03m# dispatch of the tasks to the workers.\u001b[39;00m\n\u001b[0;32m   1950\u001b[0m \u001b[38;5;28mnext\u001b[39m(output)\n\u001b[1;32m-> 1952\u001b[0m \u001b[38;5;28;01mreturn\u001b[39;00m output \u001b[38;5;28;01mif\u001b[39;00m \u001b[38;5;28mself\u001b[39m\u001b[38;5;241m.\u001b[39mreturn_generator \u001b[38;5;28;01melse\u001b[39;00m \u001b[38;5;28;43mlist\u001b[39;49m\u001b[43m(\u001b[49m\u001b[43moutput\u001b[49m\u001b[43m)\u001b[49m\n",
      "File \u001b[1;32mc:\\Users\\gfuen\\AppData\\Local\\Programs\\Python\\Python310\\lib\\site-packages\\joblib\\parallel.py:1595\u001b[0m, in \u001b[0;36mParallel._get_outputs\u001b[1;34m(self, iterator, pre_dispatch)\u001b[0m\n\u001b[0;32m   1592\u001b[0m     \u001b[38;5;28;01myield\u001b[39;00m\n\u001b[0;32m   1594\u001b[0m     \u001b[38;5;28;01mwith\u001b[39;00m \u001b[38;5;28mself\u001b[39m\u001b[38;5;241m.\u001b[39m_backend\u001b[38;5;241m.\u001b[39mretrieval_context():\n\u001b[1;32m-> 1595\u001b[0m         \u001b[38;5;28;01myield from\u001b[39;00m \u001b[38;5;28mself\u001b[39m\u001b[38;5;241m.\u001b[39m_retrieve()\n\u001b[0;32m   1597\u001b[0m \u001b[38;5;28;01mexcept\u001b[39;00m \u001b[38;5;167;01mGeneratorExit\u001b[39;00m:\n\u001b[0;32m   1598\u001b[0m     \u001b[38;5;66;03m# The generator has been garbage collected before being fully\u001b[39;00m\n\u001b[0;32m   1599\u001b[0m     \u001b[38;5;66;03m# consumed. This aborts the remaining tasks if possible and warn\u001b[39;00m\n\u001b[0;32m   1600\u001b[0m     \u001b[38;5;66;03m# the user if necessary.\u001b[39;00m\n\u001b[0;32m   1601\u001b[0m     \u001b[38;5;28mself\u001b[39m\u001b[38;5;241m.\u001b[39m_exception \u001b[38;5;241m=\u001b[39m \u001b[38;5;28;01mTrue\u001b[39;00m\n",
      "File \u001b[1;32mc:\\Users\\gfuen\\AppData\\Local\\Programs\\Python\\Python310\\lib\\site-packages\\joblib\\parallel.py:1714\u001b[0m, in \u001b[0;36mParallel._retrieve\u001b[1;34m(self)\u001b[0m\n\u001b[0;32m   1710\u001b[0m \u001b[38;5;66;03m# We need to be careful: the job list can be filling up as\u001b[39;00m\n\u001b[0;32m   1711\u001b[0m \u001b[38;5;66;03m# we empty it and Python list are not thread-safe by\u001b[39;00m\n\u001b[0;32m   1712\u001b[0m \u001b[38;5;66;03m# default hence the use of the lock\u001b[39;00m\n\u001b[0;32m   1713\u001b[0m \u001b[38;5;28;01mwith\u001b[39;00m \u001b[38;5;28mself\u001b[39m\u001b[38;5;241m.\u001b[39m_lock:\n\u001b[1;32m-> 1714\u001b[0m     batched_results \u001b[38;5;241m=\u001b[39m \u001b[38;5;28;43mself\u001b[39;49m\u001b[38;5;241;43m.\u001b[39;49m\u001b[43m_jobs\u001b[49m\u001b[38;5;241;43m.\u001b[39;49m\u001b[43mpopleft\u001b[49m\u001b[43m(\u001b[49m\u001b[43m)\u001b[49m\n\u001b[0;32m   1716\u001b[0m \u001b[38;5;66;03m# Flatten the batched results to output one output at a time\u001b[39;00m\n\u001b[0;32m   1717\u001b[0m batched_results \u001b[38;5;241m=\u001b[39m batched_results\u001b[38;5;241m.\u001b[39mget_result(\u001b[38;5;28mself\u001b[39m\u001b[38;5;241m.\u001b[39mtimeout)\n",
      "\u001b[1;31mKeyboardInterrupt\u001b[0m: "
     ]
    }
   ],
   "source": [
    "bins_x = 6\n",
    "bins_y = 6\n",
    "n_workers = 12\n",
    "matches_id = matches[\"game_id\"].unique()\n",
    "resultado = []\n",
    "\n",
    "#En serie \n",
    "# for id in tqdm(matches_id):\n",
    "#     data = get_features_individuales(matches, matches[matches[\"game_id\"] == id], bins_x, bins_y)\n",
    "#     resultado.append(data)\n",
    "\n",
    "#En paralelo\n",
    "# resultado = Parallel(n_jobs=n_workers, verbose=0)(\n",
    "#     delayed(get_features_individuales)(matches[matches[\"fecha\"] <= matches[matches[\"game_id\"] == id][\"fecha\"].unique()[0]], matches[matches[\"game_id\"] == id], bins_x, bins_y) for id in tqdm(matches_id))"
   ]
  }
 ],
 "metadata": {
  "kernelspec": {
   "display_name": "Python 3 (ipykernel)",
   "language": "python",
   "name": "python3"
  },
  "language_info": {
   "codemirror_mode": {
    "name": "ipython",
    "version": 3
   },
   "file_extension": ".py",
   "mimetype": "text/x-python",
   "name": "python",
   "nbconvert_exporter": "python",
   "pygments_lexer": "ipython3",
   "version": "3.10.9"
  }
 },
 "nbformat": 4,
 "nbformat_minor": 5
}
