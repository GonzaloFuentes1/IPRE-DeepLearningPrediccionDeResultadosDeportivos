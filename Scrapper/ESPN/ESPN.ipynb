{
 "cells": [
  {
   "cell_type": "code",
   "execution_count": 1,
   "id": "771fb810",
   "metadata": {},
   "outputs": [
    {
     "data": {
      "text/html": [
       "<pre style=\"white-space:pre;overflow-x:auto;line-height:normal;font-family:Menlo,'DejaVu Sans Mono',consolas,'Courier New',monospace\"><span style=\"color: #7fbfbf; text-decoration-color: #7fbfbf\">[03/09/24 20:50:17] </span><span style=\"color: #000080; text-decoration-color: #000080\">INFO    </span> No custom team name replacements found. You can configure these in       <a href=\"file://c:\\Users\\gfuen\\AppData\\Local\\Programs\\Python\\Python310\\lib\\site-packages\\soccerdata\\_config.py\" target=\"_blank\"><span style=\"color: #7f7f7f; text-decoration-color: #7f7f7f\">_config.py</span></a><span style=\"color: #7f7f7f; text-decoration-color: #7f7f7f\">:</span><a href=\"file://c:\\Users\\gfuen\\AppData\\Local\\Programs\\Python\\Python310\\lib\\site-packages\\soccerdata\\_config.py#87\" target=\"_blank\"><span style=\"color: #7f7f7f; text-decoration-color: #7f7f7f\">87</span></a>\n",
       "<span style=\"color: #7fbfbf; text-decoration-color: #7fbfbf\">                    </span>         C:\\Users\\gfuen\\soccerdata\\config\\teamname_replacements.json.             <span style=\"color: #7f7f7f; text-decoration-color: #7f7f7f\">             </span>\n",
       "</pre>\n"
      ],
      "text/plain": [
       "\u001b[2;36m[03/09/24 20:50:17]\u001b[0m\u001b[2;36m \u001b[0m\u001b[34mINFO    \u001b[0m No custom team name replacements found. You can configure these in       \u001b]8;id=581376;file://c:\\Users\\gfuen\\AppData\\Local\\Programs\\Python\\Python310\\lib\\site-packages\\soccerdata\\_config.py\u001b\\\u001b[2m_config.py\u001b[0m\u001b]8;;\u001b\\\u001b[2m:\u001b[0m\u001b]8;id=904827;file://c:\\Users\\gfuen\\AppData\\Local\\Programs\\Python\\Python310\\lib\\site-packages\\soccerdata\\_config.py#87\u001b\\\u001b[2m87\u001b[0m\u001b]8;;\u001b\\\n",
       "\u001b[2;36m                    \u001b[0m         C:\\Users\\gfuen\\soccerdata\\config\\teamname_replacements.json.             \u001b[2m             \u001b[0m\n"
      ]
     },
     "metadata": {},
     "output_type": "display_data"
    },
    {
     "data": {
      "text/html": [
       "<pre style=\"white-space:pre;overflow-x:auto;line-height:normal;font-family:Menlo,'DejaVu Sans Mono',consolas,'Courier New',monospace\"><span style=\"color: #7fbfbf; text-decoration-color: #7fbfbf\">                    </span><span style=\"color: #000080; text-decoration-color: #000080\">INFO    </span> No custom league dict found. You can configure additional leagues in    <a href=\"file://c:\\Users\\gfuen\\AppData\\Local\\Programs\\Python\\Python310\\lib\\site-packages\\soccerdata\\_config.py\" target=\"_blank\"><span style=\"color: #7f7f7f; text-decoration-color: #7f7f7f\">_config.py</span></a><span style=\"color: #7f7f7f; text-decoration-color: #7f7f7f\">:</span><a href=\"file://c:\\Users\\gfuen\\AppData\\Local\\Programs\\Python\\Python310\\lib\\site-packages\\soccerdata\\_config.py#229\" target=\"_blank\"><span style=\"color: #7f7f7f; text-decoration-color: #7f7f7f\">229</span></a>\n",
       "<span style=\"color: #7fbfbf; text-decoration-color: #7fbfbf\">                    </span>         C:\\Users\\gfuen\\soccerdata\\config\\league_dict.json.                      <span style=\"color: #7f7f7f; text-decoration-color: #7f7f7f\">              </span>\n",
       "</pre>\n"
      ],
      "text/plain": [
       "\u001b[2;36m                   \u001b[0m\u001b[2;36m \u001b[0m\u001b[34mINFO    \u001b[0m No custom league dict found. You can configure additional leagues in    \u001b]8;id=50195;file://c:\\Users\\gfuen\\AppData\\Local\\Programs\\Python\\Python310\\lib\\site-packages\\soccerdata\\_config.py\u001b\\\u001b[2m_config.py\u001b[0m\u001b]8;;\u001b\\\u001b[2m:\u001b[0m\u001b]8;id=177976;file://c:\\Users\\gfuen\\AppData\\Local\\Programs\\Python\\Python310\\lib\\site-packages\\soccerdata\\_config.py#229\u001b\\\u001b[2m229\u001b[0m\u001b]8;;\u001b\\\n",
       "\u001b[2;36m                    \u001b[0m         C:\\Users\\gfuen\\soccerdata\\config\\league_dict.json.                      \u001b[2m              \u001b[0m\n"
      ]
     },
     "metadata": {},
     "output_type": "display_data"
    }
   ],
   "source": [
    "import soccerdata as sd\n",
    "from joblib import Parallel, delayed\n",
    "import pandas as pd\n",
    "from tqdm import tqdm"
   ]
  },
  {
   "cell_type": "code",
   "execution_count": 7,
   "id": "461decc6",
   "metadata": {},
   "outputs": [
    {
     "name": "stdout",
     "output_type": "stream",
     "text": [
      "['ENG-Premier League', 'ESP-La Liga', 'FRA-Ligue 1', 'GER-Bundesliga', 'ITA-Serie A', 'NED-Eredivisie']\n"
     ]
    }
   ],
   "source": [
    "print(sd.ESPN.available_leagues())"
   ]
  },
  {
   "cell_type": "code",
   "execution_count": 8,
   "id": "913e854c",
   "metadata": {},
   "outputs": [
    {
     "data": {
      "text/html": [
       "<pre style=\"white-space:pre;overflow-x:auto;line-height:normal;font-family:Menlo,'DejaVu Sans Mono',consolas,'Courier New',monospace\"><span style=\"color: #7fbfbf; text-decoration-color: #7fbfbf\">[03/09/24 17:16:36] </span><span style=\"color: #000080; text-decoration-color: #000080\">INFO    </span> Saving cached data to C:\\Users\\gfuen\\soccerdata\\data\\ESPN                <a href=\"file://c:\\Users\\gfuen\\AppData\\Local\\Programs\\Python\\Python310\\lib\\site-packages\\soccerdata\\_common.py\" target=\"_blank\"><span style=\"color: #7f7f7f; text-decoration-color: #7f7f7f\">_common.py</span></a><span style=\"color: #7f7f7f; text-decoration-color: #7f7f7f\">:</span><a href=\"file://c:\\Users\\gfuen\\AppData\\Local\\Programs\\Python\\Python310\\lib\\site-packages\\soccerdata\\_common.py#91\" target=\"_blank\"><span style=\"color: #7f7f7f; text-decoration-color: #7f7f7f\">91</span></a>\n",
       "</pre>\n"
      ],
      "text/plain": [
       "\u001b[2;36m[03/09/24 17:16:36]\u001b[0m\u001b[2;36m \u001b[0m\u001b[34mINFO    \u001b[0m Saving cached data to C:\\Users\\gfuen\\soccerdata\\data\\ESPN                \u001b]8;id=785367;file://c:\\Users\\gfuen\\AppData\\Local\\Programs\\Python\\Python310\\lib\\site-packages\\soccerdata\\_common.py\u001b\\\u001b[2m_common.py\u001b[0m\u001b]8;;\u001b\\\u001b[2m:\u001b[0m\u001b]8;id=862005;file://c:\\Users\\gfuen\\AppData\\Local\\Programs\\Python\\Python310\\lib\\site-packages\\soccerdata\\_common.py#91\u001b\\\u001b[2m91\u001b[0m\u001b]8;;\u001b\\\n"
      ]
     },
     "metadata": {},
     "output_type": "display_data"
    },
    {
     "name": "stderr",
     "output_type": "stream",
     "text": [
      "c:\\Users\\gfuen\\AppData\\Local\\Programs\\Python\\Python310\\lib\\site-packages\\soccerdata\\_common.py:498: UserWarning: Season id \"2021\" is ambiguous: interpreting as \"20-21\"\n",
      "  warnings.warn(msg, stacklevel=1)\n"
     ]
    },
    {
     "data": {
      "text/html": [
       "<div>\n",
       "<style scoped>\n",
       "    .dataframe tbody tr th:only-of-type {\n",
       "        vertical-align: middle;\n",
       "    }\n",
       "\n",
       "    .dataframe tbody tr th {\n",
       "        vertical-align: top;\n",
       "    }\n",
       "\n",
       "    .dataframe thead th {\n",
       "        text-align: right;\n",
       "    }\n",
       "</style>\n",
       "<table border=\"1\" class=\"dataframe\">\n",
       "  <thead>\n",
       "    <tr style=\"text-align: right;\">\n",
       "      <th></th>\n",
       "      <th></th>\n",
       "      <th></th>\n",
       "      <th>date</th>\n",
       "      <th>home_team</th>\n",
       "      <th>away_team</th>\n",
       "      <th>game_id</th>\n",
       "      <th>league_id</th>\n",
       "    </tr>\n",
       "    <tr>\n",
       "      <th>league</th>\n",
       "      <th>season</th>\n",
       "      <th>game</th>\n",
       "      <th></th>\n",
       "      <th></th>\n",
       "      <th></th>\n",
       "      <th></th>\n",
       "      <th></th>\n",
       "    </tr>\n",
       "  </thead>\n",
       "  <tbody>\n",
       "    <tr>\n",
       "      <th rowspan=\"11\" valign=\"top\">ESP-La Liga</th>\n",
       "      <th rowspan=\"5\" valign=\"top\">0001</th>\n",
       "      <th>2000-09-30 Racing Santander-Real Madrid</th>\n",
       "      <td>2000-09-30 07:00:00+00:00</td>\n",
       "      <td>Racing Santander</td>\n",
       "      <td>Real Madrid</td>\n",
       "      <td>1177</td>\n",
       "      <td>esp.1</td>\n",
       "    </tr>\n",
       "    <tr>\n",
       "      <th>2000-10-01 Alavés-Osasuna</th>\n",
       "      <td>2000-10-01 07:00:00+00:00</td>\n",
       "      <td>Alavés</td>\n",
       "      <td>Osasuna</td>\n",
       "      <td>1183</td>\n",
       "      <td>esp.1</td>\n",
       "    </tr>\n",
       "    <tr>\n",
       "      <th>2000-10-01 Athletic Club-Mallorca</th>\n",
       "      <td>2000-10-01 07:00:00+00:00</td>\n",
       "      <td>Athletic Club</td>\n",
       "      <td>Mallorca</td>\n",
       "      <td>1185</td>\n",
       "      <td>esp.1</td>\n",
       "    </tr>\n",
       "    <tr>\n",
       "      <th>2000-10-01 Deportivo La Coruña-Barcelona</th>\n",
       "      <td>2000-10-01 07:00:00+00:00</td>\n",
       "      <td>Deportivo La Coruña</td>\n",
       "      <td>Barcelona</td>\n",
       "      <td>1178</td>\n",
       "      <td>esp.1</td>\n",
       "    </tr>\n",
       "    <tr>\n",
       "      <th>2000-10-01 Espanyol-Real Sociedad</th>\n",
       "      <td>2000-10-01 07:00:00+00:00</td>\n",
       "      <td>Espanyol</td>\n",
       "      <td>Real Sociedad</td>\n",
       "      <td>1184</td>\n",
       "      <td>esp.1</td>\n",
       "    </tr>\n",
       "    <tr>\n",
       "      <th>...</th>\n",
       "      <th>...</th>\n",
       "      <td>...</td>\n",
       "      <td>...</td>\n",
       "      <td>...</td>\n",
       "      <td>...</td>\n",
       "      <td>...</td>\n",
       "    </tr>\n",
       "    <tr>\n",
       "      <th rowspan=\"5\" valign=\"top\">2223</th>\n",
       "      <th>2023-06-04 Real Betis-Valencia</th>\n",
       "      <td>2023-06-04 19:00:00+00:00</td>\n",
       "      <td>Real Betis</td>\n",
       "      <td>Valencia</td>\n",
       "      <td>644146</td>\n",
       "      <td>esp.1</td>\n",
       "    </tr>\n",
       "    <tr>\n",
       "      <th>2023-06-04 Real Madrid-Athletic Club</th>\n",
       "      <td>2023-06-04 16:30:00+00:00</td>\n",
       "      <td>Real Madrid</td>\n",
       "      <td>Athletic Club</td>\n",
       "      <td>644147</td>\n",
       "      <td>esp.1</td>\n",
       "    </tr>\n",
       "    <tr>\n",
       "      <th>2023-06-04 Real Sociedad-Sevilla</th>\n",
       "      <td>2023-06-04 16:30:00+00:00</td>\n",
       "      <td>Real Sociedad</td>\n",
       "      <td>Sevilla</td>\n",
       "      <td>644148</td>\n",
       "      <td>esp.1</td>\n",
       "    </tr>\n",
       "    <tr>\n",
       "      <th>2023-06-04 Real Valladolid-Getafe</th>\n",
       "      <td>2023-06-04 19:00:00+00:00</td>\n",
       "      <td>Real Valladolid</td>\n",
       "      <td>Getafe</td>\n",
       "      <td>644149</td>\n",
       "      <td>esp.1</td>\n",
       "    </tr>\n",
       "    <tr>\n",
       "      <th>2023-06-04 Villarreal-Atlético Madrid</th>\n",
       "      <td>2023-06-04 16:30:00+00:00</td>\n",
       "      <td>Villarreal</td>\n",
       "      <td>Atlético Madrid</td>\n",
       "      <td>644150</td>\n",
       "      <td>esp.1</td>\n",
       "    </tr>\n",
       "  </tbody>\n",
       "</table>\n",
       "<p>8558 rows × 5 columns</p>\n",
       "</div>"
      ],
      "text/plain": [
       "                                                                                 date  \\\n",
       "league      season game                                                                 \n",
       "ESP-La Liga 0001   2000-09-30 Racing Santander-Real Madrid  2000-09-30 07:00:00+00:00   \n",
       "                   2000-10-01 Alavés-Osasuna                2000-10-01 07:00:00+00:00   \n",
       "                   2000-10-01 Athletic Club-Mallorca        2000-10-01 07:00:00+00:00   \n",
       "                   2000-10-01 Deportivo La Coruña-Barcelona 2000-10-01 07:00:00+00:00   \n",
       "                   2000-10-01 Espanyol-Real Sociedad        2000-10-01 07:00:00+00:00   \n",
       "...                                                                               ...   \n",
       "            2223   2023-06-04 Real Betis-Valencia           2023-06-04 19:00:00+00:00   \n",
       "                   2023-06-04 Real Madrid-Athletic Club     2023-06-04 16:30:00+00:00   \n",
       "                   2023-06-04 Real Sociedad-Sevilla         2023-06-04 16:30:00+00:00   \n",
       "                   2023-06-04 Real Valladolid-Getafe        2023-06-04 19:00:00+00:00   \n",
       "                   2023-06-04 Villarreal-Atlético Madrid    2023-06-04 16:30:00+00:00   \n",
       "\n",
       "                                                                       home_team  \\\n",
       "league      season game                                                            \n",
       "ESP-La Liga 0001   2000-09-30 Racing Santander-Real Madrid      Racing Santander   \n",
       "                   2000-10-01 Alavés-Osasuna                              Alavés   \n",
       "                   2000-10-01 Athletic Club-Mallorca               Athletic Club   \n",
       "                   2000-10-01 Deportivo La Coruña-Barcelona  Deportivo La Coruña   \n",
       "                   2000-10-01 Espanyol-Real Sociedad                    Espanyol   \n",
       "...                                                                          ...   \n",
       "            2223   2023-06-04 Real Betis-Valencia                     Real Betis   \n",
       "                   2023-06-04 Real Madrid-Athletic Club              Real Madrid   \n",
       "                   2023-06-04 Real Sociedad-Sevilla                Real Sociedad   \n",
       "                   2023-06-04 Real Valladolid-Getafe             Real Valladolid   \n",
       "                   2023-06-04 Villarreal-Atlético Madrid              Villarreal   \n",
       "\n",
       "                                                                   away_team  \\\n",
       "league      season game                                                        \n",
       "ESP-La Liga 0001   2000-09-30 Racing Santander-Real Madrid       Real Madrid   \n",
       "                   2000-10-01 Alavés-Osasuna                         Osasuna   \n",
       "                   2000-10-01 Athletic Club-Mallorca                Mallorca   \n",
       "                   2000-10-01 Deportivo La Coruña-Barcelona        Barcelona   \n",
       "                   2000-10-01 Espanyol-Real Sociedad           Real Sociedad   \n",
       "...                                                                      ...   \n",
       "            2223   2023-06-04 Real Betis-Valencia                   Valencia   \n",
       "                   2023-06-04 Real Madrid-Athletic Club        Athletic Club   \n",
       "                   2023-06-04 Real Sociedad-Sevilla                  Sevilla   \n",
       "                   2023-06-04 Real Valladolid-Getafe                  Getafe   \n",
       "                   2023-06-04 Villarreal-Atlético Madrid     Atlético Madrid   \n",
       "\n",
       "                                                             game_id league_id  \n",
       "league      season game                                                         \n",
       "ESP-La Liga 0001   2000-09-30 Racing Santander-Real Madrid      1177     esp.1  \n",
       "                   2000-10-01 Alavés-Osasuna                    1183     esp.1  \n",
       "                   2000-10-01 Athletic Club-Mallorca            1185     esp.1  \n",
       "                   2000-10-01 Deportivo La Coruña-Barcelona     1178     esp.1  \n",
       "                   2000-10-01 Espanyol-Real Sociedad            1184     esp.1  \n",
       "...                                                              ...       ...  \n",
       "            2223   2023-06-04 Real Betis-Valencia             644146     esp.1  \n",
       "                   2023-06-04 Real Madrid-Athletic Club       644147     esp.1  \n",
       "                   2023-06-04 Real Sociedad-Sevilla           644148     esp.1  \n",
       "                   2023-06-04 Real Valladolid-Getafe          644149     esp.1  \n",
       "                   2023-06-04 Villarreal-Atlético Madrid      644150     esp.1  \n",
       "\n",
       "[8558 rows x 5 columns]"
      ]
     },
     "execution_count": 8,
     "metadata": {},
     "output_type": "execute_result"
    }
   ],
   "source": [
    "# Arreglar : ---\n",
    "# En serie\n",
    "league = \"ESP-La Liga\"\n",
    "seasons = [i for i in range(2000, 2023)]\n",
    "espn = sd.ESPN(leagues=league, seasons=seasons, no_cache=True)\n",
    "schedule = espn.read_schedule()\n",
    "schedule"
   ]
  },
  {
   "cell_type": "code",
   "execution_count": 13,
   "id": "d8981ab4",
   "metadata": {},
   "outputs": [
    {
     "data": {
      "text/html": [
       "<pre style=\"white-space:pre;overflow-x:auto;line-height:normal;font-family:Menlo,'DejaVu Sans Mono',consolas,'Courier New',monospace\"><span style=\"color: #7fbfbf; text-decoration-color: #7fbfbf\">[03/10/24 11:31:50] </span><span style=\"color: #000080; text-decoration-color: #000080\">INFO    </span> Saving cached data to C:\\Users\\gfuen\\soccerdata\\data\\ESPN                <a href=\"file://c:\\Users\\gfuen\\AppData\\Local\\Programs\\Python\\Python310\\lib\\site-packages\\soccerdata\\_common.py\" target=\"_blank\"><span style=\"color: #7f7f7f; text-decoration-color: #7f7f7f\">_common.py</span></a><span style=\"color: #7f7f7f; text-decoration-color: #7f7f7f\">:</span><a href=\"file://c:\\Users\\gfuen\\AppData\\Local\\Programs\\Python\\Python310\\lib\\site-packages\\soccerdata\\_common.py#91\" target=\"_blank\"><span style=\"color: #7f7f7f; text-decoration-color: #7f7f7f\">91</span></a>\n",
       "</pre>\n"
      ],
      "text/plain": [
       "\u001b[2;36m[03/10/24 11:31:50]\u001b[0m\u001b[2;36m \u001b[0m\u001b[34mINFO    \u001b[0m Saving cached data to C:\\Users\\gfuen\\soccerdata\\data\\ESPN                \u001b]8;id=327709;file://c:\\Users\\gfuen\\AppData\\Local\\Programs\\Python\\Python310\\lib\\site-packages\\soccerdata\\_common.py\u001b\\\u001b[2m_common.py\u001b[0m\u001b]8;;\u001b\\\u001b[2m:\u001b[0m\u001b]8;id=689375;file://c:\\Users\\gfuen\\AppData\\Local\\Programs\\Python\\Python310\\lib\\site-packages\\soccerdata\\_common.py#91\u001b\\\u001b[2m91\u001b[0m\u001b]8;;\u001b\\\n"
      ]
     },
     "metadata": {},
     "output_type": "display_data"
    },
    {
     "ename": "KeyError",
     "evalue": "'date'",
     "output_type": "error",
     "traceback": [
      "\u001b[1;31m---------------------------------------------------------------------------\u001b[0m",
      "\u001b[1;31mKeyError\u001b[0m                                  Traceback (most recent call last)",
      "Cell \u001b[1;32mIn[13], line 7\u001b[0m\n\u001b[0;32m      5\u001b[0m seasons \u001b[38;5;241m=\u001b[39m [i \u001b[38;5;28;01mfor\u001b[39;00m i \u001b[38;5;129;01min\u001b[39;00m \u001b[38;5;28mrange\u001b[39m(\u001b[38;5;241m2000\u001b[39m, \u001b[38;5;241m2023\u001b[39m)]\n\u001b[0;32m      6\u001b[0m espn \u001b[38;5;241m=\u001b[39m sd\u001b[38;5;241m.\u001b[39mESPN(leagues\u001b[38;5;241m=\u001b[39ml, seasons\u001b[38;5;241m=\u001b[39mseasons)\n\u001b[1;32m----> 7\u001b[0m schedule \u001b[38;5;241m=\u001b[39m \u001b[43mespn\u001b[49m\u001b[38;5;241;43m.\u001b[39;49m\u001b[43mread_schedule\u001b[49m\u001b[43m(\u001b[49m\u001b[43m)\u001b[49m\n\u001b[0;32m      8\u001b[0m \u001b[38;5;28;01mwhile\u001b[39;00m \u001b[38;5;28;01mTrue\u001b[39;00m:\n\u001b[0;32m      9\u001b[0m     \u001b[38;5;28;01mtry\u001b[39;00m:\n",
      "File \u001b[1;32mc:\\Users\\gfuen\\AppData\\Local\\Programs\\Python\\Python310\\lib\\site-packages\\soccerdata\\espn.py:124\u001b[0m, in \u001b[0;36mESPN.read_schedule\u001b[1;34m(self, force_cache)\u001b[0m\n\u001b[0;32m    120\u001b[0m         reader \u001b[38;5;241m=\u001b[39m \u001b[38;5;28mself\u001b[39m\u001b[38;5;241m.\u001b[39mget(url, filepath, no_cache\u001b[38;5;241m=\u001b[39mcurrent_season \u001b[38;5;129;01mand\u001b[39;00m \u001b[38;5;129;01mnot\u001b[39;00m force_cache)\n\u001b[0;32m    122\u001b[0m         data \u001b[38;5;241m=\u001b[39m json\u001b[38;5;241m.\u001b[39mload(reader)\n\u001b[0;32m    123\u001b[0m         df_list\u001b[38;5;241m.\u001b[39mextend(\n\u001b[1;32m--> 124\u001b[0m             [\n\u001b[0;32m    125\u001b[0m                 {\n\u001b[0;32m    126\u001b[0m                     \u001b[38;5;124m\"\u001b[39m\u001b[38;5;124mleague\u001b[39m\u001b[38;5;124m\"\u001b[39m: lkey,\n\u001b[0;32m    127\u001b[0m                     \u001b[38;5;124m\"\u001b[39m\u001b[38;5;124mseason\u001b[39m\u001b[38;5;124m\"\u001b[39m: skey,\n\u001b[0;32m    128\u001b[0m                     \u001b[38;5;124m\"\u001b[39m\u001b[38;5;124mdate\u001b[39m\u001b[38;5;124m\"\u001b[39m: e[\u001b[38;5;124m\"\u001b[39m\u001b[38;5;124mdate\u001b[39m\u001b[38;5;124m\"\u001b[39m],\n\u001b[0;32m    129\u001b[0m                     \u001b[38;5;124m\"\u001b[39m\u001b[38;5;124mhome_team\u001b[39m\u001b[38;5;124m\"\u001b[39m: e[\u001b[38;5;124m\"\u001b[39m\u001b[38;5;124mcompetitions\u001b[39m\u001b[38;5;124m\"\u001b[39m][\u001b[38;5;241m0\u001b[39m][\u001b[38;5;124m\"\u001b[39m\u001b[38;5;124mcompetitors\u001b[39m\u001b[38;5;124m\"\u001b[39m][\u001b[38;5;241m0\u001b[39m][\u001b[38;5;124m\"\u001b[39m\u001b[38;5;124mteam\u001b[39m\u001b[38;5;124m\"\u001b[39m][\u001b[38;5;124m\"\u001b[39m\u001b[38;5;124mname\u001b[39m\u001b[38;5;124m\"\u001b[39m],\n\u001b[0;32m    130\u001b[0m                     \u001b[38;5;124m\"\u001b[39m\u001b[38;5;124maway_team\u001b[39m\u001b[38;5;124m\"\u001b[39m: e[\u001b[38;5;124m\"\u001b[39m\u001b[38;5;124mcompetitions\u001b[39m\u001b[38;5;124m\"\u001b[39m][\u001b[38;5;241m0\u001b[39m][\u001b[38;5;124m\"\u001b[39m\u001b[38;5;124mcompetitors\u001b[39m\u001b[38;5;124m\"\u001b[39m][\u001b[38;5;241m1\u001b[39m][\u001b[38;5;124m\"\u001b[39m\u001b[38;5;124mteam\u001b[39m\u001b[38;5;124m\"\u001b[39m][\u001b[38;5;124m\"\u001b[39m\u001b[38;5;124mname\u001b[39m\u001b[38;5;124m\"\u001b[39m],\n\u001b[0;32m    131\u001b[0m                     \u001b[38;5;124m\"\u001b[39m\u001b[38;5;124mgame_id\u001b[39m\u001b[38;5;124m\"\u001b[39m: \u001b[38;5;28mint\u001b[39m(e[\u001b[38;5;124m\"\u001b[39m\u001b[38;5;124mid\u001b[39m\u001b[38;5;124m\"\u001b[39m]),\n\u001b[0;32m    132\u001b[0m                     \u001b[38;5;124m\"\u001b[39m\u001b[38;5;124mleague_id\u001b[39m\u001b[38;5;124m\"\u001b[39m: lkey,\n\u001b[0;32m    133\u001b[0m                 }\n\u001b[0;32m    134\u001b[0m                 \u001b[38;5;28;01mfor\u001b[39;00m e \u001b[38;5;129;01min\u001b[39;00m data[\u001b[38;5;124m\"\u001b[39m\u001b[38;5;124mevents\u001b[39m\u001b[38;5;124m\"\u001b[39m]\n\u001b[0;32m    135\u001b[0m             ]\n\u001b[0;32m    136\u001b[0m         )\n\u001b[0;32m    137\u001b[0m df \u001b[38;5;241m=\u001b[39m (\n\u001b[0;32m    138\u001b[0m     pd\u001b[38;5;241m.\u001b[39mDataFrame(df_list)\n\u001b[0;32m    139\u001b[0m     \u001b[38;5;241m.\u001b[39mpipe(\u001b[38;5;28mself\u001b[39m\u001b[38;5;241m.\u001b[39m_translate_league)\n\u001b[1;32m   (...)\u001b[0m\n\u001b[0;32m    145\u001b[0m     \u001b[38;5;241m.\u001b[39msort_index()\n\u001b[0;32m    146\u001b[0m )\n\u001b[0;32m    148\u001b[0m \u001b[38;5;28;01mreturn\u001b[39;00m df\n",
      "File \u001b[1;32mc:\\Users\\gfuen\\AppData\\Local\\Programs\\Python\\Python310\\lib\\site-packages\\soccerdata\\espn.py:128\u001b[0m, in \u001b[0;36m<listcomp>\u001b[1;34m(.0)\u001b[0m\n\u001b[0;32m    120\u001b[0m         reader \u001b[38;5;241m=\u001b[39m \u001b[38;5;28mself\u001b[39m\u001b[38;5;241m.\u001b[39mget(url, filepath, no_cache\u001b[38;5;241m=\u001b[39mcurrent_season \u001b[38;5;129;01mand\u001b[39;00m \u001b[38;5;129;01mnot\u001b[39;00m force_cache)\n\u001b[0;32m    122\u001b[0m         data \u001b[38;5;241m=\u001b[39m json\u001b[38;5;241m.\u001b[39mload(reader)\n\u001b[0;32m    123\u001b[0m         df_list\u001b[38;5;241m.\u001b[39mextend(\n\u001b[0;32m    124\u001b[0m             [\n\u001b[0;32m    125\u001b[0m                 {\n\u001b[0;32m    126\u001b[0m                     \u001b[38;5;124m\"\u001b[39m\u001b[38;5;124mleague\u001b[39m\u001b[38;5;124m\"\u001b[39m: lkey,\n\u001b[0;32m    127\u001b[0m                     \u001b[38;5;124m\"\u001b[39m\u001b[38;5;124mseason\u001b[39m\u001b[38;5;124m\"\u001b[39m: skey,\n\u001b[1;32m--> 128\u001b[0m                     \u001b[38;5;124m\"\u001b[39m\u001b[38;5;124mdate\u001b[39m\u001b[38;5;124m\"\u001b[39m: \u001b[43me\u001b[49m\u001b[43m[\u001b[49m\u001b[38;5;124;43m\"\u001b[39;49m\u001b[38;5;124;43mdate\u001b[39;49m\u001b[38;5;124;43m\"\u001b[39;49m\u001b[43m]\u001b[49m,\n\u001b[0;32m    129\u001b[0m                     \u001b[38;5;124m\"\u001b[39m\u001b[38;5;124mhome_team\u001b[39m\u001b[38;5;124m\"\u001b[39m: e[\u001b[38;5;124m\"\u001b[39m\u001b[38;5;124mcompetitions\u001b[39m\u001b[38;5;124m\"\u001b[39m][\u001b[38;5;241m0\u001b[39m][\u001b[38;5;124m\"\u001b[39m\u001b[38;5;124mcompetitors\u001b[39m\u001b[38;5;124m\"\u001b[39m][\u001b[38;5;241m0\u001b[39m][\u001b[38;5;124m\"\u001b[39m\u001b[38;5;124mteam\u001b[39m\u001b[38;5;124m\"\u001b[39m][\u001b[38;5;124m\"\u001b[39m\u001b[38;5;124mname\u001b[39m\u001b[38;5;124m\"\u001b[39m],\n\u001b[0;32m    130\u001b[0m                     \u001b[38;5;124m\"\u001b[39m\u001b[38;5;124maway_team\u001b[39m\u001b[38;5;124m\"\u001b[39m: e[\u001b[38;5;124m\"\u001b[39m\u001b[38;5;124mcompetitions\u001b[39m\u001b[38;5;124m\"\u001b[39m][\u001b[38;5;241m0\u001b[39m][\u001b[38;5;124m\"\u001b[39m\u001b[38;5;124mcompetitors\u001b[39m\u001b[38;5;124m\"\u001b[39m][\u001b[38;5;241m1\u001b[39m][\u001b[38;5;124m\"\u001b[39m\u001b[38;5;124mteam\u001b[39m\u001b[38;5;124m\"\u001b[39m][\u001b[38;5;124m\"\u001b[39m\u001b[38;5;124mname\u001b[39m\u001b[38;5;124m\"\u001b[39m],\n\u001b[0;32m    131\u001b[0m                     \u001b[38;5;124m\"\u001b[39m\u001b[38;5;124mgame_id\u001b[39m\u001b[38;5;124m\"\u001b[39m: \u001b[38;5;28mint\u001b[39m(e[\u001b[38;5;124m\"\u001b[39m\u001b[38;5;124mid\u001b[39m\u001b[38;5;124m\"\u001b[39m]),\n\u001b[0;32m    132\u001b[0m                     \u001b[38;5;124m\"\u001b[39m\u001b[38;5;124mleague_id\u001b[39m\u001b[38;5;124m\"\u001b[39m: lkey,\n\u001b[0;32m    133\u001b[0m                 }\n\u001b[0;32m    134\u001b[0m                 \u001b[38;5;28;01mfor\u001b[39;00m e \u001b[38;5;129;01min\u001b[39;00m data[\u001b[38;5;124m\"\u001b[39m\u001b[38;5;124mevents\u001b[39m\u001b[38;5;124m\"\u001b[39m]\n\u001b[0;32m    135\u001b[0m             ]\n\u001b[0;32m    136\u001b[0m         )\n\u001b[0;32m    137\u001b[0m df \u001b[38;5;241m=\u001b[39m (\n\u001b[0;32m    138\u001b[0m     pd\u001b[38;5;241m.\u001b[39mDataFrame(df_list)\n\u001b[0;32m    139\u001b[0m     \u001b[38;5;241m.\u001b[39mpipe(\u001b[38;5;28mself\u001b[39m\u001b[38;5;241m.\u001b[39m_translate_league)\n\u001b[1;32m   (...)\u001b[0m\n\u001b[0;32m    145\u001b[0m     \u001b[38;5;241m.\u001b[39msort_index()\n\u001b[0;32m    146\u001b[0m )\n\u001b[0;32m    148\u001b[0m \u001b[38;5;28;01mreturn\u001b[39;00m df\n",
      "\u001b[1;31mKeyError\u001b[0m: 'date'"
     ]
    }
   ],
   "source": [
    "ids_con_problemas = [14654,14653,15868,16446,17917,17924,53989,56397]\n",
    "leagues = sd.ESPN.available_leagues()\n",
    "\n",
    "for l in leagues[1:]:\n",
    "    seasons = [i for i in range(2000, 2023)]\n",
    "    espn = sd.ESPN(leagues=l, seasons=seasons)\n",
    "    schedule = espn.read_schedule()\n",
    "    while True:\n",
    "        try:\n",
    "            match_ids = list(set(schedule.game_id.unique())- set(ids_con_problemas))\n",
    "            df = espn.read_matchsheet(match_ids)\n",
    "            df.to_csv(f\"ESPN_{l}.csv\")\n",
    "            print(f\"Liga {l} lista\")\n",
    "            break\n",
    "        except ConnectionError as err:\n",
    "            print(f\"La liga {l} presenta otro error\")\n",
    "            id_broken = str(err).split(\"=\")[-1][:-1]\n",
    "            ids_con_problemas.append(int(id_broken))\n",
    "        except:\n",
    "            print(f\"La liga {l} presenta otro error\")\n",
    "            break\n",
    "\n"
   ]
  }
 ],
 "metadata": {
  "kernelspec": {
   "display_name": "Python 3 (ipykernel)",
   "language": "python",
   "name": "python3"
  },
  "language_info": {
   "codemirror_mode": {
    "name": "ipython",
    "version": 3
   },
   "file_extension": ".py",
   "mimetype": "text/x-python",
   "name": "python",
   "nbconvert_exporter": "python",
   "pygments_lexer": "ipython3",
   "version": "3.10.9"
  }
 },
 "nbformat": 4,
 "nbformat_minor": 5
}
