{
 "cells": [
  {
   "cell_type": "code",
   "execution_count": 5,
   "id": "771fb810",
   "metadata": {},
   "outputs": [
    {
     "data": {
      "text/html": [
       "<pre style=\"white-space:pre;overflow-x:auto;line-height:normal;font-family:Menlo,'DejaVu Sans Mono',consolas,'Courier New',monospace\"><span style=\"color: #7fbfbf; text-decoration-color: #7fbfbf\">[03/17/24 12:08:12] </span><span style=\"color: #000080; text-decoration-color: #000080\">INFO    </span> No custom team name replacements found. You can configure these in       <a href=\"file://c:\\Users\\gfuen\\AppData\\Local\\Programs\\Python\\Python310\\lib\\site-packages\\soccerdata\\_config.py\" target=\"_blank\"><span style=\"color: #7f7f7f; text-decoration-color: #7f7f7f\">_config.py</span></a><span style=\"color: #7f7f7f; text-decoration-color: #7f7f7f\">:</span><a href=\"file://c:\\Users\\gfuen\\AppData\\Local\\Programs\\Python\\Python310\\lib\\site-packages\\soccerdata\\_config.py#87\" target=\"_blank\"><span style=\"color: #7f7f7f; text-decoration-color: #7f7f7f\">87</span></a>\n",
       "<span style=\"color: #7fbfbf; text-decoration-color: #7fbfbf\">                    </span>         C:\\Users\\gfuen\\soccerdata\\config\\teamname_replacements.json.             <span style=\"color: #7f7f7f; text-decoration-color: #7f7f7f\">             </span>\n",
       "</pre>\n"
      ],
      "text/plain": [
       "\u001b[2;36m[03/17/24 12:08:12]\u001b[0m\u001b[2;36m \u001b[0m\u001b[34mINFO    \u001b[0m No custom team name replacements found. You can configure these in       \u001b]8;id=891792;file://c:\\Users\\gfuen\\AppData\\Local\\Programs\\Python\\Python310\\lib\\site-packages\\soccerdata\\_config.py\u001b\\\u001b[2m_config.py\u001b[0m\u001b]8;;\u001b\\\u001b[2m:\u001b[0m\u001b]8;id=147842;file://c:\\Users\\gfuen\\AppData\\Local\\Programs\\Python\\Python310\\lib\\site-packages\\soccerdata\\_config.py#87\u001b\\\u001b[2m87\u001b[0m\u001b]8;;\u001b\\\n",
       "\u001b[2;36m                    \u001b[0m         C:\\Users\\gfuen\\soccerdata\\config\\teamname_replacements.json.             \u001b[2m             \u001b[0m\n"
      ]
     },
     "metadata": {},
     "output_type": "display_data"
    },
    {
     "data": {
      "text/html": [
       "<pre style=\"white-space:pre;overflow-x:auto;line-height:normal;font-family:Menlo,'DejaVu Sans Mono',consolas,'Courier New',monospace\"><span style=\"color: #7fbfbf; text-decoration-color: #7fbfbf\">                    </span><span style=\"color: #000080; text-decoration-color: #000080\">INFO    </span> No custom league dict found. You can configure additional leagues in    <a href=\"file://c:\\Users\\gfuen\\AppData\\Local\\Programs\\Python\\Python310\\lib\\site-packages\\soccerdata\\_config.py\" target=\"_blank\"><span style=\"color: #7f7f7f; text-decoration-color: #7f7f7f\">_config.py</span></a><span style=\"color: #7f7f7f; text-decoration-color: #7f7f7f\">:</span><a href=\"file://c:\\Users\\gfuen\\AppData\\Local\\Programs\\Python\\Python310\\lib\\site-packages\\soccerdata\\_config.py#283\" target=\"_blank\"><span style=\"color: #7f7f7f; text-decoration-color: #7f7f7f\">283</span></a>\n",
       "<span style=\"color: #7fbfbf; text-decoration-color: #7fbfbf\">                    </span>         C:\\Users\\gfuen\\soccerdata\\config\\league_dict.json.                      <span style=\"color: #7f7f7f; text-decoration-color: #7f7f7f\">              </span>\n",
       "</pre>\n"
      ],
      "text/plain": [
       "\u001b[2;36m                   \u001b[0m\u001b[2;36m \u001b[0m\u001b[34mINFO    \u001b[0m No custom league dict found. You can configure additional leagues in    \u001b]8;id=578379;file://c:\\Users\\gfuen\\AppData\\Local\\Programs\\Python\\Python310\\lib\\site-packages\\soccerdata\\_config.py\u001b\\\u001b[2m_config.py\u001b[0m\u001b]8;;\u001b\\\u001b[2m:\u001b[0m\u001b]8;id=937132;file://c:\\Users\\gfuen\\AppData\\Local\\Programs\\Python\\Python310\\lib\\site-packages\\soccerdata\\_config.py#283\u001b\\\u001b[2m283\u001b[0m\u001b]8;;\u001b\\\n",
       "\u001b[2;36m                    \u001b[0m         C:\\Users\\gfuen\\soccerdata\\config\\league_dict.json.                      \u001b[2m              \u001b[0m\n"
      ]
     },
     "metadata": {},
     "output_type": "display_data"
    }
   ],
   "source": [
    "import soccerdata as sd\n",
    "from joblib import Parallel, delayed\n",
    "import pandas as pd\n",
    "from tqdm import tqdm"
   ]
  },
  {
   "cell_type": "code",
   "execution_count": 11,
   "id": "461decc6",
   "metadata": {},
   "outputs": [
    {
     "name": "stdout",
     "output_type": "stream",
     "text": [
      "['ARG-PrimeraDivision', 'BRA-Brasileirao', 'CHI-PrimeraDivision', 'ENG-Premier League', 'ESP-La Liga', 'FRA-Ligue 1', 'GER-Bundesliga', 'ITA-Serie A', 'NED-Eredivisie', 'POR-PrimeiraDivisao', 'RUS-PremierLeague', 'SCO-Premiership', 'TUR-SuperLig', 'USA-MLS']\n"
     ]
    }
   ],
   "source": [
    "print(sd.ESPN.available_leagues())"
   ]
  },
  {
   "cell_type": "code",
   "execution_count": null,
   "id": "913e854c",
   "metadata": {},
   "outputs": [],
   "source": [
    "# Arreglar : ---\n",
    "# En serie\n",
    "league = \"ESP-La Liga\"\n",
    "seasons = [i for i in range(2000, 2023)]\n",
    "espn = sd.ESPN(leagues=league, seasons=seasons, no_cache=True)\n",
    "schedule = espn.read_schedule()\n",
    "schedule"
   ]
  },
  {
   "cell_type": "code",
   "execution_count": null,
   "id": "d8981ab4",
   "metadata": {},
   "outputs": [],
   "source": [
    "ids_con_problemas = [14654,14653,15868,16446,17917,17924,53989,56397]\n",
    "leagues = sd.ESPN.available_leagues()\n",
    "\n",
    "for l in leagues[1:2]:\n",
    "    seasons = [i for i in range(2000, 2023)]\n",
    "    espn = sd.ESPN(leagues=l, seasons=seasons, no_cache=True)\n",
    "    schedule = espn.read_schedule()\n",
    "    while True:\n",
    "        try:\n",
    "            match_ids = list(set(schedule.game_id.unique())- set(ids_con_problemas))\n",
    "            df = espn.read_matchsheet(match_ids)\n",
    "            df.to_csv(f\"ESPN_{l}.csv\")\n",
    "            print(f\"Liga {l} lista\")\n",
    "            break\n",
    "        except ConnectionError as err:\n",
    "            print(f\"La liga {l} presenta otro error\")\n",
    "            id_broken = str(err).split(\"=\")[-1][:-1]\n",
    "            ids_con_problemas.append(int(id_broken))\n",
    "        except:\n",
    "            print(f\"La liga {l} presenta otro error\")\n",
    "\n"
   ]
  },
  {
   "cell_type": "code",
   "execution_count": 14,
   "id": "da7772fa",
   "metadata": {},
   "outputs": [],
   "source": [
    "df = pd.DataFrame()\n",
    "lista_de_años = [i for i in range(2000, 2023)][::-1]\n",
    "ids_con_problemas = [14654, 14653, 15868, 16446, 17917, 17924, 53989, 56397]\n",
    "leagues = [\"ESP-La Liga\", 'ARG-PrimeraDivision', 'BRA-Brasileirao', 'CHI-PrimeraDivision',\n",
    "           'POR-PrimeiraDivisao', 'RUS-PremierLeague', 'SCO-Premiership', 'TUR-SuperLig', 'USA-MLS']\n",
    "\n",
    "\n",
    "def espn_scraper(league, lista_de_años):\n",
    "    años_faltantes = []\n",
    "    df = pd.DataFrame()\n",
    "    ids_con_problemas = [14654, 14653, 15868, 16446, 17917, 17924, 53989, 56397]\n",
    "    for a in lista_de_años:\n",
    "        try:\n",
    "            espn = sd.ESPN(leagues=league, seasons=a, no_cache=True)\n",
    "            schedule = espn.read_schedule()\n",
    "            match_ids = list(set(schedule.game_id.unique()) -\n",
    "                             set(ids_con_problemas))\n",
    "            data = espn.read_matchsheet(match_ids)\n",
    "            df = pd.concat([df, data.reset_index()])\n",
    "            print(f\"La liga {league}, año {a} listo\")\n",
    "        except:\n",
    "            print(f\"La liga {league} presenta otro error, en el año {a}\")\n",
    "            años_faltantes.append(a)\n",
    "    df.to_csv(f\"ESPN_{league}.csv\")\n",
    "    return años_faltantes"
   ]
  },
  {
   "cell_type": "code",
   "execution_count": 16,
   "id": "9a6aca72",
   "metadata": {},
   "outputs": [
    {
     "name": "stderr",
     "output_type": "stream",
     "text": [
      "[Parallel(n_jobs=9)]: Using backend LokyBackend with 9 concurrent workers.\n",
      "[Parallel(n_jobs=9)]: Done   2 out of   9 | elapsed: 61.7min remaining: 215.9min\n",
      "[Parallel(n_jobs=9)]: Done   3 out of   9 | elapsed: 63.7min remaining: 127.3min\n",
      "[Parallel(n_jobs=9)]: Done   4 out of   9 | elapsed: 63.9min remaining: 79.9min\n",
      "[Parallel(n_jobs=9)]: Done   5 out of   9 | elapsed: 72.6min remaining: 58.1min\n",
      "[Parallel(n_jobs=9)]: Done   6 out of   9 | elapsed: 73.2min remaining: 36.6min\n",
      "[Parallel(n_jobs=9)]: Done   7 out of   9 | elapsed: 84.2min remaining: 24.0min\n",
      "[Parallel(n_jobs=9)]: Done   9 out of   9 | elapsed: 89.1min finished\n"
     ]
    }
   ],
   "source": [
    "n_workers = 9\n",
    "\n",
    "lista_de_años = [i for i in range(2000, 2023)][::-1]\n",
    "leagues = [\"ESP-La Liga\", 'ARG-PrimeraDivision', 'BRA-Brasileirao', 'CHI-PrimeraDivision',\n",
    "           'POR-PrimeiraDivisao', 'RUS-PremierLeague', 'SCO-Premiership', 'TUR-SuperLig', 'USA-MLS']\n",
    "\n",
    "resultados = Parallel(n_jobs=n_workers, verbose=10) (delayed(espn_scraper)(league, lista_de_años) for league in leagues)\n"
   ]
  },
  {
   "cell_type": "code",
   "execution_count": 19,
   "id": "84988308",
   "metadata": {},
   "outputs": [
    {
     "data": {
      "text/plain": [
       "[[2004, 2003, 2002],\n",
       " [2017, 2011, 2010, 2009, 2008, 2007, 2005, 2000],\n",
       " [2018, 2011, 2010, 2009, 2008, 2007],\n",
       " [2008, 2007, 2006],\n",
       " [2021, 2020, 2019, 2010, 2009, 2003, 2002, 2001, 2000],\n",
       " [2002, 2001, 2000],\n",
       " [2017, 2006, 2005, 2004, 2003, 2002, 2001, 2000],\n",
       " [2011, 2008, 2003, 2002, 2001, 2000],\n",
       " [2019, 2015, 2014, 2011, 2002, 2001, 2000]]"
      ]
     },
     "execution_count": 19,
     "metadata": {},
     "output_type": "execute_result"
    }
   ],
   "source": [
    "años_faltantes = resultados\n",
    "años_faltantes"
   ]
  },
  {
   "cell_type": "code",
   "execution_count": 24,
   "id": "fd85b4d3",
   "metadata": {},
   "outputs": [],
   "source": [
    "# Arreglar datos faltantes\n",
    "\n",
    "ids_con_problemas = [14654, 14653, 15868, 16446, 17917, 17924, 53989, 56397]\n",
    "leagues = [\"ESP-La Liga\", 'ARG-PrimeraDivision', 'BRA-Brasileirao', 'CHI-PrimeraDivision',\n",
    "           'POR-PrimeiraDivisao', 'RUS-PremierLeague', 'SCO-Premiership', 'TUR-SuperLig', 'USA-MLS']\n",
    "años_faltantes = [[2004, 2003, 2002],\n",
    "                  [2017, 2011, 2010, 2009, 2008, 2007, 2005, 2000],\n",
    "                  [2018, 2011, 2010, 2009, 2008, 2007],\n",
    "                  [2008, 2007, 2006],\n",
    "                  [2021, 2020, 2019, 2010, 2009, 2003, 2002, 2001, 2000],\n",
    "                  [2002, 2001, 2000],\n",
    "                  [2017, 2006, 2005, 2004, 2003, 2002, 2001, 2000],\n",
    "                  [2011, 2008, 2003, 2002, 2001, 2000],\n",
    "                  [2019, 2015, 2014, 2011, 2002, 2001, 2000]]\n",
    "\n",
    "\n",
    "def solucionar_data_faltante(leagues, años_faltantes, i):\n",
    "    ids_con_problemas = [14654, 14653, 15868, 16446, 17917, 17924, 53989, 56397]\n",
    "    seasons = años_faltantes[i]\n",
    "    espn = sd.ESPN(leagues=leagues[i], seasons=seasons, no_cache=True)\n",
    "    try:\n",
    "        schedule = espn.read_schedule()\n",
    "    except:\n",
    "        return\n",
    "    match_ids = list(set(schedule.game_id.unique()) -\n",
    "                    set(ids_con_problemas))\n",
    "    data = pd.DataFrame()\n",
    "    print(f\"Total: {len(match_ids)}\")\n",
    "    for id in tqdm(match_ids):\n",
    "        try:\n",
    "            add = espn.read_matchsheet([id])\n",
    "            data = pd.concat([data, add.reset_index()])\n",
    "            print(len(data))\n",
    "        except Exception as err:\n",
    "            print(err)\n",
    "            pass\n",
    "    # Si pasa los match:\n",
    "    df = pd.read_csv(f\"ESPN_{leagues[i]}.csv\")\n",
    "    df = pd.concat([df, data.reset_index()])\n",
    "    df.to_csv(f\"ESPN_{leagues[i]}.csv\")\n",
    "    print(f\"Liga {leagues[i]} lista\")\n"
   ]
  },
  {
   "cell_type": "code",
   "execution_count": 25,
   "id": "7025232d",
   "metadata": {},
   "outputs": [
    {
     "name": "stderr",
     "output_type": "stream",
     "text": [
      "[Parallel(n_jobs=-1)]: Using backend LokyBackend with 12 concurrent workers.\n"
     ]
    },
    {
     "ename": "KeyboardInterrupt",
     "evalue": "",
     "output_type": "error",
     "traceback": [
      "\u001b[1;31m---------------------------------------------------------------------------\u001b[0m",
      "\u001b[1;31mKeyboardInterrupt\u001b[0m                         Traceback (most recent call last)",
      "Cell \u001b[1;32mIn[25], line 2\u001b[0m\n\u001b[0;32m      1\u001b[0m n_workers \u001b[38;5;241m=\u001b[39m \u001b[38;5;241m-\u001b[39m\u001b[38;5;241m1\u001b[39m\n\u001b[1;32m----> 2\u001b[0m data_faltante \u001b[38;5;241m=\u001b[39m \u001b[43mParallel\u001b[49m\u001b[43m(\u001b[49m\u001b[43mn_jobs\u001b[49m\u001b[38;5;241;43m=\u001b[39;49m\u001b[43mn_workers\u001b[49m\u001b[43m,\u001b[49m\u001b[43m \u001b[49m\u001b[43mverbose\u001b[49m\u001b[38;5;241;43m=\u001b[39;49m\u001b[38;5;241;43m10\u001b[39;49m\u001b[43m)\u001b[49m\u001b[43m(\u001b[49m\u001b[43mdelayed\u001b[49m\u001b[43m(\u001b[49m\n\u001b[0;32m      3\u001b[0m \u001b[43m    \u001b[49m\u001b[43msolucionar_data_faltante\u001b[49m\u001b[43m)\u001b[49m\u001b[43m(\u001b[49m\u001b[43mleagues\u001b[49m\u001b[43m,\u001b[49m\u001b[43m \u001b[49m\u001b[43maños_faltantes\u001b[49m\u001b[43m,\u001b[49m\u001b[43mi\u001b[49m\u001b[43m)\u001b[49m\u001b[43m \u001b[49m\u001b[38;5;28;43;01mfor\u001b[39;49;00m\u001b[43m \u001b[49m\u001b[43mi\u001b[49m\u001b[43m \u001b[49m\u001b[38;5;129;43;01min\u001b[39;49;00m\u001b[43m \u001b[49m\u001b[38;5;28;43mrange\u001b[39;49m\u001b[43m(\u001b[49m\u001b[38;5;28;43mlen\u001b[39;49m\u001b[43m(\u001b[49m\u001b[43mleagues\u001b[49m\u001b[43m)\u001b[49m\u001b[43m)\u001b[49m\u001b[43m)\u001b[49m\n",
      "File \u001b[1;32mc:\\Users\\gfuen\\AppData\\Local\\Programs\\Python\\Python310\\lib\\site-packages\\joblib\\parallel.py:1952\u001b[0m, in \u001b[0;36mParallel.__call__\u001b[1;34m(self, iterable)\u001b[0m\n\u001b[0;32m   1946\u001b[0m \u001b[38;5;66;03m# The first item from the output is blank, but it makes the interpreter\u001b[39;00m\n\u001b[0;32m   1947\u001b[0m \u001b[38;5;66;03m# progress until it enters the Try/Except block of the generator and\u001b[39;00m\n\u001b[0;32m   1948\u001b[0m \u001b[38;5;66;03m# reach the first `yield` statement. This starts the aynchronous\u001b[39;00m\n\u001b[0;32m   1949\u001b[0m \u001b[38;5;66;03m# dispatch of the tasks to the workers.\u001b[39;00m\n\u001b[0;32m   1950\u001b[0m \u001b[38;5;28mnext\u001b[39m(output)\n\u001b[1;32m-> 1952\u001b[0m \u001b[38;5;28;01mreturn\u001b[39;00m output \u001b[38;5;28;01mif\u001b[39;00m \u001b[38;5;28mself\u001b[39m\u001b[38;5;241m.\u001b[39mreturn_generator \u001b[38;5;28;01melse\u001b[39;00m \u001b[38;5;28;43mlist\u001b[39;49m\u001b[43m(\u001b[49m\u001b[43moutput\u001b[49m\u001b[43m)\u001b[49m\n",
      "File \u001b[1;32mc:\\Users\\gfuen\\AppData\\Local\\Programs\\Python\\Python310\\lib\\site-packages\\joblib\\parallel.py:1595\u001b[0m, in \u001b[0;36mParallel._get_outputs\u001b[1;34m(self, iterator, pre_dispatch)\u001b[0m\n\u001b[0;32m   1592\u001b[0m     \u001b[38;5;28;01myield\u001b[39;00m\n\u001b[0;32m   1594\u001b[0m     \u001b[38;5;28;01mwith\u001b[39;00m \u001b[38;5;28mself\u001b[39m\u001b[38;5;241m.\u001b[39m_backend\u001b[38;5;241m.\u001b[39mretrieval_context():\n\u001b[1;32m-> 1595\u001b[0m         \u001b[38;5;28;01myield from\u001b[39;00m \u001b[38;5;28mself\u001b[39m\u001b[38;5;241m.\u001b[39m_retrieve()\n\u001b[0;32m   1597\u001b[0m \u001b[38;5;28;01mexcept\u001b[39;00m \u001b[38;5;167;01mGeneratorExit\u001b[39;00m:\n\u001b[0;32m   1598\u001b[0m     \u001b[38;5;66;03m# The generator has been garbage collected before being fully\u001b[39;00m\n\u001b[0;32m   1599\u001b[0m     \u001b[38;5;66;03m# consumed. This aborts the remaining tasks if possible and warn\u001b[39;00m\n\u001b[0;32m   1600\u001b[0m     \u001b[38;5;66;03m# the user if necessary.\u001b[39;00m\n\u001b[0;32m   1601\u001b[0m     \u001b[38;5;28mself\u001b[39m\u001b[38;5;241m.\u001b[39m_exception \u001b[38;5;241m=\u001b[39m \u001b[38;5;28;01mTrue\u001b[39;00m\n",
      "File \u001b[1;32mc:\\Users\\gfuen\\AppData\\Local\\Programs\\Python\\Python310\\lib\\site-packages\\joblib\\parallel.py:1707\u001b[0m, in \u001b[0;36mParallel._retrieve\u001b[1;34m(self)\u001b[0m\n\u001b[0;32m   1702\u001b[0m \u001b[38;5;66;03m# If the next job is not ready for retrieval yet, we just wait for\u001b[39;00m\n\u001b[0;32m   1703\u001b[0m \u001b[38;5;66;03m# async callbacks to progress.\u001b[39;00m\n\u001b[0;32m   1704\u001b[0m \u001b[38;5;28;01mif\u001b[39;00m ((\u001b[38;5;28mlen\u001b[39m(\u001b[38;5;28mself\u001b[39m\u001b[38;5;241m.\u001b[39m_jobs) \u001b[38;5;241m==\u001b[39m \u001b[38;5;241m0\u001b[39m) \u001b[38;5;129;01mor\u001b[39;00m\n\u001b[0;32m   1705\u001b[0m     (\u001b[38;5;28mself\u001b[39m\u001b[38;5;241m.\u001b[39m_jobs[\u001b[38;5;241m0\u001b[39m]\u001b[38;5;241m.\u001b[39mget_status(\n\u001b[0;32m   1706\u001b[0m         timeout\u001b[38;5;241m=\u001b[39m\u001b[38;5;28mself\u001b[39m\u001b[38;5;241m.\u001b[39mtimeout) \u001b[38;5;241m==\u001b[39m TASK_PENDING)):\n\u001b[1;32m-> 1707\u001b[0m     \u001b[43mtime\u001b[49m\u001b[38;5;241;43m.\u001b[39;49m\u001b[43msleep\u001b[49m\u001b[43m(\u001b[49m\u001b[38;5;241;43m0.01\u001b[39;49m\u001b[43m)\u001b[49m\n\u001b[0;32m   1708\u001b[0m     \u001b[38;5;28;01mcontinue\u001b[39;00m\n\u001b[0;32m   1710\u001b[0m \u001b[38;5;66;03m# We need to be careful: the job list can be filling up as\u001b[39;00m\n\u001b[0;32m   1711\u001b[0m \u001b[38;5;66;03m# we empty it and Python list are not thread-safe by\u001b[39;00m\n\u001b[0;32m   1712\u001b[0m \u001b[38;5;66;03m# default hence the use of the lock\u001b[39;00m\n",
      "\u001b[1;31mKeyboardInterrupt\u001b[0m: "
     ]
    }
   ],
   "source": [
    "n_workers = -1\n",
    "data_faltante = Parallel(n_jobs=n_workers, verbose=10)(delayed(\n",
    "    solucionar_data_faltante)(leagues, años_faltantes,i) for i in range(len(leagues)))"
   ]
  }
 ],
 "metadata": {
  "kernelspec": {
   "display_name": "Python 3 (ipykernel)",
   "language": "python",
   "name": "python3"
  },
  "language_info": {
   "codemirror_mode": {
    "name": "ipython",
    "version": 3
   },
   "file_extension": ".py",
   "mimetype": "text/x-python",
   "name": "python",
   "nbconvert_exporter": "python",
   "pygments_lexer": "ipython3",
   "version": "3.10.9"
  }
 },
 "nbformat": 4,
 "nbformat_minor": 5
}
