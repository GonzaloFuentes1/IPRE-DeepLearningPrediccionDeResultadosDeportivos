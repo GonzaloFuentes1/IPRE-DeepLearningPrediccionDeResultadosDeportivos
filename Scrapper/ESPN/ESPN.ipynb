{
 "cells": [
  {
   "cell_type": "code",
   "execution_count": 1,
   "id": "771fb810",
   "metadata": {},
   "outputs": [
    {
     "data": {
      "text/html": [
       "<pre style=\"white-space:pre;overflow-x:auto;line-height:normal;font-family:Menlo,'DejaVu Sans Mono',consolas,'Courier New',monospace\"><span style=\"color: #7fbfbf; text-decoration-color: #7fbfbf\">[03/19/24 09:11:01] </span><span style=\"color: #000080; text-decoration-color: #000080\">INFO    </span> No custom team name replacements found. You can configure these in       <a href=\"file://c:\\Users\\gfuen\\AppData\\Local\\Programs\\Python\\Python310\\lib\\site-packages\\soccerdata\\_config.py\" target=\"_blank\"><span style=\"color: #7f7f7f; text-decoration-color: #7f7f7f\">_config.py</span></a><span style=\"color: #7f7f7f; text-decoration-color: #7f7f7f\">:</span><a href=\"file://c:\\Users\\gfuen\\AppData\\Local\\Programs\\Python\\Python310\\lib\\site-packages\\soccerdata\\_config.py#87\" target=\"_blank\"><span style=\"color: #7f7f7f; text-decoration-color: #7f7f7f\">87</span></a>\n",
       "<span style=\"color: #7fbfbf; text-decoration-color: #7fbfbf\">                    </span>         C:\\Users\\gfuen\\soccerdata\\config\\teamname_replacements.json.             <span style=\"color: #7f7f7f; text-decoration-color: #7f7f7f\">             </span>\n",
       "</pre>\n"
      ],
      "text/plain": [
       "\u001b[2;36m[03/19/24 09:11:01]\u001b[0m\u001b[2;36m \u001b[0m\u001b[34mINFO    \u001b[0m No custom team name replacements found. You can configure these in       \u001b]8;id=880672;file://c:\\Users\\gfuen\\AppData\\Local\\Programs\\Python\\Python310\\lib\\site-packages\\soccerdata\\_config.py\u001b\\\u001b[2m_config.py\u001b[0m\u001b]8;;\u001b\\\u001b[2m:\u001b[0m\u001b]8;id=212281;file://c:\\Users\\gfuen\\AppData\\Local\\Programs\\Python\\Python310\\lib\\site-packages\\soccerdata\\_config.py#87\u001b\\\u001b[2m87\u001b[0m\u001b]8;;\u001b\\\n",
       "\u001b[2;36m                    \u001b[0m         C:\\Users\\gfuen\\soccerdata\\config\\teamname_replacements.json.             \u001b[2m             \u001b[0m\n"
      ]
     },
     "metadata": {},
     "output_type": "display_data"
    },
    {
     "data": {
      "text/html": [
       "<pre style=\"white-space:pre;overflow-x:auto;line-height:normal;font-family:Menlo,'DejaVu Sans Mono',consolas,'Courier New',monospace\"><span style=\"color: #7fbfbf; text-decoration-color: #7fbfbf\">                    </span><span style=\"color: #000080; text-decoration-color: #000080\">INFO    </span> No custom league dict found. You can configure additional leagues in    <a href=\"file://c:\\Users\\gfuen\\AppData\\Local\\Programs\\Python\\Python310\\lib\\site-packages\\soccerdata\\_config.py\" target=\"_blank\"><span style=\"color: #7f7f7f; text-decoration-color: #7f7f7f\">_config.py</span></a><span style=\"color: #7f7f7f; text-decoration-color: #7f7f7f\">:</span><a href=\"file://c:\\Users\\gfuen\\AppData\\Local\\Programs\\Python\\Python310\\lib\\site-packages\\soccerdata\\_config.py#283\" target=\"_blank\"><span style=\"color: #7f7f7f; text-decoration-color: #7f7f7f\">283</span></a>\n",
       "<span style=\"color: #7fbfbf; text-decoration-color: #7fbfbf\">                    </span>         C:\\Users\\gfuen\\soccerdata\\config\\league_dict.json.                      <span style=\"color: #7f7f7f; text-decoration-color: #7f7f7f\">              </span>\n",
       "</pre>\n"
      ],
      "text/plain": [
       "\u001b[2;36m                   \u001b[0m\u001b[2;36m \u001b[0m\u001b[34mINFO    \u001b[0m No custom league dict found. You can configure additional leagues in    \u001b]8;id=962272;file://c:\\Users\\gfuen\\AppData\\Local\\Programs\\Python\\Python310\\lib\\site-packages\\soccerdata\\_config.py\u001b\\\u001b[2m_config.py\u001b[0m\u001b]8;;\u001b\\\u001b[2m:\u001b[0m\u001b]8;id=611139;file://c:\\Users\\gfuen\\AppData\\Local\\Programs\\Python\\Python310\\lib\\site-packages\\soccerdata\\_config.py#283\u001b\\\u001b[2m283\u001b[0m\u001b]8;;\u001b\\\n",
       "\u001b[2;36m                    \u001b[0m         C:\\Users\\gfuen\\soccerdata\\config\\league_dict.json.                      \u001b[2m              \u001b[0m\n"
      ]
     },
     "metadata": {},
     "output_type": "display_data"
    }
   ],
   "source": [
    "import soccerdata as sd\n",
    "from joblib import Parallel, delayed\n",
    "import pandas as pd\n",
    "from tqdm import tqdm"
   ]
  },
  {
   "cell_type": "code",
   "execution_count": 3,
   "id": "461decc6",
   "metadata": {},
   "outputs": [
    {
     "name": "stdout",
     "output_type": "stream",
     "text": [
      "['ARG-PrimeraDivision', 'BRA-Brasileirao', 'CHI-PrimeraDivision', 'ENG-Premier League', 'ESP-La Liga', 'FRA-Ligue 1', 'GER-Bundesliga', 'ITA-Serie A', 'NED-Eredivisie', 'POR-PrimeiraDivisao', 'RUS-PremierLeague', 'SCO-Premiership', 'TUR-SuperLig', 'USA-MLS']\n"
     ]
    }
   ],
   "source": [
    "print(sd.ESPN.available_leagues())"
   ]
  },
  {
   "cell_type": "code",
   "execution_count": null,
   "id": "913e854c",
   "metadata": {},
   "outputs": [],
   "source": [
    "# Arreglar : ---\n",
    "# En serie\n",
    "league = \"ESP-La Liga\"\n",
    "seasons = [i for i in range(2000, 2023)]\n",
    "espn = sd.ESPN(leagues=league, seasons=seasons, no_cache=True)\n",
    "schedule = espn.read_schedule()\n",
    "schedule"
   ]
  },
  {
   "cell_type": "code",
   "execution_count": null,
   "id": "d8981ab4",
   "metadata": {},
   "outputs": [],
   "source": [
    "ids_con_problemas = [14654,14653,15868,16446,17917,17924,53989,56397]\n",
    "leagues = sd.ESPN.available_leagues()\n",
    "\n",
    "for l in leagues[1:2]:\n",
    "    seasons = [i for i in range(2000, 2023)]\n",
    "    espn = sd.ESPN(leagues=l, seasons=seasons, no_cache=True)\n",
    "    schedule = espn.read_schedule()\n",
    "    while True:\n",
    "        try:\n",
    "            match_ids = list(set(schedule.game_id.unique())- set(ids_con_problemas))\n",
    "            df = espn.read_matchsheet(match_ids)\n",
    "            df.to_csv(f\"ESPN_{l}.csv\")\n",
    "            print(f\"Liga {l} lista\")\n",
    "            break\n",
    "        except ConnectionError as err:\n",
    "            print(f\"La liga {l} presenta otro error\")\n",
    "            id_broken = str(err).split(\"=\")[-1][:-1]\n",
    "            ids_con_problemas.append(int(id_broken))\n",
    "        except:\n",
    "            print(f\"La liga {l} presenta otro error\")\n",
    "\n"
   ]
  },
  {
   "cell_type": "code",
   "execution_count": 14,
   "id": "da7772fa",
   "metadata": {},
   "outputs": [],
   "source": [
    "df = pd.DataFrame()\n",
    "lista_de_años = [i for i in range(2000, 2023)][::-1]\n",
    "ids_con_problemas = [14654, 14653, 15868, 16446, 17917, 17924, 53989, 56397]\n",
    "leagues = [\"ESP-La Liga\", 'ARG-PrimeraDivision', 'BRA-Brasileirao', 'CHI-PrimeraDivision',\n",
    "           'POR-PrimeiraDivisao', 'RUS-PremierLeague', 'SCO-Premiership', 'TUR-SuperLig', 'USA-MLS']\n",
    "\n",
    "\n",
    "def espn_scraper(league, lista_de_años):\n",
    "    años_faltantes = []\n",
    "    df = pd.DataFrame()\n",
    "    ids_con_problemas = [14654, 14653, 15868, 16446, 17917, 17924, 53989, 56397]\n",
    "    for a in lista_de_años:\n",
    "        try:\n",
    "            espn = sd.ESPN(leagues=league, seasons=a, no_cache=True)\n",
    "            schedule = espn.read_schedule()\n",
    "            match_ids = list(set(schedule.game_id.unique()) -\n",
    "                             set(ids_con_problemas))\n",
    "            data = espn.read_matchsheet(match_ids)\n",
    "            df = pd.concat([df, data.reset_index()])\n",
    "            print(f\"La liga {league}, año {a} listo\")\n",
    "        except:\n",
    "            print(f\"La liga {league} presenta otro error, en el año {a}\")\n",
    "            años_faltantes.append(a)\n",
    "    df.to_csv(f\"ESPN_{league}.csv\")\n",
    "    return años_faltantes"
   ]
  },
  {
   "cell_type": "code",
   "execution_count": 16,
   "id": "9a6aca72",
   "metadata": {},
   "outputs": [
    {
     "name": "stderr",
     "output_type": "stream",
     "text": [
      "[Parallel(n_jobs=9)]: Using backend LokyBackend with 9 concurrent workers.\n",
      "[Parallel(n_jobs=9)]: Done   2 out of   9 | elapsed: 61.7min remaining: 215.9min\n",
      "[Parallel(n_jobs=9)]: Done   3 out of   9 | elapsed: 63.7min remaining: 127.3min\n",
      "[Parallel(n_jobs=9)]: Done   4 out of   9 | elapsed: 63.9min remaining: 79.9min\n",
      "[Parallel(n_jobs=9)]: Done   5 out of   9 | elapsed: 72.6min remaining: 58.1min\n",
      "[Parallel(n_jobs=9)]: Done   6 out of   9 | elapsed: 73.2min remaining: 36.6min\n",
      "[Parallel(n_jobs=9)]: Done   7 out of   9 | elapsed: 84.2min remaining: 24.0min\n",
      "[Parallel(n_jobs=9)]: Done   9 out of   9 | elapsed: 89.1min finished\n"
     ]
    }
   ],
   "source": [
    "n_workers = 9\n",
    "\n",
    "lista_de_años = [i for i in range(2000, 2023)][::-1]\n",
    "leagues = [\"ESP-La Liga\", 'ARG-PrimeraDivision', 'BRA-Brasileirao', 'CHI-PrimeraDivision',\n",
    "           'POR-PrimeiraDivisao', 'RUS-PremierLeague', 'SCO-Premiership', 'TUR-SuperLig', 'USA-MLS']\n",
    "\n",
    "resultados = Parallel(n_jobs=n_workers, verbose=10) (delayed(espn_scraper)(league, lista_de_años) for league in leagues)\n"
   ]
  },
  {
   "cell_type": "code",
   "execution_count": 19,
   "id": "84988308",
   "metadata": {},
   "outputs": [
    {
     "data": {
      "text/plain": [
       "[[2004, 2003, 2002],\n",
       " [2017, 2011, 2010, 2009, 2008, 2007, 2005, 2000],\n",
       " [2018, 2011, 2010, 2009, 2008, 2007],\n",
       " [2008, 2007, 2006],\n",
       " [2021, 2020, 2019, 2010, 2009, 2003, 2002, 2001, 2000],\n",
       " [2002, 2001, 2000],\n",
       " [2017, 2006, 2005, 2004, 2003, 2002, 2001, 2000],\n",
       " [2011, 2008, 2003, 2002, 2001, 2000],\n",
       " [2019, 2015, 2014, 2011, 2002, 2001, 2000]]"
      ]
     },
     "execution_count": 19,
     "metadata": {},
     "output_type": "execute_result"
    }
   ],
   "source": [
    "años_faltantes = resultados\n",
    "años_faltantes"
   ]
  },
  {
   "cell_type": "code",
   "execution_count": 2,
   "id": "fd85b4d3",
   "metadata": {},
   "outputs": [],
   "source": [
    "# Arreglar datos faltantes\n",
    "\n",
    "ids_con_problemas = [14654, 14653, 15868, 16446, 17917, 17924, 53989, 56397]\n",
    "leagues = [\"ESP-La Liga\", 'ARG-PrimeraDivision', 'BRA-Brasileirao', 'CHI-PrimeraDivision',\n",
    "           'POR-PrimeiraDivisao', 'RUS-PremierLeague', 'SCO-Premiership', 'TUR-SuperLig', 'USA-MLS']\n",
    "años_faltantes = [[2004, 2003, 2002],\n",
    "                  [2017, 2011, 2010, 2009, 2008, 2007, 2005, 2000],\n",
    "                  [2018, 2011, 2010, 2009, 2008, 2007],\n",
    "                  [2008, 2007, 2006],\n",
    "                  [2021, 2020, 2019, 2010, 2009, 2003, 2002, 2001, 2000],\n",
    "                  [2002, 2001, 2000],\n",
    "                  [2017, 2006, 2005, 2004, 2003, 2002, 2001, 2000],\n",
    "                  [2011, 2008, 2003, 2002, 2001, 2000],\n",
    "                  [2019, 2015, 2014, 2011, 2002, 2001, 2000]]\n",
    "\n",
    "\n",
    "def solucionar_data_faltante(leagues, años_faltantes, i):\n",
    "    ids_con_problemas = [14654, 14653, 15868, 16446, 17917, 17924, 53989, 56397]\n",
    "    seasons = años_faltantes[i]\n",
    "    espn = sd.ESPN(leagues=leagues[i], seasons=seasons, no_cache=True)\n",
    "    try:\n",
    "        schedule = espn.read_schedule()\n",
    "    except:\n",
    "        return\n",
    "    match_ids = list(set(schedule.game_id.unique()) -\n",
    "                    set(ids_con_problemas))\n",
    "    data = pd.DataFrame()\n",
    "    print(f\"Total: {len(match_ids)}\")\n",
    "    for id in tqdm(match_ids):\n",
    "        try:\n",
    "            add = espn.read_matchsheet([id])\n",
    "            data = pd.concat([data, add.reset_index()])\n",
    "            print(len(data))\n",
    "        except Exception as err:\n",
    "            print(err)\n",
    "            pass\n",
    "    # Si pasa los match:\n",
    "    df = pd.read_csv(f\"ESPN_{leagues[i]}.csv\")\n",
    "    df = pd.concat([df, data.reset_index()])\n",
    "    df.to_csv(f\"ESPN_{leagues[i]}.csv\")\n",
    "    print(f\"Liga {leagues[i]} lista\")\n"
   ]
  },
  {
   "cell_type": "code",
   "execution_count": 4,
   "id": "7025232d",
   "metadata": {},
   "outputs": [
    {
     "name": "stderr",
     "output_type": "stream",
     "text": [
      "[Parallel(n_jobs=-1)]: Using backend LokyBackend with 12 concurrent workers.\n",
      "[Parallel(n_jobs=-1)]: Done   2 out of   9 | elapsed: 424.7min remaining: 1486.4min\n"
     ]
    }
   ],
   "source": [
    "n_workers = -1\n",
    "data_faltante = Parallel(n_jobs=n_workers, verbose=10)(delayed(\n",
    "    solucionar_data_faltante)(leagues, años_faltantes,i) for i in range(len(leagues)))"
   ]
  }
 ],
 "metadata": {
  "kernelspec": {
   "display_name": "Python 3 (ipykernel)",
   "language": "python",
   "name": "python3"
  },
  "language_info": {
   "codemirror_mode": {
    "name": "ipython",
    "version": 3
   },
   "file_extension": ".py",
   "mimetype": "text/x-python",
   "name": "python",
   "nbconvert_exporter": "python",
   "pygments_lexer": "ipython3",
   "version": "3.10.9"
  }
 },
 "nbformat": 4,
 "nbformat_minor": 5
}
