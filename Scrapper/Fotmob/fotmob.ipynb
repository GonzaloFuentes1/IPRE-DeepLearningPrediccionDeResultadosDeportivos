{
 "cells": [
  {
   "cell_type": "code",
   "execution_count": 1,
   "id": "f22a11d4",
   "metadata": {},
   "outputs": [],
   "source": [
    "from mobfot import MobFot\n",
    "from datetime import date, timedelta\n",
    "from tqdm import tqdm\n",
    "from joblib import Parallel, delayed\n",
    "import pandas as pd\n",
    "import random"
   ]
  },
  {
   "cell_type": "code",
   "execution_count": 2,
   "id": "213d6b2d",
   "metadata": {},
   "outputs": [],
   "source": [
    "def generar_fechas(anio_inicio, anio_fin):\n",
    "  \"\"\"\n",
    "  Genera una lista de fechas en formato YYYYMMDD\n",
    "  entre dos años (inclusive).\n",
    "\n",
    "  Args:\n",
    "    anio_inicio (int): Año de inicio (ej. 2017)\n",
    "    anio_fin (int): Año de fin (ej. 2024)\n",
    "\n",
    "  Returns:\n",
    "    lista_fechas (list): Lista de strings con las fechas.\n",
    "  \"\"\"\n",
    "  lista_fechas = []\n",
    "  fecha_inicio = date(anio_inicio, 1, 1)\n",
    "  fecha_fin = date(anio_fin, 12, 31)\n",
    "  while fecha_inicio <= fecha_fin:\n",
    "    fecha_str = fecha_inicio.strftime(\"%Y%m%d\")\n",
    "    lista_fechas.append(fecha_str)\n",
    "    fecha_inicio += timedelta(days=1)\n",
    "  return lista_fechas\n",
    "\n",
    "# Ejemplo de uso\n",
    "anio_inicio = 2014\n",
    "anio_fin = 2023\n",
    "lista_fechas = generar_fechas(anio_inicio, anio_fin)"
   ]
  },
  {
   "cell_type": "code",
   "execution_count": 3,
   "id": "675b121c",
   "metadata": {},
   "outputs": [],
   "source": [
    "client = MobFot()"
   ]
  },
  {
   "cell_type": "code",
   "execution_count": 4,
   "id": "e7f76d41",
   "metadata": {},
   "outputs": [],
   "source": [
    "def day_matches(date):\n",
    "    client = MobFot()\n",
    "    ids = []\n",
    "    day_matches = client.get_matches_by_date(date)\n",
    "    for leag in range(len(day_matches[\"leagues\"])):\n",
    "        for match_leg in range(len(day_matches[\"leagues\"][leag][\"matches\"])):\n",
    "            ids.append(day_matches[\"leagues\"][leag][\"matches\"][match_leg][\"id\"])\n",
    "    return ids"
   ]
  },
  {
   "cell_type": "code",
   "execution_count": 5,
   "id": "2f2df47b",
   "metadata": {
    "scrolled": true
   },
   "outputs": [
    {
     "name": "stderr",
     "output_type": "stream",
     "text": [
      "100%|██████████| 3652/3652 [02:29<00:00, 24.38it/s]\n"
     ]
    }
   ],
   "source": [
    "workers = 12\n",
    "results = Parallel(n_jobs=workers)(delayed(day_matches)(d) for d in tqdm(lista_fechas))"
   ]
  },
  {
   "cell_type": "code",
   "execution_count": 6,
   "id": "a94d9ae2-f1e7-4d8b-9517-3fc54efdff7a",
   "metadata": {},
   "outputs": [
    {
     "data": {
      "text/plain": [
       "512923"
      ]
     },
     "execution_count": 6,
     "metadata": {},
     "output_type": "execute_result"
    }
   ],
   "source": [
    "ids = []\n",
    "for r in results:\n",
    "    ids.extend(r)\n",
    "len(ids)"
   ]
  },
  {
   "cell_type": "code",
   "execution_count": 7,
   "id": "d752b3db-9f62-4d3d-8b0c-e2ffde5f443c",
   "metadata": {},
   "outputs": [],
   "source": [
    "def get_info(id):\n",
    "    try : \n",
    "        client = MobFot()\n",
    "        info = client.get_match_details(id)\n",
    "        if info[\"general\"][\"started\"] == False or info[\"general\"][\"finished\"] == False :\n",
    "            return False\n",
    "        data = {\n",
    "            \"id\": [id],\n",
    "            'date': [info[\"general\"][\"matchTimeUTCDate\"][:10]],\n",
    "            'leagueName': [info[\"general\"][\"leagueName\"]],\n",
    "            'homeTeam': [info[\"general\"][\"homeTeam\"][\"name\"]],\n",
    "            'awayTeam': [info[\"general\"][\"awayTeam\"][\"name\"]],\n",
    "            'homeTeam_score': [info[\"header\"][\"teams\"][0][\"score\"]],\n",
    "            'awayTeam_score': [info[\"header\"][\"teams\"][1][\"score\"]],\n",
    "            'homeIdTeam': [info[\"general\"][\"homeTeam\"][\"id\"]],\n",
    "            'awayIdTeam': [info[\"general\"][\"awayTeam\"][\"id\"]],\n",
    "            'parentLeagueId': [info[\"general\"][\"parentLeagueId\"]],\n",
    "            'leagueId': [info[\"general\"][\"leagueId\"]],\n",
    "        }\n",
    "        if info[\"content\"][\"stats\"] != None:\n",
    "            for i in range(len(info[\"content\"][\"stats\"][\"Periods\"][\"All\"][\"stats\"])):\n",
    "                for j in range(len(info[\"content\"][\"stats\"][\"Periods\"][\"All\"][\"stats\"][i][\"stats\"])):\n",
    "                    key = info[\"content\"][\"stats\"][\"Periods\"][\"All\"][\"stats\"][i][\"stats\"][j][\"key\"]\n",
    "                    data[key+\"_home\"] = info[\"content\"][\"stats\"][\"Periods\"][\"All\"][\"stats\"][i][\"stats\"][j][\"stats\"][0]\n",
    "                    data[key+\"_away\"] = info[\"content\"][\"stats\"][\"Periods\"][\"All\"][\"stats\"][i][\"stats\"][j][\"stats\"][1]\n",
    "    \n",
    "        df_id = pd.DataFrame(data)\n",
    "        return df_id\n",
    "    except Exception as error:\n",
    "        return False"
   ]
  },
  {
   "cell_type": "code",
   "execution_count": 8,
   "id": "78812d20",
   "metadata": {},
   "outputs": [
    {
     "name": "stderr",
     "output_type": "stream",
     "text": [
      "100%|██████████| 23/23 [2:27:38<00:00, 385.15s/it]  \n"
     ]
    }
   ],
   "source": [
    "# La primera vez, hay que crear un data frame de 0 y la busqueda con todos los\n",
    "# df = pd.DataFrame()\n",
    "# filtro = ids\n",
    "# Después leer el archivo guardado, y ver que ids faltan.\n",
    "df_completo = pd.read_csv('datos_fotmob_completo.csv')\n",
    "filtro = list(set(ids)-set(df_completo[\"id\"]))\n",
    "random.shuffle(filtro)\n",
    "df = df_completo.head(1)\n",
    "\n",
    "workers = 12\n",
    "division_global = 1000\n",
    "trabajo_por_division = int(len(filtro)/division_global)\n",
    "\n",
    "for div in tqdm(range(1, trabajo_por_division+1)):\n",
    "    results = Parallel(n_jobs=workers)(delayed(get_info)(id)\n",
    "                                       for id in filtro[division_global*(div-1):division_global*div])\n",
    "    dfs = pd.concat([i for i in results if isinstance(i, pd.DataFrame)], ignore_index=True)\n",
    "    df = pd.concat([df,dfs], ignore_index=True)\n",
    "\n",
    "    # Por temas de como funciona trabajar con datos grandes, esto hace que sea más rápido\n",
    "    if div % 5 == 0:\n",
    "        # Unir el trabajo y resetear el work\n",
    "        df_completo = pd.concat([df_completo, df], ignore_index=True)\n",
    "        # Guardar toda la info\n",
    "        df_completo.to_csv('datos_fotmob_completo.csv', header=True, index=False)\n",
    "        # Reinicio del trabajo\n",
    "        df = df_completo.head(1)"
   ]
  },
  {
   "cell_type": "code",
   "execution_count": 11,
   "id": "b46e5428",
   "metadata": {},
   "outputs": [],
   "source": [
    "df = pd.read_csv('datos_fotmob_completo.csv')\n",
    "df_sin_duplicados = df.drop_duplicates()\n",
    "df_sin_duplicados = df_sin_duplicados.sort_values(by=\"date\",ignore_index=True)\n",
    "# Guardar la corrida de datos scrapeados\n",
    "df_sin_duplicados.to_csv('datos_fotmob_completo.csv', header=True, index=False)"
   ]
  }
 ],
 "metadata": {
  "kernelspec": {
   "display_name": "Python 3 (ipykernel)",
   "language": "python",
   "name": "python3"
  },
  "language_info": {
   "codemirror_mode": {
    "name": "ipython",
    "version": 3
   },
   "file_extension": ".py",
   "mimetype": "text/x-python",
   "name": "python",
   "nbconvert_exporter": "python",
   "pygments_lexer": "ipython3",
   "version": "3.10.9"
  }
 },
 "nbformat": 4,
 "nbformat_minor": 5
}
