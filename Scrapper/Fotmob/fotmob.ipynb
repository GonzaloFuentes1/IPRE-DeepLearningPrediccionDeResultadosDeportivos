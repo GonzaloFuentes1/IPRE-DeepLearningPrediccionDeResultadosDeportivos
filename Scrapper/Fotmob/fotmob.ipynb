{
 "cells": [
  {
   "cell_type": "code",
   "execution_count": 2,
   "id": "f22a11d4",
   "metadata": {},
   "outputs": [],
   "source": [
    "from mobfot import MobFot\n",
    "from datetime import date, timedelta\n",
    "from tqdm import tqdm\n",
    "from joblib import Parallel, delayed\n",
    "import pandas as pd\n",
    "import random"
   ]
  },
  {
   "cell_type": "code",
   "execution_count": 2,
   "id": "213d6b2d",
   "metadata": {},
   "outputs": [],
   "source": [
    "def generar_fechas(anio_inicio, anio_fin):\n",
    "  \"\"\"\n",
    "  Genera una lista de fechas en formato YYYYMMDD\n",
    "  entre dos años (inclusive).\n",
    "\n",
    "  Args:\n",
    "    anio_inicio (int): Año de inicio (ej. 2017)\n",
    "    anio_fin (int): Año de fin (ej. 2024)\n",
    "\n",
    "  Returns:\n",
    "    lista_fechas (list): Lista de strings con las fechas.\n",
    "  \"\"\"\n",
    "  lista_fechas = []\n",
    "  fecha_inicio = date(anio_inicio, 1, 1)\n",
    "  fecha_fin = date(anio_fin, 12, 31)\n",
    "  while fecha_inicio <= fecha_fin:\n",
    "    fecha_str = fecha_inicio.strftime(\"%Y%m%d\")\n",
    "    lista_fechas.append(fecha_str)\n",
    "    fecha_inicio += timedelta(days=1)\n",
    "  return lista_fechas\n",
    "\n",
    "# Ejemplo de uso\n",
    "anio_inicio = 2014\n",
    "anio_fin = 2023\n",
    "lista_fechas = generar_fechas(anio_inicio, anio_fin)"
   ]
  },
  {
   "cell_type": "code",
   "execution_count": 3,
   "id": "675b121c",
   "metadata": {},
   "outputs": [],
   "source": [
    "client = MobFot()"
   ]
  },
  {
   "cell_type": "code",
   "execution_count": 4,
   "id": "e7f76d41",
   "metadata": {},
   "outputs": [],
   "source": [
    "def day_matches(date):\n",
    "    client = MobFot()\n",
    "    ids = []\n",
    "    day_matches = client.get_matches_by_date(date)\n",
    "    for leag in range(len(day_matches[\"leagues\"])):\n",
    "        for match_leg in range(len(day_matches[\"leagues\"][leag][\"matches\"])):\n",
    "            ids.append(day_matches[\"leagues\"][leag][\"matches\"][match_leg][\"id\"])\n",
    "    return ids"
   ]
  },
  {
   "cell_type": "code",
   "execution_count": 5,
   "id": "2f2df47b",
   "metadata": {
    "scrolled": true
   },
   "outputs": [
    {
     "name": "stderr",
     "output_type": "stream",
     "text": [
      "100%|██████████| 3652/3652 [02:29<00:00, 24.38it/s]\n"
     ]
    }
   ],
   "source": [
    "workers = 12\n",
    "results = Parallel(n_jobs=workers)(delayed(day_matches)(d) for d in tqdm(lista_fechas))"
   ]
  },
  {
   "cell_type": "code",
   "execution_count": 6,
   "id": "a94d9ae2-f1e7-4d8b-9517-3fc54efdff7a",
   "metadata": {},
   "outputs": [
    {
     "data": {
      "text/plain": [
       "512923"
      ]
     },
     "execution_count": 6,
     "metadata": {},
     "output_type": "execute_result"
    }
   ],
   "source": [
    "ids = []\n",
    "for r in results:\n",
    "    ids.extend(r)\n",
    "len(ids)"
   ]
  },
  {
   "cell_type": "code",
   "execution_count": 7,
   "id": "d752b3db-9f62-4d3d-8b0c-e2ffde5f443c",
   "metadata": {},
   "outputs": [],
   "source": [
    "def get_info(id):\n",
    "    try : \n",
    "        client = MobFot()\n",
    "        info = client.get_match_details(id)\n",
    "        if info[\"general\"][\"started\"] == False or info[\"general\"][\"finished\"] == False :\n",
    "            return False\n",
    "        data = {\n",
    "            \"id\": [id],\n",
    "            'date': [info[\"general\"][\"matchTimeUTCDate\"][:10]],\n",
    "            'leagueName': [info[\"general\"][\"leagueName\"]],\n",
    "            'homeTeam': [info[\"general\"][\"homeTeam\"][\"name\"]],\n",
    "            'awayTeam': [info[\"general\"][\"awayTeam\"][\"name\"]],\n",
    "            'homeTeam_score': [info[\"header\"][\"teams\"][0][\"score\"]],\n",
    "            'awayTeam_score': [info[\"header\"][\"teams\"][1][\"score\"]],\n",
    "            'homeIdTeam': [info[\"general\"][\"homeTeam\"][\"id\"]],\n",
    "            'awayIdTeam': [info[\"general\"][\"awayTeam\"][\"id\"]],\n",
    "            'parentLeagueId': [info[\"general\"][\"parentLeagueId\"]],\n",
    "            'leagueId': [info[\"general\"][\"leagueId\"]],\n",
    "        }\n",
    "        if info[\"content\"][\"stats\"] != None:\n",
    "            for i in range(len(info[\"content\"][\"stats\"][\"Periods\"][\"All\"][\"stats\"])):\n",
    "                for j in range(len(info[\"content\"][\"stats\"][\"Periods\"][\"All\"][\"stats\"][i][\"stats\"])):\n",
    "                    key = info[\"content\"][\"stats\"][\"Periods\"][\"All\"][\"stats\"][i][\"stats\"][j][\"key\"]\n",
    "                    data[key+\"_home\"] = info[\"content\"][\"stats\"][\"Periods\"][\"All\"][\"stats\"][i][\"stats\"][j][\"stats\"][0]\n",
    "                    data[key+\"_away\"] = info[\"content\"][\"stats\"][\"Periods\"][\"All\"][\"stats\"][i][\"stats\"][j][\"stats\"][1]\n",
    "    \n",
    "        df_id = pd.DataFrame(data)\n",
    "        return df_id\n",
    "    except Exception as error:\n",
    "        return False"
   ]
  },
  {
   "cell_type": "code",
   "execution_count": 8,
   "id": "78812d20",
   "metadata": {},
   "outputs": [
    {
     "name": "stderr",
     "output_type": "stream",
     "text": [
      "100%|██████████| 23/23 [2:27:38<00:00, 385.15s/it]  \n"
     ]
    }
   ],
   "source": [
    "# La primera vez, hay que crear un data frame de 0 y la busqueda con todos los\n",
    "# df = pd.DataFrame()\n",
    "# filtro = ids\n",
    "# Después leer el archivo guardado, y ver que ids faltan.\n",
    "df_completo = pd.read_csv('datos_fotmob_completo.csv')\n",
    "filtro = list(set(ids)-set(df_completo[\"id\"]))\n",
    "random.shuffle(filtro)\n",
    "df = df_completo.head(1)\n",
    "\n",
    "workers = 12\n",
    "division_global = 1000\n",
    "trabajo_por_division = int(len(filtro)/division_global)\n",
    "\n",
    "for div in tqdm(range(1, trabajo_por_division+1)):\n",
    "    results = Parallel(n_jobs=workers)(delayed(get_info)(id)\n",
    "                                       for id in filtro[division_global*(div-1):division_global*div])\n",
    "    dfs = pd.concat([i for i in results if isinstance(i, pd.DataFrame)], ignore_index=True)\n",
    "    df = pd.concat([df,dfs], ignore_index=True)\n",
    "\n",
    "    # Por temas de como funciona trabajar con datos grandes, esto hace que sea más rápido\n",
    "    if div % 5 == 0:\n",
    "        # Unir el trabajo y resetear el work\n",
    "        df_completo = pd.concat([df_completo, df], ignore_index=True)\n",
    "        # Guardar toda la info\n",
    "        df_completo.to_csv('datos_fotmob_completo.csv', header=True, index=False)\n",
    "        # Reinicio del trabajo\n",
    "        df = df_completo.head(1)"
   ]
  },
  {
   "cell_type": "code",
   "execution_count": 11,
   "id": "b46e5428",
   "metadata": {},
   "outputs": [],
   "source": [
    "df = pd.read_csv('datos_fotmob_completo.csv')\n",
    "df_sin_duplicados = df.drop_duplicates()\n",
    "df_sin_duplicados = df_sin_duplicados.sort_values(by=\"date\",ignore_index=True)\n",
    "# Guardar la corrida de datos scrapeados\n",
    "df_sin_duplicados.to_csv('datos_fotmob_completo.csv', header=True, index=False)"
   ]
  },
  {
   "cell_type": "code",
   "execution_count": 3,
   "id": "5f052dbb",
   "metadata": {},
   "outputs": [],
   "source": [
    "df = pd.read_csv('datos_fotmob_completo.csv')"
   ]
  },
  {
   "cell_type": "code",
   "execution_count": 4,
   "id": "e20c0e3d",
   "metadata": {},
   "outputs": [
    {
     "name": "stdout",
     "output_type": "stream",
     "text": [
      "<class 'pandas.core.frame.DataFrame'>\n",
      "RangeIndex: 475283 entries, 0 to 475282\n",
      "Data columns (total 93 columns):\n",
      " #   Column                           Non-Null Count   Dtype  \n",
      "---  ------                           --------------   -----  \n",
      " 0   id                               475283 non-null  int64  \n",
      " 1   date                             475283 non-null  object \n",
      " 2   leagueName                       475283 non-null  object \n",
      " 3   homeTeam                         475283 non-null  object \n",
      " 4   awayTeam                         475283 non-null  object \n",
      " 5   homeTeam_score                   475283 non-null  int64  \n",
      " 6   awayTeam_score                   475283 non-null  int64  \n",
      " 7   homeIdTeam                       475283 non-null  int64  \n",
      " 8   awayIdTeam                       475283 non-null  int64  \n",
      " 9   parentLeagueId                   473281 non-null  float64\n",
      " 10  leagueId                         473281 non-null  float64\n",
      " 11  BallPossesion_home               137910 non-null  float64\n",
      " 12  BallPossesion_away               137910 non-null  float64\n",
      " 13  ShotsOnTarget_home               137910 non-null  float64\n",
      " 14  ShotsOnTarget_away               137910 non-null  float64\n",
      " 15  ShotsOffTarget_home              137910 non-null  float64\n",
      " 16  ShotsOffTarget_away              137910 non-null  float64\n",
      " 17  fouls_home                       137910 non-null  float64\n",
      " 18  fouls_away                       137910 non-null  float64\n",
      " 19  Offsides_home                    137910 non-null  float64\n",
      " 20  Offsides_away                    137910 non-null  float64\n",
      " 21  corners_home                     137910 non-null  float64\n",
      " 22  corners_away                     137910 non-null  float64\n",
      " 23  total_shots_home                 92719 non-null   float64\n",
      " 24  total_shots_away                 92719 non-null   float64\n",
      " 25  big_chance_home                  92719 non-null   float64\n",
      " 26  big_chance_away                  92719 non-null   float64\n",
      " 27  big_chance_missed_title_home     92719 non-null   float64\n",
      " 28  big_chance_missed_title_away     92719 non-null   float64\n",
      " 29  accurate_passes_home             92719 non-null   object \n",
      " 30  accurate_passes_away             92719 non-null   object \n",
      " 31  shots_home                       0 non-null       float64\n",
      " 32  shots_away                       0 non-null       float64\n",
      " 33  blocked_shots_home               92719 non-null   float64\n",
      " 34  blocked_shots_away               92719 non-null   float64\n",
      " 35  shots_woodwork_home              92719 non-null   float64\n",
      " 36  shots_woodwork_away              92719 non-null   float64\n",
      " 37  shots_inside_box_home            92719 non-null   float64\n",
      " 38  shots_inside_box_away            92719 non-null   float64\n",
      " 39  shots_outside_box_home           92719 non-null   float64\n",
      " 40  shots_outside_box_away           92719 non-null   float64\n",
      " 41  passes_home                      92719 non-null   float64\n",
      " 42  passes_away                      92719 non-null   float64\n",
      " 43  own_half_passes_home             92719 non-null   float64\n",
      " 44  own_half_passes_away             92719 non-null   float64\n",
      " 45  opposition_half_passes_home      92719 non-null   float64\n",
      " 46  opposition_half_passes_away      92719 non-null   float64\n",
      " 47  long_balls_accurate_home         92719 non-null   object \n",
      " 48  long_balls_accurate_away         92719 non-null   object \n",
      " 49  accurate_crosses_home            92719 non-null   object \n",
      " 50  accurate_crosses_away            92719 non-null   object \n",
      " 51  player_throws_home               92719 non-null   float64\n",
      " 52  player_throws_away               92719 non-null   float64\n",
      " 53  defense_home                     0 non-null       float64\n",
      " 54  defense_away                     0 non-null       float64\n",
      " 55  tackles_succeeded_home           92719 non-null   object \n",
      " 56  tackles_succeeded_away           92719 non-null   object \n",
      " 57  interceptions_home               92719 non-null   float64\n",
      " 58  interceptions_away               92719 non-null   float64\n",
      " 59  shot_blocks_home                 92719 non-null   float64\n",
      " 60  shot_blocks_away                 92719 non-null   float64\n",
      " 61  clearances_home                  92719 non-null   float64\n",
      " 62  clearances_away                  92719 non-null   float64\n",
      " 63  keeper_saves_home                92719 non-null   float64\n",
      " 64  keeper_saves_away                92719 non-null   float64\n",
      " 65  duels_home                       0 non-null       float64\n",
      " 66  duels_away                       0 non-null       float64\n",
      " 67  duel_won_home                    92719 non-null   float64\n",
      " 68  duel_won_away                    92719 non-null   float64\n",
      " 69  ground_duels_won_home            92719 non-null   object \n",
      " 70  ground_duels_won_away            92719 non-null   object \n",
      " 71  aerials_won_home                 92719 non-null   object \n",
      " 72  aerials_won_away                 92719 non-null   object \n",
      " 73  dribbles_succeeded_home          92719 non-null   object \n",
      " 74  dribbles_succeeded_away          92719 non-null   object \n",
      " 75  discipline_home                  0 non-null       float64\n",
      " 76  discipline_away                  0 non-null       float64\n",
      " 77  yellow_cards_home                92719 non-null   float64\n",
      " 78  yellow_cards_away                92719 non-null   float64\n",
      " 79  red_cards_home                   92719 non-null   float64\n",
      " 80  red_cards_away                   92719 non-null   float64\n",
      " 81  touches_opp_box_home             11592 non-null   float64\n",
      " 82  touches_opp_box_away             11590 non-null   float64\n",
      " 83  expected_goals_home              28592 non-null   float64\n",
      " 84  expected_goals_away              28592 non-null   float64\n",
      " 85  expected_goals_open_play_home    28592 non-null   float64\n",
      " 86  expected_goals_open_play_away    28592 non-null   float64\n",
      " 87  expected_goals_set_play_home     28514 non-null   float64\n",
      " 88  expected_goals_set_play_away     28514 non-null   float64\n",
      " 89  expected_goals_non_penalty_home  28588 non-null   float64\n",
      " 90  expected_goals_non_penalty_away  28588 non-null   float64\n",
      " 91  expected_goals_on_target_home    28584 non-null   float64\n",
      " 92  expected_goals_on_target_away    28584 non-null   float64\n",
      "dtypes: float64(70), int64(5), object(18)\n",
      "memory usage: 337.2+ MB\n"
     ]
    }
   ],
   "source": [
    "df.info()"
   ]
  }
 ],
 "metadata": {
  "kernelspec": {
   "display_name": "Python 3 (ipykernel)",
   "language": "python",
   "name": "python3"
  },
  "language_info": {
   "codemirror_mode": {
    "name": "ipython",
    "version": 3
   },
   "file_extension": ".py",
   "mimetype": "text/x-python",
   "name": "python",
   "nbconvert_exporter": "python",
   "pygments_lexer": "ipython3",
   "version": "3.10.9"
  }
 },
 "nbformat": 4,
 "nbformat_minor": 5
}
