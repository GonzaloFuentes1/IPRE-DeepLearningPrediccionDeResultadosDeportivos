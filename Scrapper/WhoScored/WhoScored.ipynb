{
 "cells": [
  {
   "cell_type": "code",
   "execution_count": null,
   "id": "771fb810",
   "metadata": {},
   "outputs": [],
   "source": [
    "import soccerdata as sd\n",
    "from joblib import Parallel, delayed\n",
    "import pandas as pd\n",
    "from tqdm import tqdm"
   ]
  },
  {
   "cell_type": "code",
   "execution_count": null,
   "id": "461decc6",
   "metadata": {},
   "outputs": [],
   "source": [
    "print(sd.WhoScored.available_leagues())"
   ]
  },
  {
   "cell_type": "code",
   "execution_count": null,
   "id": "913e854c",
   "metadata": {},
   "outputs": [],
   "source": [
    "# Arreglar : ---\n",
    "# En serie\n",
    "leagues = \"ARG-PrimeraDivision\"\n",
    "seasons = [2013, 2014, 2015, 2016, 2017, 2018, 2019, 2020, 2021, 2022]\n",
    "ws = sd.WhoScored(leagues=leagues, seasons=seasons, no_cache=True)\n",
    "epl_schedule = ws.read_schedule().reset_index()\n",
    "\n",
    "game_ids = epl_schedule[\"game_id\"]\n",
    "\n",
    "trabajo = list(game_ids)\n",
    "events = ws.read_events(match_id=game_ids)"
   ]
  },
  {
   "cell_type": "code",
   "execution_count": null,
   "id": "8851b90a",
   "metadata": {},
   "outputs": [],
   "source": [
    "events.to_csv(f\"WhoScored_{leagues}.csv\", header=True)"
   ]
  },
  {
   "cell_type": "code",
   "execution_count": null,
   "id": "e5984353",
   "metadata": {},
   "outputs": [],
   "source": [
    "# Paralelo\n",
    "league = \"USA-MLS\"\n",
    "seasons = [i for i in range(2013, 2023)]\n",
    "\n",
    "ws = sd.WhoScored(leagues=league, seasons=seasons, no_cache=True)\n",
    "schedule = ws.read_schedule().reset_index()\n",
    "\n",
    "game_ids = schedule[\"game_id\"]\n",
    "\n",
    "trabajo = list(game_ids)\n",
    "workers = 30\n",
    "division_work = []\n",
    "tamaño_sublistas = len(trabajo) // workers\n",
    "for n in range(workers):\n",
    "    work = [trabajo[n*tamaño_sublistas+i] for i in range(tamaño_sublistas)]\n",
    "    division_work.append(work)\n",
    "# El resto\n",
    "resto = len(trabajo) % workers\n",
    "for i in range(resto):\n",
    "    division_work[0].append(trabajo[-i-1])\n",
    "\n",
    "\n",
    "def read_parallel(game_ids, leagues, seasons):\n",
    "    try:\n",
    "        ws = sd.WhoScored(leagues=leagues, seasons=seasons, no_cache=False)\n",
    "        events = ws.read_events(match_id=game_ids)\n",
    "        return events\n",
    "    except:\n",
    "        return pd.DataFrame()\n",
    "\n",
    "\n",
    "n_workers = 10\n",
    "resultado = Parallel(n_jobs=n_workers, verbose=10)(\n",
    "    delayed(read_parallel)(w, league, seasons) for w in division_work)"
   ]
  },
  {
   "cell_type": "code",
   "execution_count": null,
   "id": "1a19f552",
   "metadata": {},
   "outputs": [],
   "source": [
    "# Guardar\n",
    "df = pd.DataFrame()\n",
    "for i in resultado:\n",
    "    df = pd.concat([df,i])\n",
    "df = df.reset_index()\n",
    "df.to_csv(f\"WhoScored_{league}.csv\", header=True)"
   ]
  },
  {
   "cell_type": "code",
   "execution_count": null,
   "id": "ac48d1d9",
   "metadata": {},
   "outputs": [],
   "source": [
    "set_problematicos =[]\n",
    "# Checkeo de que se guardó\n",
    "for i in range(workers):\n",
    "    print(f\"Id: {i}, {len(resultado[i])}\")\n",
    "    if len(resultado[i]) == 0:\n",
    "        set_problematicos.append(i)    "
   ]
  },
  {
   "cell_type": "code",
   "execution_count": null,
   "id": "100d2910",
   "metadata": {},
   "outputs": [],
   "source": [
    "resultado"
   ]
  },
  {
   "cell_type": "code",
   "execution_count": null,
   "id": "45070069",
   "metadata": {},
   "outputs": [],
   "source": [
    "df"
   ]
  },
  {
   "cell_type": "code",
   "execution_count": null,
   "id": "19b9556b",
   "metadata": {},
   "outputs": [],
   "source": [
    "# Solucionando errores\n",
    "    \n",
    "# Parte de la solución\n",
    "# set_problematicos = #MANUAL\n",
    "ids_con_problmas = [1076372,1739797,1748533,1742792]\n",
    "problem_division_work = [list(set(division_work[i]) - set(ids_con_problmas)) for i in set_problematicos]\n",
    "\n",
    "problem_division_work = [item for sublist in problem_division_work for item in sublist]\n",
    "ws = sd.WhoScored(leagues=league, seasons=seasons, no_cache = True)\n",
    "events = ws.read_events(match_id=problem_division_work)\n"
   ]
  },
  {
   "cell_type": "code",
   "execution_count": null,
   "id": "a4788b2a",
   "metadata": {},
   "outputs": [],
   "source": [
    "events"
   ]
  },
  {
   "cell_type": "code",
   "execution_count": null,
   "id": "ef810b5d",
   "metadata": {},
   "outputs": [],
   "source": [
    "df = pd.read_csv(f\"WhoScored_{league}.csv\")\n",
    "events = events.reset_index()\n",
    "df = pd.concat([df,events])"
   ]
  },
  {
   "cell_type": "code",
   "execution_count": null,
   "id": "b839b054",
   "metadata": {},
   "outputs": [],
   "source": [
    "df.to_csv(f\"WhoScored_{league}.csv\", header=True)"
   ]
  },
  {
   "cell_type": "code",
   "execution_count": null,
   "id": "9889ede2",
   "metadata": {},
   "outputs": [],
   "source": [
    "# Antes de seguir manipulandolo, vemos que todo esté correcto\n",
    "leagues_to_sort = [\"ENG-Premier League\", \"ESP-La Liga\",\n",
    "                   \"FRA-Ligue 1\", \"GER-Bundesliga\", \"ITA-Serie A\"]\n",
    "\n",
    "df = pd.read_csv(f\"WhoScored_{leagues_to_sort[0]}.csv\")"
   ]
  },
  {
   "cell_type": "code",
   "execution_count": null,
   "id": "8353b7e5",
   "metadata": {},
   "outputs": [],
   "source": [
    "leagues_to_sort = [\"ESP-La Liga\", \"FRA-Ligue 1\", \"GER-Bundesliga\", \"ITA-Serie A\"]\n",
    "\n",
    "# Ordenar por fecha, id, minuto, segundo\n",
    "for l in leagues_to_sort:\n",
    "    print(l)\n",
    "    df = pd.read_csv(f\"WhoScored_{l}.csv\")\n",
    "    print(df.columns)\n",
    "    # Configuración de fecha\n",
    "    df['fecha'] = df['game'].str.slice(stop=10)\n",
    "    fecha_column = df.pop('fecha')  # Extraemos la columna 'fecha'\n",
    "    df.insert(0, 'fecha', fecha_column)  # Insertamos la columna 'fecha' al principio del DataFrame\n",
    "    # Configuración de columnas\n",
    "    df = df.drop(['Unnamed: 0'], axis= 1) # Para arreglar\n",
    "    # Orden \n",
    "    df = df.sort_values(by=[\"fecha\",\"game_id\",\"minute\",\"second\"],ignore_index=True)\n",
    "    df.to_csv(f\"WhoScored_{l}.csv\", header=True,index=False)\n"
   ]
  },
  {
   "cell_type": "code",
   "execution_count": null,
   "id": "e149a051",
   "metadata": {},
   "outputs": [],
   "source": [
    "df"
   ]
  }
 ],
 "metadata": {
  "kernelspec": {
   "display_name": "Python 3 (ipykernel)",
   "language": "python",
   "name": "python3"
  },
  "language_info": {
   "codemirror_mode": {
    "name": "ipython",
    "version": 3
   },
   "file_extension": ".py",
   "mimetype": "text/x-python",
   "name": "python",
   "nbconvert_exporter": "python",
   "pygments_lexer": "ipython3",
   "version": "3.10.9"
  }
 },
 "nbformat": 4,
 "nbformat_minor": 5
}
