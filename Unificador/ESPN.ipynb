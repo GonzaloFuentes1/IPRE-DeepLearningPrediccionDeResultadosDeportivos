{
 "cells": [
  {
   "cell_type": "code",
   "execution_count": 363,
   "id": "771fb810",
   "metadata": {},
   "outputs": [],
   "source": [
    "import os\n",
    "import pandas as pd\n",
    "import soccerdata as sd"
   ]
  },
  {
   "cell_type": "code",
   "execution_count": 364,
   "id": "8b588c16",
   "metadata": {},
   "outputs": [],
   "source": [
    "# Primero Sofascore\n",
    "folder1 = \"Sofascore\"\n",
    "ligas = [\"Premier\",\"Ligue_1\",\"Bundesliga\"]\n",
    "años = [\"19-20\", \"20-21\", \"21-22\", \"22-23\", \"23-24\"]\n",
    "torneos = []\n",
    "\n",
    "for liga in ligas:\n",
    "    for año in años:\n",
    "        match_file = f\"stats_{año}.csv\"\n",
    "        try:\n",
    "            path_matches = os.path.join(folder1, liga, match_file)\n",
    "            matches = pd.read_csv(path_matches)\n",
    "        except FileNotFoundError:\n",
    "            continue\n",
    "        torneos.append(matches)\n",
    "df_sofascore = pd.concat(torneos).add_prefix(\"Sofascore_\")"
   ]
  },
  {
   "cell_type": "code",
   "execution_count": 365,
   "id": "ba837688",
   "metadata": {},
   "outputs": [
    {
     "data": {
      "text/plain": [
       "['ARG-PrimeraDivision',\n",
       " 'BRA-Brasileirao',\n",
       " 'CHI-PrimeraDivision',\n",
       " 'ENG-Premier League',\n",
       " 'ESP-La Liga',\n",
       " 'FRA-Ligue 1',\n",
       " 'GER-Bundesliga',\n",
       " 'ITA-Serie A',\n",
       " 'NED-Eredivisie',\n",
       " 'RUS-PremierLeague',\n",
       " 'SCO-Premiership',\n",
       " 'TUR-SuperLig',\n",
       " 'USA-MLS']"
      ]
     },
     "execution_count": 365,
     "metadata": {},
     "output_type": "execute_result"
    }
   ],
   "source": [
    "sd.MatchHistory.available_leagues()"
   ]
  },
  {
   "cell_type": "code",
   "execution_count": 366,
   "id": "d8e24c78",
   "metadata": {},
   "outputs": [],
   "source": [
    "folder2 = \"FootballData\"\n",
    "ligas = [\n",
    "    'ENG-Premier League',\n",
    "    'ESP-La Liga',\n",
    "    'FRA-Ligue 1',\n",
    "    'GER-Bundesliga',\n",
    "    'ITA-Serie A']\n",
    "torneos = []\n",
    "for liga in ligas:\n",
    "    match_file = f\"FootballData_{liga}.csv\"\n",
    "    try:\n",
    "        path_matches = os.path.join(folder2, match_file)\n",
    "        matches = pd.read_csv(path_matches)\n",
    "    except FileNotFoundError:\n",
    "        continue\n",
    "    torneos.append(matches)\n",
    "\n",
    "df_FootballData = pd.concat(torneos)\n",
    "\n",
    "df_FootballData = df_FootballData.drop(\n",
    "    ['Unnamed: 0.1'], axis=1).add_prefix(\"FootballData_\")\n",
    "\n",
    "# Convertir la columna 'Fecha' a tipo datetime\n",
    "df_FootballData['FootballData_Date'] = pd.to_datetime(df_FootballData['FootballData_Date'], format='%d/%m/%Y')\n",
    "\n",
    "# Convertir la zona horaria a UTC\n",
    "df_FootballData['FootballData_Date'] = df_FootballData['FootballData_Date'].dt.tz_localize('UTC')"
   ]
  },
  {
   "cell_type": "markdown",
   "metadata": {},
   "source": []
  },
  {
   "cell_type": "code",
   "execution_count": 367,
   "id": "d5959cb8",
   "metadata": {},
   "outputs": [],
   "source": [
    "folder3 = \"ESPN\"\n",
    "ligas = [\n",
    "    'ENG-Premier League',\n",
    "    'ESP-La Liga',\n",
    "    'FRA-Ligue 1',\n",
    "    'GER-Bundesliga',\n",
    "    'ITA-Serie A']\n",
    "torneos = []\n",
    "for liga in ligas:\n",
    "    match_file = f\"ESPN_{liga}.csv\"\n",
    "    try:\n",
    "        path_matches = os.path.join(folder3, match_file)\n",
    "        matches = pd.read_csv(path_matches)\n",
    "        matches = matches.drop(\"roster\",axis=1)\n",
    "    except FileNotFoundError:\n",
    "        continue\n",
    "    torneos.append(matches)\n",
    "df_ESPN = pd.concat(torneos)\n",
    "df_ESPN = df_ESPN.drop([\"season\",\"Unnamed: 0\"], axis = 1)\n",
    "df_ESPN = df_ESPN.drop_duplicates()\n"
   ]
  },
  {
   "cell_type": "code",
   "execution_count": 311,
   "id": "afa21252",
   "metadata": {},
   "outputs": [
    {
     "name": "stderr",
     "output_type": "stream",
     "text": [
      "100%|██████████| 35761/35761 [02:06<00:00, 282.60it/s]\n"
     ]
    }
   ],
   "source": [
    "games = df_ESPN[\"game\"].unique()\n",
    "resultados = []\n",
    "for i in  tqdm(range(len(games))):\n",
    "    aux = df_ESPN[df_ESPN[\"game\"]==games[i]]\n",
    "    away = aux[aux[\"is_home\"] == False].add_prefix(\"away_\")\n",
    "    home = aux[aux[\"is_home\"] == True].add_prefix(\"home_\")\n",
    "    resultados.append(pd.DataFrame(pd.concat([home.iloc[0],away.iloc[0]])).T)"
   ]
  },
  {
   "cell_type": "code",
   "execution_count": 368,
   "id": "669693ed",
   "metadata": {},
   "outputs": [],
   "source": [
    "df_ESPN = pd.concat(resultados).add_prefix(\"ESPN_\")"
   ]
  },
  {
   "cell_type": "code",
   "execution_count": 369,
   "id": "b4dcd895",
   "metadata": {},
   "outputs": [],
   "source": [
    "df_ESPN[['Fecha', 'Estadio']] = df_ESPN['ESPN_home_game'].str.split(' ', n=1, expand=True)\n",
    "# Convertir la columna 'Fecha' a tipo datetime\n",
    "df_ESPN['Fecha'] = pd.to_datetime(df_ESPN['Fecha'])\n",
    "\n",
    "# Convertir la zona horaria a UTC\n",
    "df_ESPN['Fecha'] = df_ESPN['Fecha'].dt.tz_localize('UTC')\n"
   ]
  },
  {
   "cell_type": "code",
   "execution_count": 372,
   "metadata": {},
   "outputs": [],
   "source": [
    "df_FootballData = df_FootballData.rename(columns={'FootballData_HomeTeam': 'HomeTeam',\"FootballData_FTHG\":\"HomeGoals\",\n",
    "                                                  'FootballData_AwayTeam': 'AwayTeam', \"FootballData_FTAG\":\"AwayGoals\",\n",
    "                                                  'FootballData_Date':\"Date\"})\n",
    "\n",
    "df_sofascore = df_sofascore.rename(columns={'Sofascore_team_home': 'HomeTeam',\"Sofascore_home_score\":\"HomeGoals\",\n",
    "                                            'Sofascore_team_away': 'AwayTeam', \"Sofascore_away_score\":\"AwayGoals\"})\n",
    "\n",
    "df_ESPN = df_ESPN.rename(columns={'ESPN_home_team': 'HomeTeam','ESPN_away_team': 'AwayTeam',\n",
    "                                  \"Fecha\":\"Date\" })"
   ]
  },
  {
   "cell_type": "code",
   "execution_count": 376,
   "id": "ef4d60ad",
   "metadata": {},
   "outputs": [
    {
     "name": "stdout",
     "output_type": "stream",
     "text": [
      "<class 'pandas.core.frame.DataFrame'>\n",
      "RangeIndex: 57015 entries, 0 to 57014\n",
      "Columns: 226 entries, Sofascore_number_of_match to FootballData_SYA\n",
      "dtypes: datetime64[ns, UTC](1), float64(218), object(7)\n",
      "memory usage: 98.3+ MB\n"
     ]
    }
   ],
   "source": [
    "prueba = df_sofascore.merge(df_FootballData, on = [\"HomeTeam\",\"AwayTeam\",\"HomeGoals\",\"AwayGoals\"], how = \"outer\")\n",
    "prueba.info()"
   ]
  },
  {
   "cell_type": "code",
   "execution_count": 385,
   "id": "b94a6acf",
   "metadata": {},
   "outputs": [
    {
     "name": "stdout",
     "output_type": "stream",
     "text": [
      "<class 'pandas.core.frame.DataFrame'>\n",
      "RangeIndex: 79211 entries, 0 to 79210\n",
      "Columns: 238 entries, ESPN_home_league to FootballData_SYA\n",
      "dtypes: datetime64[ns, UTC](1), float64(153), object(84)\n",
      "memory usage: 143.8+ MB\n"
     ]
    }
   ],
   "source": [
    "prueba = df_ESPN.merge(df_FootballData, on = [\"HomeTeam\",\"AwayTeam\",\"Date\"], how = \"outer\")\n",
    "prueba.info()"
   ]
  }
 ],
 "metadata": {
  "kernelspec": {
   "display_name": "Python 3 (ipykernel)",
   "language": "python",
   "name": "python3"
  },
  "language_info": {
   "codemirror_mode": {
    "name": "ipython",
    "version": 3
   },
   "file_extension": ".py",
   "mimetype": "text/x-python",
   "name": "python",
   "nbconvert_exporter": "python",
   "pygments_lexer": "ipython3",
   "version": "3.10.9"
  }
 },
 "nbformat": 4,
 "nbformat_minor": 5
}
