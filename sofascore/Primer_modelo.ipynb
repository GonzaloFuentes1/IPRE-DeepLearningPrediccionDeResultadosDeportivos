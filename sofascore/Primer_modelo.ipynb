{
 "cells": [
  {
   "cell_type": "code",
   "execution_count": 3,
   "id": "95e4d03c",
   "metadata": {},
   "outputs": [],
   "source": [
    "import pandas as pd\n",
    "import numpy as np\n",
    "import matplotlib.pyplot as plt\n",
    "from tqdm import tqdm\n",
    "from joblib import Parallel, delayed\n",
    "from sklearn.metrics import classification_report, confusion_matrix, accuracy_score"
   ]
  },
  {
   "cell_type": "code",
   "execution_count": 4,
   "id": "014d9934",
   "metadata": {},
   "outputs": [],
   "source": [
    "df = pd.read_csv(\"estadisticas_partidos.csv\")\n",
    "df =  df.sort_index(axis=0, ascending=False, ignore_index=True)"
   ]
  },
  {
   "cell_type": "code",
   "execution_count": 5,
   "id": "50b225e9",
   "metadata": {},
   "outputs": [],
   "source": [
    "home_win = 0\n",
    "away_win = 0\n",
    "draw = 0\n",
    "for i in range(len(df)):\n",
    "    if df.iloc[i][\"score_home\"] > df.iloc[i][\"score_away\"]:\n",
    "        home_win +=1\n",
    "    elif df.iloc[i][\"score_away\"] > df.iloc[i][\"score_home\"]:\n",
    "        away_win +=1\n",
    "    elif df.iloc[i][\"score_away\"] == df.iloc[i][\"score_home\"]:\n",
    "        draw +=1\n",
    "    df.iloc[i]['duels_won_home'] > df.iloc[i]['duels_won_away']\n",
    "\n",
    "total = len(df)\n",
    "home_win_percentage = home_win/total\n",
    "away_win_percentage = away_win/total\n",
    "draw_perentage = draw/total"
   ]
  },
  {
   "cell_type": "code",
   "execution_count": 6,
   "id": "04d19dad",
   "metadata": {},
   "outputs": [
    {
     "name": "stdout",
     "output_type": "stream",
     "text": [
      "0.4041666666666667\n",
      "0.35\n",
      "0.24583333333333332\n"
     ]
    }
   ],
   "source": [
    "print(home_win_percentage)\n",
    "print(away_win_percentage)\n",
    "print(draw_perentage)"
   ]
  },
  {
   "cell_type": "code",
   "execution_count": 7,
   "id": "686032ee",
   "metadata": {},
   "outputs": [],
   "source": [
    "def get_features(data, side):\n",
    "    if side == \"home\":\n",
    "        return data[2:].values\n",
    "    elif side == \"away\": \n",
    "        original_lista = data.keys()[2:]\n",
    "        nueva_lista = [item.replace('home', 'temp').replace('away', 'home').replace('temp', 'away') for item in original_lista]\n",
    "        return data.get(nueva_lista).values\n",
    "\n"
   ]
  },
  {
   "cell_type": "code",
   "execution_count": 8,
   "id": "d60d6826",
   "metadata": {},
   "outputs": [
    {
     "data": {
      "text/plain": [
       "60"
      ]
     },
     "execution_count": 8,
     "metadata": {},
     "output_type": "execute_result"
    }
   ],
   "source": [
    "len(df.columns)"
   ]
  },
  {
   "cell_type": "code",
   "execution_count": 9,
   "id": "c2ef5212",
   "metadata": {},
   "outputs": [],
   "source": [
    "def search_features(i, df, last_games):\n",
    "    # W = home_win, D = draw, L = home_lose\n",
    "    team_home = df.iloc[i][\"team_home\"]\n",
    "    team_away = df.iloc[i][\"team_away\"]\n",
    "    home_search = last_games\n",
    "    away_search = last_games\n",
    "    # W = win, D = draw, L = lose\n",
    "    info_home = []\n",
    "    info_away = []\n",
    "    info_features_home = []\n",
    "    info_features_away = []\n",
    "    df_match1 = df[df[\"team_home\"] == team_home]\n",
    "    df_match2 = df[df[\"team_away\"] == team_home]\n",
    "    df_match3 = df[df[\"team_home\"] == team_away]\n",
    "    df_match4 = df[df[\"team_away\"] == team_away]\n",
    "    df_match_index = sorted(list(set(df_match1.index) | set(df_match2.index) | set(\n",
    "        df_match3.index) | set(df_match4.index)), reverse=True)\n",
    "    for j in df_match_index:\n",
    "\n",
    "        if away_search == 0 and home_search == 0:\n",
    "            features_home_games = np.sum(info_features_home, axis=0)/last_games\n",
    "            features_away_games = np.sum(info_features_away, axis=0)/last_games\n",
    "            if df.iloc[i][\"score_home\"] > df.iloc[i][\"score_away\"]:\n",
    "                result = \"W\"\n",
    "            elif df.iloc[i][\"score_home\"] == df.iloc[i][\"score_away\"]:\n",
    "                result = \"D\"\n",
    "            elif df.iloc[i][\"score_home\"] < df.iloc[i][\"score_away\"]:\n",
    "                result = \"L\"\n",
    "            return info_home, info_away, result, features_home_games, features_away_games\n",
    "        # Buscamos los partidos anteriores del equipo de CASA\n",
    "\n",
    "        if home_search > 0 and i-j > 0:\n",
    "            if team_home == df.iloc[j][\"team_home\"]:\n",
    "                info_features_home.append(\n",
    "                    get_features(df.iloc[j], side=\"home\"))\n",
    "                # Casa gana\n",
    "                if df.iloc[j][\"score_home\"] > df.iloc[j][\"score_away\"]:\n",
    "                    home_search -= 1\n",
    "                    info_home.append(\"W\")\n",
    "                # Casa pierde\n",
    "                elif df.iloc[j][\"score_home\"] < df.iloc[j][\"score_away\"]:\n",
    "                    home_search -= 1\n",
    "                    info_home.append(\"L\")\n",
    "                # Casa empata\n",
    "                elif df.iloc[j][\"score_home\"] == df.iloc[j][\"score_away\"]:\n",
    "                    home_search -= 1\n",
    "                    info_home.append(\"D\")\n",
    "            elif team_home == df.iloc[j][\"team_away\"]:\n",
    "                info_features_home.append(\n",
    "                    get_features(df.iloc[j], side=\"away\"))\n",
    "                # Visita gana\n",
    "                if df.iloc[j][\"score_away\"] > df.iloc[j][\"score_home\"]:\n",
    "                    home_search -= 1\n",
    "                    info_home.append(\"W\")\n",
    "                # Visita pierde\n",
    "                elif df.iloc[j][\"score_away\"] < df.iloc[j][\"score_home\"]:\n",
    "                    home_search -= 1\n",
    "                    info_home.append(\"L\")\n",
    "                # Visita empata\n",
    "                elif df.iloc[j][\"score_away\"] == df.iloc[j][\"score_home\"]:\n",
    "                    home_search -= 1\n",
    "                    info_home.append(\"D\")\n",
    "\n",
    "        # Buscamos los partidos anteriores del equipo de VISITA\n",
    "        if away_search > 0 and i-j > 0:\n",
    "            if team_away == df.iloc[j][\"team_home\"]:\n",
    "                info_features_away.append(\n",
    "                    get_features(df.iloc[j], side=\"home\"))\n",
    "                # Casa gana\n",
    "                if df.iloc[j][\"score_home\"] > df.iloc[j][\"score_away\"]:\n",
    "                    away_search -= 1\n",
    "                    info_away.append(\"W\")\n",
    "                # Casa pierde\n",
    "                elif df.iloc[j][\"score_home\"] < df.iloc[j][\"score_away\"]:\n",
    "                    away_search -= 1\n",
    "                    info_away.append(\"L\")\n",
    "                # Casa empata\n",
    "                elif df.iloc[j][\"score_home\"] == df.iloc[j][\"score_away\"]:\n",
    "                    away_search -= 1\n",
    "                    info_away.append(\"D\")\n",
    "            elif team_away == df.iloc[j][\"team_away\"]:\n",
    "                info_features_away.append(\n",
    "                    get_features(df.iloc[j], side=\"away\"))\n",
    "                # Visita gana\n",
    "                if df.iloc[j][\"score_away\"] > df.iloc[j][\"score_home\"]:\n",
    "                    away_search -= 1\n",
    "                    info_away.append(\"W\")\n",
    "                # Visita pierde\n",
    "                elif df.iloc[j][\"score_away\"] < df.iloc[j][\"score_home\"]:\n",
    "                    away_search -= 1\n",
    "                    info_away.append(\"L\")\n",
    "                # Visita empata\n",
    "                elif df.iloc[j][\"score_away\"] == df.iloc[j][\"score_home\"]:\n",
    "                    away_search -= 1\n",
    "                    info_away.append(\"D\")"
   ]
  },
  {
   "cell_type": "code",
   "execution_count": 10,
   "id": "f286a4c5",
   "metadata": {},
   "outputs": [
    {
     "name": "stderr",
     "output_type": "stream",
     "text": [
      "[Parallel(n_jobs=-1)]: Using backend LokyBackend with 12 concurrent workers.\n",
      "[Parallel(n_jobs=-1)]: Done   1 tasks      | elapsed:    1.0s\n",
      "[Parallel(n_jobs=-1)]: Done   8 tasks      | elapsed:    1.0s\n",
      "[Parallel(n_jobs=-1)]: Done  17 tasks      | elapsed:    1.1s\n",
      "[Parallel(n_jobs=-1)]: Done  26 tasks      | elapsed:    1.1s\n",
      "[Parallel(n_jobs=-1)]: Batch computation too fast (0.17714226776297382s.) Setting batch_size=2.\n",
      "[Parallel(n_jobs=-1)]: Done  37 tasks      | elapsed:    1.1s\n",
      "[Parallel(n_jobs=-1)]: Done  48 tasks      | elapsed:    1.2s\n",
      "[Parallel(n_jobs=-1)]: Batch computation too fast (0.06019401550292969s.) Setting batch_size=4.\n",
      "[Parallel(n_jobs=-1)]: Done  65 tasks      | elapsed:    1.2s\n",
      "[Parallel(n_jobs=-1)]: Done  90 tasks      | elapsed:    1.3s\n",
      "[Parallel(n_jobs=-1)]: Batch computation too fast (0.06828689575195312s.) Setting batch_size=8.\n",
      "[Parallel(n_jobs=-1)]: Done 131 tasks      | elapsed:    1.3s\n",
      "[Parallel(n_jobs=-1)]: Done 185 tasks      | elapsed:    1.4s\n",
      "[Parallel(n_jobs=-1)]: Done 217 tasks      | elapsed:    1.4s\n",
      "[Parallel(n_jobs=-1)]: Done 240 out of 240 | elapsed:    1.4s finished\n"
     ]
    }
   ],
   "source": [
    "last_games = 3\n",
    "num_trabajadores = -1\n",
    "resultados = Parallel(n_jobs=num_trabajadores,verbose=10)(\n",
    "    delayed(search_features)(i, df, last_games) for i in range(len(df)))\n",
    "resultados_limpios = []\n",
    "for i in range(len(resultados)):\n",
    "    if resultados[i] != None:\n",
    "        resultados_limpios.append(resultados[i])"
   ]
  },
  {
   "cell_type": "code",
   "execution_count": 11,
   "id": "09cce17d",
   "metadata": {},
   "outputs": [
    {
     "data": {
      "text/plain": [
       "208"
      ]
     },
     "execution_count": 11,
     "metadata": {},
     "output_type": "execute_result"
    }
   ],
   "source": [
    "len(resultados_limpios)"
   ]
  },
  {
   "cell_type": "code",
   "execution_count": 12,
   "id": "0e85e3b3",
   "metadata": {},
   "outputs": [],
   "source": [
    "X = []\n",
    "Y = []\n",
    "\n",
    "for i in range(len(resultados_limpios)):\n",
    "    streak_home = resultados_limpios[i][0]\n",
    "    streak_away = resultados_limpios[i][1]\n",
    "    result = resultados_limpios[i][2]\n",
    "\n",
    "    features_home_games = resultados_limpios[i][3]\n",
    "    features_away_games = resultados_limpios[i][4]\n",
    "\n",
    "    home_wins = streak_home.count(\"W\")\n",
    "    home_draws = streak_home.count(\"D\")\n",
    "    home_lose = streak_home.count(\"L\")\n",
    "\n",
    "    away_wins = streak_away.count(\"W\")\n",
    "    away_draws = streak_away.count(\"D\")\n",
    "    away_lose = streak_away.count(\"L\")\n",
    "\n",
    "    features = [home_wins, home_draws, home_lose,\n",
    "                away_wins, away_draws, away_lose,\n",
    "                *features_home_games, *features_away_games]\n",
    "    # Con factor temporal\n",
    "    for match in streak_home:\n",
    "        if match == \"W\":\n",
    "            features.extend([1, 0, 0])\n",
    "        elif match == \"D\":\n",
    "            features.extend([0, 1, 0])\n",
    "        elif match == \"L\":\n",
    "            features.extend([0, 0, 1])\n",
    "\n",
    "    for match in streak_away:\n",
    "        if match == \"W\":\n",
    "            features.extend([1, 0, 0])\n",
    "        elif match == \"D\":\n",
    "            features.extend([0, 1, 0])\n",
    "        elif match == \"L\":\n",
    "            features.extend([0, 0, 1])\n",
    "    X.append(features)\n",
    "    if result == \"W\":\n",
    "        Y.append([1, 0, 0])\n",
    "    elif result == \"D\":\n",
    "        Y.append([0, 1, 0])\n",
    "    elif result == \"L\":\n",
    "        Y.append([0, 0, 1])"
   ]
  },
  {
   "cell_type": "code",
   "execution_count": 13,
   "id": "8ce73e99",
   "metadata": {},
   "outputs": [],
   "source": [
    "from sklearn import preprocessing\n",
    "X_array = np.array(X)\n",
    "scaler = preprocessing.StandardScaler()\n",
    "X_array_escalado = scaler.fit_transform(X_array)\n",
    "Y_array = np.array(Y)"
   ]
  },
  {
   "cell_type": "code",
   "execution_count": 14,
   "id": "2d6815d5",
   "metadata": {},
   "outputs": [
    {
     "name": "stdout",
     "output_type": "stream",
     "text": [
      "Epoch 1/1000\n",
      "6/6 [==============================] - 1s 113ms/step - loss: 1.5333 - accuracy: 0.3916 - val_loss: 1.1272 - val_accuracy: 0.3333\n",
      "Epoch 2/1000\n",
      "6/6 [==============================] - 1s 89ms/step - loss: 1.0541 - accuracy: 0.4036 - val_loss: 1.2225 - val_accuracy: 0.2381\n",
      "Epoch 3/1000\n",
      "6/6 [==============================] - 1s 89ms/step - loss: 0.9051 - accuracy: 0.5422 - val_loss: 1.5633 - val_accuracy: 0.3810\n",
      "Epoch 4/1000\n",
      "6/6 [==============================] - 1s 89ms/step - loss: 0.6415 - accuracy: 0.6747 - val_loss: 1.5491 - val_accuracy: 0.3571\n",
      "Epoch 5/1000\n",
      "6/6 [==============================] - 1s 93ms/step - loss: 0.4494 - accuracy: 0.8494 - val_loss: 2.5107 - val_accuracy: 0.3333\n",
      "Epoch 6/1000\n",
      "6/6 [==============================] - 1s 89ms/step - loss: 0.2502 - accuracy: 0.9096 - val_loss: 3.5527 - val_accuracy: 0.3571\n",
      "Epoch 7/1000\n",
      "6/6 [==============================] - 1s 88ms/step - loss: 0.0732 - accuracy: 0.9759 - val_loss: 4.5070 - val_accuracy: 0.3095\n",
      "Epoch 8/1000\n",
      "6/6 [==============================] - 1s 86ms/step - loss: 0.0797 - accuracy: 0.9639 - val_loss: 5.2255 - val_accuracy: 0.3333\n",
      "Epoch 9/1000\n",
      "6/6 [==============================] - 1s 88ms/step - loss: 0.1331 - accuracy: 0.9578 - val_loss: 4.6245 - val_accuracy: 0.3571\n",
      "Epoch 10/1000\n",
      "6/6 [==============================] - 1s 88ms/step - loss: 0.0919 - accuracy: 0.9639 - val_loss: 6.0742 - val_accuracy: 0.3810\n",
      "Epoch 11/1000\n",
      "6/6 [==============================] - 1s 89ms/step - loss: 0.5590 - accuracy: 0.8313 - val_loss: 4.6193 - val_accuracy: 0.2381\n",
      "Epoch 12/1000\n",
      "6/6 [==============================] - 1s 90ms/step - loss: 0.1508 - accuracy: 0.9518 - val_loss: 3.4175 - val_accuracy: 0.3810\n",
      "Epoch 13/1000\n",
      "6/6 [==============================] - 1s 87ms/step - loss: 0.1019 - accuracy: 0.9699 - val_loss: 2.8200 - val_accuracy: 0.2857\n",
      "Epoch 14/1000\n",
      "6/6 [==============================] - 1s 88ms/step - loss: 0.1040 - accuracy: 0.9639 - val_loss: 3.1637 - val_accuracy: 0.2857\n",
      "Epoch 15/1000\n",
      "6/6 [==============================] - 1s 91ms/step - loss: 0.0406 - accuracy: 0.9819 - val_loss: 3.6514 - val_accuracy: 0.2857\n",
      "Epoch 16/1000\n",
      "6/6 [==============================] - 1s 89ms/step - loss: 0.0511 - accuracy: 0.9819 - val_loss: 3.5154 - val_accuracy: 0.2143\n",
      "Epoch 17/1000\n",
      "6/6 [==============================] - 1s 91ms/step - loss: 0.0044 - accuracy: 1.0000 - val_loss: 4.2939 - val_accuracy: 0.3571\n",
      "Epoch 18/1000\n",
      "6/6 [==============================] - 1s 91ms/step - loss: 0.0152 - accuracy: 0.9940 - val_loss: 4.5831 - val_accuracy: 0.3571\n",
      "Epoch 19/1000\n",
      "6/6 [==============================] - 1s 86ms/step - loss: 0.0016 - accuracy: 1.0000 - val_loss: 4.8600 - val_accuracy: 0.3571\n",
      "Epoch 20/1000\n",
      "6/6 [==============================] - 1s 87ms/step - loss: 0.0072 - accuracy: 0.9940 - val_loss: 5.4313 - val_accuracy: 0.4524\n",
      "Epoch 21/1000\n",
      "6/6 [==============================] - 1s 89ms/step - loss: 0.0173 - accuracy: 0.9880 - val_loss: 5.5220 - val_accuracy: 0.3571\n",
      "Epoch 22/1000\n",
      "6/6 [==============================] - 1s 91ms/step - loss: 0.0572 - accuracy: 0.9880 - val_loss: 5.8252 - val_accuracy: 0.3333\n",
      "Epoch 23/1000\n",
      "6/6 [==============================] - 1s 92ms/step - loss: 0.0289 - accuracy: 0.9940 - val_loss: 6.9461 - val_accuracy: 0.3095\n",
      "Epoch 24/1000\n",
      "6/6 [==============================] - 1s 90ms/step - loss: 0.0355 - accuracy: 0.9940 - val_loss: 6.3646 - val_accuracy: 0.3333\n",
      "Epoch 25/1000\n",
      "6/6 [==============================] - 1s 91ms/step - loss: 0.0336 - accuracy: 0.9880 - val_loss: 5.5334 - val_accuracy: 0.2619\n",
      "Epoch 26/1000\n",
      "6/6 [==============================] - 1s 92ms/step - loss: 0.0105 - accuracy: 0.9940 - val_loss: 5.4250 - val_accuracy: 0.3095\n",
      "Epoch 27/1000\n",
      "6/6 [==============================] - 1s 90ms/step - loss: 0.0203 - accuracy: 0.9940 - val_loss: 6.0008 - val_accuracy: 0.3095\n",
      "Epoch 28/1000\n",
      "6/6 [==============================] - 1s 88ms/step - loss: 0.0216 - accuracy: 0.9880 - val_loss: 5.5225 - val_accuracy: 0.2857\n",
      "Epoch 29/1000\n",
      "6/6 [==============================] - 1s 89ms/step - loss: 0.0033 - accuracy: 1.0000 - val_loss: 6.0489 - val_accuracy: 0.2381\n",
      "Epoch 30/1000\n",
      "6/6 [==============================] - 1s 96ms/step - loss: 0.0126 - accuracy: 0.9940 - val_loss: 6.3863 - val_accuracy: 0.2381\n",
      "Epoch 31/1000\n",
      "6/6 [==============================] - 1s 90ms/step - loss: 0.0156 - accuracy: 0.9940 - val_loss: 6.5239 - val_accuracy: 0.2857\n",
      "Epoch 32/1000\n",
      "6/6 [==============================] - 1s 90ms/step - loss: 0.0031 - accuracy: 1.0000 - val_loss: 6.7246 - val_accuracy: 0.2857\n",
      "Epoch 33/1000\n",
      "6/6 [==============================] - 1s 100ms/step - loss: 0.0231 - accuracy: 0.9940 - val_loss: 6.8541 - val_accuracy: 0.2857\n",
      "Epoch 34/1000\n",
      "6/6 [==============================] - 1s 90ms/step - loss: 0.0354 - accuracy: 0.9940 - val_loss: 6.3550 - val_accuracy: 0.3095\n",
      "Epoch 35/1000\n",
      "6/6 [==============================] - 1s 92ms/step - loss: 0.0256 - accuracy: 0.9940 - val_loss: 5.9511 - val_accuracy: 0.3571\n",
      "Epoch 36/1000\n",
      "6/6 [==============================] - 1s 91ms/step - loss: 0.0124 - accuracy: 0.9940 - val_loss: 5.6539 - val_accuracy: 0.3810\n",
      "Epoch 37/1000\n",
      "6/6 [==============================] - 1s 90ms/step - loss: 8.5289e-04 - accuracy: 1.0000 - val_loss: 5.5524 - val_accuracy: 0.3571\n",
      "Epoch 38/1000\n",
      "6/6 [==============================] - 1s 86ms/step - loss: 6.0605e-04 - accuracy: 1.0000 - val_loss: 5.7146 - val_accuracy: 0.3571\n",
      "Epoch 39/1000\n",
      "6/6 [==============================] - 1s 91ms/step - loss: 4.0545e-04 - accuracy: 1.0000 - val_loss: 5.9906 - val_accuracy: 0.3333\n",
      "Epoch 40/1000\n",
      "6/6 [==============================] - 1s 95ms/step - loss: 2.5164e-04 - accuracy: 1.0000 - val_loss: 6.3195 - val_accuracy: 0.3333\n",
      "Epoch 41/1000\n",
      "6/6 [==============================] - 1s 94ms/step - loss: 1.7309e-04 - accuracy: 1.0000 - val_loss: 6.6428 - val_accuracy: 0.3333\n",
      "Epoch 42/1000\n",
      "6/6 [==============================] - 1s 90ms/step - loss: 7.9353e-05 - accuracy: 1.0000 - val_loss: 6.9515 - val_accuracy: 0.3333\n",
      "Epoch 43/1000\n",
      "6/6 [==============================] - 1s 88ms/step - loss: 3.0259e-05 - accuracy: 1.0000 - val_loss: 7.2644 - val_accuracy: 0.3095\n",
      "Epoch 44/1000\n",
      "6/6 [==============================] - 1s 91ms/step - loss: 4.3807e-05 - accuracy: 1.0000 - val_loss: 7.5186 - val_accuracy: 0.3095\n",
      "Epoch 45/1000\n",
      "6/6 [==============================] - 1s 91ms/step - loss: 1.1602e-05 - accuracy: 1.0000 - val_loss: 7.7159 - val_accuracy: 0.3095\n",
      "Epoch 46/1000\n",
      "6/6 [==============================] - 1s 90ms/step - loss: 1.4115e-05 - accuracy: 1.0000 - val_loss: 7.8569 - val_accuracy: 0.3095\n",
      "Epoch 47/1000\n",
      "6/6 [==============================] - 1s 95ms/step - loss: 1.5087e-04 - accuracy: 1.0000 - val_loss: 7.9308 - val_accuracy: 0.3333\n",
      "Epoch 48/1000\n",
      "6/6 [==============================] - 1s 96ms/step - loss: 1.3920e-05 - accuracy: 1.0000 - val_loss: 8.0137 - val_accuracy: 0.3333\n",
      "Epoch 49/1000\n",
      "6/6 [==============================] - 1s 98ms/step - loss: 8.6378e-06 - accuracy: 1.0000 - val_loss: 8.0910 - val_accuracy: 0.3333\n",
      "Epoch 50/1000\n",
      "6/6 [==============================] - 1s 92ms/step - loss: 1.0568e-05 - accuracy: 1.0000 - val_loss: 8.1581 - val_accuracy: 0.3333\n",
      "Epoch 51/1000\n",
      "6/6 [==============================] - 1s 91ms/step - loss: 4.6166e-05 - accuracy: 1.0000 - val_loss: 8.2331 - val_accuracy: 0.3333\n",
      "Epoch 52/1000\n",
      "6/6 [==============================] - 1s 89ms/step - loss: 3.9983e-06 - accuracy: 1.0000 - val_loss: 8.2968 - val_accuracy: 0.3333\n",
      "Epoch 53/1000\n",
      "6/6 [==============================] - 1s 90ms/step - loss: 9.1954e-06 - accuracy: 1.0000 - val_loss: 8.3584 - val_accuracy: 0.3333\n",
      "Epoch 54/1000\n",
      "4/6 [===================>..........] - ETA: 0s - loss: 1.1476e-05 - accuracy: 1.0000"
     ]
    },
    {
     "ename": "KeyboardInterrupt",
     "evalue": "",
     "output_type": "error",
     "traceback": [
      "\u001b[1;31m---------------------------------------------------------------------------\u001b[0m",
      "\u001b[1;31mKeyboardInterrupt\u001b[0m                         Traceback (most recent call last)",
      "Cell \u001b[1;32mIn[14], line 26\u001b[0m\n\u001b[0;32m     22\u001b[0m model\u001b[38;5;241m.\u001b[39mcompile(loss\u001b[38;5;241m=\u001b[39m\u001b[38;5;124m'\u001b[39m\u001b[38;5;124mcategorical_crossentropy\u001b[39m\u001b[38;5;124m'\u001b[39m,\n\u001b[0;32m     23\u001b[0m               optimizer\u001b[38;5;241m=\u001b[39m\u001b[38;5;124m\"\u001b[39m\u001b[38;5;124madam\u001b[39m\u001b[38;5;124m\"\u001b[39m, metrics\u001b[38;5;241m=\u001b[39m[\u001b[38;5;124m'\u001b[39m\u001b[38;5;124maccuracy\u001b[39m\u001b[38;5;124m'\u001b[39m,])\n\u001b[0;32m     25\u001b[0m \u001b[38;5;66;03m# # Entrenamos el modelo\u001b[39;00m\n\u001b[1;32m---> 26\u001b[0m history \u001b[38;5;241m=\u001b[39m \u001b[43mmodel\u001b[49m\u001b[38;5;241;43m.\u001b[39;49m\u001b[43mfit\u001b[49m\u001b[43m(\u001b[49m\u001b[43mX_train\u001b[49m\u001b[43m,\u001b[49m\u001b[43m \u001b[49m\u001b[43my_train\u001b[49m\u001b[43m,\u001b[49m\u001b[43m \u001b[49m\u001b[43mverbose\u001b[49m\u001b[38;5;241;43m=\u001b[39;49m\u001b[38;5;241;43m1\u001b[39;49m\u001b[43m,\u001b[49m\u001b[43m \u001b[49m\u001b[43mepochs\u001b[49m\u001b[38;5;241;43m=\u001b[39;49m\u001b[38;5;241;43m1000\u001b[39;49m\u001b[43m,\u001b[49m\u001b[43m \u001b[49m\u001b[43mvalidation_data\u001b[49m\u001b[38;5;241;43m=\u001b[39;49m\u001b[43m(\u001b[49m\u001b[43mX_test\u001b[49m\u001b[43m,\u001b[49m\u001b[43my_test\u001b[49m\u001b[43m)\u001b[49m\u001b[43m)\u001b[49m\n",
      "File \u001b[1;32mc:\\Users\\gfuen\\AppData\\Local\\Programs\\Python\\Python310\\lib\\site-packages\\keras\\src\\utils\\traceback_utils.py:65\u001b[0m, in \u001b[0;36mfilter_traceback.<locals>.error_handler\u001b[1;34m(*args, **kwargs)\u001b[0m\n\u001b[0;32m     63\u001b[0m filtered_tb \u001b[38;5;241m=\u001b[39m \u001b[38;5;28;01mNone\u001b[39;00m\n\u001b[0;32m     64\u001b[0m \u001b[38;5;28;01mtry\u001b[39;00m:\n\u001b[1;32m---> 65\u001b[0m     \u001b[38;5;28;01mreturn\u001b[39;00m fn(\u001b[38;5;241m*\u001b[39margs, \u001b[38;5;241m*\u001b[39m\u001b[38;5;241m*\u001b[39mkwargs)\n\u001b[0;32m     66\u001b[0m \u001b[38;5;28;01mexcept\u001b[39;00m \u001b[38;5;167;01mException\u001b[39;00m \u001b[38;5;28;01mas\u001b[39;00m e:\n\u001b[0;32m     67\u001b[0m     filtered_tb \u001b[38;5;241m=\u001b[39m _process_traceback_frames(e\u001b[38;5;241m.\u001b[39m__traceback__)\n",
      "File \u001b[1;32mc:\\Users\\gfuen\\AppData\\Local\\Programs\\Python\\Python310\\lib\\site-packages\\keras\\src\\engine\\training.py:1742\u001b[0m, in \u001b[0;36mModel.fit\u001b[1;34m(self, x, y, batch_size, epochs, verbose, callbacks, validation_split, validation_data, shuffle, class_weight, sample_weight, initial_epoch, steps_per_epoch, validation_steps, validation_batch_size, validation_freq, max_queue_size, workers, use_multiprocessing)\u001b[0m\n\u001b[0;32m   1734\u001b[0m \u001b[38;5;28;01mwith\u001b[39;00m tf\u001b[38;5;241m.\u001b[39mprofiler\u001b[38;5;241m.\u001b[39mexperimental\u001b[38;5;241m.\u001b[39mTrace(\n\u001b[0;32m   1735\u001b[0m     \u001b[38;5;124m\"\u001b[39m\u001b[38;5;124mtrain\u001b[39m\u001b[38;5;124m\"\u001b[39m,\n\u001b[0;32m   1736\u001b[0m     epoch_num\u001b[38;5;241m=\u001b[39mepoch,\n\u001b[1;32m   (...)\u001b[0m\n\u001b[0;32m   1739\u001b[0m     _r\u001b[38;5;241m=\u001b[39m\u001b[38;5;241m1\u001b[39m,\n\u001b[0;32m   1740\u001b[0m ):\n\u001b[0;32m   1741\u001b[0m     callbacks\u001b[38;5;241m.\u001b[39mon_train_batch_begin(step)\n\u001b[1;32m-> 1742\u001b[0m     tmp_logs \u001b[38;5;241m=\u001b[39m \u001b[38;5;28;43mself\u001b[39;49m\u001b[38;5;241;43m.\u001b[39;49m\u001b[43mtrain_function\u001b[49m\u001b[43m(\u001b[49m\u001b[43miterator\u001b[49m\u001b[43m)\u001b[49m\n\u001b[0;32m   1743\u001b[0m     \u001b[38;5;28;01mif\u001b[39;00m data_handler\u001b[38;5;241m.\u001b[39mshould_sync:\n\u001b[0;32m   1744\u001b[0m         context\u001b[38;5;241m.\u001b[39masync_wait()\n",
      "File \u001b[1;32mc:\\Users\\gfuen\\AppData\\Local\\Programs\\Python\\Python310\\lib\\site-packages\\tensorflow\\python\\util\\traceback_utils.py:150\u001b[0m, in \u001b[0;36mfilter_traceback.<locals>.error_handler\u001b[1;34m(*args, **kwargs)\u001b[0m\n\u001b[0;32m    148\u001b[0m filtered_tb \u001b[38;5;241m=\u001b[39m \u001b[38;5;28;01mNone\u001b[39;00m\n\u001b[0;32m    149\u001b[0m \u001b[38;5;28;01mtry\u001b[39;00m:\n\u001b[1;32m--> 150\u001b[0m   \u001b[38;5;28;01mreturn\u001b[39;00m fn(\u001b[38;5;241m*\u001b[39margs, \u001b[38;5;241m*\u001b[39m\u001b[38;5;241m*\u001b[39mkwargs)\n\u001b[0;32m    151\u001b[0m \u001b[38;5;28;01mexcept\u001b[39;00m \u001b[38;5;167;01mException\u001b[39;00m \u001b[38;5;28;01mas\u001b[39;00m e:\n\u001b[0;32m    152\u001b[0m   filtered_tb \u001b[38;5;241m=\u001b[39m _process_traceback_frames(e\u001b[38;5;241m.\u001b[39m__traceback__)\n",
      "File \u001b[1;32mc:\\Users\\gfuen\\AppData\\Local\\Programs\\Python\\Python310\\lib\\site-packages\\tensorflow\\python\\eager\\polymorphic_function\\polymorphic_function.py:825\u001b[0m, in \u001b[0;36mFunction.__call__\u001b[1;34m(self, *args, **kwds)\u001b[0m\n\u001b[0;32m    822\u001b[0m compiler \u001b[38;5;241m=\u001b[39m \u001b[38;5;124m\"\u001b[39m\u001b[38;5;124mxla\u001b[39m\u001b[38;5;124m\"\u001b[39m \u001b[38;5;28;01mif\u001b[39;00m \u001b[38;5;28mself\u001b[39m\u001b[38;5;241m.\u001b[39m_jit_compile \u001b[38;5;28;01melse\u001b[39;00m \u001b[38;5;124m\"\u001b[39m\u001b[38;5;124mnonXla\u001b[39m\u001b[38;5;124m\"\u001b[39m\n\u001b[0;32m    824\u001b[0m \u001b[38;5;28;01mwith\u001b[39;00m OptionalXlaContext(\u001b[38;5;28mself\u001b[39m\u001b[38;5;241m.\u001b[39m_jit_compile):\n\u001b[1;32m--> 825\u001b[0m   result \u001b[38;5;241m=\u001b[39m \u001b[38;5;28mself\u001b[39m\u001b[38;5;241m.\u001b[39m_call(\u001b[38;5;241m*\u001b[39margs, \u001b[38;5;241m*\u001b[39m\u001b[38;5;241m*\u001b[39mkwds)\n\u001b[0;32m    827\u001b[0m new_tracing_count \u001b[38;5;241m=\u001b[39m \u001b[38;5;28mself\u001b[39m\u001b[38;5;241m.\u001b[39mexperimental_get_tracing_count()\n\u001b[0;32m    828\u001b[0m without_tracing \u001b[38;5;241m=\u001b[39m (tracing_count \u001b[38;5;241m==\u001b[39m new_tracing_count)\n",
      "File \u001b[1;32mc:\\Users\\gfuen\\AppData\\Local\\Programs\\Python\\Python310\\lib\\site-packages\\tensorflow\\python\\eager\\polymorphic_function\\polymorphic_function.py:857\u001b[0m, in \u001b[0;36mFunction._call\u001b[1;34m(self, *args, **kwds)\u001b[0m\n\u001b[0;32m    854\u001b[0m   \u001b[38;5;28mself\u001b[39m\u001b[38;5;241m.\u001b[39m_lock\u001b[38;5;241m.\u001b[39mrelease()\n\u001b[0;32m    855\u001b[0m   \u001b[38;5;66;03m# In this case we have created variables on the first call, so we run the\u001b[39;00m\n\u001b[0;32m    856\u001b[0m   \u001b[38;5;66;03m# defunned version which is guaranteed to never create variables.\u001b[39;00m\n\u001b[1;32m--> 857\u001b[0m   \u001b[38;5;28;01mreturn\u001b[39;00m \u001b[38;5;28mself\u001b[39m\u001b[38;5;241m.\u001b[39m_no_variable_creation_fn(\u001b[38;5;241m*\u001b[39margs, \u001b[38;5;241m*\u001b[39m\u001b[38;5;241m*\u001b[39mkwds)  \u001b[38;5;66;03m# pylint: disable=not-callable\u001b[39;00m\n\u001b[0;32m    858\u001b[0m \u001b[38;5;28;01melif\u001b[39;00m \u001b[38;5;28mself\u001b[39m\u001b[38;5;241m.\u001b[39m_variable_creation_fn \u001b[38;5;129;01mis\u001b[39;00m \u001b[38;5;129;01mnot\u001b[39;00m \u001b[38;5;28;01mNone\u001b[39;00m:\n\u001b[0;32m    859\u001b[0m   \u001b[38;5;66;03m# Release the lock early so that multiple threads can perform the call\u001b[39;00m\n\u001b[0;32m    860\u001b[0m   \u001b[38;5;66;03m# in parallel.\u001b[39;00m\n\u001b[0;32m    861\u001b[0m   \u001b[38;5;28mself\u001b[39m\u001b[38;5;241m.\u001b[39m_lock\u001b[38;5;241m.\u001b[39mrelease()\n",
      "File \u001b[1;32mc:\\Users\\gfuen\\AppData\\Local\\Programs\\Python\\Python310\\lib\\site-packages\\tensorflow\\python\\eager\\polymorphic_function\\tracing_compiler.py:148\u001b[0m, in \u001b[0;36mTracingCompiler.__call__\u001b[1;34m(self, *args, **kwargs)\u001b[0m\n\u001b[0;32m    145\u001b[0m \u001b[38;5;28;01mwith\u001b[39;00m \u001b[38;5;28mself\u001b[39m\u001b[38;5;241m.\u001b[39m_lock:\n\u001b[0;32m    146\u001b[0m   (concrete_function,\n\u001b[0;32m    147\u001b[0m    filtered_flat_args) \u001b[38;5;241m=\u001b[39m \u001b[38;5;28mself\u001b[39m\u001b[38;5;241m.\u001b[39m_maybe_define_function(args, kwargs)\n\u001b[1;32m--> 148\u001b[0m \u001b[38;5;28;01mreturn\u001b[39;00m \u001b[43mconcrete_function\u001b[49m\u001b[38;5;241;43m.\u001b[39;49m\u001b[43m_call_flat\u001b[49m\u001b[43m(\u001b[49m\n\u001b[0;32m    149\u001b[0m \u001b[43m    \u001b[49m\u001b[43mfiltered_flat_args\u001b[49m\u001b[43m,\u001b[49m\u001b[43m \u001b[49m\u001b[43mcaptured_inputs\u001b[49m\u001b[38;5;241;43m=\u001b[39;49m\u001b[43mconcrete_function\u001b[49m\u001b[38;5;241;43m.\u001b[39;49m\u001b[43mcaptured_inputs\u001b[49m\u001b[43m)\u001b[49m\n",
      "File \u001b[1;32mc:\\Users\\gfuen\\AppData\\Local\\Programs\\Python\\Python310\\lib\\site-packages\\tensorflow\\python\\eager\\polymorphic_function\\monomorphic_function.py:1349\u001b[0m, in \u001b[0;36mConcreteFunction._call_flat\u001b[1;34m(self, args, captured_inputs)\u001b[0m\n\u001b[0;32m   1345\u001b[0m possible_gradient_type \u001b[38;5;241m=\u001b[39m gradients_util\u001b[38;5;241m.\u001b[39mPossibleTapeGradientTypes(args)\n\u001b[0;32m   1346\u001b[0m \u001b[38;5;28;01mif\u001b[39;00m (possible_gradient_type \u001b[38;5;241m==\u001b[39m gradients_util\u001b[38;5;241m.\u001b[39mPOSSIBLE_GRADIENT_TYPES_NONE\n\u001b[0;32m   1347\u001b[0m     \u001b[38;5;129;01mand\u001b[39;00m executing_eagerly):\n\u001b[0;32m   1348\u001b[0m   \u001b[38;5;66;03m# No tape is watching; skip to running the function.\u001b[39;00m\n\u001b[1;32m-> 1349\u001b[0m   \u001b[38;5;28;01mreturn\u001b[39;00m \u001b[38;5;28mself\u001b[39m\u001b[38;5;241m.\u001b[39m_build_call_outputs(\u001b[38;5;28;43mself\u001b[39;49m\u001b[38;5;241;43m.\u001b[39;49m\u001b[43m_inference_function\u001b[49m\u001b[43m(\u001b[49m\u001b[38;5;241;43m*\u001b[39;49m\u001b[43margs\u001b[49m\u001b[43m)\u001b[49m)\n\u001b[0;32m   1350\u001b[0m forward_backward \u001b[38;5;241m=\u001b[39m \u001b[38;5;28mself\u001b[39m\u001b[38;5;241m.\u001b[39m_select_forward_and_backward_functions(\n\u001b[0;32m   1351\u001b[0m     args,\n\u001b[0;32m   1352\u001b[0m     possible_gradient_type,\n\u001b[0;32m   1353\u001b[0m     executing_eagerly)\n\u001b[0;32m   1354\u001b[0m forward_function, args_with_tangents \u001b[38;5;241m=\u001b[39m forward_backward\u001b[38;5;241m.\u001b[39mforward()\n",
      "File \u001b[1;32mc:\\Users\\gfuen\\AppData\\Local\\Programs\\Python\\Python310\\lib\\site-packages\\tensorflow\\python\\eager\\polymorphic_function\\atomic_function.py:196\u001b[0m, in \u001b[0;36mAtomicFunction.__call__\u001b[1;34m(self, *args)\u001b[0m\n\u001b[0;32m    194\u001b[0m \u001b[38;5;28;01mwith\u001b[39;00m record\u001b[38;5;241m.\u001b[39mstop_recording():\n\u001b[0;32m    195\u001b[0m   \u001b[38;5;28;01mif\u001b[39;00m \u001b[38;5;28mself\u001b[39m\u001b[38;5;241m.\u001b[39m_bound_context\u001b[38;5;241m.\u001b[39mexecuting_eagerly():\n\u001b[1;32m--> 196\u001b[0m     outputs \u001b[38;5;241m=\u001b[39m \u001b[38;5;28;43mself\u001b[39;49m\u001b[38;5;241;43m.\u001b[39;49m\u001b[43m_bound_context\u001b[49m\u001b[38;5;241;43m.\u001b[39;49m\u001b[43mcall_function\u001b[49m\u001b[43m(\u001b[49m\n\u001b[0;32m    197\u001b[0m \u001b[43m        \u001b[49m\u001b[38;5;28;43mself\u001b[39;49m\u001b[38;5;241;43m.\u001b[39;49m\u001b[43mname\u001b[49m\u001b[43m,\u001b[49m\n\u001b[0;32m    198\u001b[0m \u001b[43m        \u001b[49m\u001b[38;5;28;43mlist\u001b[39;49m\u001b[43m(\u001b[49m\u001b[43margs\u001b[49m\u001b[43m)\u001b[49m\u001b[43m,\u001b[49m\n\u001b[0;32m    199\u001b[0m \u001b[43m        \u001b[49m\u001b[38;5;28;43mlen\u001b[39;49m\u001b[43m(\u001b[49m\u001b[38;5;28;43mself\u001b[39;49m\u001b[38;5;241;43m.\u001b[39;49m\u001b[43mfunction_type\u001b[49m\u001b[38;5;241;43m.\u001b[39;49m\u001b[43mflat_outputs\u001b[49m\u001b[43m)\u001b[49m\u001b[43m,\u001b[49m\n\u001b[0;32m    200\u001b[0m \u001b[43m    \u001b[49m\u001b[43m)\u001b[49m\n\u001b[0;32m    201\u001b[0m   \u001b[38;5;28;01melse\u001b[39;00m:\n\u001b[0;32m    202\u001b[0m     outputs \u001b[38;5;241m=\u001b[39m make_call_op_in_graph(\u001b[38;5;28mself\u001b[39m, \u001b[38;5;28mlist\u001b[39m(args))\n",
      "File \u001b[1;32mc:\\Users\\gfuen\\AppData\\Local\\Programs\\Python\\Python310\\lib\\site-packages\\tensorflow\\python\\eager\\context.py:1457\u001b[0m, in \u001b[0;36mContext.call_function\u001b[1;34m(self, name, tensor_inputs, num_outputs)\u001b[0m\n\u001b[0;32m   1455\u001b[0m cancellation_context \u001b[38;5;241m=\u001b[39m cancellation\u001b[38;5;241m.\u001b[39mcontext()\n\u001b[0;32m   1456\u001b[0m \u001b[38;5;28;01mif\u001b[39;00m cancellation_context \u001b[38;5;129;01mis\u001b[39;00m \u001b[38;5;28;01mNone\u001b[39;00m:\n\u001b[1;32m-> 1457\u001b[0m   outputs \u001b[38;5;241m=\u001b[39m \u001b[43mexecute\u001b[49m\u001b[38;5;241;43m.\u001b[39;49m\u001b[43mexecute\u001b[49m\u001b[43m(\u001b[49m\n\u001b[0;32m   1458\u001b[0m \u001b[43m      \u001b[49m\u001b[43mname\u001b[49m\u001b[38;5;241;43m.\u001b[39;49m\u001b[43mdecode\u001b[49m\u001b[43m(\u001b[49m\u001b[38;5;124;43m\"\u001b[39;49m\u001b[38;5;124;43mutf-8\u001b[39;49m\u001b[38;5;124;43m\"\u001b[39;49m\u001b[43m)\u001b[49m\u001b[43m,\u001b[49m\n\u001b[0;32m   1459\u001b[0m \u001b[43m      \u001b[49m\u001b[43mnum_outputs\u001b[49m\u001b[38;5;241;43m=\u001b[39;49m\u001b[43mnum_outputs\u001b[49m\u001b[43m,\u001b[49m\n\u001b[0;32m   1460\u001b[0m \u001b[43m      \u001b[49m\u001b[43minputs\u001b[49m\u001b[38;5;241;43m=\u001b[39;49m\u001b[43mtensor_inputs\u001b[49m\u001b[43m,\u001b[49m\n\u001b[0;32m   1461\u001b[0m \u001b[43m      \u001b[49m\u001b[43mattrs\u001b[49m\u001b[38;5;241;43m=\u001b[39;49m\u001b[43mattrs\u001b[49m\u001b[43m,\u001b[49m\n\u001b[0;32m   1462\u001b[0m \u001b[43m      \u001b[49m\u001b[43mctx\u001b[49m\u001b[38;5;241;43m=\u001b[39;49m\u001b[38;5;28;43mself\u001b[39;49m\u001b[43m,\u001b[49m\n\u001b[0;32m   1463\u001b[0m \u001b[43m  \u001b[49m\u001b[43m)\u001b[49m\n\u001b[0;32m   1464\u001b[0m \u001b[38;5;28;01melse\u001b[39;00m:\n\u001b[0;32m   1465\u001b[0m   outputs \u001b[38;5;241m=\u001b[39m execute\u001b[38;5;241m.\u001b[39mexecute_with_cancellation(\n\u001b[0;32m   1466\u001b[0m       name\u001b[38;5;241m.\u001b[39mdecode(\u001b[38;5;124m\"\u001b[39m\u001b[38;5;124mutf-8\u001b[39m\u001b[38;5;124m\"\u001b[39m),\n\u001b[0;32m   1467\u001b[0m       num_outputs\u001b[38;5;241m=\u001b[39mnum_outputs,\n\u001b[1;32m   (...)\u001b[0m\n\u001b[0;32m   1471\u001b[0m       cancellation_manager\u001b[38;5;241m=\u001b[39mcancellation_context,\n\u001b[0;32m   1472\u001b[0m   )\n",
      "File \u001b[1;32mc:\\Users\\gfuen\\AppData\\Local\\Programs\\Python\\Python310\\lib\\site-packages\\tensorflow\\python\\eager\\execute.py:53\u001b[0m, in \u001b[0;36mquick_execute\u001b[1;34m(op_name, num_outputs, inputs, attrs, ctx, name)\u001b[0m\n\u001b[0;32m     51\u001b[0m \u001b[38;5;28;01mtry\u001b[39;00m:\n\u001b[0;32m     52\u001b[0m   ctx\u001b[38;5;241m.\u001b[39mensure_initialized()\n\u001b[1;32m---> 53\u001b[0m   tensors \u001b[38;5;241m=\u001b[39m \u001b[43mpywrap_tfe\u001b[49m\u001b[38;5;241;43m.\u001b[39;49m\u001b[43mTFE_Py_Execute\u001b[49m\u001b[43m(\u001b[49m\u001b[43mctx\u001b[49m\u001b[38;5;241;43m.\u001b[39;49m\u001b[43m_handle\u001b[49m\u001b[43m,\u001b[49m\u001b[43m \u001b[49m\u001b[43mdevice_name\u001b[49m\u001b[43m,\u001b[49m\u001b[43m \u001b[49m\u001b[43mop_name\u001b[49m\u001b[43m,\u001b[49m\n\u001b[0;32m     54\u001b[0m \u001b[43m                                      \u001b[49m\u001b[43minputs\u001b[49m\u001b[43m,\u001b[49m\u001b[43m \u001b[49m\u001b[43mattrs\u001b[49m\u001b[43m,\u001b[49m\u001b[43m \u001b[49m\u001b[43mnum_outputs\u001b[49m\u001b[43m)\u001b[49m\n\u001b[0;32m     55\u001b[0m \u001b[38;5;28;01mexcept\u001b[39;00m core\u001b[38;5;241m.\u001b[39m_NotOkStatusException \u001b[38;5;28;01mas\u001b[39;00m e:\n\u001b[0;32m     56\u001b[0m   \u001b[38;5;28;01mif\u001b[39;00m name \u001b[38;5;129;01mis\u001b[39;00m \u001b[38;5;129;01mnot\u001b[39;00m \u001b[38;5;28;01mNone\u001b[39;00m:\n",
      "\u001b[1;31mKeyboardInterrupt\u001b[0m: "
     ]
    }
   ],
   "source": [
    "import tensorflow as tf\n",
    "from tensorflow.keras import layers, models\n",
    "from sklearn.model_selection import train_test_split\n",
    "\n",
    "X_train, X_test, y_train, y_test = train_test_split(\n",
    "    X_array_escalado, Y_array, test_size=0.2)\n",
    "\n",
    "model = model = models.Sequential()\n",
    "model.add(layers.InputLayer(input_shape=(len(X[0]),)))\n",
    "model.add(layers.Dense(1024, activation='relu'))\n",
    "model.add(layers.Dropout(0.1))\n",
    "model.add(layers.Dense(2048, activation='relu'))\n",
    "model.add(layers.Dropout(0.1))\n",
    "model.add(layers.Dense(2048, activation='relu'))\n",
    "model.add(layers.Dropout(0.1))\n",
    "model.add(layers.Dense(2048, activation='relu'))\n",
    "model.add(layers.Dropout(0.1))\n",
    "model.add(layers.Dense(1024, activation='relu'))\n",
    "model.add(layers.Dropout(0.1))\n",
    "model.add(layers.Dense(3, activation='softmax'))\n",
    "# # Compilamos el modelo\n",
    "model.compile(loss='categorical_crossentropy',\n",
    "              optimizer=\"adam\", metrics=['accuracy',])\n",
    "\n",
    "# # Entrenamos el modelo\n",
    "history = model.fit(X_train, y_train, verbose=1, epochs=1000, validation_data=(X_test,y_test))"
   ]
  },
  {
   "cell_type": "code",
   "execution_count": null,
   "id": "c0650ab7",
   "metadata": {},
   "outputs": [
    {
     "name": "stdout",
     "output_type": "stream",
     "text": [
      "2/2 [==============================] - 0s 2ms/step\n",
      "Matriz de Confusión:\n"
     ]
    },
    {
     "data": {
      "image/png": "[encoded data removed]",
      "text/plain": [
       "<Figure size 640x480 with 2 Axes>"
      ]
     },
     "metadata": {},
     "output_type": "display_data"
    },
    {
     "name": "stdout",
     "output_type": "stream",
     "text": [
      "dict_keys(['loss', 'accuracy', 'val_loss', 'val_accuracy'])\n"
     ]
    },
    {
     "data": {
      "image/png": "[encoded data removed]",
      "text/plain": [
       "<Figure size 640x480 with 1 Axes>"
      ]
     },
     "metadata": {},
     "output_type": "display_data"
    },
    {
     "data": {
      "image/png": "[encoded data removed]",
      "text/plain": [
       "<Figure size 640x480 with 1 Axes>"
      ]
     },
     "metadata": {},
     "output_type": "display_data"
    }
   ],
   "source": [
    "from sklearn.metrics import accuracy_score, precision_score, recall_score, f1_score, confusion_matrix, roc_curve, auc, ConfusionMatrixDisplay\n",
    "y_prob = model.predict(X_test)\n",
    "y_test_metrics = np.argmax(y_test, axis=1)\n",
    "y_pred = np.argmax(y_prob, axis=1)\n",
    "\n",
    "\n",
    "# Matriz de confusión\n",
    "conf_matrix = confusion_matrix(y_test_metrics, y_pred)\n",
    "print('Matriz de Confusión:')\n",
    "ConfusionMatrixDisplay(conf_matrix).plot()\n",
    "plt.show()\n",
    "print(history.history.keys())\n",
    "#  \"Accuracy\"\n",
    "plt.plot(history.history['accuracy'])\n",
    "plt.plot(history.history['val_accuracy'])\n",
    "plt.title('model accuracy')\n",
    "plt.ylabel('accuracy')\n",
    "plt.xlabel('epoch')\n",
    "plt.legend(['train', 'validation'], loc='upper left')\n",
    "plt.show()\n",
    "# \"Loss\"\n",
    "plt.plot(history.history['loss'])\n",
    "plt.plot(history.history['val_loss'])\n",
    "plt.title('model loss')\n",
    "plt.ylabel('loss')\n",
    "plt.xlabel('epoch')\n",
    "plt.legend(['train', 'validation'], loc='upper left')\n",
    "plt.show()"
   ]
  },
  {
   "cell_type": "code",
   "execution_count": 202,
   "id": "80daa36f",
   "metadata": {},
   "outputs": [
    {
     "name": "stdout",
     "output_type": "stream",
     "text": [
      "              precision    recall  f1-score   support\n",
      "\n",
      "           0       0.56      0.38      0.45        24\n",
      "           1       0.20      0.30      0.24        10\n",
      "           2       0.40      0.47      0.43        17\n",
      "\n",
      "    accuracy                           0.39        51\n",
      "   macro avg       0.39      0.38      0.37        51\n",
      "weighted avg       0.44      0.39      0.40        51\n",
      "\n"
     ]
    }
   ],
   "source": [
    "print(classification_report(y_test_metrics, y_pred))\n"
   ]
  }
 ],
 "metadata": {
  "kernelspec": {
   "display_name": "Python 3 (ipykernel)",
   "language": "python",
   "name": "python3"
  },
  "language_info": {
   "codemirror_mode": {
    "name": "ipython",
    "version": 3
   },
   "file_extension": ".py",
   "mimetype": "text/x-python",
   "name": "python",
   "nbconvert_exporter": "python",
   "pygments_lexer": "ipython3",
   "version": "3.10.9"
  }
 },
 "nbformat": 4,
 "nbformat_minor": 5
}
